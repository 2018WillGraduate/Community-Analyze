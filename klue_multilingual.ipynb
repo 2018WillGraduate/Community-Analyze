{
  "cells": [
    {
      "cell_type": "code",
      "execution_count": 1,
      "metadata": {
        "colab": {
          "base_uri": "https://localhost:8080/"
        },
        "id": "XoPZcBqGIJTl",
        "outputId": "8f025b8e-71f6-4fd1-888c-b673bc442880"
      },
      "outputs": [
        {
          "output_type": "stream",
          "name": "stdout",
          "text": [
            "Mounted at /content/drive\n"
          ]
        }
      ],
      "source": [
        "from google.colab import drive\n",
        "drive.mount('/content/drive')"
      ]
    },
    {
      "cell_type": "code",
      "execution_count": 2,
      "metadata": {
        "colab": {
          "base_uri": "https://localhost:8080/"
        },
        "id": "3Ms8zpRlKNVj",
        "outputId": "27bec8e2-c227-402e-8d29-cc20f29598dc"
      },
      "outputs": [
        {
          "output_type": "stream",
          "name": "stdout",
          "text": [
            "/content/drive/MyDrive\n"
          ]
        }
      ],
      "source": [
        "cd drive/MyDrive"
      ]
    },
    {
      "cell_type": "code",
      "execution_count": 3,
      "metadata": {
        "id": "htsIje03F3Y8",
        "colab": {
          "base_uri": "https://localhost:8080/"
        },
        "outputId": "9b2a7087-c34d-4968-db1a-04898d1d0e71"
      },
      "outputs": [
        {
          "output_type": "stream",
          "name": "stdout",
          "text": [
            "Collecting transformers\n",
            "  Downloading transformers-4.32.1-py3-none-any.whl (7.5 MB)\n",
            "\u001b[2K     \u001b[90m━━━━━━━━━━━━━━━━━━━━━━━━━━━━━━━━━━━━━━━━\u001b[0m \u001b[32m7.5/7.5 MB\u001b[0m \u001b[31m17.2 MB/s\u001b[0m eta \u001b[36m0:00:00\u001b[0m\n",
            "\u001b[?25hRequirement already satisfied: filelock in /usr/local/lib/python3.10/dist-packages (from transformers) (3.12.2)\n",
            "Collecting huggingface-hub<1.0,>=0.15.1 (from transformers)\n",
            "  Downloading huggingface_hub-0.16.4-py3-none-any.whl (268 kB)\n",
            "\u001b[2K     \u001b[90m━━━━━━━━━━━━━━━━━━━━━━━━━━━━━━━━━━━━━━\u001b[0m \u001b[32m268.8/268.8 kB\u001b[0m \u001b[31m33.4 MB/s\u001b[0m eta \u001b[36m0:00:00\u001b[0m\n",
            "\u001b[?25hRequirement already satisfied: numpy>=1.17 in /usr/local/lib/python3.10/dist-packages (from transformers) (1.23.5)\n",
            "Requirement already satisfied: packaging>=20.0 in /usr/local/lib/python3.10/dist-packages (from transformers) (23.1)\n",
            "Requirement already satisfied: pyyaml>=5.1 in /usr/local/lib/python3.10/dist-packages (from transformers) (6.0.1)\n",
            "Requirement already satisfied: regex!=2019.12.17 in /usr/local/lib/python3.10/dist-packages (from transformers) (2023.6.3)\n",
            "Requirement already satisfied: requests in /usr/local/lib/python3.10/dist-packages (from transformers) (2.31.0)\n",
            "Collecting tokenizers!=0.11.3,<0.14,>=0.11.1 (from transformers)\n",
            "  Downloading tokenizers-0.13.3-cp310-cp310-manylinux_2_17_x86_64.manylinux2014_x86_64.whl (7.8 MB)\n",
            "\u001b[2K     \u001b[90m━━━━━━━━━━━━━━━━━━━━━━━━━━━━━━━━━━━━━━━━\u001b[0m \u001b[32m7.8/7.8 MB\u001b[0m \u001b[31m46.0 MB/s\u001b[0m eta \u001b[36m0:00:00\u001b[0m\n",
            "\u001b[?25hCollecting safetensors>=0.3.1 (from transformers)\n",
            "  Downloading safetensors-0.3.3-cp310-cp310-manylinux_2_17_x86_64.manylinux2014_x86_64.whl (1.3 MB)\n",
            "\u001b[2K     \u001b[90m━━━━━━━━━━━━━━━━━━━━━━━━━━━━━━━━━━━━━━━━\u001b[0m \u001b[32m1.3/1.3 MB\u001b[0m \u001b[31m51.4 MB/s\u001b[0m eta \u001b[36m0:00:00\u001b[0m\n",
            "\u001b[?25hRequirement already satisfied: tqdm>=4.27 in /usr/local/lib/python3.10/dist-packages (from transformers) (4.66.1)\n",
            "Requirement already satisfied: fsspec in /usr/local/lib/python3.10/dist-packages (from huggingface-hub<1.0,>=0.15.1->transformers) (2023.6.0)\n",
            "Requirement already satisfied: typing-extensions>=3.7.4.3 in /usr/local/lib/python3.10/dist-packages (from huggingface-hub<1.0,>=0.15.1->transformers) (4.7.1)\n",
            "Requirement already satisfied: charset-normalizer<4,>=2 in /usr/local/lib/python3.10/dist-packages (from requests->transformers) (3.2.0)\n",
            "Requirement already satisfied: idna<4,>=2.5 in /usr/local/lib/python3.10/dist-packages (from requests->transformers) (3.4)\n",
            "Requirement already satisfied: urllib3<3,>=1.21.1 in /usr/local/lib/python3.10/dist-packages (from requests->transformers) (2.0.4)\n",
            "Requirement already satisfied: certifi>=2017.4.17 in /usr/local/lib/python3.10/dist-packages (from requests->transformers) (2023.7.22)\n",
            "Installing collected packages: tokenizers, safetensors, huggingface-hub, transformers\n",
            "Successfully installed huggingface-hub-0.16.4 safetensors-0.3.3 tokenizers-0.13.3 transformers-4.32.1\n",
            "Collecting sentencepiece\n",
            "  Downloading sentencepiece-0.1.99-cp310-cp310-manylinux_2_17_x86_64.manylinux2014_x86_64.whl (1.3 MB)\n",
            "\u001b[2K     \u001b[90m━━━━━━━━━━━━━━━━━━━━━━━━━━━━━━━━━━━━━━━━\u001b[0m \u001b[32m1.3/1.3 MB\u001b[0m \u001b[31m8.8 MB/s\u001b[0m eta \u001b[36m0:00:00\u001b[0m\n",
            "\u001b[?25hInstalling collected packages: sentencepiece\n",
            "Successfully installed sentencepiece-0.1.99\n",
            "Collecting bertopic\n",
            "  Downloading bertopic-0.15.0-py2.py3-none-any.whl (143 kB)\n",
            "\u001b[2K     \u001b[90m━━━━━━━━━━━━━━━━━━━━━━━━━━━━━━━━━━━━━━━\u001b[0m \u001b[32m143.4/143.4 kB\u001b[0m \u001b[31m3.3 MB/s\u001b[0m eta \u001b[36m0:00:00\u001b[0m\n",
            "\u001b[?25hRequirement already satisfied: numpy>=1.20.0 in /usr/local/lib/python3.10/dist-packages (from bertopic) (1.23.5)\n",
            "Collecting hdbscan>=0.8.29 (from bertopic)\n",
            "  Downloading hdbscan-0.8.33.tar.gz (5.2 MB)\n",
            "\u001b[2K     \u001b[90m━━━━━━━━━━━━━━━━━━━━━━━━━━━━━━━━━━━━━━━━\u001b[0m \u001b[32m5.2/5.2 MB\u001b[0m \u001b[31m17.6 MB/s\u001b[0m eta \u001b[36m0:00:00\u001b[0m\n",
            "\u001b[?25h  Installing build dependencies ... \u001b[?25l\u001b[?25hdone\n",
            "  Getting requirements to build wheel ... \u001b[?25l\u001b[?25hdone\n",
            "  Preparing metadata (pyproject.toml) ... \u001b[?25l\u001b[?25hdone\n",
            "Collecting umap-learn>=0.5.0 (from bertopic)\n",
            "  Downloading umap-learn-0.5.3.tar.gz (88 kB)\n",
            "\u001b[2K     \u001b[90m━━━━━━━━━━━━━━━━━━━━━━━━━━━━━━━━━━━━━━━━\u001b[0m \u001b[32m88.2/88.2 kB\u001b[0m \u001b[31m9.9 MB/s\u001b[0m eta \u001b[36m0:00:00\u001b[0m\n",
            "\u001b[?25h  Preparing metadata (setup.py) ... \u001b[?25l\u001b[?25hdone\n",
            "Requirement already satisfied: pandas>=1.1.5 in /usr/local/lib/python3.10/dist-packages (from bertopic) (1.5.3)\n",
            "Requirement already satisfied: scikit-learn>=0.22.2.post1 in /usr/local/lib/python3.10/dist-packages (from bertopic) (1.2.2)\n",
            "Requirement already satisfied: tqdm>=4.41.1 in /usr/local/lib/python3.10/dist-packages (from bertopic) (4.66.1)\n",
            "Collecting sentence-transformers>=0.4.1 (from bertopic)\n",
            "  Downloading sentence-transformers-2.2.2.tar.gz (85 kB)\n",
            "\u001b[2K     \u001b[90m━━━━━━━━━━━━━━━━━━━━━━━━━━━━━━━━━━━━━━━━\u001b[0m \u001b[32m86.0/86.0 kB\u001b[0m \u001b[31m10.5 MB/s\u001b[0m eta \u001b[36m0:00:00\u001b[0m\n",
            "\u001b[?25h  Preparing metadata (setup.py) ... \u001b[?25l\u001b[?25hdone\n",
            "Requirement already satisfied: plotly>=4.7.0 in /usr/local/lib/python3.10/dist-packages (from bertopic) (5.15.0)\n",
            "Requirement already satisfied: cython<3,>=0.27 in /usr/local/lib/python3.10/dist-packages (from hdbscan>=0.8.29->bertopic) (0.29.36)\n",
            "Requirement already satisfied: scipy>=1.0 in /usr/local/lib/python3.10/dist-packages (from hdbscan>=0.8.29->bertopic) (1.10.1)\n",
            "Requirement already satisfied: joblib>=1.0 in /usr/local/lib/python3.10/dist-packages (from hdbscan>=0.8.29->bertopic) (1.3.2)\n",
            "Requirement already satisfied: python-dateutil>=2.8.1 in /usr/local/lib/python3.10/dist-packages (from pandas>=1.1.5->bertopic) (2.8.2)\n",
            "Requirement already satisfied: pytz>=2020.1 in /usr/local/lib/python3.10/dist-packages (from pandas>=1.1.5->bertopic) (2023.3)\n",
            "Requirement already satisfied: tenacity>=6.2.0 in /usr/local/lib/python3.10/dist-packages (from plotly>=4.7.0->bertopic) (8.2.3)\n",
            "Requirement already satisfied: packaging in /usr/local/lib/python3.10/dist-packages (from plotly>=4.7.0->bertopic) (23.1)\n",
            "Requirement already satisfied: threadpoolctl>=2.0.0 in /usr/local/lib/python3.10/dist-packages (from scikit-learn>=0.22.2.post1->bertopic) (3.2.0)\n",
            "Requirement already satisfied: transformers<5.0.0,>=4.6.0 in /usr/local/lib/python3.10/dist-packages (from sentence-transformers>=0.4.1->bertopic) (4.32.1)\n",
            "Requirement already satisfied: torch>=1.6.0 in /usr/local/lib/python3.10/dist-packages (from sentence-transformers>=0.4.1->bertopic) (2.0.1+cu118)\n",
            "Requirement already satisfied: torchvision in /usr/local/lib/python3.10/dist-packages (from sentence-transformers>=0.4.1->bertopic) (0.15.2+cu118)\n",
            "Requirement already satisfied: nltk in /usr/local/lib/python3.10/dist-packages (from sentence-transformers>=0.4.1->bertopic) (3.8.1)\n",
            "Requirement already satisfied: sentencepiece in /usr/local/lib/python3.10/dist-packages (from sentence-transformers>=0.4.1->bertopic) (0.1.99)\n",
            "Requirement already satisfied: huggingface-hub>=0.4.0 in /usr/local/lib/python3.10/dist-packages (from sentence-transformers>=0.4.1->bertopic) (0.16.4)\n",
            "Requirement already satisfied: numba>=0.49 in /usr/local/lib/python3.10/dist-packages (from umap-learn>=0.5.0->bertopic) (0.56.4)\n",
            "Collecting pynndescent>=0.5 (from umap-learn>=0.5.0->bertopic)\n",
            "  Downloading pynndescent-0.5.10.tar.gz (1.1 MB)\n",
            "\u001b[2K     \u001b[90m━━━━━━━━━━━━━━━━━━━━━━━━━━━━━━━━━━━━━━━━\u001b[0m \u001b[32m1.1/1.1 MB\u001b[0m \u001b[31m25.5 MB/s\u001b[0m eta \u001b[36m0:00:00\u001b[0m\n",
            "\u001b[?25h  Preparing metadata (setup.py) ... \u001b[?25l\u001b[?25hdone\n",
            "Requirement already satisfied: filelock in /usr/local/lib/python3.10/dist-packages (from huggingface-hub>=0.4.0->sentence-transformers>=0.4.1->bertopic) (3.12.2)\n",
            "Requirement already satisfied: fsspec in /usr/local/lib/python3.10/dist-packages (from huggingface-hub>=0.4.0->sentence-transformers>=0.4.1->bertopic) (2023.6.0)\n",
            "Requirement already satisfied: requests in /usr/local/lib/python3.10/dist-packages (from huggingface-hub>=0.4.0->sentence-transformers>=0.4.1->bertopic) (2.31.0)\n",
            "Requirement already satisfied: pyyaml>=5.1 in /usr/local/lib/python3.10/dist-packages (from huggingface-hub>=0.4.0->sentence-transformers>=0.4.1->bertopic) (6.0.1)\n",
            "Requirement already satisfied: typing-extensions>=3.7.4.3 in /usr/local/lib/python3.10/dist-packages (from huggingface-hub>=0.4.0->sentence-transformers>=0.4.1->bertopic) (4.7.1)\n",
            "Requirement already satisfied: llvmlite<0.40,>=0.39.0dev0 in /usr/local/lib/python3.10/dist-packages (from numba>=0.49->umap-learn>=0.5.0->bertopic) (0.39.1)\n",
            "Requirement already satisfied: setuptools in /usr/local/lib/python3.10/dist-packages (from numba>=0.49->umap-learn>=0.5.0->bertopic) (67.7.2)\n",
            "Requirement already satisfied: six>=1.5 in /usr/local/lib/python3.10/dist-packages (from python-dateutil>=2.8.1->pandas>=1.1.5->bertopic) (1.16.0)\n",
            "Requirement already satisfied: sympy in /usr/local/lib/python3.10/dist-packages (from torch>=1.6.0->sentence-transformers>=0.4.1->bertopic) (1.12)\n",
            "Requirement already satisfied: networkx in /usr/local/lib/python3.10/dist-packages (from torch>=1.6.0->sentence-transformers>=0.4.1->bertopic) (3.1)\n",
            "Requirement already satisfied: jinja2 in /usr/local/lib/python3.10/dist-packages (from torch>=1.6.0->sentence-transformers>=0.4.1->bertopic) (3.1.2)\n",
            "Requirement already satisfied: triton==2.0.0 in /usr/local/lib/python3.10/dist-packages (from torch>=1.6.0->sentence-transformers>=0.4.1->bertopic) (2.0.0)\n",
            "Requirement already satisfied: cmake in /usr/local/lib/python3.10/dist-packages (from triton==2.0.0->torch>=1.6.0->sentence-transformers>=0.4.1->bertopic) (3.27.2)\n",
            "Requirement already satisfied: lit in /usr/local/lib/python3.10/dist-packages (from triton==2.0.0->torch>=1.6.0->sentence-transformers>=0.4.1->bertopic) (16.0.6)\n",
            "Requirement already satisfied: regex!=2019.12.17 in /usr/local/lib/python3.10/dist-packages (from transformers<5.0.0,>=4.6.0->sentence-transformers>=0.4.1->bertopic) (2023.6.3)\n",
            "Requirement already satisfied: tokenizers!=0.11.3,<0.14,>=0.11.1 in /usr/local/lib/python3.10/dist-packages (from transformers<5.0.0,>=4.6.0->sentence-transformers>=0.4.1->bertopic) (0.13.3)\n",
            "Requirement already satisfied: safetensors>=0.3.1 in /usr/local/lib/python3.10/dist-packages (from transformers<5.0.0,>=4.6.0->sentence-transformers>=0.4.1->bertopic) (0.3.3)\n",
            "Requirement already satisfied: click in /usr/local/lib/python3.10/dist-packages (from nltk->sentence-transformers>=0.4.1->bertopic) (8.1.7)\n",
            "Requirement already satisfied: pillow!=8.3.*,>=5.3.0 in /usr/local/lib/python3.10/dist-packages (from torchvision->sentence-transformers>=0.4.1->bertopic) (9.4.0)\n",
            "Requirement already satisfied: MarkupSafe>=2.0 in /usr/local/lib/python3.10/dist-packages (from jinja2->torch>=1.6.0->sentence-transformers>=0.4.1->bertopic) (2.1.3)\n",
            "Requirement already satisfied: charset-normalizer<4,>=2 in /usr/local/lib/python3.10/dist-packages (from requests->huggingface-hub>=0.4.0->sentence-transformers>=0.4.1->bertopic) (3.2.0)\n",
            "Requirement already satisfied: idna<4,>=2.5 in /usr/local/lib/python3.10/dist-packages (from requests->huggingface-hub>=0.4.0->sentence-transformers>=0.4.1->bertopic) (3.4)\n",
            "Requirement already satisfied: urllib3<3,>=1.21.1 in /usr/local/lib/python3.10/dist-packages (from requests->huggingface-hub>=0.4.0->sentence-transformers>=0.4.1->bertopic) (2.0.4)\n",
            "Requirement already satisfied: certifi>=2017.4.17 in /usr/local/lib/python3.10/dist-packages (from requests->huggingface-hub>=0.4.0->sentence-transformers>=0.4.1->bertopic) (2023.7.22)\n",
            "Requirement already satisfied: mpmath>=0.19 in /usr/local/lib/python3.10/dist-packages (from sympy->torch>=1.6.0->sentence-transformers>=0.4.1->bertopic) (1.3.0)\n",
            "Building wheels for collected packages: hdbscan, sentence-transformers, umap-learn, pynndescent\n",
            "  Building wheel for hdbscan (pyproject.toml) ... \u001b[?25l\u001b[?25hdone\n",
            "  Created wheel for hdbscan: filename=hdbscan-0.8.33-cp310-cp310-linux_x86_64.whl size=3039146 sha256=ca51db291d255b8e75bd32680915925fb39277cb884231d7041aa05f4014a18d\n",
            "  Stored in directory: /root/.cache/pip/wheels/75/0b/3b/dc4f60b7cc455efaefb62883a7483e76f09d06ca81cf87d610\n",
            "  Building wheel for sentence-transformers (setup.py) ... \u001b[?25l\u001b[?25hdone\n",
            "  Created wheel for sentence-transformers: filename=sentence_transformers-2.2.2-py3-none-any.whl size=125923 sha256=24e2df6ee0cde92b85cb264e16732d52ac03ed6b1c5cef04e5e12acec17e459f\n",
            "  Stored in directory: /root/.cache/pip/wheels/62/f2/10/1e606fd5f02395388f74e7462910fe851042f97238cbbd902f\n",
            "  Building wheel for umap-learn (setup.py) ... \u001b[?25l\u001b[?25hdone\n",
            "  Created wheel for umap-learn: filename=umap_learn-0.5.3-py3-none-any.whl size=82807 sha256=530d3cb95f7f1ff567872fd2b7fbb472fa9108717168f069a9a96a6f703882b3\n",
            "  Stored in directory: /root/.cache/pip/wheels/a0/e8/c6/a37ea663620bd5200ea1ba0907ab3c217042c1d035ef606acc\n",
            "  Building wheel for pynndescent (setup.py) ... \u001b[?25l\u001b[?25hdone\n",
            "  Created wheel for pynndescent: filename=pynndescent-0.5.10-py3-none-any.whl size=55615 sha256=8b744bff124056379844b00a4839b6cd714c039e2b74f5959442829b59951392\n",
            "  Stored in directory: /root/.cache/pip/wheels/4a/38/5d/f60a40a66a9512b7e5e83517ebc2d1b42d857be97d135f1096\n",
            "Successfully built hdbscan sentence-transformers umap-learn pynndescent\n",
            "Installing collected packages: pynndescent, hdbscan, umap-learn, sentence-transformers, bertopic\n",
            "Successfully installed bertopic-0.15.0 hdbscan-0.8.33 pynndescent-0.5.10 sentence-transformers-2.2.2 umap-learn-0.5.3\n"
          ]
        }
      ],
      "source": [
        "!pip install transformers\n",
        "!pip install sentencepiece\n",
        "!pip install bertopic"
      ]
    },
    {
      "cell_type": "code",
      "execution_count": 4,
      "metadata": {
        "id": "356YR2SlGvPN"
      },
      "outputs": [],
      "source": [
        "from tqdm import tqdm\n",
        "from sklearn.feature_extraction.text import CountVectorizer\n",
        "from bertopic import BERTopic\n",
        "import os\n",
        "import json"
      ]
    },
    {
      "cell_type": "code",
      "execution_count": 381,
      "metadata": {
        "id": "7dpDEKYxbnxI"
      },
      "outputs": [],
      "source": [
        "import os\n",
        "import json\n",
        "import re\n",
        "from zipfile import ZipFile\n",
        "\n",
        "cond = re.compile('[가-힣]+')\n",
        "\n",
        "def get_data_from_zip(zip_name):\n",
        "    zip_file_path = '/content/drive/MyDrive/jolnon/' + zip_name + '.zip'\n",
        "    extract_path = '/content/' + zip_name\n",
        "\n",
        "    # zip 파일 압축 해제\n",
        "    with ZipFile(zip_file_path, 'r') as zip_ref:\n",
        "        zip_ref.extractall(extract_path)\n",
        "\n",
        "    result = []\n",
        "    for name in os.listdir(path=extract_path):\n",
        "        file_path = os.path.join(extract_path, name)\n",
        "        if os.path.isdir(file_path):\n",
        "            for name in os.listdir(path=file_path):\n",
        "                with open(file_path + '/' + name, 'r', encoding='utf-8') as f:\n",
        "                    data = json.load(f)\n",
        "                    valid = []\n",
        "                    for d in data['content'].split('\\n'):\n",
        "                        res = []\n",
        "                        for word in d.split(' '):\n",
        "                            if cond.match(word) != None:\n",
        "                                res.append(word)\n",
        "                        d = ' '.join(res)\n",
        "                        if d and not d.replace(' ', '').isdecimal():\n",
        "                            valid.append(d)\n",
        "                    result.append('\\n'.join([data['title']] + valid))\n",
        "        else:\n",
        "            with open(extract_path + '/' + name, 'r', encoding='utf-8') as f:\n",
        "                data = json.load(f)\n",
        "                valid = []\n",
        "                for d in data['content'].split('\\n'):\n",
        "                    res = []\n",
        "                    for word in d.split(' '):\n",
        "                        if cond.match(word) != None:\n",
        "                            res.append(word)\n",
        "                    d = ' '.join(res)\n",
        "                    if d and not d.replace(' ', '').isdecimal():\n",
        "                        valid.append(d)\n",
        "                result.append('\\n'.join([data['title']] + valid))\n",
        "    return result\n"
      ]
    },
    {
      "cell_type": "code",
      "execution_count": 382,
      "metadata": {
        "id": "ATei8ItuKmZF"
      },
      "outputs": [],
      "source": [
        "import random\n",
        "random.seed(42)\n",
        "galleries = ['animal','tree']#,'ktwiz','kartriderdrift','skwyverns_new1','ncdinos','samsunglions_new','doosanbears_new1','giants_new2','sh_new','lgtwins_new','tigers_new']\n",
        "dataset = []\n",
        "for e in galleries:\n",
        "  dataset.append([get_data_from_zip(e)])\n",
        "cocktail = []\n",
        "for data in dataset:\n",
        "  for sen in data:\n",
        "    cocktail+=sen"
      ]
    },
    {
      "cell_type": "code",
      "execution_count": 383,
      "metadata": {
        "id": "5K6H00ybG72L"
      },
      "outputs": [],
      "source": [
        "def remove_words(sentence, word):\n",
        "    return ' '.join([w for w in sentence.split() if w != word])\n",
        "stopwords = ['-dc', 'official', 'App', '이미지' ,'순서','저장']#['ㅋㅋ', 'ex', '나는', 'on', '이미지', '순서', '오늘', '일단', 'and', '이야', '그리고', '내일', '그냥', '000', '조금', '살짝', 'ㅇㅇ', 'ㅈㄱㄴ', '있음', '이거', '내가', '칵하하하', '칵하핫', '근데', '지듣노', 'youtube ', '야스중', '우흥', '한다', 'ㅎㅎ', 'ㅠㅠ', '로오오오오오옹', '하고', '아침', '것도', '추천', '혹시', '새낀데', '같다']\n",
        "for i in range(len(cocktail)):\n",
        "  for j in range(len(stopwords)):\n",
        "    cocktail[i] = remove_words(cocktail[i],stopwords[j])"
      ]
    },
    {
      "cell_type": "code",
      "execution_count": 384,
      "metadata": {
        "id": "RN4RVv0XVn9S"
      },
      "outputs": [],
      "source": [
        "import collections\n",
        "\n",
        "def remove_top_n_words(data, n):\n",
        "    words = [word for sentence in data for word in sentence.split(' ')]\n",
        "    word_count = collections.Counter(words)\n",
        "    top_n_words = [word for word, _ in word_count.most_common(n)]\n",
        "    for i in range(len(data)):\n",
        "        for word in top_n_words:\n",
        "            if word=='':\n",
        "                continue\n",
        "            data[i] = remove_words(data[i], word)\n",
        "    return data\n",
        "\n",
        "def remove_empty_sentences(cocktail, real_labels):\n",
        "  indices = [i for i, sentence in enumerate(cocktail) if sentence.strip() != '']\n",
        "  cocktail = [cocktail[i] for i in indices]\n",
        "  real_labels = [real_labels[i] for i in indices]\n",
        "  return cocktail, real_labels\n"
      ]
    },
    {
      "cell_type": "code",
      "execution_count": 385,
      "metadata": {
        "id": "7z1QOLSbkE8Q"
      },
      "outputs": [],
      "source": [
        "real_labels = []\n",
        "for i in range(len(dataset)):\n",
        "  real_labels += [i] * len(dataset[i][0])\n",
        "cocktail = remove_top_n_words(cocktail, 0)\n",
        "cocktail, real_labels = remove_empty_sentences(cocktail, real_labels)"
      ]
    },
    {
      "cell_type": "code",
      "execution_count": 386,
      "metadata": {
        "colab": {
          "base_uri": "https://localhost:8080/"
        },
        "id": "P5H7fM7WtMH3",
        "outputId": "6f765609-07a9-4c90-fed3-5751e7d9398b"
      },
      "outputs": [
        {
          "output_type": "stream",
          "name": "stderr",
          "text": [
            "Some weights of RobertaModel were not initialized from the model checkpoint at klue/roberta-large and are newly initialized: ['roberta.pooler.dense.weight', 'roberta.pooler.dense.bias']\n",
            "You should probably TRAIN this model on a down-stream task to be able to use it for predictions and inference.\n"
          ]
        }
      ],
      "source": [
        "from transformers import AutoModel, AutoTokenizer\n",
        "from umap import UMAP\n",
        "# umap_model = UMAP(random_state=42)\n",
        "# umap_model = UMAP(n_neighbors=15, n_components=10, metric='cosine', random_state=42)\n",
        "model = AutoModel.from_pretrained(\"klue/roberta-large\")\n",
        "tokenizer = AutoTokenizer.from_pretrained(\"klue/roberta-large\")"
      ]
    },
    {
      "cell_type": "code",
      "execution_count": 387,
      "metadata": {
        "id": "a25-3DPEY6fG"
      },
      "outputs": [],
      "source": [
        "class CustomTokenizer:\n",
        "  def __init__(self, tokenizer):\n",
        "    self.tokenizer = tokenizer\n",
        "  # def __call__(self, target):\n",
        "  #   return self.tokenizer.tokenize(target)\n",
        "  def __call__(self, target):\n",
        "    tokens = self.tokenizer.tokenize(target)\n",
        "    if isinstance(tokens[0], str):\n",
        "      indices = [i for i, token in enumerate(tokens) if not token.startswith('##')]\n",
        "      tokens = [tokens[i] for i in indices]\n",
        "    elif isinstance(tokens[0][0], str):\n",
        "      for j in range(len(tokens)):\n",
        "        indices = [i for i, token in enumerate(tokens[j]) if not token.startswith('##')]\n",
        "        tokens[j] = [tokens[j][i] for i in indices]\n",
        "    return tokens"
      ]
    },
    {
      "cell_type": "code",
      "execution_count": 388,
      "metadata": {
        "id": "7tUS_OcvLAdl"
      },
      "outputs": [],
      "source": [
        "from sklearn.feature_extraction.text import TfidfVectorizer\n",
        "\n",
        "custom_tokenizer = CustomTokenizer(tokenizer)\n",
        "# vectorizer = CountVectorizer(tokenizer=custom_tokenizer, max_features=3000)\n",
        "vectorizer = TfidfVectorizer(tokenizer=custom_tokenizer, max_features=3000)"
      ]
    },
    {
      "cell_type": "code",
      "source": [
        "# from umap import UMAP\n",
        "# from hdbscan import HDBSCAN\n",
        "\n",
        "# umap_model = UMAP(n_neighbors=5, n_components=5, metric='cosine', low_memory=False)\n",
        "# hdbscan_model = HDBSCAN(min_cluster_size=10, metric='euclidean', prediction_data=True)"
      ],
      "metadata": {
        "id": "l0nTR2ZqvwMS"
      },
      "execution_count": 389,
      "outputs": []
    },
    {
      "cell_type": "code",
      "execution_count": 390,
      "metadata": {
        "id": "7Uruk1MXQjY-"
      },
      "outputs": [],
      "source": [
        "from bertopic.vectorizers import ClassTfidfTransformer\n",
        "ctfidf_model = ClassTfidfTransformer(reduce_frequent_words=True)\n",
        "bertopic_model_embed_token = BERTopic(language='multilingual',\n",
        "                          nr_topics=100,\n",
        "                          top_n_words=1)\n",
        "# bertopic_model_embed_token = BERTopic(embedding_model=model,\n",
        "#                                       # umap_model=umap_model,\n",
        "#                                       # hdbscan_model=hdbscan_model,\n",
        "#                                       vectorizer_model=vectorizer,\n",
        "#                                       ctfidf_model=ctfidf_model,\n",
        "#                                       nr_topics=100,\n",
        "#                                       top_n_words=3,\n",
        "#                                       calculate_probabilities=False)\n",
        "topics, _ = bertopic_model_embed_token.fit_transform(cocktail)"
      ]
    },
    {
      "cell_type": "code",
      "execution_count": 391,
      "metadata": {
        "colab": {
          "base_uri": "https://localhost:8080/"
        },
        "id": "I7QOVUY2QuUI",
        "outputId": "730d5f2a-64fd-4869-b05a-9b4e8cf22150"
      },
      "outputs": [
        {
          "output_type": "stream",
          "name": "stdout",
          "text": [
            "생성된 주제의 수: 99\n",
            "로보쿤\n",
            "햄스터\n",
            "꽃이\n",
            "물을\n",
            "신엽\n",
            "김나나\n",
            "어디서\n",
            "잎이\n",
            "이거\n",
            "에어컨\n",
            "식물등\n",
            "귀엽다\n",
            "jpg\n",
            "고양이\n",
            "병원\n",
            "쥐친구\n",
            "터널\n",
            "핸들링\n",
            "사료\n",
            "흙은\n",
            "거미줄\n",
            "이름이\n",
            "이름이\n",
            "미분\n",
            "잠자는쥐\n",
            "냄새\n",
            "동물이\n",
            "나무\n",
            "뿌리\n",
            "쳇바퀴\n",
            "쥐가\n",
            "코코넛\n",
            "식물\n",
            "오르비\n",
            "토마토\n",
            "우리집\n",
            "화장실\n",
            "모래\n",
            "서울\n",
            "놔라\n",
            "무름병\n",
            "케이지\n",
            "비둘기\n",
            "부동산\n",
            "뚱땡정글\n",
            "맛있음\n",
            "식물\n",
            "로즈마리\n",
            "유혈목이\n",
            "캄차쿠노름표\n",
            "플로리다\n",
            "입제\n",
            "기니피그\n",
            "알로카시아\n",
            "전면부를\n",
            "일베\n",
            "가지치기\n",
            "뽀뽀\n",
            "수컷이\n",
            "햄스터\n",
            "사진\n",
            "올리브\n",
            "얼음\n",
            "유통기한\n",
            "강아지\n",
            "아프리칸\n",
            "그린닷은\n",
            "딸기\n",
            "자고\n",
            "블루베리\n",
            "해씨\n",
            "플라스틱\n",
            "높이\n",
            "냉장고를\n",
            "생태계교란\n",
            "나무위키\n",
            "멍청햄\n",
            "ㅇㅇ\n",
            "유튜브\n",
            "돼지\n",
            "사진\n",
            "벌레인지\n",
            "낫나요\n",
            "버섯\n",
            "흑설기와\n",
            "공간이\n",
            "피드클릭\n",
            "거북이\n",
            "김나나\n",
            "식쇼\n",
            "올해\n",
            "강아지\n",
            "수명이\n",
            "개구리\n",
            "갤러\n",
            "죽은걸까요\n",
            "레몬\n",
            "여잔\n",
            "누가이김\n"
          ]
        }
      ],
      "source": [
        "topic_info = bertopic_model_embed_token.get_topic_info()\n",
        "number_of_topics = len(topic_info) - 1\n",
        "print(f\"생성된 주제의 수: {number_of_topics}\")\n",
        "lst = []\n",
        "for index, row in topic_info.iterrows():\n",
        "    topic_num = row['Topic']\n",
        "    if topic_num != -1:\n",
        "        topic_name = row['Name']\n",
        "        pure_topic_name = \"_\".join(topic_name.split(\"_\")[1:])\n",
        "        lst.append(pure_topic_name)\n",
        "for i in lst:\n",
        "  print(i)"
      ]
    },
    {
      "cell_type": "code",
      "execution_count": 392,
      "metadata": {
        "colab": {
          "base_uri": "https://localhost:8080/"
        },
        "id": "n4BL4YWQmyBS",
        "outputId": "e952286d-455c-4d97-8519-cadea1afff98"
      },
      "outputs": [
        {
          "output_type": "stream",
          "name": "stdout",
          "text": [
            "[[1106, 788], [1402, 2], [9, 518], [23, 295], [51, 196], [74, 156], [61, 158], [1, 175], [65, 98], [49, 76], [1, 114], [81, 24], [100, 3], [87, 15], [90, 11], [100, 0], [50, 45], [86, 8], [75, 17], [4, 85], [17, 71], [12, 74], [0, 73], [24, 47], [67, 2], [36, 29], [61, 2], [5, 58], [0, 61], [47, 9], [53, 0], [42, 11], [0, 52], [10, 40], [3, 46], [37, 12], [43, 4], [43, 3], [15, 30], [27, 14], [8, 31], [36, 3], [33, 0], [14, 19], [29, 3], [22, 10], [1, 31], [0, 32], [30, 1], [16, 13], [11, 17], [2, 25], [26, 1], [1, 25], [1, 25], [26, 0], [0, 25], [21, 3], [23, 0], [22, 0], [21, 1], [0, 21], [0, 20], [3, 17], [17, 3], [0, 19], [0, 18], [5, 13], [17, 0], [4, 13], [17, 0], [5, 12], [7, 9], [16, 0], [15, 1], [13, 2], [13, 2], [14, 1], [9, 6], [14, 1], [5, 10], [6, 8], [4, 9], [0, 13], [13, 0], [5, 8], [12, 0], [10, 2], [9, 3], [0, 11], [2, 9], [6, 5], [11, 0], [7, 4], [0, 10], [0, 10], [0, 10], [6, 4], [10, 0]]\n"
          ]
        }
      ],
      "source": [
        "table = [[0 for r in range(2)] for t in range(number_of_topics)]\n",
        "\n",
        "for j in range(number_of_topics):\n",
        "  for i in range(len(topics)):\n",
        "    if topics[i]==j:\n",
        "      table[j][real_labels[i]]+=1\n",
        "print(table)"
      ]
    },
    {
      "cell_type": "code",
      "execution_count": 393,
      "metadata": {
        "id": "M6Y-gACy9cxu"
      },
      "outputs": [],
      "source": [
        "### Reducing outliers\n",
        "topics = bertopic_model_embed_token.reduce_outliers(cocktail, topics, strategy=\"c-tf-idf\", threshold=0.1)\n",
        "topics = bertopic_model_embed_token.reduce_outliers(cocktail, topics, strategy=\"distributions\")"
      ]
    },
    {
      "cell_type": "code",
      "execution_count": 394,
      "metadata": {
        "colab": {
          "base_uri": "https://localhost:8080/",
          "height": 430
        },
        "id": "LOFzXFfw9cxu",
        "outputId": "200caa0c-4443-4a0b-8223-6819157769d3"
      },
      "outputs": [
        {
          "output_type": "display_data",
          "data": {
            "text/plain": [
              "<Figure size 640x480 with 1 Axes>"
            ],
            "image/png": "[encoded data removed]"
          },
          "metadata": {}
        }
      ],
      "source": [
        "import matplotlib.pyplot as plt\n",
        "\n",
        "colors = [\"#0000FF\", \"#FF0000\"]\n",
        "\n",
        "data = [[] for _ in range(len(dataset))]\n",
        "for j in range(len(dataset)):\n",
        "    data[j] = [topics[i] for i in range(len(real_labels)) if real_labels[i] == j]\n",
        "    # plt.hist(data[j], bins=number_of_topics, color=colors[j], histtype='bar')\n",
        "    # plt.show()\n",
        "\n",
        "plt.hist(data, bins=number_of_topics, color=colors, histtype='bar', density=True)\n",
        "plt.show()"
      ]
    },
    {
      "cell_type": "code",
      "execution_count": 395,
      "metadata": {
        "id": "E9Qk01FL9cxv"
      },
      "outputs": [],
      "source": [
        "import numpy as np\n",
        "npdata = [[] for _ in range(len(dataset))]\n",
        "for j in range(len(dataset)):\n",
        "  npdata[j] = np.array([0] * (number_of_topics + 1), dtype=np.float32)\n",
        "  for k in range(len(data[j])):\n",
        "    npdata[j][data[j][k] + 1] += 1\n",
        "  npdata[j] /= npdata[j].sum()"
      ]
    },
    {
      "cell_type": "code",
      "execution_count": 396,
      "metadata": {
        "colab": {
          "base_uri": "https://localhost:8080/"
        },
        "id": "TZwOmM5A9cxw",
        "outputId": "b9b71122-d8a4-4e57-cd59-f2b368fa2e13"
      },
      "outputs": [
        {
          "output_type": "stream",
          "name": "stdout",
          "text": [
            "햄스터\t1\t0.20628385\t0.002371776\n",
            "핸들링\t17\t0.032286026\t0.004842376\n",
            "사료\t18\t0.021776814\t0.0032611918\n",
            "병원\t14\t0.019934995\t0.0036564877\n",
            "쥐친구\t15\t0.017226435\t0.0012847119\n",
            "jpg\t12\t0.015384615\t0.0013835359\n",
            "고양이\t13\t0.014951246\t0.0025694238\n",
            "동물이\t26\t0.013651137\t0.00079059193\n",
            "코코넛\t31\t0.012026003\t0.002371776\n",
            "화장실\t36\t0.01191766\t0.00148236\n",
            "쥐가\t30\t0.011700975\t0.00088941597\n",
            "케이지\t41\t0.0114842905\t0.0010870639\n",
            "자고\t68\t0.009642471\t0.0013835359\n",
            "모래\t37\t0.009534128\t0.001185888\n",
            "뚱땡정글\t44\t0.009425785\t0.001185888\n",
            "잠자는쥐\t24\t0.008775732\t0.000296472\n",
            "해씨\t70\t0.008775732\t0.0016800079\n",
            "비둘기\t42\t0.008342362\t0.0012847119\n",
            "기니피그\t52\t0.0076923077\t0.0010870639\n",
            "유혈목이\t48\t0.0070422534\t0.0010870639\n",
            "수컷이\t58\t0.0063921995\t0.00088941597\n",
            "뽀뽀\t57\t0.006175515\t0.00088941597\n",
            "생태계교란\t74\t0.0044420366\t0.00069176796\n",
            "흑설기와\t84\t0.0017334778\t0.0\n",
            "\n",
            "꽃이\t2\t0.0040086675\t0.10534638\n",
            "물을\t3\t0.010509209\t0.09319103\n",
            "잎이\t7\t0.0037919828\t0.055341437\n",
            "이름이\t22\t0.0044420366\t0.034786046\n",
            "뿌리\t28\t0.0010834236\t0.031327207\n",
            "식물등\t10\t0.0008667389\t0.031129558\n",
            "흙은\t19\t0.0016251354\t0.024310702\n",
            "식물\t32\t0.0022751896\t0.022334224\n",
            "거미줄\t20\t0.0037919828\t0.019073032\n",
            "토마토\t34\t0.0020585048\t0.011562407\n",
            "가지치기\t56\t0.001516793\t0.009289456\n",
            "알로카시아\t53\t0.001516793\t0.008795336\n",
            "로즈마리\t47\t0.0013001084\t0.008498863\n",
            "입제\t51\t0.0010834236\t0.007905919\n",
            "올리브\t61\t0.00097508123\t0.0074117994\n",
            "식쇼\t89\t0.001191766\t0.006028264\n",
            "얼음\t62\t0.0007583965\t0.00592944\n",
            "버섯\t83\t0.0007583965\t0.0055341437\n",
            "죽은걸까요\t95\t0.00097508123\t0.0054353196\n",
            "\n"
          ]
        }
      ],
      "source": [
        "topic_ = [[], []]\n",
        "threshold = 5\n",
        "for k in range(number_of_topics):\n",
        "  ratio = max((npdata[0][k] + 1e-12) / (npdata[1][k] + 1e-12), (npdata[1][k] + 1e-12) / (npdata[0][k] + 1e-12))\n",
        "  if ratio > threshold:\n",
        "    if npdata[0][k] > npdata[1][k]:\n",
        "      topic_[0].append((k - 1, npdata[0][k], npdata[1][k]))\n",
        "    else:\n",
        "      topic_[1].append((k - 1, npdata[0][k], npdata[1][k]))\n",
        "\n",
        "for k in range(len(topic_)):\n",
        "  topic_[k].sort(key=lambda x: x[k + 1], reverse=True)\n",
        "  for j, v0, v1 in topic_[k]:\n",
        "    print('\\t'.join([x[0] for x in bertopic_model_embed_token.get_topic(j)]), j, v0, v1, sep='\\t')\n",
        "  print()"
      ]
    },
    {
      "cell_type": "code",
      "execution_count": 397,
      "metadata": {
        "colab": {
          "base_uri": "https://localhost:8080/"
        },
        "id": "4Afv8eAB9cxw",
        "outputId": "cc525b25-11b8-4730-f884-88f5fb1dd8d1"
      },
      "outputs": [
        {
          "output_type": "stream",
          "name": "stdout",
          "text": [
            "햄스터\t1\t0.20628385245800018\n",
            "로보쿤\t0\t0.14452871680259705\n",
            "핸들링\t17\t0.03228602558374405\n",
            "사료\t18\t0.02177681401371956\n",
            "귀엽다\t11\t0.021560130640864372\n",
            "너무\t-1\t0.0211267601698637\n",
            "병원\t14\t0.019934995099902153\n",
            "쥐친구\t15\t0.017226435244083405\n",
            "쳇바퀴\t29\t0.015601299703121185\n",
            "jpg\t12\t0.015384615398943424\n",
            "\n",
            "꽃이\t2\t0.10534638166427612\n",
            "로보쿤\t0\t0.09516751021146774\n",
            "물을\t3\t0.09319102764129639\n",
            "잎이\t7\t0.055341437458992004\n",
            "신엽\t4\t0.053859077394008636\n",
            "어디서\t6\t0.035477813333272934\n",
            "이름이\t22\t0.03478604555130005\n",
            "뿌리\t28\t0.03132720664143562\n",
            "식물등\t10\t0.031129557639360428\n",
            "흙은\t19\t0.024310702458024025\n",
            "\n"
          ]
        }
      ],
      "source": [
        "for k in range(len(npdata)):\n",
        "  data = sorted([(i - 1, v) for i, v in enumerate(npdata[k].tolist())], key=lambda x: x[1], reverse=True)\n",
        "  for i in range(10):\n",
        "    print('\\t'.join([x[0] for x in bertopic_model_embed_token.get_topic(data[i][0])]), data[i][0], data[i][1], sep='\\t')\n",
        "  print()"
      ]
    }
  ],
  "metadata": {
    "accelerator": "GPU",
    "colab": {
      "gpuType": "T4",
      "provenance": []
    },
    "kernelspec": {
      "display_name": "Python 3",
      "name": "python3"
    },
    "language_info": {
      "name": "python"
    }
  },
  "nbformat": 4,
  "nbformat_minor": 0
}
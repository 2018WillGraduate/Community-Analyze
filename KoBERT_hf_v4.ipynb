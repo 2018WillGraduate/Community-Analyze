{
  "cells": [
    {
      "cell_type": "code",
      "execution_count": 1,
      "metadata": {
        "colab": {
          "base_uri": "https://localhost:8080/"
        },
        "id": "XoPZcBqGIJTl",
        "outputId": "71ca3e7a-8273-426a-bab2-c211bd6b3755"
      },
      "outputs": [
        {
          "output_type": "stream",
          "name": "stdout",
          "text": [
            "Mounted at /content/drive\n"
          ]
        }
      ],
      "source": [
        "from google.colab import drive\n",
        "drive.mount('/content/drive')"
      ]
    },
    {
      "cell_type": "code",
      "execution_count": 2,
      "metadata": {
        "colab": {
          "base_uri": "https://localhost:8080/"
        },
        "id": "3Ms8zpRlKNVj",
        "outputId": "63bb8359-59ec-4b40-f7b3-1c28ca428bb4"
      },
      "outputs": [
        {
          "output_type": "stream",
          "name": "stdout",
          "text": [
            "/content/drive/MyDrive\n"
          ]
        }
      ],
      "source": [
        "cd drive/MyDrive"
      ]
    },
    {
      "cell_type": "code",
      "execution_count": 3,
      "metadata": {
        "colab": {
          "base_uri": "https://localhost:8080/"
        },
        "id": "htsIje03F3Y8",
        "outputId": "e70fc7df-6cf8-43c9-84f1-b31f238556b7"
      },
      "outputs": [
        {
          "output_type": "stream",
          "name": "stdout",
          "text": [
            "Collecting transformers\n",
            "  Downloading transformers-4.30.2-py3-none-any.whl (7.2 MB)\n",
            "\u001b[2K     \u001b[90m━━━━━━━━━━━━━━━━━━━━━━━━━━━━━━━━━━━━━━━━\u001b[0m \u001b[32m7.2/7.2 MB\u001b[0m \u001b[31m51.6 MB/s\u001b[0m eta \u001b[36m0:00:00\u001b[0m\n",
            "\u001b[?25hRequirement already satisfied: filelock in /usr/local/lib/python3.10/dist-packages (from transformers) (3.12.2)\n",
            "Collecting huggingface-hub<1.0,>=0.14.1 (from transformers)\n",
            "  Downloading huggingface_hub-0.15.1-py3-none-any.whl (236 kB)\n",
            "\u001b[2K     \u001b[90m━━━━━━━━━━━━━━━━━━━━━━━━━━━━━━━━━━━━━━\u001b[0m \u001b[32m236.8/236.8 kB\u001b[0m \u001b[31m20.6 MB/s\u001b[0m eta \u001b[36m0:00:00\u001b[0m\n",
            "\u001b[?25hRequirement already satisfied: numpy>=1.17 in /usr/local/lib/python3.10/dist-packages (from transformers) (1.22.4)\n",
            "Requirement already satisfied: packaging>=20.0 in /usr/local/lib/python3.10/dist-packages (from transformers) (23.1)\n",
            "Requirement already satisfied: pyyaml>=5.1 in /usr/local/lib/python3.10/dist-packages (from transformers) (6.0)\n",
            "Requirement already satisfied: regex!=2019.12.17 in /usr/local/lib/python3.10/dist-packages (from transformers) (2022.10.31)\n",
            "Requirement already satisfied: requests in /usr/local/lib/python3.10/dist-packages (from transformers) (2.27.1)\n",
            "Collecting tokenizers!=0.11.3,<0.14,>=0.11.1 (from transformers)\n",
            "  Downloading tokenizers-0.13.3-cp310-cp310-manylinux_2_17_x86_64.manylinux2014_x86_64.whl (7.8 MB)\n",
            "\u001b[2K     \u001b[90m━━━━━━━━━━━━━━━━━━━━━━━━━━━━━━━━━━━━━━━━\u001b[0m \u001b[32m7.8/7.8 MB\u001b[0m \u001b[31m90.9 MB/s\u001b[0m eta \u001b[36m0:00:00\u001b[0m\n",
            "\u001b[?25hCollecting safetensors>=0.3.1 (from transformers)\n",
            "  Downloading safetensors-0.3.1-cp310-cp310-manylinux_2_17_x86_64.manylinux2014_x86_64.whl (1.3 MB)\n",
            "\u001b[2K     \u001b[90m━━━━━━━━━━━━━━━━━━━━━━━━━━━━━━━━━━━━━━━━\u001b[0m \u001b[32m1.3/1.3 MB\u001b[0m \u001b[31m54.8 MB/s\u001b[0m eta \u001b[36m0:00:00\u001b[0m\n",
            "\u001b[?25hRequirement already satisfied: tqdm>=4.27 in /usr/local/lib/python3.10/dist-packages (from transformers) (4.65.0)\n",
            "Requirement already satisfied: fsspec in /usr/local/lib/python3.10/dist-packages (from huggingface-hub<1.0,>=0.14.1->transformers) (2023.6.0)\n",
            "Requirement already satisfied: typing-extensions>=3.7.4.3 in /usr/local/lib/python3.10/dist-packages (from huggingface-hub<1.0,>=0.14.1->transformers) (4.6.3)\n",
            "Requirement already satisfied: urllib3<1.27,>=1.21.1 in /usr/local/lib/python3.10/dist-packages (from requests->transformers) (1.26.16)\n",
            "Requirement already satisfied: certifi>=2017.4.17 in /usr/local/lib/python3.10/dist-packages (from requests->transformers) (2023.5.7)\n",
            "Requirement already satisfied: charset-normalizer~=2.0.0 in /usr/local/lib/python3.10/dist-packages (from requests->transformers) (2.0.12)\n",
            "Requirement already satisfied: idna<4,>=2.5 in /usr/local/lib/python3.10/dist-packages (from requests->transformers) (3.4)\n",
            "Installing collected packages: tokenizers, safetensors, huggingface-hub, transformers\n",
            "Successfully installed huggingface-hub-0.15.1 safetensors-0.3.1 tokenizers-0.13.3 transformers-4.30.2\n",
            "Collecting sentencepiece\n",
            "  Downloading sentencepiece-0.1.99-cp310-cp310-manylinux_2_17_x86_64.manylinux2014_x86_64.whl (1.3 MB)\n",
            "\u001b[2K     \u001b[90m━━━━━━━━━━━━━━━━━━━━━━━━━━━━━━━━━━━━━━━━\u001b[0m \u001b[32m1.3/1.3 MB\u001b[0m \u001b[31m8.3 MB/s\u001b[0m eta \u001b[36m0:00:00\u001b[0m\n",
            "\u001b[?25hInstalling collected packages: sentencepiece\n",
            "Successfully installed sentencepiece-0.1.99\n",
            "Collecting bertopic\n",
            "  Downloading bertopic-0.15.0-py2.py3-none-any.whl (143 kB)\n",
            "\u001b[2K     \u001b[90m━━━━━━━━━━━━━━━━━━━━━━━━━━━━━━━━━━━━━━━\u001b[0m \u001b[32m143.4/143.4 kB\u001b[0m \u001b[31m4.1 MB/s\u001b[0m eta \u001b[36m0:00:00\u001b[0m\n",
            "\u001b[?25hRequirement already satisfied: numpy>=1.20.0 in /usr/local/lib/python3.10/dist-packages (from bertopic) (1.22.4)\n",
            "Collecting hdbscan>=0.8.29 (from bertopic)\n",
            "  Downloading hdbscan-0.8.29.tar.gz (5.2 MB)\n",
            "\u001b[2K     \u001b[90m━━━━━━━━━━━━━━━━━━━━━━━━━━━━━━━━━━━━━━━━\u001b[0m \u001b[32m5.2/5.2 MB\u001b[0m \u001b[31m58.7 MB/s\u001b[0m eta \u001b[36m0:00:00\u001b[0m\n",
            "\u001b[?25h  Installing build dependencies ... \u001b[?25l\u001b[?25hdone\n",
            "  Getting requirements to build wheel ... \u001b[?25l\u001b[?25hdone\n",
            "  Preparing metadata (pyproject.toml) ... \u001b[?25l\u001b[?25hdone\n",
            "Collecting umap-learn>=0.5.0 (from bertopic)\n",
            "  Downloading umap-learn-0.5.3.tar.gz (88 kB)\n",
            "\u001b[2K     \u001b[90m━━━━━━━━━━━━━━━━━━━━━━━━━━━━━━━━━━━━━━━━\u001b[0m \u001b[32m88.2/88.2 kB\u001b[0m \u001b[31m9.6 MB/s\u001b[0m eta \u001b[36m0:00:00\u001b[0m\n",
            "\u001b[?25h  Preparing metadata (setup.py) ... \u001b[?25l\u001b[?25hdone\n",
            "Requirement already satisfied: pandas>=1.1.5 in /usr/local/lib/python3.10/dist-packages (from bertopic) (1.5.3)\n",
            "Requirement already satisfied: scikit-learn>=0.22.2.post1 in /usr/local/lib/python3.10/dist-packages (from bertopic) (1.2.2)\n",
            "Requirement already satisfied: tqdm>=4.41.1 in /usr/local/lib/python3.10/dist-packages (from bertopic) (4.65.0)\n",
            "Collecting sentence-transformers>=0.4.1 (from bertopic)\n",
            "  Downloading sentence-transformers-2.2.2.tar.gz (85 kB)\n",
            "\u001b[2K     \u001b[90m━━━━━━━━━━━━━━━━━━━━━━━━━━━━━━━━━━━━━━━━\u001b[0m \u001b[32m86.0/86.0 kB\u001b[0m \u001b[31m8.3 MB/s\u001b[0m eta \u001b[36m0:00:00\u001b[0m\n",
            "\u001b[?25h  Preparing metadata (setup.py) ... \u001b[?25l\u001b[?25hdone\n",
            "Requirement already satisfied: plotly>=4.7.0 in /usr/local/lib/python3.10/dist-packages (from bertopic) (5.13.1)\n",
            "Requirement already satisfied: cython>=0.27 in /usr/local/lib/python3.10/dist-packages (from hdbscan>=0.8.29->bertopic) (0.29.35)\n",
            "Requirement already satisfied: scipy>=1.0 in /usr/local/lib/python3.10/dist-packages (from hdbscan>=0.8.29->bertopic) (1.10.1)\n",
            "Requirement already satisfied: joblib>=1.0 in /usr/local/lib/python3.10/dist-packages (from hdbscan>=0.8.29->bertopic) (1.2.0)\n",
            "Requirement already satisfied: python-dateutil>=2.8.1 in /usr/local/lib/python3.10/dist-packages (from pandas>=1.1.5->bertopic) (2.8.2)\n",
            "Requirement already satisfied: pytz>=2020.1 in /usr/local/lib/python3.10/dist-packages (from pandas>=1.1.5->bertopic) (2022.7.1)\n",
            "Requirement already satisfied: tenacity>=6.2.0 in /usr/local/lib/python3.10/dist-packages (from plotly>=4.7.0->bertopic) (8.2.2)\n",
            "Requirement already satisfied: threadpoolctl>=2.0.0 in /usr/local/lib/python3.10/dist-packages (from scikit-learn>=0.22.2.post1->bertopic) (3.1.0)\n",
            "Requirement already satisfied: transformers<5.0.0,>=4.6.0 in /usr/local/lib/python3.10/dist-packages (from sentence-transformers>=0.4.1->bertopic) (4.30.2)\n",
            "Requirement already satisfied: torch>=1.6.0 in /usr/local/lib/python3.10/dist-packages (from sentence-transformers>=0.4.1->bertopic) (2.0.1+cu118)\n",
            "Requirement already satisfied: torchvision in /usr/local/lib/python3.10/dist-packages (from sentence-transformers>=0.4.1->bertopic) (0.15.2+cu118)\n",
            "Requirement already satisfied: nltk in /usr/local/lib/python3.10/dist-packages (from sentence-transformers>=0.4.1->bertopic) (3.8.1)\n",
            "Requirement already satisfied: sentencepiece in /usr/local/lib/python3.10/dist-packages (from sentence-transformers>=0.4.1->bertopic) (0.1.99)\n",
            "Requirement already satisfied: huggingface-hub>=0.4.0 in /usr/local/lib/python3.10/dist-packages (from sentence-transformers>=0.4.1->bertopic) (0.15.1)\n",
            "Requirement already satisfied: numba>=0.49 in /usr/local/lib/python3.10/dist-packages (from umap-learn>=0.5.0->bertopic) (0.56.4)\n",
            "Collecting pynndescent>=0.5 (from umap-learn>=0.5.0->bertopic)\n",
            "  Downloading pynndescent-0.5.10.tar.gz (1.1 MB)\n",
            "\u001b[2K     \u001b[90m━━━━━━━━━━━━━━━━━━━━━━━━━━━━━━━━━━━━━━━━\u001b[0m \u001b[32m1.1/1.1 MB\u001b[0m \u001b[31m69.1 MB/s\u001b[0m eta \u001b[36m0:00:00\u001b[0m\n",
            "\u001b[?25h  Preparing metadata (setup.py) ... \u001b[?25l\u001b[?25hdone\n",
            "Requirement already satisfied: filelock in /usr/local/lib/python3.10/dist-packages (from huggingface-hub>=0.4.0->sentence-transformers>=0.4.1->bertopic) (3.12.2)\n",
            "Requirement already satisfied: fsspec in /usr/local/lib/python3.10/dist-packages (from huggingface-hub>=0.4.0->sentence-transformers>=0.4.1->bertopic) (2023.6.0)\n",
            "Requirement already satisfied: requests in /usr/local/lib/python3.10/dist-packages (from huggingface-hub>=0.4.0->sentence-transformers>=0.4.1->bertopic) (2.27.1)\n",
            "Requirement already satisfied: pyyaml>=5.1 in /usr/local/lib/python3.10/dist-packages (from huggingface-hub>=0.4.0->sentence-transformers>=0.4.1->bertopic) (6.0)\n",
            "Requirement already satisfied: typing-extensions>=3.7.4.3 in /usr/local/lib/python3.10/dist-packages (from huggingface-hub>=0.4.0->sentence-transformers>=0.4.1->bertopic) (4.6.3)\n",
            "Requirement already satisfied: packaging>=20.9 in /usr/local/lib/python3.10/dist-packages (from huggingface-hub>=0.4.0->sentence-transformers>=0.4.1->bertopic) (23.1)\n",
            "Requirement already satisfied: llvmlite<0.40,>=0.39.0dev0 in /usr/local/lib/python3.10/dist-packages (from numba>=0.49->umap-learn>=0.5.0->bertopic) (0.39.1)\n",
            "Requirement already satisfied: setuptools in /usr/local/lib/python3.10/dist-packages (from numba>=0.49->umap-learn>=0.5.0->bertopic) (67.7.2)\n",
            "Requirement already satisfied: six>=1.5 in /usr/local/lib/python3.10/dist-packages (from python-dateutil>=2.8.1->pandas>=1.1.5->bertopic) (1.16.0)\n",
            "Requirement already satisfied: sympy in /usr/local/lib/python3.10/dist-packages (from torch>=1.6.0->sentence-transformers>=0.4.1->bertopic) (1.11.1)\n",
            "Requirement already satisfied: networkx in /usr/local/lib/python3.10/dist-packages (from torch>=1.6.0->sentence-transformers>=0.4.1->bertopic) (3.1)\n",
            "Requirement already satisfied: jinja2 in /usr/local/lib/python3.10/dist-packages (from torch>=1.6.0->sentence-transformers>=0.4.1->bertopic) (3.1.2)\n",
            "Requirement already satisfied: triton==2.0.0 in /usr/local/lib/python3.10/dist-packages (from torch>=1.6.0->sentence-transformers>=0.4.1->bertopic) (2.0.0)\n",
            "Requirement already satisfied: cmake in /usr/local/lib/python3.10/dist-packages (from triton==2.0.0->torch>=1.6.0->sentence-transformers>=0.4.1->bertopic) (3.25.2)\n",
            "Requirement already satisfied: lit in /usr/local/lib/python3.10/dist-packages (from triton==2.0.0->torch>=1.6.0->sentence-transformers>=0.4.1->bertopic) (16.0.6)\n",
            "Requirement already satisfied: regex!=2019.12.17 in /usr/local/lib/python3.10/dist-packages (from transformers<5.0.0,>=4.6.0->sentence-transformers>=0.4.1->bertopic) (2022.10.31)\n",
            "Requirement already satisfied: tokenizers!=0.11.3,<0.14,>=0.11.1 in /usr/local/lib/python3.10/dist-packages (from transformers<5.0.0,>=4.6.0->sentence-transformers>=0.4.1->bertopic) (0.13.3)\n",
            "Requirement already satisfied: safetensors>=0.3.1 in /usr/local/lib/python3.10/dist-packages (from transformers<5.0.0,>=4.6.0->sentence-transformers>=0.4.1->bertopic) (0.3.1)\n",
            "Requirement already satisfied: click in /usr/local/lib/python3.10/dist-packages (from nltk->sentence-transformers>=0.4.1->bertopic) (8.1.3)\n",
            "Requirement already satisfied: pillow!=8.3.*,>=5.3.0 in /usr/local/lib/python3.10/dist-packages (from torchvision->sentence-transformers>=0.4.1->bertopic) (8.4.0)\n",
            "Requirement already satisfied: MarkupSafe>=2.0 in /usr/local/lib/python3.10/dist-packages (from jinja2->torch>=1.6.0->sentence-transformers>=0.4.1->bertopic) (2.1.3)\n",
            "Requirement already satisfied: urllib3<1.27,>=1.21.1 in /usr/local/lib/python3.10/dist-packages (from requests->huggingface-hub>=0.4.0->sentence-transformers>=0.4.1->bertopic) (1.26.16)\n",
            "Requirement already satisfied: certifi>=2017.4.17 in /usr/local/lib/python3.10/dist-packages (from requests->huggingface-hub>=0.4.0->sentence-transformers>=0.4.1->bertopic) (2023.5.7)\n",
            "Requirement already satisfied: charset-normalizer~=2.0.0 in /usr/local/lib/python3.10/dist-packages (from requests->huggingface-hub>=0.4.0->sentence-transformers>=0.4.1->bertopic) (2.0.12)\n",
            "Requirement already satisfied: idna<4,>=2.5 in /usr/local/lib/python3.10/dist-packages (from requests->huggingface-hub>=0.4.0->sentence-transformers>=0.4.1->bertopic) (3.4)\n",
            "Requirement already satisfied: mpmath>=0.19 in /usr/local/lib/python3.10/dist-packages (from sympy->torch>=1.6.0->sentence-transformers>=0.4.1->bertopic) (1.3.0)\n",
            "Building wheels for collected packages: hdbscan, sentence-transformers, umap-learn, pynndescent\n",
            "  Building wheel for hdbscan (pyproject.toml) ... \u001b[?25l\u001b[?25hdone\n",
            "  Created wheel for hdbscan: filename=hdbscan-0.8.29-cp310-cp310-linux_x86_64.whl size=3542021 sha256=b488d982fb0b479d017799f569f314bd84b5c63df02862cd79453e172e032253\n",
            "  Stored in directory: /root/.cache/pip/wheels/dc/52/e3/6c6b60b126b4d5c4370cb5ac071b82950f91649d62d72f7f56\n",
            "  Building wheel for sentence-transformers (setup.py) ... \u001b[?25l\u001b[?25hdone\n",
            "  Created wheel for sentence-transformers: filename=sentence_transformers-2.2.2-py3-none-any.whl size=125926 sha256=acce43a67ab499602377a84b6c777e71bd94793f758e32a18effe9b3737fab41\n",
            "  Stored in directory: /root/.cache/pip/wheels/62/f2/10/1e606fd5f02395388f74e7462910fe851042f97238cbbd902f\n",
            "  Building wheel for umap-learn (setup.py) ... \u001b[?25l\u001b[?25hdone\n",
            "  Created wheel for umap-learn: filename=umap_learn-0.5.3-py3-none-any.whl size=82816 sha256=2565737528da6c59442b0fc02d35e0b6a819b7e2b70aae6cfa8f53130377eaa2\n",
            "  Stored in directory: /root/.cache/pip/wheels/a0/e8/c6/a37ea663620bd5200ea1ba0907ab3c217042c1d035ef606acc\n",
            "  Building wheel for pynndescent (setup.py) ... \u001b[?25l\u001b[?25hdone\n",
            "  Created wheel for pynndescent: filename=pynndescent-0.5.10-py3-none-any.whl size=55622 sha256=417fbf475f0f0de1dec508c84f3d8effb490d78132f075bca499006a6f801caf\n",
            "  Stored in directory: /root/.cache/pip/wheels/4a/38/5d/f60a40a66a9512b7e5e83517ebc2d1b42d857be97d135f1096\n",
            "Successfully built hdbscan sentence-transformers umap-learn pynndescent\n",
            "Installing collected packages: pynndescent, hdbscan, umap-learn, sentence-transformers, bertopic\n",
            "Successfully installed bertopic-0.15.0 hdbscan-0.8.29 pynndescent-0.5.10 sentence-transformers-2.2.2 umap-learn-0.5.3\n"
          ]
        }
      ],
      "source": [
        "!pip install transformers\n",
        "!pip install sentencepiece\n",
        "!pip install bertopic"
      ]
    },
    {
      "cell_type": "code",
      "execution_count": 4,
      "metadata": {
        "colab": {
          "base_uri": "https://localhost:8080/"
        },
        "id": "eDyd0f9HGhrA",
        "outputId": "6a721086-d494-4330-b5ed-a76ae692bd87"
      },
      "outputs": [
        {
          "output_type": "stream",
          "name": "stdout",
          "text": [
            "Requirement already satisfied: bertopic[visualization] in /usr/local/lib/python3.10/dist-packages (0.15.0)\n",
            "\u001b[33mWARNING: bertopic 0.15.0 does not provide the extra 'visualization'\u001b[0m\u001b[33m\n",
            "\u001b[0mRequirement already satisfied: numpy>=1.20.0 in /usr/local/lib/python3.10/dist-packages (from bertopic[visualization]) (1.22.4)\n",
            "Requirement already satisfied: hdbscan>=0.8.29 in /usr/local/lib/python3.10/dist-packages (from bertopic[visualization]) (0.8.29)\n",
            "Requirement already satisfied: umap-learn>=0.5.0 in /usr/local/lib/python3.10/dist-packages (from bertopic[visualization]) (0.5.3)\n",
            "Requirement already satisfied: pandas>=1.1.5 in /usr/local/lib/python3.10/dist-packages (from bertopic[visualization]) (1.5.3)\n",
            "Requirement already satisfied: scikit-learn>=0.22.2.post1 in /usr/local/lib/python3.10/dist-packages (from bertopic[visualization]) (1.2.2)\n",
            "Requirement already satisfied: tqdm>=4.41.1 in /usr/local/lib/python3.10/dist-packages (from bertopic[visualization]) (4.65.0)\n",
            "Requirement already satisfied: sentence-transformers>=0.4.1 in /usr/local/lib/python3.10/dist-packages (from bertopic[visualization]) (2.2.2)\n",
            "Requirement already satisfied: plotly>=4.7.0 in /usr/local/lib/python3.10/dist-packages (from bertopic[visualization]) (5.13.1)\n",
            "Requirement already satisfied: cython>=0.27 in /usr/local/lib/python3.10/dist-packages (from hdbscan>=0.8.29->bertopic[visualization]) (0.29.35)\n",
            "Requirement already satisfied: scipy>=1.0 in /usr/local/lib/python3.10/dist-packages (from hdbscan>=0.8.29->bertopic[visualization]) (1.10.1)\n",
            "Requirement already satisfied: joblib>=1.0 in /usr/local/lib/python3.10/dist-packages (from hdbscan>=0.8.29->bertopic[visualization]) (1.2.0)\n",
            "Requirement already satisfied: python-dateutil>=2.8.1 in /usr/local/lib/python3.10/dist-packages (from pandas>=1.1.5->bertopic[visualization]) (2.8.2)\n",
            "Requirement already satisfied: pytz>=2020.1 in /usr/local/lib/python3.10/dist-packages (from pandas>=1.1.5->bertopic[visualization]) (2022.7.1)\n",
            "Requirement already satisfied: tenacity>=6.2.0 in /usr/local/lib/python3.10/dist-packages (from plotly>=4.7.0->bertopic[visualization]) (8.2.2)\n",
            "Requirement already satisfied: threadpoolctl>=2.0.0 in /usr/local/lib/python3.10/dist-packages (from scikit-learn>=0.22.2.post1->bertopic[visualization]) (3.1.0)\n",
            "Requirement already satisfied: transformers<5.0.0,>=4.6.0 in /usr/local/lib/python3.10/dist-packages (from sentence-transformers>=0.4.1->bertopic[visualization]) (4.30.2)\n",
            "Requirement already satisfied: torch>=1.6.0 in /usr/local/lib/python3.10/dist-packages (from sentence-transformers>=0.4.1->bertopic[visualization]) (2.0.1+cu118)\n",
            "Requirement already satisfied: torchvision in /usr/local/lib/python3.10/dist-packages (from sentence-transformers>=0.4.1->bertopic[visualization]) (0.15.2+cu118)\n",
            "Requirement already satisfied: nltk in /usr/local/lib/python3.10/dist-packages (from sentence-transformers>=0.4.1->bertopic[visualization]) (3.8.1)\n",
            "Requirement already satisfied: sentencepiece in /usr/local/lib/python3.10/dist-packages (from sentence-transformers>=0.4.1->bertopic[visualization]) (0.1.99)\n",
            "Requirement already satisfied: huggingface-hub>=0.4.0 in /usr/local/lib/python3.10/dist-packages (from sentence-transformers>=0.4.1->bertopic[visualization]) (0.15.1)\n",
            "Requirement already satisfied: numba>=0.49 in /usr/local/lib/python3.10/dist-packages (from umap-learn>=0.5.0->bertopic[visualization]) (0.56.4)\n",
            "Requirement already satisfied: pynndescent>=0.5 in /usr/local/lib/python3.10/dist-packages (from umap-learn>=0.5.0->bertopic[visualization]) (0.5.10)\n",
            "Requirement already satisfied: filelock in /usr/local/lib/python3.10/dist-packages (from huggingface-hub>=0.4.0->sentence-transformers>=0.4.1->bertopic[visualization]) (3.12.2)\n",
            "Requirement already satisfied: fsspec in /usr/local/lib/python3.10/dist-packages (from huggingface-hub>=0.4.0->sentence-transformers>=0.4.1->bertopic[visualization]) (2023.6.0)\n",
            "Requirement already satisfied: requests in /usr/local/lib/python3.10/dist-packages (from huggingface-hub>=0.4.0->sentence-transformers>=0.4.1->bertopic[visualization]) (2.27.1)\n",
            "Requirement already satisfied: pyyaml>=5.1 in /usr/local/lib/python3.10/dist-packages (from huggingface-hub>=0.4.0->sentence-transformers>=0.4.1->bertopic[visualization]) (6.0)\n",
            "Requirement already satisfied: typing-extensions>=3.7.4.3 in /usr/local/lib/python3.10/dist-packages (from huggingface-hub>=0.4.0->sentence-transformers>=0.4.1->bertopic[visualization]) (4.6.3)\n",
            "Requirement already satisfied: packaging>=20.9 in /usr/local/lib/python3.10/dist-packages (from huggingface-hub>=0.4.0->sentence-transformers>=0.4.1->bertopic[visualization]) (23.1)\n",
            "Requirement already satisfied: llvmlite<0.40,>=0.39.0dev0 in /usr/local/lib/python3.10/dist-packages (from numba>=0.49->umap-learn>=0.5.0->bertopic[visualization]) (0.39.1)\n",
            "Requirement already satisfied: setuptools in /usr/local/lib/python3.10/dist-packages (from numba>=0.49->umap-learn>=0.5.0->bertopic[visualization]) (67.7.2)\n",
            "Requirement already satisfied: six>=1.5 in /usr/local/lib/python3.10/dist-packages (from python-dateutil>=2.8.1->pandas>=1.1.5->bertopic[visualization]) (1.16.0)\n",
            "Requirement already satisfied: sympy in /usr/local/lib/python3.10/dist-packages (from torch>=1.6.0->sentence-transformers>=0.4.1->bertopic[visualization]) (1.11.1)\n",
            "Requirement already satisfied: networkx in /usr/local/lib/python3.10/dist-packages (from torch>=1.6.0->sentence-transformers>=0.4.1->bertopic[visualization]) (3.1)\n",
            "Requirement already satisfied: jinja2 in /usr/local/lib/python3.10/dist-packages (from torch>=1.6.0->sentence-transformers>=0.4.1->bertopic[visualization]) (3.1.2)\n",
            "Requirement already satisfied: triton==2.0.0 in /usr/local/lib/python3.10/dist-packages (from torch>=1.6.0->sentence-transformers>=0.4.1->bertopic[visualization]) (2.0.0)\n",
            "Requirement already satisfied: cmake in /usr/local/lib/python3.10/dist-packages (from triton==2.0.0->torch>=1.6.0->sentence-transformers>=0.4.1->bertopic[visualization]) (3.25.2)\n",
            "Requirement already satisfied: lit in /usr/local/lib/python3.10/dist-packages (from triton==2.0.0->torch>=1.6.0->sentence-transformers>=0.4.1->bertopic[visualization]) (16.0.6)\n",
            "Requirement already satisfied: regex!=2019.12.17 in /usr/local/lib/python3.10/dist-packages (from transformers<5.0.0,>=4.6.0->sentence-transformers>=0.4.1->bertopic[visualization]) (2022.10.31)\n",
            "Requirement already satisfied: tokenizers!=0.11.3,<0.14,>=0.11.1 in /usr/local/lib/python3.10/dist-packages (from transformers<5.0.0,>=4.6.0->sentence-transformers>=0.4.1->bertopic[visualization]) (0.13.3)\n",
            "Requirement already satisfied: safetensors>=0.3.1 in /usr/local/lib/python3.10/dist-packages (from transformers<5.0.0,>=4.6.0->sentence-transformers>=0.4.1->bertopic[visualization]) (0.3.1)\n",
            "Requirement already satisfied: click in /usr/local/lib/python3.10/dist-packages (from nltk->sentence-transformers>=0.4.1->bertopic[visualization]) (8.1.3)\n",
            "Requirement already satisfied: pillow!=8.3.*,>=5.3.0 in /usr/local/lib/python3.10/dist-packages (from torchvision->sentence-transformers>=0.4.1->bertopic[visualization]) (8.4.0)\n",
            "Requirement already satisfied: MarkupSafe>=2.0 in /usr/local/lib/python3.10/dist-packages (from jinja2->torch>=1.6.0->sentence-transformers>=0.4.1->bertopic[visualization]) (2.1.3)\n",
            "Requirement already satisfied: urllib3<1.27,>=1.21.1 in /usr/local/lib/python3.10/dist-packages (from requests->huggingface-hub>=0.4.0->sentence-transformers>=0.4.1->bertopic[visualization]) (1.26.16)\n",
            "Requirement already satisfied: certifi>=2017.4.17 in /usr/local/lib/python3.10/dist-packages (from requests->huggingface-hub>=0.4.0->sentence-transformers>=0.4.1->bertopic[visualization]) (2023.5.7)\n",
            "Requirement already satisfied: charset-normalizer~=2.0.0 in /usr/local/lib/python3.10/dist-packages (from requests->huggingface-hub>=0.4.0->sentence-transformers>=0.4.1->bertopic[visualization]) (2.0.12)\n",
            "Requirement already satisfied: idna<4,>=2.5 in /usr/local/lib/python3.10/dist-packages (from requests->huggingface-hub>=0.4.0->sentence-transformers>=0.4.1->bertopic[visualization]) (3.4)\n",
            "Requirement already satisfied: mpmath>=0.19 in /usr/local/lib/python3.10/dist-packages (from sympy->torch>=1.6.0->sentence-transformers>=0.4.1->bertopic[visualization]) (1.3.0)\n"
          ]
        }
      ],
      "source": [
        "!pip install bertopic[visualization]"
      ]
    },
    {
      "cell_type": "code",
      "execution_count": 5,
      "metadata": {
        "colab": {
          "base_uri": "https://localhost:8080/"
        },
        "id": "X5-_SutcF8ar",
        "outputId": "9fcec709-e104-42de-98dd-ec48c66cb5d3"
      },
      "outputs": [
        {
          "output_type": "stream",
          "name": "stdout",
          "text": [
            "Collecting kobert_tokenizer\n",
            "  Cloning https://github.com/SKTBrain/KoBERT.git to /tmp/pip-install-7u6xdgqr/kobert-tokenizer_2e28b35b99a346149aca18ed31840876\n",
            "  Running command git clone --filter=blob:none --quiet https://github.com/SKTBrain/KoBERT.git /tmp/pip-install-7u6xdgqr/kobert-tokenizer_2e28b35b99a346149aca18ed31840876\n",
            "  Resolved https://github.com/SKTBrain/KoBERT.git to commit 47a69af87928fc24e20f571fe10c3cc9dd9af9a3\n",
            "  Preparing metadata (setup.py) ... \u001b[?25l\u001b[?25hdone\n",
            "Building wheels for collected packages: kobert_tokenizer\n",
            "  Building wheel for kobert_tokenizer (setup.py) ... \u001b[?25l\u001b[?25hdone\n",
            "  Created wheel for kobert_tokenizer: filename=kobert_tokenizer-0.1-py3-none-any.whl size=4632 sha256=55fba99edcdd5774ccdf1b72cb374b79422caadac204f10bb8fdee3dbb7571f4\n",
            "  Stored in directory: /tmp/pip-ephem-wheel-cache-lu4smt34/wheels/e9/1a/3f/a864970e8a169c176befa3c4a1e07aa612f69195907a4045fe\n",
            "Successfully built kobert_tokenizer\n",
            "Installing collected packages: kobert_tokenizer\n",
            "Successfully installed kobert_tokenizer-0.1\n"
          ]
        }
      ],
      "source": [
        "!pip install 'git+https://github.com/SKTBrain/KoBERT.git#egg=kobert_tokenizer&subdirectory=kobert_hf'"
      ]
    },
    {
      "cell_type": "code",
      "execution_count": 6,
      "metadata": {
        "colab": {
          "base_uri": "https://localhost:8080/",
          "height": 186,
          "referenced_widgets": [
            "7cd5fd100c314bc0954f33fa12fdb3c9",
            "70e7bd05e2f54e27aeba44a25146c3c1",
            "95dd218b0a254f3ab64b7aaa6d149a96",
            "d0879d7e226c4cd89d8c505227afeb18",
            "0aee1e81629e434c98f68f1ae5b88674",
            "d6de5c9b671e44bd91ba43ec02dbba74",
            "b3fac8a56f1745cbacbcf8dfa99e9e31",
            "7d4f46ca48d54e00a03db43f49d29516",
            "4c877ad4af254a72b22211d87233f648",
            "a59f3128de7b4de6b742827c9a896fed",
            "d3697834ad49470e9cb7a1c8912a3299",
            "dd006daed5204f59bb5b30f826d55fc5",
            "18767f360385438cb60bbf82d59d52f8",
            "2119753ebe3a40aaba3e4c80fdd3e989",
            "2da7e620402848b282be5934fd045855",
            "1800f78dd7714f9087ac461f081afda7",
            "340d4215bc8e428cb0780e13ce9284d0",
            "4cc7c0b4ecff4865bca0668dea271194",
            "57dec61aa1db4a02bb6bba69d0ae5a3b",
            "7e97051681a64ab8b12a503105da7743",
            "e61aa27c5f9c4ce0823fc859fb8f5179",
            "3eab8b6ed52847cebb99bdef10d88cb7",
            "636167b391a842b9a3237ab6994f364c",
            "a63b276f6eca4be7aad8a35f9e18a10d",
            "f370e9cce61b4b1e9b5739d536c303c8",
            "00c057db059c4544aa4c38d77961d623",
            "f03af83b8907415d85ff30ec38364b8f",
            "b624ea5d0b9e42709fc474a7613d890a",
            "28be073ec3fa47ff83acd9229e11d4dd",
            "8eb3434375184cc08786b89da13f3748",
            "b27a67b170154957bbb7b97e6f1e28d2",
            "42f01208d24b43fc99a9c5e290361134",
            "1f17fb20d9044c7684688f10dd31c695"
          ]
        },
        "id": "p5Ij9zrsHQmS",
        "outputId": "51ce1553-7cb3-4fe3-da0c-3e120810c49e"
      },
      "outputs": [
        {
          "output_type": "display_data",
          "data": {
            "text/plain": [
              "Downloading (…)ve/main/spiece.model:   0%|          | 0.00/371k [00:00<?, ?B/s]"
            ],
            "application/vnd.jupyter.widget-view+json": {
              "version_major": 2,
              "version_minor": 0,
              "model_id": "7cd5fd100c314bc0954f33fa12fdb3c9"
            }
          },
          "metadata": {}
        },
        {
          "output_type": "display_data",
          "data": {
            "text/plain": [
              "Downloading (…)cial_tokens_map.json:   0%|          | 0.00/244 [00:00<?, ?B/s]"
            ],
            "application/vnd.jupyter.widget-view+json": {
              "version_major": 2,
              "version_minor": 0,
              "model_id": "dd006daed5204f59bb5b30f826d55fc5"
            }
          },
          "metadata": {}
        },
        {
          "output_type": "display_data",
          "data": {
            "text/plain": [
              "Downloading (…)okenizer_config.json:   0%|          | 0.00/432 [00:00<?, ?B/s]"
            ],
            "application/vnd.jupyter.widget-view+json": {
              "version_major": 2,
              "version_minor": 0,
              "model_id": "636167b391a842b9a3237ab6994f364c"
            }
          },
          "metadata": {}
        },
        {
          "output_type": "stream",
          "name": "stderr",
          "text": [
            "The tokenizer class you load from this checkpoint is not the same type as the class this function is called from. It may result in unexpected tokenization. \n",
            "The tokenizer class you load from this checkpoint is 'XLNetTokenizer'. \n",
            "The class this function is called from is 'KoBERTTokenizer'.\n"
          ]
        },
        {
          "output_type": "execute_result",
          "data": {
            "text/plain": [
              "[2, 4958, 6855, 2046, 7088, 1050, 7843, 54, 3]"
            ]
          },
          "metadata": {},
          "execution_count": 6
        }
      ],
      "source": [
        "from kobert_tokenizer import KoBERTTokenizer\n",
        "tokenizer = KoBERTTokenizer.from_pretrained('skt/kobert-base-v1')\n",
        "tokenizer.encode(\"한국어 모델을 공유합니다.\")"
      ]
    },
    {
      "cell_type": "code",
      "execution_count": 7,
      "metadata": {
        "colab": {
          "base_uri": "https://localhost:8080/",
          "height": 99,
          "referenced_widgets": [
            "796adfb69f5a49e3baef2d982c63fec0",
            "8783cba0a1dd45959eaae7d5bef22ae4",
            "beb30e2ff4a040f9907310a1bca83898",
            "cef0fac2a60c454bb854c080fc32373e",
            "7884b8f29fa2464daacc867d4a39a14c",
            "e49008f279144523be473c390488d2c4",
            "ff67f5633e824b489570b414bf83985f",
            "503e50a1f6ec4a23b2d1f66babdbc7b9",
            "a0c327129af34a06a180e2d045eee587",
            "8a5299c61f144f209f7dfe1a3c1e27fb",
            "b98a97a413474557b4a5ed8c67c1fa88",
            "7c728657640042ceb185aecce30aed58",
            "f26a2bbf5c70428bb20211ac4741f064",
            "2564c11e79224803a4a4eea4633ea7a1",
            "1066c3a121e84eac98653e1b02ab547e",
            "cba750a35b7f4021a382afd81412b125",
            "0217b15b60784b9db6a2a252c36429e8",
            "07b52959cad44d14a3d0c8d44739fecd",
            "4a646955ebf64551b28725e764010b15",
            "20942ec777224bff809eb2a96496c4f5",
            "4f6d47288f39410da6b4ef2f7fa2d091",
            "00d435fd0c0b47da9d0aa451abc38833"
          ]
        },
        "id": "e3v0LedcHZOY",
        "outputId": "a8a6be16-8416-4529-81cb-d68b2153a619"
      },
      "outputs": [
        {
          "output_type": "display_data",
          "data": {
            "text/plain": [
              "Downloading (…)lve/main/config.json:   0%|          | 0.00/535 [00:00<?, ?B/s]"
            ],
            "application/vnd.jupyter.widget-view+json": {
              "version_major": 2,
              "version_minor": 0,
              "model_id": "796adfb69f5a49e3baef2d982c63fec0"
            }
          },
          "metadata": {}
        },
        {
          "output_type": "display_data",
          "data": {
            "text/plain": [
              "Downloading pytorch_model.bin:   0%|          | 0.00/369M [00:00<?, ?B/s]"
            ],
            "application/vnd.jupyter.widget-view+json": {
              "version_major": 2,
              "version_minor": 0,
              "model_id": "7c728657640042ceb185aecce30aed58"
            }
          },
          "metadata": {}
        },
        {
          "output_type": "execute_result",
          "data": {
            "text/plain": [
              "torch.Size([1, 768])"
            ]
          },
          "metadata": {},
          "execution_count": 7
        }
      ],
      "source": [
        "import torch\n",
        "from transformers import BertModel\n",
        "model = BertModel.from_pretrained('skt/kobert-base-v1')\n",
        "text = \"한국어 모델을 공유합니다.\"\n",
        "inputs = tokenizer.batch_encode_plus([text])\n",
        "out = model(input_ids = torch.tensor(inputs['input_ids']), attention_mask = torch.tensor(inputs['attention_mask']))\n",
        "out.pooler_output.shape"
      ]
    },
    {
      "cell_type": "code",
      "execution_count": 8,
      "metadata": {
        "id": "4P0XbXtzd5Bg"
      },
      "outputs": [],
      "source": [
        "def mean_pooling(model_output, attention_mask):\n",
        "    token_embeddings = model_output[0] #First element of model_output contains all token embeddings\n",
        "    input_mask_expanded = attention_mask.unsqueeze(-1).expand(token_embeddings.size()).float()\n",
        "    sum_embeddings = torch.sum(token_embeddings * input_mask_expanded, 1)\n",
        "    sum_mask = torch.clamp(input_mask_expanded.sum(1), min=1e-9)\n",
        "    return sum_embeddings / sum_mask"
      ]
    },
    {
      "cell_type": "code",
      "execution_count": 9,
      "metadata": {
        "colab": {
          "base_uri": "https://localhost:8080/"
        },
        "id": "Y3rszVQ5eHxb",
        "outputId": "864d32b2-8af9-4d84-aadc-c56f5a840f8c"
      },
      "outputs": [
        {
          "output_type": "execute_result",
          "data": {
            "text/plain": [
              "tensor([[ 3.6122e-02, -1.2337e-01, -7.5299e-03, -5.0620e+00,  1.6959e-01,\n",
              "          9.2553e-02, -2.8838e-01,  2.1198e-01, -6.3860e-01, -3.6451e-01,\n",
              "         -1.6556e-02,  1.8412e-01, -2.9757e-01,  5.1234e-02,  4.4390e-02,\n",
              "          2.3413e-01,  3.8918e-01, -2.7811e-02,  2.5196e-01, -1.6740e-01,\n",
              "         -5.0612e-02, -1.1393e-01, -5.8496e-02, -9.2304e-02, -3.3941e-01,\n",
              "          2.9963e-02, -6.9979e-02, -1.2118e-01, -1.7573e-01,  2.4531e-01,\n",
              "          1.6764e-01,  6.0146e-02, -1.3626e-01,  1.6598e-01,  1.2201e-01,\n",
              "          5.2110e-02, -3.8716e-02, -3.4096e-02,  2.7250e-01, -6.6029e-02,\n",
              "          2.2798e-01,  2.6542e-02,  3.8524e-01, -5.3627e-02,  9.2007e-02,\n",
              "          1.2872e-01, -9.4732e-02,  1.4018e-01,  4.4361e-02,  3.0786e-02,\n",
              "         -2.7000e-01,  2.5637e-02,  5.1933e-02,  1.9702e-01, -1.4610e-01,\n",
              "         -2.9428e-01,  1.8972e-01, -1.1122e-01, -2.5106e-01,  1.7953e-01,\n",
              "          1.1555e-01, -1.8627e-01,  1.9639e-02, -1.5012e-01,  6.5611e-02,\n",
              "          6.9550e-02,  1.3693e-01,  3.7249e-02,  1.2707e-01,  1.7489e-01,\n",
              "          2.8381e-02,  4.9623e-02,  5.2785e-02, -1.3274e-01, -2.2872e-02,\n",
              "         -8.6979e-02, -6.3248e-02,  1.1254e-01,  1.6109e-02,  2.9087e-01,\n",
              "         -7.3239e-02, -4.4025e-01,  9.3097e-02, -2.2340e-01, -8.6162e-02,\n",
              "         -2.2335e-01, -1.6449e-01,  1.5575e-01, -7.8003e-02, -7.2771e-03,\n",
              "         -1.6915e-01,  1.9745e-01, -1.1612e-02, -1.1961e-01, -3.2867e-01,\n",
              "         -1.9068e-02, -2.4621e-01, -1.1936e-01,  1.6411e-02,  1.4402e-01,\n",
              "         -1.1922e-01, -1.7634e-01, -1.2547e-01,  1.8491e-01,  1.6208e-01,\n",
              "          4.7314e-02, -8.1383e-02, -1.8510e-01,  4.0764e-01, -1.6657e-02,\n",
              "          4.4884e-02, -2.5980e-02, -8.8671e-02, -8.0369e-02,  2.1597e-01,\n",
              "         -4.9293e-02,  2.8827e-02,  1.0548e-01, -4.7310e-02, -3.8685e-01,\n",
              "          1.7745e-01,  3.3778e-01, -1.7458e-01, -1.0250e-01, -3.1610e-01,\n",
              "          7.8324e-01, -6.8798e-02, -5.5611e-02, -1.9606e-02,  1.2762e-01,\n",
              "          7.7113e-02, -1.3255e-01, -2.9018e-01, -3.6957e-01, -6.1915e-02,\n",
              "          1.3749e-01, -3.0074e-02,  6.3217e-02, -1.0883e-01,  1.4121e-01,\n",
              "         -2.8997e-01,  8.8951e-03, -7.7560e-02, -6.9581e-02, -1.3416e-01,\n",
              "          1.9145e-01, -7.1786e-02,  3.6176e-02,  2.3668e-02,  2.4855e-01,\n",
              "          1.1349e-01,  2.1670e-01, -4.9828e-03, -1.1835e-01, -1.7417e-01,\n",
              "         -6.3797e-03, -3.1115e-01,  6.0196e-02,  4.1974e-01,  3.7852e-01,\n",
              "         -1.4873e-02,  4.9262e-02, -1.5924e-01,  1.9790e-01,  4.3764e-04,\n",
              "         -8.9335e-02,  4.8388e-02,  1.5096e-01,  1.0230e-01,  1.0177e-01,\n",
              "         -2.8767e-02,  6.8951e-02, -3.9099e-02, -1.5925e-01,  8.8367e-03,\n",
              "          1.9727e-01,  1.4624e-01, -2.1771e-01,  8.3113e-02, -1.0773e-01,\n",
              "         -2.5941e-02, -6.9627e-02, -7.6886e-02, -2.5493e-01,  1.1402e-01,\n",
              "          2.1534e-01,  8.0322e-02, -1.6556e-01,  1.8601e-01, -3.7827e-01,\n",
              "         -2.8944e-02,  7.9397e-02,  5.8068e-01, -1.2991e-01, -6.2646e-02,\n",
              "         -4.6964e-01, -7.1887e-02,  3.3897e-01,  3.1871e-03,  2.4827e-01,\n",
              "          1.7981e-01,  9.3012e-02,  9.4858e-02,  1.2560e-01,  1.0659e-01,\n",
              "         -6.8331e-02,  7.8772e-02, -8.9867e-02, -9.8992e-02,  2.5889e-01,\n",
              "          3.0501e-02,  1.0360e-01,  3.3778e-02,  1.3618e-01, -8.8281e-02,\n",
              "          4.6892e-02, -2.3841e-03,  1.1054e-01,  4.9766e-04,  1.0308e-02,\n",
              "          9.2422e-02,  2.0410e-01,  1.6040e-01,  1.2850e-01,  3.3591e-01,\n",
              "          1.4984e-01, -8.7834e-02,  5.5424e-02, -2.1453e-01,  2.2814e-01,\n",
              "          7.0132e-02,  2.5283e-01, -2.0048e-01, -2.2065e-01, -4.5655e-02,\n",
              "          3.9346e-04, -1.2537e-01, -5.1443e-02, -6.2650e-02,  2.6932e-01,\n",
              "          1.1745e-01, -2.4594e-01, -3.5445e-02,  1.2503e-01, -2.6159e-02,\n",
              "          5.9731e-02,  1.0161e-01, -3.1395e-01,  4.3354e-02, -3.6410e-02,\n",
              "         -6.9868e-02,  4.2835e-01,  2.4747e-02, -1.6901e-01,  5.0470e-02,\n",
              "          1.0573e-01,  2.4999e-01,  4.4047e-02, -1.6779e-01, -4.5183e-01,\n",
              "         -1.1630e-02,  2.1769e-01,  3.6106e-02, -6.4885e-02,  1.3718e-01,\n",
              "          3.4609e-01, -6.8483e-02,  4.3865e-02,  2.5929e-02, -1.4002e-01,\n",
              "         -2.5098e-02,  4.5497e-02,  9.8795e-02, -1.2947e-01,  2.0625e-01,\n",
              "         -9.7411e-02,  2.6459e-01,  3.1212e-01, -4.4591e-02,  1.5240e-01,\n",
              "          9.9573e-03, -1.0041e-01,  1.2049e-03,  3.3939e-02,  1.6757e-02,\n",
              "         -3.0506e-01, -2.3984e-03, -1.9111e-01, -1.2798e-01,  1.1042e-01,\n",
              "          1.2100e-01, -5.3494e-02, -2.9628e-02, -1.7761e-01, -2.6085e-02,\n",
              "         -1.7864e-01, -3.4499e-02, -1.8143e-02,  2.5921e-01,  3.2724e-01,\n",
              "          1.1641e-02,  1.8828e-01,  1.9365e-01, -2.1117e-01, -2.3099e-01,\n",
              "          7.6287e-02,  1.6544e-01,  1.9790e-01,  1.2458e-01, -7.0036e-02,\n",
              "         -1.9039e-01, -2.3561e-01, -1.4182e-01, -1.2449e-01, -4.2487e-02,\n",
              "         -1.9737e-01, -1.0724e-01, -7.1708e-02, -2.7506e-01, -1.6035e-01,\n",
              "         -4.9418e-01,  1.0942e-01,  2.1066e-02,  1.7468e-01, -7.0547e-02,\n",
              "          1.0370e-01, -5.5671e-02,  8.8639e-02, -6.7913e-02,  2.3015e-02,\n",
              "          2.8542e-01, -2.3859e-01,  2.9688e-01, -2.2760e-01,  1.7945e-01,\n",
              "          1.5773e-01,  3.8548e-01,  2.5171e-01, -1.6348e-01, -9.9725e-02,\n",
              "         -6.0501e-02, -1.4254e-02, -7.4258e-02,  6.1506e-02,  1.7044e-02,\n",
              "          8.6794e-02,  1.7128e-01, -1.7371e-01, -3.2450e-01, -2.8540e-01,\n",
              "          4.8228e-02,  9.8390e-02,  2.6311e-01,  2.9140e-02, -8.4733e-02,\n",
              "         -1.4793e-01,  6.0129e-02,  1.0024e-01, -6.2842e-02, -2.4032e-01,\n",
              "         -6.3394e-02,  1.8848e-01,  1.5125e-01,  2.8660e-02,  5.7355e-02,\n",
              "         -5.7012e-02,  1.8499e-02, -1.3370e-01, -1.8834e-01, -3.7886e-01,\n",
              "          5.2965e-02,  1.7854e-02, -3.5073e-01,  2.6210e-01,  8.6249e-02,\n",
              "         -1.6694e-01, -5.2610e-02, -1.7227e-02,  1.9370e-01,  5.3525e-03,\n",
              "         -2.8279e-01, -1.6457e-01,  3.0180e-01, -3.5043e-02, -1.4666e-02,\n",
              "          2.8278e-01, -3.4426e-02,  6.4819e-02, -9.7580e-02, -1.2238e-01,\n",
              "         -2.8234e-01,  2.9573e-02,  1.4900e-01, -2.1553e-01, -2.2598e-03,\n",
              "          4.5968e-02,  4.2548e-02, -1.1805e-01,  1.5744e-02, -8.6636e-02,\n",
              "          5.8135e-02,  1.2771e-02, -1.4574e-01,  1.0882e-01,  6.2320e-02,\n",
              "          2.6045e-01, -1.0529e-01, -3.9610e-02,  1.5391e-01,  2.2514e-01,\n",
              "         -1.2094e-01, -5.1827e-02,  1.5046e-01, -2.4775e-01, -1.5142e-01,\n",
              "          2.4757e-01, -9.6028e-02,  1.4547e-02,  3.7898e-03, -6.5405e-02,\n",
              "          5.8735e-02,  1.1111e-01,  1.3618e-01, -1.0010e-01,  1.1419e-01,\n",
              "          5.4088e-03,  1.4545e-02,  3.5882e-02, -5.9805e-02,  1.2021e-01,\n",
              "          2.5201e-01, -4.8418e-02, -1.4604e-01,  1.0313e-02, -1.9442e-01,\n",
              "         -7.2151e-03,  2.7329e-02, -1.0492e-01,  1.3035e-01, -1.4119e-01,\n",
              "          6.8107e-02,  2.6116e-01, -2.2111e-01,  2.5502e-01, -2.4987e-01,\n",
              "          1.7844e-01, -3.4732e-01,  1.2432e-01, -2.1832e-01,  1.5049e-01,\n",
              "         -2.6194e-02,  2.4187e-01,  1.7238e-01,  2.7056e-02,  2.3148e-01,\n",
              "         -4.4711e-01,  2.0809e-01,  1.1168e-02,  3.2852e-01, -4.6632e-02,\n",
              "         -7.3646e-02,  1.2721e-01, -3.5584e-02, -3.5839e-01,  2.3869e-01,\n",
              "         -1.3661e-02,  8.2031e-02, -1.2950e-03, -4.6572e-02,  8.4488e-02,\n",
              "          1.4070e-01,  4.9535e-02,  7.6287e-02, -6.7027e-02, -6.5489e-02,\n",
              "          8.0506e-02, -1.7275e-01, -6.8819e-02, -3.9468e-02,  2.5823e-02,\n",
              "          1.6979e-01,  1.1550e-01, -1.2625e-01,  2.3934e-01,  2.0229e-01,\n",
              "          1.3146e-01,  6.7967e-02, -3.8641e-02, -7.0949e-02, -8.4820e-02,\n",
              "          6.8471e-02, -2.0705e-01, -2.4433e-01, -9.3227e-02, -6.5081e-03,\n",
              "         -9.9517e-02,  8.8715e-02, -1.2940e-01, -4.1876e-02,  2.6422e-02,\n",
              "         -4.2061e-03, -5.4598e-02, -3.5998e-02,  2.0038e-01, -5.9247e-03,\n",
              "         -2.0606e-01,  1.0721e-01, -2.3751e-01,  7.2642e-02,  1.6201e-01,\n",
              "         -1.7609e-01,  4.5347e-01, -2.3808e-01, -2.1376e-01, -1.6817e-02,\n",
              "          7.8965e-02, -5.8707e-02, -5.6051e-02, -9.0542e-03,  4.1672e-01,\n",
              "         -3.0663e-01,  1.1169e-01,  7.8631e-03,  2.5911e-02, -6.0243e-02,\n",
              "         -3.7758e-01, -1.2415e-01,  2.9910e-01, -3.6203e-01,  1.5233e-01,\n",
              "         -3.4082e-02, -1.5815e-02,  1.2568e-01, -2.9685e-01,  2.9434e-03,\n",
              "         -2.2068e-01, -1.0834e-01,  2.2085e-01, -1.4131e-01,  1.5279e-02,\n",
              "          1.7784e-01,  1.0158e-02, -6.8634e-02, -1.7554e-01,  1.4702e-02,\n",
              "         -3.2875e-02,  2.0635e-02, -1.9386e-01,  1.8251e-01, -9.7781e-05,\n",
              "         -1.2387e-01, -1.3265e-01, -5.3183e-02, -3.9520e-03, -9.7771e-02,\n",
              "          6.3776e-02, -6.5938e-02,  3.2776e-02,  1.0426e-01,  6.1983e-02,\n",
              "         -5.5618e-02,  1.9572e-01,  2.8020e-01, -2.6969e-01, -2.1055e-01,\n",
              "         -1.9108e-01,  1.0780e-01, -1.0789e-01,  7.6594e-02, -4.4588e-02,\n",
              "         -5.2811e-01,  3.1013e-01, -1.7297e-01, -1.7161e-01,  2.3785e-02,\n",
              "         -4.4921e-02,  1.0128e-02,  2.0603e-01,  2.6481e-02,  9.3951e-02,\n",
              "         -8.9565e-02, -1.2403e-01,  1.5120e-01,  7.2899e-02, -1.6289e-01,\n",
              "          1.7006e-01, -4.8682e-03,  1.9355e-02,  2.6234e-01,  3.2661e-01,\n",
              "         -3.9209e-01, -2.8678e-01,  9.6145e-02,  2.0400e-01, -2.9542e-02,\n",
              "         -2.1930e-01,  9.1980e-02,  1.1273e-01,  1.9696e-01, -6.8153e-02,\n",
              "         -1.1683e-01,  6.8286e-03, -2.2153e-01, -3.2971e-01, -9.4593e-03,\n",
              "         -3.6218e-02,  6.3498e-02,  3.3954e-01,  2.3626e-01,  4.7123e-02,\n",
              "         -2.4160e-02, -1.9611e-02,  4.5460e-01,  1.6043e-02, -1.8027e-01,\n",
              "         -2.0603e-02,  2.1235e-01,  3.6559e-02,  1.5677e-01, -2.6535e-01,\n",
              "         -1.6368e-01, -2.2503e-02,  5.3647e-02, -3.6292e-02, -1.5458e-01,\n",
              "          2.9230e-01, -3.1585e-02, -1.9662e-01, -1.4508e-02, -7.0456e-02,\n",
              "          5.0277e-02,  7.2753e-02,  2.0090e-01, -4.7274e-01,  1.5462e-01,\n",
              "         -2.0783e-01,  1.8561e-02,  9.9054e-02,  1.4205e-01,  6.1501e-03,\n",
              "          1.2908e-01,  1.0660e-01, -2.0401e-01,  3.7947e-02, -4.6194e-02,\n",
              "         -2.6118e-01,  2.9310e-01,  1.5142e-01, -8.4974e-02, -1.0163e-01,\n",
              "         -9.3290e-02,  4.6017e-01,  1.8446e-01,  3.9810e-02,  1.4994e-01,\n",
              "          1.0562e-01,  7.2310e-02,  1.0359e-02, -3.4432e-02,  1.7700e-01,\n",
              "          3.5395e-02,  8.0990e-02, -1.3211e-01, -1.7730e-01,  8.0429e-02,\n",
              "         -2.6407e-01,  2.8530e-01, -5.4384e-02, -2.1381e-01, -5.8085e-02,\n",
              "         -2.1719e-02, -8.2363e-02, -5.4849e-01, -1.7540e-02, -2.9576e-02,\n",
              "          2.8042e-02, -2.3853e-01,  1.8337e-01,  9.8607e-02, -8.6877e-02,\n",
              "         -1.7279e-01, -2.4424e-01, -3.0763e-01, -2.8374e-02, -2.7247e-01,\n",
              "         -1.1853e-01, -6.9702e-02,  1.1663e-02, -1.6529e-01, -8.3703e-03,\n",
              "          2.3536e-01,  7.5863e-02,  6.5566e-02,  2.0765e-01,  1.6499e-01,\n",
              "          1.2204e-01, -2.3268e-01, -1.6855e-01, -7.3955e-02,  2.0994e-02,\n",
              "         -6.3172e-02, -1.9418e-01, -6.6704e-02, -1.0465e-01, -3.5962e-01,\n",
              "         -1.2440e-01,  9.2793e-02, -1.1682e-01,  5.4823e-02, -4.3668e-02,\n",
              "         -1.1275e-01, -2.2965e-01,  3.1582e-01, -2.4291e-01, -2.1742e-01,\n",
              "         -1.6477e-01,  1.9057e-01,  1.4455e-01,  2.8789e-01,  1.0191e-01,\n",
              "         -1.8283e-01,  4.5508e-03,  1.1724e-01, -1.0976e-01,  1.8051e-01,\n",
              "         -4.6018e-02,  1.4767e-01, -6.1516e-02,  2.5052e-01, -1.1390e-01,\n",
              "         -1.9271e-01, -8.7972e-02,  1.2404e-01, -2.6065e-01, -9.2531e-02,\n",
              "         -7.3957e-02,  3.3453e-01, -5.0733e-02, -5.9959e-02,  9.5903e-02,\n",
              "         -1.4582e-01, -3.0808e-01, -2.3822e-01, -3.1125e-01,  2.8316e-01,\n",
              "         -1.1009e-01, -8.8721e-02,  1.4104e-01, -1.4001e-01, -1.9089e-01,\n",
              "          1.4181e-01, -6.2715e-02,  9.6712e-02,  2.4479e-01,  2.3049e-01,\n",
              "          1.0722e-01, -2.2742e-01,  1.2346e-02, -9.2299e-02, -1.0758e-01,\n",
              "         -3.4898e-02, -7.9986e-02, -3.7840e-01, -3.9246e-03,  4.0875e-02,\n",
              "         -1.1683e-01,  2.3108e-01,  8.0559e-02]], grad_fn=<DivBackward0>)"
            ]
          },
          "metadata": {},
          "execution_count": 9
        }
      ],
      "source": [
        "inputs = tokenizer.batch_encode_plus([text], return_tensors='pt')\n",
        "model_output = model(**inputs)\n",
        "mean_pooling(model_output, inputs['attention_mask'])"
      ]
    },
    {
      "cell_type": "code",
      "execution_count": 10,
      "metadata": {
        "id": "356YR2SlGvPN"
      },
      "outputs": [],
      "source": [
        "from tqdm import tqdm\n",
        "from sklearn.feature_extraction.text import CountVectorizer\n",
        "from bertopic import BERTopic\n",
        "import os\n",
        "import json"
      ]
    },
    {
      "cell_type": "code",
      "execution_count": 11,
      "metadata": {
        "id": "Zc1rxm9pGxjo"
      },
      "outputs": [],
      "source": [
        "import re\n",
        "\n",
        "cond = re.compile('[가-힣]+')\n",
        "\n",
        "def get_data(gallery):\n",
        "  result = []\n",
        "  for name in os.listdir(path='/content/drive/MyDrive/jolnon/' + gallery):\n",
        "    with open('/content/drive/MyDrive/jolnon/' + gallery + '/' + name, 'r', encoding='utf-8') as f:\n",
        "      data = json.load(f)\n",
        "      valid = []\n",
        "      for d in data['content'].split('\\n'):\n",
        "        res = []\n",
        "        for word in d.split(' '):\n",
        "          if cond.match(word) != None:\n",
        "            res.append(word)\n",
        "        d = ' '.join(res)\n",
        "        if d and not d.replace(' ', '').isdecimal():\n",
        "          valid.append(d)\n",
        "      result.append('\\n'.join([data['title']] + valid))\n",
        "  return result"
      ]
    },
    {
      "cell_type": "code",
      "execution_count": 37,
      "metadata": {
        "colab": {
          "base_uri": "https://localhost:8080/"
        },
        "id": "ATei8ItuKmZF",
        "outputId": "24a47c50-4e80-4c72-ce9e-df1a9ecb3d01"
      },
      "outputs": [
        {
          "output_type": "execute_result",
          "data": {
            "text/plain": [
              "['조주기능사 빈자리 신청 가능할려나...\\n이게 신청기한이 은근 빡세네...\\n애초에 이런거 안봐서 몰랐음\\n그래서 빈자리 신청 기한도 있는데\\n오픈하자 마자 신청하면 가능할려나?',\n",
              " '그냥 그렇네요\\n담에 마가리타나 해볼까',\n",
              " '타오바오 고수들 질문좀\\n결제 하려고 누르면 저렇게 문제있다고 뜨면서 결제대기페이지 가라고 함\\n근데 가서 또 결제 누르면 결제할 수 없는 상품이 있다고 뜨네\\n결제할 카드입력 하는곳도 없고 왜케어렵노',\n",
              " '칵갤 티키쟁이들아\\n머해먹음',\n",
              " '조주기능 필기교재 득템\\n살까말까 하다가 학교 도서관에 있길래 빌려옴 종강하면 공부해봐야지']"
            ]
          },
          "metadata": {},
          "execution_count": 37
        }
      ],
      "source": [
        "import random\n",
        "random.seed(42)\n",
        "\n",
        "dataset = [get_data('cock_tail'), get_data('brandy'), get_data('ulisul'), get_data('wine')]\n",
        "cocktail = []\n",
        "for data in dataset:\n",
        "  cocktail += data\n",
        "cocktail[:5]"
      ]
    },
    {
      "cell_type": "code",
      "execution_count": 38,
      "metadata": {
        "id": "M0dPRDdfZqYP"
      },
      "outputs": [],
      "source": [
        "class CustomTokenizer:\n",
        "  def __init__(self, tokenizer):\n",
        "    self.tokenizer = tokenizer\n",
        "  def __call__(self, target):\n",
        "    return self.tokenizer.tokenize(target)"
      ]
    },
    {
      "cell_type": "code",
      "execution_count": 39,
      "metadata": {
        "id": "a1JsDzPcLRc4"
      },
      "outputs": [],
      "source": [
        "custom_tokenizer = CustomTokenizer(tokenizer)\n",
        "vectorizer = CountVectorizer(tokenizer=custom_tokenizer, max_features=3000)"
      ]
    },
    {
      "cell_type": "code",
      "execution_count": 40,
      "metadata": {
        "id": "syQeD8HxLW0G"
      },
      "outputs": [],
      "source": [
        "# bertopic_model = BERTopic(embedding_model=model,\n",
        "#                  vectorizer_model=vectorizer,\n",
        "#                  nr_topics=50,\n",
        "#                  top_n_words=10,\n",
        "#                  calculate_probabilities=True)\n",
        "bertopic_model = BERTopic(language='multilingual',\n",
        "                          nr_topics=50,\n",
        "                          top_n_words=10,\n",
        "                          calculate_probabilities=True)"
      ]
    },
    {
      "cell_type": "code",
      "execution_count": 41,
      "metadata": {
        "id": "7gCLvC4pLn0Z"
      },
      "outputs": [],
      "source": [
        "topics, probs = bertopic_model.fit_transform(cocktail)"
      ]
    },
    {
      "cell_type": "code",
      "execution_count": 42,
      "metadata": {
        "colab": {
          "base_uri": "https://localhost:8080/",
          "height": 667
        },
        "id": "Vy6m2m8PLs3a",
        "outputId": "35f86a45-b8b4-4f0f-830c-efc9559a0cc5"
      },
      "outputs": [
        {
          "output_type": "display_data",
          "data": {
            "text/html": [
              "<html>\n",
              "<head><meta charset=\"utf-8\" /></head>\n",
              "<body>\n",
              "    <div>            <script src=\"https://cdnjs.cloudflare.com/ajax/libs/mathjax/2.7.5/MathJax.js?config=TeX-AMS-MML_SVG\"></script><script type=\"text/javascript\">if (window.MathJax && window.MathJax.Hub && window.MathJax.Hub.Config) {window.MathJax.Hub.Config({SVG: {font: \"STIX-Web\"}});}</script>                <script type=\"text/javascript\">window.PlotlyConfig = {MathJaxConfig: 'local'};</script>\n",
              "        <script src=\"https://cdn.plot.ly/plotly-2.18.2.min.js\"></script>                <div id=\"bddf5ee5-758a-43af-86b7-0797746e2e03\" class=\"plotly-graph-div\" style=\"height:650px; width:650px;\"></div>            <script type=\"text/javascript\">                                    window.PLOTLYENV=window.PLOTLYENV || {};                                    if (document.getElementById(\"bddf5ee5-758a-43af-86b7-0797746e2e03\")) {                    Plotly.newPlot(                        \"bddf5ee5-758a-43af-86b7-0797746e2e03\",                        [{\"customdata\":[[0,\"\\ub9e8\\ud558\\ud0c4 | \\ub9e8\\ud574\\ud2bc | \\ub098\\ub214\\ub9b4 | \\ubc1b\\uace0 | \\ub9e8\\ud558\\ud2bc\",22],[1,\"\\uc774\\ubbf8\\uc9c0 | \\uc21c\\uc11c | \\ub0b4\\ub9b4\\ub0b4\\ubc1b | \\ubc1b\\uace0 | \\uc0ac\\uc9c4\",120],[2,\"\\uc5bc\\uc74c | \\ud0c4\\uc0b0\\uc774 | \\uc5bc\\uc74c\\uc744 | \\uc5bc\\uc74c\\uc5d0 | \\ub354\\ube14\\uc2a4\\ud2b8\\ub808\\uc778\",22],[3,\"\\uc5bc\\uc74c | \\ud06c\\ub7ec\\uc26c\\ub4dc | \\uc5c6\\ub098 | \\uc778\\ud4e8\\uc9d5 | \\uce84\\ud30c\\ub9ac\",15],[4,\"\\uc2dc\\uc791\\uc774\\uc57c | \\ub098\\ubd80\\ud130 | \\ud558\\uc790\\uad6c | \\ubc84\\ubc88\\ucf6c | \\uc2a4\\ud0c0\\ud2b8\",12],[5,\"\\uc77c\\ubcf8 | \\uc11c\\uc6b8 | \\uacfc\\uc2e4\\ubbf8 | \\ud55c\\uad6d | \\uc218\\ub839\",83],[6,\"\\ud06c\\ub8e9 | \\ub0c9\\uc7a5\\uace0 | \\ubcf4\\uad00 | \\ub193\\uace0 | \\ub0c9\\uc7a5\",38],[7,\"\\uc5d0\\ubc18\\ub370 | \\uc70c\\ub9ac\\uc5c4\\uc2a4 | \\ub0b4\\uc220\\ub0b4\\ubc1b\\ub0b4\\ubc1b\\ub0b4\\ubc1b\\ub0b4\\ubc1b\\ub0b4\\ubc1b\\ub0b4\\ubc1b | \\ub0b4\\uc220\\ub0b4\\ubc1b\\ub0b4\\ubc1b\\ub0b4\\ubc1b\\ub0b4\\ubc1b\\ub0b4\\ubc1b\\ub0b4\\ubc1b\\ub0b4\\ubc1b | \\ub0b4\\uc220\\ub0b4\\ubc1b\\ub0b4\\ubc1b\\ub0b4\\ubc1b\\ub0b4\\ubc1b\\ub0b4\\ubc1b\\ub0b4\\ubc1b\\ub0b4\\ubc1b\\ub0b4\\ubc1b\\ub0b4\\ubc1b\\ub0b4\\ubc1b\\ub0b4\\ubc1b\\ub0b4\\ubc1b\\ub0b4\\ubc1b\",16],[8,\"\\ucee4\\ud53c | \\uc0ac\\uace0 | vs\\ud560\\uac70\\uba74 | \\uc7a5\\ube44\\ubcd1\\uc0dd\\uae30\\ub124 | \\uc300\\uac70\\uba74\",11],[9,\"\\uc640\\uc778 | \\ub108\\ubb34 | \\uac19\\uc740 | \\uc640\\uc778\\uc744 | \\uc88b\\uc740\",960],[10,\"\\uac00\\uaca9 | \\uac00\\uaca9\\uc740 | \\uac00\\uaca9\\uc774 | \\ubaa8\\uc2a4\\uce74\\ud1a0 | \\uadf8\\ub0e5\",299],[11,\"\\uc559\\uace0\\uc544\\ub85c\\ub9c8\\ud2f1 | \\uc640\\ud148 | \\ub808\\ubaac\\ud544 | \\uce60\\uba74\\uc870 | \\ub9e8\\ud558\\ud0c4\",11],[12,\"\\ucd94\\ucc9c | \\uacfc\\ucc9c | \\uac08\\ub9cc\\ud55c | \\uc5ec\\ud589\\uae30 | \\uba87\\uacf3\",12],[13,\"\\uc774\\uac70 | \\uc774\\uc57c | \\uc788\\uc74c | \\uadf8\\uac83\\uc740 | \\uc624\\ub298\",355],[14,\"vs | \\uce75\\ud558\\ud558\\ud558 | \\uce75\\ud558\\ud56b | \\ub514\\uc2a4\\ud06c | \\ubbf8\\ub3c4\\ub9ac\",46],[15,\"\\uad6c\\ub9ac\\uc120 | \\uce7c\\ub0a0 | \\ud53d\\uc5c5\\ud588\\ub294\\ub370 | \\ubc1c\\ud6a8\\ud1b5 | \\ubc00\\ub0a9\",17],[16,\"\\ub098\\ud30c | \\uc544\\ub974\\ud5e8\\ud2f0\\ub178 | \\ub123\\ub294\\uc9c0 | \\ubc14\\ub098\\ub098\\ucf55\\uc740 | \\uc815\\uae00\\ubc84\\ub4dc\",21],[17,\"\\ub07c\\uc548\\ud2f0 | \\ud53c\\uc624 | \\ub108\\ub08c\\uc774 | \\ub3c4\\uba54\\ub2c8\\ucf54 | \\uccb4\\uc0ac\\ub808\",14],[18,\"\\ub204\\ub8fd\\uc9c0\\uc0ac\\ud0d5 | \\ub9db\\uc788\\ub124 | \\uc2dc\\ub7fd | \\ub9db\\uc788\\uc74c | \\uc774\\uac70\",88],[19,\"\\uc774\\ub9c8\\ud2b8 | \\ubc31\\ud654\\uc810 | \\uc9c8\\ub800\\ub2e4 | \\uc548\\ub4e4\\uc5b4\\uac00\\uc11c | \\uac1c\\uc27d\\uc0c1\\ub543\\uc950\\ub124\",12],[20,\"\\uc608\\uc058\\uac8c | \\ubb34\\ud654\\uacfc | \\ucf54\\ub974\\ud06c | 2\\uc2dc\\uac04\\ucc28 | \\uc790\\ub77c\\uc11c\",22],[21,\"\\uc640\\uc778 | \\ucd94\\ucc9c\\ud574\\uc8fc\\uc0bc | \\ubb3b\\uc9c0\\ub9c8 | \\uc548\\uac00\\uac8c | \\ud640\\uc9dd\",33],[22,\"\\uc139\\uc2a4 | \\uc139\\uc2a4\\uc911 | crison | \\uc774\\uc548\\ucc3d | \\uc2a4\\ud398\\uc15c\\ubc30\\uce58\",11],[23,\"\\ud0c0\\uba74 | \\ub053\\uc778\\ub2e4 | \\uc0dd\\ud06c\\ub9bc | \\ub9c8\\ub974\\uc0ac\\ub124 | \\ub9db\\uc788\\uc73c\\uba74\",30],[24,\"\\ub9e5\\uc8fc | \\ubc1b\\uace0 | \\ucf54\\uc575\\ud2b8\\ub85c\\ub294 | \\uce75\\ud14c\\uc77c | \\uac10\\ud64d\\ub85c\",33],[25,\"\\uc640\\uc778\\ube44\\ub4dc | \\ubc1b\\uace0 | \\ub098\\ub214\\ub9b4 | 1996 | \\ubd80\\ub098\\ud558\\ubca4\",22],[26,\"\\uc5cc\\u314b\\u314b\\u314b\\u314b\\u314b\\u314b\\u314b\\u314b\\u314b\\u314b\\u314b\\u314b\\u314b\\u314b\\u314b\\u314b\\u314b\\u314b\\u314b\\u314b\\u314b\\u314b\\u314b\\u314b\\u314b | \\uc2a4\\ub9e4\\uc744 | \\uc5cc\\u314b\\u314b\\u314b\\u314b\\u314b\\u314b\\u314b\\u314b\\u314b\\u314b\\u314b\\u314b\\u314b\\u314b\\u314b\\u314b\\u314b\\u314b\\u314b\\u314b\\u314b | 40\\uc0bc | \\ubd88\\ub81bvs\\ubb3c\\ub9c8\\uc6b0\\uc2a4\",29],[27,\"\\uc624\\ub290\\ub808 | \\uc624\\ub178\\ub808\\uc785\\uace0 | 139\\uc5d0 | \\uc0ad\\uc81c\\ud568 | \\ud648\\ubc142\",17],[28,\"\\ud398\\uc774\\ubc31 | \\ud558\\ub294\\ub370 | \\ud574\\uc918 | \\ub9cc\\ud22c\\uc544\\ub178 | \\uc5b4\\ub5bb\\uac8c\",69],[29,\"\\uba54\\uc988\\uce7c | \\u314b\\u314b | \\uc9c4\\ud53c\\uc988 | \\uc21c\\uc11c | \\uc774\\ubbf8\\uc9c0\",85],[30,\"\\ubc1b\\uace0 | \\ub098\\ub214\\ub9b4 | \\ub2e4\\uc774\\ud0a4\\ub9ac | \\uc9c4\\ud1a0\\ub2c9 | \\ud558\\uc774\\ubcfc\",57],[31,\"\\ub0b4\\uc220\\ub0b4\\ubc1b | \\uc18c\\ub2e4 | \\ubca0\\ub974\\ubb47 | \\ub0b4\\ub9b4\\ub0b4\\ubc1b | \\ubc1b\\uace0\",23],[32,\"\\ub0b4\\uc220\\ub0b4\\ubc1b | \\ub0b4\\uc220\\ub0b4\\ubc1b\\ub0b4\\ubc1b\\ub0b4\\ubc1b | \\ubca0\\ub974\\ubb47\\uc18c\\ub2e4 | \\ub0b4\\uc220\\ub0b4\\ubc1b\\ub0b4\\ubc1b | \\ud5f9\\uad70\",15],[33,\"\\ubc1b\\uace0 | \\ub098\\ub214\\ub9b4 | \\ud648\\ud150\\ub354 | \\ubca0\\ub974\\ubb47\\uc18c\\ub2e4\\ubc1b\\uace0 | \\ub0b4\\ub9b4\\ub0b4\\ubc1b\",43],[34,\"\\uafe8\\uc74c | \\ubaa8\\ub974\\uaca0\\uc73c\\uba74 | \\ub9db\\uc787\\uc74c | \\ub2e4\\ub978\\uc9c0 | \\ud55c\\ub2ec\",47],[35,\"\\ubabb\\uac10 | \\ucf54\\uc5d1\\uc2a4 | \\ud3c9\\uc77c\\uc5d0 | \\uce74\\ud1a1 | \\uc5b4\\ub5b0\",36],[36,\"\\ud574\\ubcfc\\uae4c | \\uc2dc\\ubc14 | \\uc0ac\\uc81c\\ub77d | \\ub098\\ub214\\ub9b4 | \\uc874\\ub098\",46],[37,\"\\uc0b4\\uae4c | \\uc81c\\ubc1c | \\uc62c\\uc2a4\\ud30c\\uc774\\uc2a4 | \\ud558\\ub098 | \\uc368\\uc57c\\ub300\\ub294\\ub370\",38]],\"hovertemplate\":\"<b>Topic %{customdata[0]}</b><br>%{customdata[1]}<br>Size: %{customdata[2]}\",\"legendgroup\":\"\",\"marker\":{\"color\":\"#B0BEC5\",\"size\":[22,120,22,15,12,83,38,16,11,960,299,11,12,355,46,17,21,14,88,12,22,33,11,30,33,22,29,17,69,85,57,23,15,43,47,36,46,38],\"sizemode\":\"area\",\"sizeref\":0.6,\"symbol\":\"circle\",\"line\":{\"color\":\"DarkSlateGrey\",\"width\":2}},\"mode\":\"markers\",\"name\":\"\",\"orientation\":\"v\",\"showlegend\":false,\"x\":[-5.139370441436768,-5.230588912963867,-3.986555814743042,-3.7471837997436523,-5.982913494110107,-1.940137267112732,1.848143458366394,-4.259528160095215,12.865242004394531,13.039684295654297,12.807801246643066,12.9055757522583,-1.8043735027313232,-5.967509746551514,-4.913870811462402,1.8489011526107788,12.926454544067383,12.56157112121582,12.798579216003418,-2.3337440490722656,-4.9627814292907715,1.1482523679733276,-6.212013244628906,-3.5417871475219727,1.1473543643951416,-2.9265100955963135,-3.767509937286377,-4.871362686157227,-3.121469259262085,-3.0059804916381836,-4.924955368041992,-4.114854335784912,-4.463692665100098,-4.732720375061035,-4.921911239624023,-4.96652364730835,-5.80600643157959,-5.2340989112854],\"xaxis\":\"x\",\"y\":[-3.863400936126709,14.263786315917969,10.076299667358398,10.154182434082031,-4.049675464630127,11.18501091003418,5.937620639801025,13.5671968460083,12.87338638305664,12.31997299194336,11.400594711303711,12.244026184082031,11.27967643737793,-3.809323787689209,14.50450611114502,5.936592102050781,11.579451560974121,11.676532745361328,12.779520034790039,11.115172386169434,-3.5918335914611816,22.608631134033203,-4.219470500946045,10.291991233825684,22.60629653930664,11.159341812133789,12.013257026672363,13.495440483093262,10.91062068939209,11.149642944335938,14.146443367004395,12.45534610748291,13.354682922363281,13.287056922912598,-4.703268051147461,-4.477313995361328,-3.9588286876678467,-3.9649274349212646],\"yaxis\":\"y\",\"type\":\"scatter\"}],                        {\"template\":{\"data\":{\"barpolar\":[{\"marker\":{\"line\":{\"color\":\"white\",\"width\":0.5},\"pattern\":{\"fillmode\":\"overlay\",\"size\":10,\"solidity\":0.2}},\"type\":\"barpolar\"}],\"bar\":[{\"error_x\":{\"color\":\"rgb(36,36,36)\"},\"error_y\":{\"color\":\"rgb(36,36,36)\"},\"marker\":{\"line\":{\"color\":\"white\",\"width\":0.5},\"pattern\":{\"fillmode\":\"overlay\",\"size\":10,\"solidity\":0.2}},\"type\":\"bar\"}],\"carpet\":[{\"aaxis\":{\"endlinecolor\":\"rgb(36,36,36)\",\"gridcolor\":\"white\",\"linecolor\":\"white\",\"minorgridcolor\":\"white\",\"startlinecolor\":\"rgb(36,36,36)\"},\"baxis\":{\"endlinecolor\":\"rgb(36,36,36)\",\"gridcolor\":\"white\",\"linecolor\":\"white\",\"minorgridcolor\":\"white\",\"startlinecolor\":\"rgb(36,36,36)\"},\"type\":\"carpet\"}],\"choropleth\":[{\"colorbar\":{\"outlinewidth\":1,\"tickcolor\":\"rgb(36,36,36)\",\"ticks\":\"outside\"},\"type\":\"choropleth\"}],\"contourcarpet\":[{\"colorbar\":{\"outlinewidth\":1,\"tickcolor\":\"rgb(36,36,36)\",\"ticks\":\"outside\"},\"type\":\"contourcarpet\"}],\"contour\":[{\"colorbar\":{\"outlinewidth\":1,\"tickcolor\":\"rgb(36,36,36)\",\"ticks\":\"outside\"},\"colorscale\":[[0.0,\"#440154\"],[0.1111111111111111,\"#482878\"],[0.2222222222222222,\"#3e4989\"],[0.3333333333333333,\"#31688e\"],[0.4444444444444444,\"#26828e\"],[0.5555555555555556,\"#1f9e89\"],[0.6666666666666666,\"#35b779\"],[0.7777777777777778,\"#6ece58\"],[0.8888888888888888,\"#b5de2b\"],[1.0,\"#fde725\"]],\"type\":\"contour\"}],\"heatmapgl\":[{\"colorbar\":{\"outlinewidth\":1,\"tickcolor\":\"rgb(36,36,36)\",\"ticks\":\"outside\"},\"colorscale\":[[0.0,\"#440154\"],[0.1111111111111111,\"#482878\"],[0.2222222222222222,\"#3e4989\"],[0.3333333333333333,\"#31688e\"],[0.4444444444444444,\"#26828e\"],[0.5555555555555556,\"#1f9e89\"],[0.6666666666666666,\"#35b779\"],[0.7777777777777778,\"#6ece58\"],[0.8888888888888888,\"#b5de2b\"],[1.0,\"#fde725\"]],\"type\":\"heatmapgl\"}],\"heatmap\":[{\"colorbar\":{\"outlinewidth\":1,\"tickcolor\":\"rgb(36,36,36)\",\"ticks\":\"outside\"},\"colorscale\":[[0.0,\"#440154\"],[0.1111111111111111,\"#482878\"],[0.2222222222222222,\"#3e4989\"],[0.3333333333333333,\"#31688e\"],[0.4444444444444444,\"#26828e\"],[0.5555555555555556,\"#1f9e89\"],[0.6666666666666666,\"#35b779\"],[0.7777777777777778,\"#6ece58\"],[0.8888888888888888,\"#b5de2b\"],[1.0,\"#fde725\"]],\"type\":\"heatmap\"}],\"histogram2dcontour\":[{\"colorbar\":{\"outlinewidth\":1,\"tickcolor\":\"rgb(36,36,36)\",\"ticks\":\"outside\"},\"colorscale\":[[0.0,\"#440154\"],[0.1111111111111111,\"#482878\"],[0.2222222222222222,\"#3e4989\"],[0.3333333333333333,\"#31688e\"],[0.4444444444444444,\"#26828e\"],[0.5555555555555556,\"#1f9e89\"],[0.6666666666666666,\"#35b779\"],[0.7777777777777778,\"#6ece58\"],[0.8888888888888888,\"#b5de2b\"],[1.0,\"#fde725\"]],\"type\":\"histogram2dcontour\"}],\"histogram2d\":[{\"colorbar\":{\"outlinewidth\":1,\"tickcolor\":\"rgb(36,36,36)\",\"ticks\":\"outside\"},\"colorscale\":[[0.0,\"#440154\"],[0.1111111111111111,\"#482878\"],[0.2222222222222222,\"#3e4989\"],[0.3333333333333333,\"#31688e\"],[0.4444444444444444,\"#26828e\"],[0.5555555555555556,\"#1f9e89\"],[0.6666666666666666,\"#35b779\"],[0.7777777777777778,\"#6ece58\"],[0.8888888888888888,\"#b5de2b\"],[1.0,\"#fde725\"]],\"type\":\"histogram2d\"}],\"histogram\":[{\"marker\":{\"line\":{\"color\":\"white\",\"width\":0.6}},\"type\":\"histogram\"}],\"mesh3d\":[{\"colorbar\":{\"outlinewidth\":1,\"tickcolor\":\"rgb(36,36,36)\",\"ticks\":\"outside\"},\"type\":\"mesh3d\"}],\"parcoords\":[{\"line\":{\"colorbar\":{\"outlinewidth\":1,\"tickcolor\":\"rgb(36,36,36)\",\"ticks\":\"outside\"}},\"type\":\"parcoords\"}],\"pie\":[{\"automargin\":true,\"type\":\"pie\"}],\"scatter3d\":[{\"line\":{\"colorbar\":{\"outlinewidth\":1,\"tickcolor\":\"rgb(36,36,36)\",\"ticks\":\"outside\"}},\"marker\":{\"colorbar\":{\"outlinewidth\":1,\"tickcolor\":\"rgb(36,36,36)\",\"ticks\":\"outside\"}},\"type\":\"scatter3d\"}],\"scattercarpet\":[{\"marker\":{\"colorbar\":{\"outlinewidth\":1,\"tickcolor\":\"rgb(36,36,36)\",\"ticks\":\"outside\"}},\"type\":\"scattercarpet\"}],\"scattergeo\":[{\"marker\":{\"colorbar\":{\"outlinewidth\":1,\"tickcolor\":\"rgb(36,36,36)\",\"ticks\":\"outside\"}},\"type\":\"scattergeo\"}],\"scattergl\":[{\"marker\":{\"colorbar\":{\"outlinewidth\":1,\"tickcolor\":\"rgb(36,36,36)\",\"ticks\":\"outside\"}},\"type\":\"scattergl\"}],\"scattermapbox\":[{\"marker\":{\"colorbar\":{\"outlinewidth\":1,\"tickcolor\":\"rgb(36,36,36)\",\"ticks\":\"outside\"}},\"type\":\"scattermapbox\"}],\"scatterpolargl\":[{\"marker\":{\"colorbar\":{\"outlinewidth\":1,\"tickcolor\":\"rgb(36,36,36)\",\"ticks\":\"outside\"}},\"type\":\"scatterpolargl\"}],\"scatterpolar\":[{\"marker\":{\"colorbar\":{\"outlinewidth\":1,\"tickcolor\":\"rgb(36,36,36)\",\"ticks\":\"outside\"}},\"type\":\"scatterpolar\"}],\"scatter\":[{\"fillpattern\":{\"fillmode\":\"overlay\",\"size\":10,\"solidity\":0.2},\"type\":\"scatter\"}],\"scatterternary\":[{\"marker\":{\"colorbar\":{\"outlinewidth\":1,\"tickcolor\":\"rgb(36,36,36)\",\"ticks\":\"outside\"}},\"type\":\"scatterternary\"}],\"surface\":[{\"colorbar\":{\"outlinewidth\":1,\"tickcolor\":\"rgb(36,36,36)\",\"ticks\":\"outside\"},\"colorscale\":[[0.0,\"#440154\"],[0.1111111111111111,\"#482878\"],[0.2222222222222222,\"#3e4989\"],[0.3333333333333333,\"#31688e\"],[0.4444444444444444,\"#26828e\"],[0.5555555555555556,\"#1f9e89\"],[0.6666666666666666,\"#35b779\"],[0.7777777777777778,\"#6ece58\"],[0.8888888888888888,\"#b5de2b\"],[1.0,\"#fde725\"]],\"type\":\"surface\"}],\"table\":[{\"cells\":{\"fill\":{\"color\":\"rgb(237,237,237)\"},\"line\":{\"color\":\"white\"}},\"header\":{\"fill\":{\"color\":\"rgb(217,217,217)\"},\"line\":{\"color\":\"white\"}},\"type\":\"table\"}]},\"layout\":{\"annotationdefaults\":{\"arrowhead\":0,\"arrowwidth\":1},\"autotypenumbers\":\"strict\",\"coloraxis\":{\"colorbar\":{\"outlinewidth\":1,\"tickcolor\":\"rgb(36,36,36)\",\"ticks\":\"outside\"}},\"colorscale\":{\"diverging\":[[0.0,\"rgb(103,0,31)\"],[0.1,\"rgb(178,24,43)\"],[0.2,\"rgb(214,96,77)\"],[0.3,\"rgb(244,165,130)\"],[0.4,\"rgb(253,219,199)\"],[0.5,\"rgb(247,247,247)\"],[0.6,\"rgb(209,229,240)\"],[0.7,\"rgb(146,197,222)\"],[0.8,\"rgb(67,147,195)\"],[0.9,\"rgb(33,102,172)\"],[1.0,\"rgb(5,48,97)\"]],\"sequential\":[[0.0,\"#440154\"],[0.1111111111111111,\"#482878\"],[0.2222222222222222,\"#3e4989\"],[0.3333333333333333,\"#31688e\"],[0.4444444444444444,\"#26828e\"],[0.5555555555555556,\"#1f9e89\"],[0.6666666666666666,\"#35b779\"],[0.7777777777777778,\"#6ece58\"],[0.8888888888888888,\"#b5de2b\"],[1.0,\"#fde725\"]],\"sequentialminus\":[[0.0,\"#440154\"],[0.1111111111111111,\"#482878\"],[0.2222222222222222,\"#3e4989\"],[0.3333333333333333,\"#31688e\"],[0.4444444444444444,\"#26828e\"],[0.5555555555555556,\"#1f9e89\"],[0.6666666666666666,\"#35b779\"],[0.7777777777777778,\"#6ece58\"],[0.8888888888888888,\"#b5de2b\"],[1.0,\"#fde725\"]]},\"colorway\":[\"#1F77B4\",\"#FF7F0E\",\"#2CA02C\",\"#D62728\",\"#9467BD\",\"#8C564B\",\"#E377C2\",\"#7F7F7F\",\"#BCBD22\",\"#17BECF\"],\"font\":{\"color\":\"rgb(36,36,36)\"},\"geo\":{\"bgcolor\":\"white\",\"lakecolor\":\"white\",\"landcolor\":\"white\",\"showlakes\":true,\"showland\":true,\"subunitcolor\":\"white\"},\"hoverlabel\":{\"align\":\"left\"},\"hovermode\":\"closest\",\"mapbox\":{\"style\":\"light\"},\"paper_bgcolor\":\"white\",\"plot_bgcolor\":\"white\",\"polar\":{\"angularaxis\":{\"gridcolor\":\"rgb(232,232,232)\",\"linecolor\":\"rgb(36,36,36)\",\"showgrid\":false,\"showline\":true,\"ticks\":\"outside\"},\"bgcolor\":\"white\",\"radialaxis\":{\"gridcolor\":\"rgb(232,232,232)\",\"linecolor\":\"rgb(36,36,36)\",\"showgrid\":false,\"showline\":true,\"ticks\":\"outside\"}},\"scene\":{\"xaxis\":{\"backgroundcolor\":\"white\",\"gridcolor\":\"rgb(232,232,232)\",\"gridwidth\":2,\"linecolor\":\"rgb(36,36,36)\",\"showbackground\":true,\"showgrid\":false,\"showline\":true,\"ticks\":\"outside\",\"zeroline\":false,\"zerolinecolor\":\"rgb(36,36,36)\"},\"yaxis\":{\"backgroundcolor\":\"white\",\"gridcolor\":\"rgb(232,232,232)\",\"gridwidth\":2,\"linecolor\":\"rgb(36,36,36)\",\"showbackground\":true,\"showgrid\":false,\"showline\":true,\"ticks\":\"outside\",\"zeroline\":false,\"zerolinecolor\":\"rgb(36,36,36)\"},\"zaxis\":{\"backgroundcolor\":\"white\",\"gridcolor\":\"rgb(232,232,232)\",\"gridwidth\":2,\"linecolor\":\"rgb(36,36,36)\",\"showbackground\":true,\"showgrid\":false,\"showline\":true,\"ticks\":\"outside\",\"zeroline\":false,\"zerolinecolor\":\"rgb(36,36,36)\"}},\"shapedefaults\":{\"fillcolor\":\"black\",\"line\":{\"width\":0},\"opacity\":0.3},\"ternary\":{\"aaxis\":{\"gridcolor\":\"rgb(232,232,232)\",\"linecolor\":\"rgb(36,36,36)\",\"showgrid\":false,\"showline\":true,\"ticks\":\"outside\"},\"baxis\":{\"gridcolor\":\"rgb(232,232,232)\",\"linecolor\":\"rgb(36,36,36)\",\"showgrid\":false,\"showline\":true,\"ticks\":\"outside\"},\"bgcolor\":\"white\",\"caxis\":{\"gridcolor\":\"rgb(232,232,232)\",\"linecolor\":\"rgb(36,36,36)\",\"showgrid\":false,\"showline\":true,\"ticks\":\"outside\"}},\"title\":{\"x\":0.05},\"xaxis\":{\"automargin\":true,\"gridcolor\":\"rgb(232,232,232)\",\"linecolor\":\"rgb(36,36,36)\",\"showgrid\":false,\"showline\":true,\"ticks\":\"outside\",\"title\":{\"standoff\":15},\"zeroline\":false,\"zerolinecolor\":\"rgb(36,36,36)\"},\"yaxis\":{\"automargin\":true,\"gridcolor\":\"rgb(232,232,232)\",\"linecolor\":\"rgb(36,36,36)\",\"showgrid\":false,\"showline\":true,\"ticks\":\"outside\",\"title\":{\"standoff\":15},\"zeroline\":false,\"zerolinecolor\":\"rgb(36,36,36)\"}}},\"xaxis\":{\"anchor\":\"y\",\"domain\":[0.0,1.0],\"title\":{\"text\":\"\"},\"visible\":false,\"range\":[-7.143815231323242,14.995636940002441]},\"yaxis\":{\"anchor\":\"x\",\"domain\":[0.0,1.0],\"title\":{\"text\":\"\"},\"visible\":false,\"range\":[-5.40875825881958,25.999925804138183]},\"legend\":{\"tracegroupgap\":0,\"itemsizing\":\"constant\"},\"margin\":{\"t\":60},\"title\":{\"font\":{\"size\":22,\"color\":\"Black\"},\"text\":\"<b>Intertopic Distance Map</b>\",\"y\":0.95,\"x\":0.5,\"xanchor\":\"center\",\"yanchor\":\"top\"},\"hoverlabel\":{\"font\":{\"size\":16,\"family\":\"Rockwell\"},\"bgcolor\":\"white\"},\"width\":650,\"height\":650,\"sliders\":[{\"active\":0,\"pad\":{\"t\":50},\"steps\":[{\"args\":[{\"marker.color\":[[\"red\",\"#B0BEC5\",\"#B0BEC5\",\"#B0BEC5\",\"#B0BEC5\",\"#B0BEC5\",\"#B0BEC5\",\"#B0BEC5\",\"#B0BEC5\",\"#B0BEC5\",\"#B0BEC5\",\"#B0BEC5\",\"#B0BEC5\",\"#B0BEC5\",\"#B0BEC5\",\"#B0BEC5\",\"#B0BEC5\",\"#B0BEC5\",\"#B0BEC5\",\"#B0BEC5\",\"#B0BEC5\",\"#B0BEC5\",\"#B0BEC5\",\"#B0BEC5\",\"#B0BEC5\",\"#B0BEC5\",\"#B0BEC5\",\"#B0BEC5\",\"#B0BEC5\",\"#B0BEC5\",\"#B0BEC5\",\"#B0BEC5\",\"#B0BEC5\",\"#B0BEC5\",\"#B0BEC5\",\"#B0BEC5\",\"#B0BEC5\",\"#B0BEC5\"]]}],\"label\":\"Topic 0\",\"method\":\"update\"},{\"args\":[{\"marker.color\":[[\"#B0BEC5\",\"red\",\"#B0BEC5\",\"#B0BEC5\",\"#B0BEC5\",\"#B0BEC5\",\"#B0BEC5\",\"#B0BEC5\",\"#B0BEC5\",\"#B0BEC5\",\"#B0BEC5\",\"#B0BEC5\",\"#B0BEC5\",\"#B0BEC5\",\"#B0BEC5\",\"#B0BEC5\",\"#B0BEC5\",\"#B0BEC5\",\"#B0BEC5\",\"#B0BEC5\",\"#B0BEC5\",\"#B0BEC5\",\"#B0BEC5\",\"#B0BEC5\",\"#B0BEC5\",\"#B0BEC5\",\"#B0BEC5\",\"#B0BEC5\",\"#B0BEC5\",\"#B0BEC5\",\"#B0BEC5\",\"#B0BEC5\",\"#B0BEC5\",\"#B0BEC5\",\"#B0BEC5\",\"#B0BEC5\",\"#B0BEC5\",\"#B0BEC5\"]]}],\"label\":\"Topic 1\",\"method\":\"update\"},{\"args\":[{\"marker.color\":[[\"#B0BEC5\",\"#B0BEC5\",\"red\",\"#B0BEC5\",\"#B0BEC5\",\"#B0BEC5\",\"#B0BEC5\",\"#B0BEC5\",\"#B0BEC5\",\"#B0BEC5\",\"#B0BEC5\",\"#B0BEC5\",\"#B0BEC5\",\"#B0BEC5\",\"#B0BEC5\",\"#B0BEC5\",\"#B0BEC5\",\"#B0BEC5\",\"#B0BEC5\",\"#B0BEC5\",\"#B0BEC5\",\"#B0BEC5\",\"#B0BEC5\",\"#B0BEC5\",\"#B0BEC5\",\"#B0BEC5\",\"#B0BEC5\",\"#B0BEC5\",\"#B0BEC5\",\"#B0BEC5\",\"#B0BEC5\",\"#B0BEC5\",\"#B0BEC5\",\"#B0BEC5\",\"#B0BEC5\",\"#B0BEC5\",\"#B0BEC5\",\"#B0BEC5\"]]}],\"label\":\"Topic 2\",\"method\":\"update\"},{\"args\":[{\"marker.color\":[[\"#B0BEC5\",\"#B0BEC5\",\"#B0BEC5\",\"red\",\"#B0BEC5\",\"#B0BEC5\",\"#B0BEC5\",\"#B0BEC5\",\"#B0BEC5\",\"#B0BEC5\",\"#B0BEC5\",\"#B0BEC5\",\"#B0BEC5\",\"#B0BEC5\",\"#B0BEC5\",\"#B0BEC5\",\"#B0BEC5\",\"#B0BEC5\",\"#B0BEC5\",\"#B0BEC5\",\"#B0BEC5\",\"#B0BEC5\",\"#B0BEC5\",\"#B0BEC5\",\"#B0BEC5\",\"#B0BEC5\",\"#B0BEC5\",\"#B0BEC5\",\"#B0BEC5\",\"#B0BEC5\",\"#B0BEC5\",\"#B0BEC5\",\"#B0BEC5\",\"#B0BEC5\",\"#B0BEC5\",\"#B0BEC5\",\"#B0BEC5\",\"#B0BEC5\"]]}],\"label\":\"Topic 3\",\"method\":\"update\"},{\"args\":[{\"marker.color\":[[\"#B0BEC5\",\"#B0BEC5\",\"#B0BEC5\",\"#B0BEC5\",\"red\",\"#B0BEC5\",\"#B0BEC5\",\"#B0BEC5\",\"#B0BEC5\",\"#B0BEC5\",\"#B0BEC5\",\"#B0BEC5\",\"#B0BEC5\",\"#B0BEC5\",\"#B0BEC5\",\"#B0BEC5\",\"#B0BEC5\",\"#B0BEC5\",\"#B0BEC5\",\"#B0BEC5\",\"#B0BEC5\",\"#B0BEC5\",\"#B0BEC5\",\"#B0BEC5\",\"#B0BEC5\",\"#B0BEC5\",\"#B0BEC5\",\"#B0BEC5\",\"#B0BEC5\",\"#B0BEC5\",\"#B0BEC5\",\"#B0BEC5\",\"#B0BEC5\",\"#B0BEC5\",\"#B0BEC5\",\"#B0BEC5\",\"#B0BEC5\",\"#B0BEC5\"]]}],\"label\":\"Topic 4\",\"method\":\"update\"},{\"args\":[{\"marker.color\":[[\"#B0BEC5\",\"#B0BEC5\",\"#B0BEC5\",\"#B0BEC5\",\"#B0BEC5\",\"red\",\"#B0BEC5\",\"#B0BEC5\",\"#B0BEC5\",\"#B0BEC5\",\"#B0BEC5\",\"#B0BEC5\",\"#B0BEC5\",\"#B0BEC5\",\"#B0BEC5\",\"#B0BEC5\",\"#B0BEC5\",\"#B0BEC5\",\"#B0BEC5\",\"#B0BEC5\",\"#B0BEC5\",\"#B0BEC5\",\"#B0BEC5\",\"#B0BEC5\",\"#B0BEC5\",\"#B0BEC5\",\"#B0BEC5\",\"#B0BEC5\",\"#B0BEC5\",\"#B0BEC5\",\"#B0BEC5\",\"#B0BEC5\",\"#B0BEC5\",\"#B0BEC5\",\"#B0BEC5\",\"#B0BEC5\",\"#B0BEC5\",\"#B0BEC5\"]]}],\"label\":\"Topic 5\",\"method\":\"update\"},{\"args\":[{\"marker.color\":[[\"#B0BEC5\",\"#B0BEC5\",\"#B0BEC5\",\"#B0BEC5\",\"#B0BEC5\",\"#B0BEC5\",\"red\",\"#B0BEC5\",\"#B0BEC5\",\"#B0BEC5\",\"#B0BEC5\",\"#B0BEC5\",\"#B0BEC5\",\"#B0BEC5\",\"#B0BEC5\",\"#B0BEC5\",\"#B0BEC5\",\"#B0BEC5\",\"#B0BEC5\",\"#B0BEC5\",\"#B0BEC5\",\"#B0BEC5\",\"#B0BEC5\",\"#B0BEC5\",\"#B0BEC5\",\"#B0BEC5\",\"#B0BEC5\",\"#B0BEC5\",\"#B0BEC5\",\"#B0BEC5\",\"#B0BEC5\",\"#B0BEC5\",\"#B0BEC5\",\"#B0BEC5\",\"#B0BEC5\",\"#B0BEC5\",\"#B0BEC5\",\"#B0BEC5\"]]}],\"label\":\"Topic 6\",\"method\":\"update\"},{\"args\":[{\"marker.color\":[[\"#B0BEC5\",\"#B0BEC5\",\"#B0BEC5\",\"#B0BEC5\",\"#B0BEC5\",\"#B0BEC5\",\"#B0BEC5\",\"red\",\"#B0BEC5\",\"#B0BEC5\",\"#B0BEC5\",\"#B0BEC5\",\"#B0BEC5\",\"#B0BEC5\",\"#B0BEC5\",\"#B0BEC5\",\"#B0BEC5\",\"#B0BEC5\",\"#B0BEC5\",\"#B0BEC5\",\"#B0BEC5\",\"#B0BEC5\",\"#B0BEC5\",\"#B0BEC5\",\"#B0BEC5\",\"#B0BEC5\",\"#B0BEC5\",\"#B0BEC5\",\"#B0BEC5\",\"#B0BEC5\",\"#B0BEC5\",\"#B0BEC5\",\"#B0BEC5\",\"#B0BEC5\",\"#B0BEC5\",\"#B0BEC5\",\"#B0BEC5\",\"#B0BEC5\"]]}],\"label\":\"Topic 7\",\"method\":\"update\"},{\"args\":[{\"marker.color\":[[\"#B0BEC5\",\"#B0BEC5\",\"#B0BEC5\",\"#B0BEC5\",\"#B0BEC5\",\"#B0BEC5\",\"#B0BEC5\",\"#B0BEC5\",\"red\",\"#B0BEC5\",\"#B0BEC5\",\"#B0BEC5\",\"#B0BEC5\",\"#B0BEC5\",\"#B0BEC5\",\"#B0BEC5\",\"#B0BEC5\",\"#B0BEC5\",\"#B0BEC5\",\"#B0BEC5\",\"#B0BEC5\",\"#B0BEC5\",\"#B0BEC5\",\"#B0BEC5\",\"#B0BEC5\",\"#B0BEC5\",\"#B0BEC5\",\"#B0BEC5\",\"#B0BEC5\",\"#B0BEC5\",\"#B0BEC5\",\"#B0BEC5\",\"#B0BEC5\",\"#B0BEC5\",\"#B0BEC5\",\"#B0BEC5\",\"#B0BEC5\",\"#B0BEC5\"]]}],\"label\":\"Topic 8\",\"method\":\"update\"},{\"args\":[{\"marker.color\":[[\"#B0BEC5\",\"#B0BEC5\",\"#B0BEC5\",\"#B0BEC5\",\"#B0BEC5\",\"#B0BEC5\",\"#B0BEC5\",\"#B0BEC5\",\"#B0BEC5\",\"red\",\"#B0BEC5\",\"#B0BEC5\",\"#B0BEC5\",\"#B0BEC5\",\"#B0BEC5\",\"#B0BEC5\",\"#B0BEC5\",\"#B0BEC5\",\"#B0BEC5\",\"#B0BEC5\",\"#B0BEC5\",\"#B0BEC5\",\"#B0BEC5\",\"#B0BEC5\",\"#B0BEC5\",\"#B0BEC5\",\"#B0BEC5\",\"#B0BEC5\",\"#B0BEC5\",\"#B0BEC5\",\"#B0BEC5\",\"#B0BEC5\",\"#B0BEC5\",\"#B0BEC5\",\"#B0BEC5\",\"#B0BEC5\",\"#B0BEC5\",\"#B0BEC5\"]]}],\"label\":\"Topic 9\",\"method\":\"update\"},{\"args\":[{\"marker.color\":[[\"#B0BEC5\",\"#B0BEC5\",\"#B0BEC5\",\"#B0BEC5\",\"#B0BEC5\",\"#B0BEC5\",\"#B0BEC5\",\"#B0BEC5\",\"#B0BEC5\",\"#B0BEC5\",\"red\",\"#B0BEC5\",\"#B0BEC5\",\"#B0BEC5\",\"#B0BEC5\",\"#B0BEC5\",\"#B0BEC5\",\"#B0BEC5\",\"#B0BEC5\",\"#B0BEC5\",\"#B0BEC5\",\"#B0BEC5\",\"#B0BEC5\",\"#B0BEC5\",\"#B0BEC5\",\"#B0BEC5\",\"#B0BEC5\",\"#B0BEC5\",\"#B0BEC5\",\"#B0BEC5\",\"#B0BEC5\",\"#B0BEC5\",\"#B0BEC5\",\"#B0BEC5\",\"#B0BEC5\",\"#B0BEC5\",\"#B0BEC5\",\"#B0BEC5\"]]}],\"label\":\"Topic 10\",\"method\":\"update\"},{\"args\":[{\"marker.color\":[[\"#B0BEC5\",\"#B0BEC5\",\"#B0BEC5\",\"#B0BEC5\",\"#B0BEC5\",\"#B0BEC5\",\"#B0BEC5\",\"#B0BEC5\",\"#B0BEC5\",\"#B0BEC5\",\"#B0BEC5\",\"red\",\"#B0BEC5\",\"#B0BEC5\",\"#B0BEC5\",\"#B0BEC5\",\"#B0BEC5\",\"#B0BEC5\",\"#B0BEC5\",\"#B0BEC5\",\"#B0BEC5\",\"#B0BEC5\",\"#B0BEC5\",\"#B0BEC5\",\"#B0BEC5\",\"#B0BEC5\",\"#B0BEC5\",\"#B0BEC5\",\"#B0BEC5\",\"#B0BEC5\",\"#B0BEC5\",\"#B0BEC5\",\"#B0BEC5\",\"#B0BEC5\",\"#B0BEC5\",\"#B0BEC5\",\"#B0BEC5\",\"#B0BEC5\"]]}],\"label\":\"Topic 11\",\"method\":\"update\"},{\"args\":[{\"marker.color\":[[\"#B0BEC5\",\"#B0BEC5\",\"#B0BEC5\",\"#B0BEC5\",\"#B0BEC5\",\"#B0BEC5\",\"#B0BEC5\",\"#B0BEC5\",\"#B0BEC5\",\"#B0BEC5\",\"#B0BEC5\",\"#B0BEC5\",\"red\",\"#B0BEC5\",\"#B0BEC5\",\"#B0BEC5\",\"#B0BEC5\",\"#B0BEC5\",\"#B0BEC5\",\"#B0BEC5\",\"#B0BEC5\",\"#B0BEC5\",\"#B0BEC5\",\"#B0BEC5\",\"#B0BEC5\",\"#B0BEC5\",\"#B0BEC5\",\"#B0BEC5\",\"#B0BEC5\",\"#B0BEC5\",\"#B0BEC5\",\"#B0BEC5\",\"#B0BEC5\",\"#B0BEC5\",\"#B0BEC5\",\"#B0BEC5\",\"#B0BEC5\",\"#B0BEC5\"]]}],\"label\":\"Topic 12\",\"method\":\"update\"},{\"args\":[{\"marker.color\":[[\"#B0BEC5\",\"#B0BEC5\",\"#B0BEC5\",\"#B0BEC5\",\"#B0BEC5\",\"#B0BEC5\",\"#B0BEC5\",\"#B0BEC5\",\"#B0BEC5\",\"#B0BEC5\",\"#B0BEC5\",\"#B0BEC5\",\"#B0BEC5\",\"red\",\"#B0BEC5\",\"#B0BEC5\",\"#B0BEC5\",\"#B0BEC5\",\"#B0BEC5\",\"#B0BEC5\",\"#B0BEC5\",\"#B0BEC5\",\"#B0BEC5\",\"#B0BEC5\",\"#B0BEC5\",\"#B0BEC5\",\"#B0BEC5\",\"#B0BEC5\",\"#B0BEC5\",\"#B0BEC5\",\"#B0BEC5\",\"#B0BEC5\",\"#B0BEC5\",\"#B0BEC5\",\"#B0BEC5\",\"#B0BEC5\",\"#B0BEC5\",\"#B0BEC5\"]]}],\"label\":\"Topic 13\",\"method\":\"update\"},{\"args\":[{\"marker.color\":[[\"#B0BEC5\",\"#B0BEC5\",\"#B0BEC5\",\"#B0BEC5\",\"#B0BEC5\",\"#B0BEC5\",\"#B0BEC5\",\"#B0BEC5\",\"#B0BEC5\",\"#B0BEC5\",\"#B0BEC5\",\"#B0BEC5\",\"#B0BEC5\",\"#B0BEC5\",\"red\",\"#B0BEC5\",\"#B0BEC5\",\"#B0BEC5\",\"#B0BEC5\",\"#B0BEC5\",\"#B0BEC5\",\"#B0BEC5\",\"#B0BEC5\",\"#B0BEC5\",\"#B0BEC5\",\"#B0BEC5\",\"#B0BEC5\",\"#B0BEC5\",\"#B0BEC5\",\"#B0BEC5\",\"#B0BEC5\",\"#B0BEC5\",\"#B0BEC5\",\"#B0BEC5\",\"#B0BEC5\",\"#B0BEC5\",\"#B0BEC5\",\"#B0BEC5\"]]}],\"label\":\"Topic 14\",\"method\":\"update\"},{\"args\":[{\"marker.color\":[[\"#B0BEC5\",\"#B0BEC5\",\"#B0BEC5\",\"#B0BEC5\",\"#B0BEC5\",\"#B0BEC5\",\"#B0BEC5\",\"#B0BEC5\",\"#B0BEC5\",\"#B0BEC5\",\"#B0BEC5\",\"#B0BEC5\",\"#B0BEC5\",\"#B0BEC5\",\"#B0BEC5\",\"red\",\"#B0BEC5\",\"#B0BEC5\",\"#B0BEC5\",\"#B0BEC5\",\"#B0BEC5\",\"#B0BEC5\",\"#B0BEC5\",\"#B0BEC5\",\"#B0BEC5\",\"#B0BEC5\",\"#B0BEC5\",\"#B0BEC5\",\"#B0BEC5\",\"#B0BEC5\",\"#B0BEC5\",\"#B0BEC5\",\"#B0BEC5\",\"#B0BEC5\",\"#B0BEC5\",\"#B0BEC5\",\"#B0BEC5\",\"#B0BEC5\"]]}],\"label\":\"Topic 15\",\"method\":\"update\"},{\"args\":[{\"marker.color\":[[\"#B0BEC5\",\"#B0BEC5\",\"#B0BEC5\",\"#B0BEC5\",\"#B0BEC5\",\"#B0BEC5\",\"#B0BEC5\",\"#B0BEC5\",\"#B0BEC5\",\"#B0BEC5\",\"#B0BEC5\",\"#B0BEC5\",\"#B0BEC5\",\"#B0BEC5\",\"#B0BEC5\",\"#B0BEC5\",\"red\",\"#B0BEC5\",\"#B0BEC5\",\"#B0BEC5\",\"#B0BEC5\",\"#B0BEC5\",\"#B0BEC5\",\"#B0BEC5\",\"#B0BEC5\",\"#B0BEC5\",\"#B0BEC5\",\"#B0BEC5\",\"#B0BEC5\",\"#B0BEC5\",\"#B0BEC5\",\"#B0BEC5\",\"#B0BEC5\",\"#B0BEC5\",\"#B0BEC5\",\"#B0BEC5\",\"#B0BEC5\",\"#B0BEC5\"]]}],\"label\":\"Topic 16\",\"method\":\"update\"},{\"args\":[{\"marker.color\":[[\"#B0BEC5\",\"#B0BEC5\",\"#B0BEC5\",\"#B0BEC5\",\"#B0BEC5\",\"#B0BEC5\",\"#B0BEC5\",\"#B0BEC5\",\"#B0BEC5\",\"#B0BEC5\",\"#B0BEC5\",\"#B0BEC5\",\"#B0BEC5\",\"#B0BEC5\",\"#B0BEC5\",\"#B0BEC5\",\"#B0BEC5\",\"red\",\"#B0BEC5\",\"#B0BEC5\",\"#B0BEC5\",\"#B0BEC5\",\"#B0BEC5\",\"#B0BEC5\",\"#B0BEC5\",\"#B0BEC5\",\"#B0BEC5\",\"#B0BEC5\",\"#B0BEC5\",\"#B0BEC5\",\"#B0BEC5\",\"#B0BEC5\",\"#B0BEC5\",\"#B0BEC5\",\"#B0BEC5\",\"#B0BEC5\",\"#B0BEC5\",\"#B0BEC5\"]]}],\"label\":\"Topic 17\",\"method\":\"update\"},{\"args\":[{\"marker.color\":[[\"#B0BEC5\",\"#B0BEC5\",\"#B0BEC5\",\"#B0BEC5\",\"#B0BEC5\",\"#B0BEC5\",\"#B0BEC5\",\"#B0BEC5\",\"#B0BEC5\",\"#B0BEC5\",\"#B0BEC5\",\"#B0BEC5\",\"#B0BEC5\",\"#B0BEC5\",\"#B0BEC5\",\"#B0BEC5\",\"#B0BEC5\",\"#B0BEC5\",\"red\",\"#B0BEC5\",\"#B0BEC5\",\"#B0BEC5\",\"#B0BEC5\",\"#B0BEC5\",\"#B0BEC5\",\"#B0BEC5\",\"#B0BEC5\",\"#B0BEC5\",\"#B0BEC5\",\"#B0BEC5\",\"#B0BEC5\",\"#B0BEC5\",\"#B0BEC5\",\"#B0BEC5\",\"#B0BEC5\",\"#B0BEC5\",\"#B0BEC5\",\"#B0BEC5\"]]}],\"label\":\"Topic 18\",\"method\":\"update\"},{\"args\":[{\"marker.color\":[[\"#B0BEC5\",\"#B0BEC5\",\"#B0BEC5\",\"#B0BEC5\",\"#B0BEC5\",\"#B0BEC5\",\"#B0BEC5\",\"#B0BEC5\",\"#B0BEC5\",\"#B0BEC5\",\"#B0BEC5\",\"#B0BEC5\",\"#B0BEC5\",\"#B0BEC5\",\"#B0BEC5\",\"#B0BEC5\",\"#B0BEC5\",\"#B0BEC5\",\"#B0BEC5\",\"red\",\"#B0BEC5\",\"#B0BEC5\",\"#B0BEC5\",\"#B0BEC5\",\"#B0BEC5\",\"#B0BEC5\",\"#B0BEC5\",\"#B0BEC5\",\"#B0BEC5\",\"#B0BEC5\",\"#B0BEC5\",\"#B0BEC5\",\"#B0BEC5\",\"#B0BEC5\",\"#B0BEC5\",\"#B0BEC5\",\"#B0BEC5\",\"#B0BEC5\"]]}],\"label\":\"Topic 19\",\"method\":\"update\"},{\"args\":[{\"marker.color\":[[\"#B0BEC5\",\"#B0BEC5\",\"#B0BEC5\",\"#B0BEC5\",\"#B0BEC5\",\"#B0BEC5\",\"#B0BEC5\",\"#B0BEC5\",\"#B0BEC5\",\"#B0BEC5\",\"#B0BEC5\",\"#B0BEC5\",\"#B0BEC5\",\"#B0BEC5\",\"#B0BEC5\",\"#B0BEC5\",\"#B0BEC5\",\"#B0BEC5\",\"#B0BEC5\",\"#B0BEC5\",\"red\",\"#B0BEC5\",\"#B0BEC5\",\"#B0BEC5\",\"#B0BEC5\",\"#B0BEC5\",\"#B0BEC5\",\"#B0BEC5\",\"#B0BEC5\",\"#B0BEC5\",\"#B0BEC5\",\"#B0BEC5\",\"#B0BEC5\",\"#B0BEC5\",\"#B0BEC5\",\"#B0BEC5\",\"#B0BEC5\",\"#B0BEC5\"]]}],\"label\":\"Topic 20\",\"method\":\"update\"},{\"args\":[{\"marker.color\":[[\"#B0BEC5\",\"#B0BEC5\",\"#B0BEC5\",\"#B0BEC5\",\"#B0BEC5\",\"#B0BEC5\",\"#B0BEC5\",\"#B0BEC5\",\"#B0BEC5\",\"#B0BEC5\",\"#B0BEC5\",\"#B0BEC5\",\"#B0BEC5\",\"#B0BEC5\",\"#B0BEC5\",\"#B0BEC5\",\"#B0BEC5\",\"#B0BEC5\",\"#B0BEC5\",\"#B0BEC5\",\"#B0BEC5\",\"red\",\"#B0BEC5\",\"#B0BEC5\",\"#B0BEC5\",\"#B0BEC5\",\"#B0BEC5\",\"#B0BEC5\",\"#B0BEC5\",\"#B0BEC5\",\"#B0BEC5\",\"#B0BEC5\",\"#B0BEC5\",\"#B0BEC5\",\"#B0BEC5\",\"#B0BEC5\",\"#B0BEC5\",\"#B0BEC5\"]]}],\"label\":\"Topic 21\",\"method\":\"update\"},{\"args\":[{\"marker.color\":[[\"#B0BEC5\",\"#B0BEC5\",\"#B0BEC5\",\"#B0BEC5\",\"#B0BEC5\",\"#B0BEC5\",\"#B0BEC5\",\"#B0BEC5\",\"#B0BEC5\",\"#B0BEC5\",\"#B0BEC5\",\"#B0BEC5\",\"#B0BEC5\",\"#B0BEC5\",\"#B0BEC5\",\"#B0BEC5\",\"#B0BEC5\",\"#B0BEC5\",\"#B0BEC5\",\"#B0BEC5\",\"#B0BEC5\",\"#B0BEC5\",\"red\",\"#B0BEC5\",\"#B0BEC5\",\"#B0BEC5\",\"#B0BEC5\",\"#B0BEC5\",\"#B0BEC5\",\"#B0BEC5\",\"#B0BEC5\",\"#B0BEC5\",\"#B0BEC5\",\"#B0BEC5\",\"#B0BEC5\",\"#B0BEC5\",\"#B0BEC5\",\"#B0BEC5\"]]}],\"label\":\"Topic 22\",\"method\":\"update\"},{\"args\":[{\"marker.color\":[[\"#B0BEC5\",\"#B0BEC5\",\"#B0BEC5\",\"#B0BEC5\",\"#B0BEC5\",\"#B0BEC5\",\"#B0BEC5\",\"#B0BEC5\",\"#B0BEC5\",\"#B0BEC5\",\"#B0BEC5\",\"#B0BEC5\",\"#B0BEC5\",\"#B0BEC5\",\"#B0BEC5\",\"#B0BEC5\",\"#B0BEC5\",\"#B0BEC5\",\"#B0BEC5\",\"#B0BEC5\",\"#B0BEC5\",\"#B0BEC5\",\"#B0BEC5\",\"red\",\"#B0BEC5\",\"#B0BEC5\",\"#B0BEC5\",\"#B0BEC5\",\"#B0BEC5\",\"#B0BEC5\",\"#B0BEC5\",\"#B0BEC5\",\"#B0BEC5\",\"#B0BEC5\",\"#B0BEC5\",\"#B0BEC5\",\"#B0BEC5\",\"#B0BEC5\"]]}],\"label\":\"Topic 23\",\"method\":\"update\"},{\"args\":[{\"marker.color\":[[\"#B0BEC5\",\"#B0BEC5\",\"#B0BEC5\",\"#B0BEC5\",\"#B0BEC5\",\"#B0BEC5\",\"#B0BEC5\",\"#B0BEC5\",\"#B0BEC5\",\"#B0BEC5\",\"#B0BEC5\",\"#B0BEC5\",\"#B0BEC5\",\"#B0BEC5\",\"#B0BEC5\",\"#B0BEC5\",\"#B0BEC5\",\"#B0BEC5\",\"#B0BEC5\",\"#B0BEC5\",\"#B0BEC5\",\"#B0BEC5\",\"#B0BEC5\",\"#B0BEC5\",\"red\",\"#B0BEC5\",\"#B0BEC5\",\"#B0BEC5\",\"#B0BEC5\",\"#B0BEC5\",\"#B0BEC5\",\"#B0BEC5\",\"#B0BEC5\",\"#B0BEC5\",\"#B0BEC5\",\"#B0BEC5\",\"#B0BEC5\",\"#B0BEC5\"]]}],\"label\":\"Topic 24\",\"method\":\"update\"},{\"args\":[{\"marker.color\":[[\"#B0BEC5\",\"#B0BEC5\",\"#B0BEC5\",\"#B0BEC5\",\"#B0BEC5\",\"#B0BEC5\",\"#B0BEC5\",\"#B0BEC5\",\"#B0BEC5\",\"#B0BEC5\",\"#B0BEC5\",\"#B0BEC5\",\"#B0BEC5\",\"#B0BEC5\",\"#B0BEC5\",\"#B0BEC5\",\"#B0BEC5\",\"#B0BEC5\",\"#B0BEC5\",\"#B0BEC5\",\"#B0BEC5\",\"#B0BEC5\",\"#B0BEC5\",\"#B0BEC5\",\"#B0BEC5\",\"red\",\"#B0BEC5\",\"#B0BEC5\",\"#B0BEC5\",\"#B0BEC5\",\"#B0BEC5\",\"#B0BEC5\",\"#B0BEC5\",\"#B0BEC5\",\"#B0BEC5\",\"#B0BEC5\",\"#B0BEC5\",\"#B0BEC5\"]]}],\"label\":\"Topic 25\",\"method\":\"update\"},{\"args\":[{\"marker.color\":[[\"#B0BEC5\",\"#B0BEC5\",\"#B0BEC5\",\"#B0BEC5\",\"#B0BEC5\",\"#B0BEC5\",\"#B0BEC5\",\"#B0BEC5\",\"#B0BEC5\",\"#B0BEC5\",\"#B0BEC5\",\"#B0BEC5\",\"#B0BEC5\",\"#B0BEC5\",\"#B0BEC5\",\"#B0BEC5\",\"#B0BEC5\",\"#B0BEC5\",\"#B0BEC5\",\"#B0BEC5\",\"#B0BEC5\",\"#B0BEC5\",\"#B0BEC5\",\"#B0BEC5\",\"#B0BEC5\",\"#B0BEC5\",\"red\",\"#B0BEC5\",\"#B0BEC5\",\"#B0BEC5\",\"#B0BEC5\",\"#B0BEC5\",\"#B0BEC5\",\"#B0BEC5\",\"#B0BEC5\",\"#B0BEC5\",\"#B0BEC5\",\"#B0BEC5\"]]}],\"label\":\"Topic 26\",\"method\":\"update\"},{\"args\":[{\"marker.color\":[[\"#B0BEC5\",\"#B0BEC5\",\"#B0BEC5\",\"#B0BEC5\",\"#B0BEC5\",\"#B0BEC5\",\"#B0BEC5\",\"#B0BEC5\",\"#B0BEC5\",\"#B0BEC5\",\"#B0BEC5\",\"#B0BEC5\",\"#B0BEC5\",\"#B0BEC5\",\"#B0BEC5\",\"#B0BEC5\",\"#B0BEC5\",\"#B0BEC5\",\"#B0BEC5\",\"#B0BEC5\",\"#B0BEC5\",\"#B0BEC5\",\"#B0BEC5\",\"#B0BEC5\",\"#B0BEC5\",\"#B0BEC5\",\"#B0BEC5\",\"red\",\"#B0BEC5\",\"#B0BEC5\",\"#B0BEC5\",\"#B0BEC5\",\"#B0BEC5\",\"#B0BEC5\",\"#B0BEC5\",\"#B0BEC5\",\"#B0BEC5\",\"#B0BEC5\"]]}],\"label\":\"Topic 27\",\"method\":\"update\"},{\"args\":[{\"marker.color\":[[\"#B0BEC5\",\"#B0BEC5\",\"#B0BEC5\",\"#B0BEC5\",\"#B0BEC5\",\"#B0BEC5\",\"#B0BEC5\",\"#B0BEC5\",\"#B0BEC5\",\"#B0BEC5\",\"#B0BEC5\",\"#B0BEC5\",\"#B0BEC5\",\"#B0BEC5\",\"#B0BEC5\",\"#B0BEC5\",\"#B0BEC5\",\"#B0BEC5\",\"#B0BEC5\",\"#B0BEC5\",\"#B0BEC5\",\"#B0BEC5\",\"#B0BEC5\",\"#B0BEC5\",\"#B0BEC5\",\"#B0BEC5\",\"#B0BEC5\",\"#B0BEC5\",\"red\",\"#B0BEC5\",\"#B0BEC5\",\"#B0BEC5\",\"#B0BEC5\",\"#B0BEC5\",\"#B0BEC5\",\"#B0BEC5\",\"#B0BEC5\",\"#B0BEC5\"]]}],\"label\":\"Topic 28\",\"method\":\"update\"},{\"args\":[{\"marker.color\":[[\"#B0BEC5\",\"#B0BEC5\",\"#B0BEC5\",\"#B0BEC5\",\"#B0BEC5\",\"#B0BEC5\",\"#B0BEC5\",\"#B0BEC5\",\"#B0BEC5\",\"#B0BEC5\",\"#B0BEC5\",\"#B0BEC5\",\"#B0BEC5\",\"#B0BEC5\",\"#B0BEC5\",\"#B0BEC5\",\"#B0BEC5\",\"#B0BEC5\",\"#B0BEC5\",\"#B0BEC5\",\"#B0BEC5\",\"#B0BEC5\",\"#B0BEC5\",\"#B0BEC5\",\"#B0BEC5\",\"#B0BEC5\",\"#B0BEC5\",\"#B0BEC5\",\"#B0BEC5\",\"red\",\"#B0BEC5\",\"#B0BEC5\",\"#B0BEC5\",\"#B0BEC5\",\"#B0BEC5\",\"#B0BEC5\",\"#B0BEC5\",\"#B0BEC5\"]]}],\"label\":\"Topic 29\",\"method\":\"update\"},{\"args\":[{\"marker.color\":[[\"#B0BEC5\",\"#B0BEC5\",\"#B0BEC5\",\"#B0BEC5\",\"#B0BEC5\",\"#B0BEC5\",\"#B0BEC5\",\"#B0BEC5\",\"#B0BEC5\",\"#B0BEC5\",\"#B0BEC5\",\"#B0BEC5\",\"#B0BEC5\",\"#B0BEC5\",\"#B0BEC5\",\"#B0BEC5\",\"#B0BEC5\",\"#B0BEC5\",\"#B0BEC5\",\"#B0BEC5\",\"#B0BEC5\",\"#B0BEC5\",\"#B0BEC5\",\"#B0BEC5\",\"#B0BEC5\",\"#B0BEC5\",\"#B0BEC5\",\"#B0BEC5\",\"#B0BEC5\",\"#B0BEC5\",\"red\",\"#B0BEC5\",\"#B0BEC5\",\"#B0BEC5\",\"#B0BEC5\",\"#B0BEC5\",\"#B0BEC5\",\"#B0BEC5\"]]}],\"label\":\"Topic 30\",\"method\":\"update\"},{\"args\":[{\"marker.color\":[[\"#B0BEC5\",\"#B0BEC5\",\"#B0BEC5\",\"#B0BEC5\",\"#B0BEC5\",\"#B0BEC5\",\"#B0BEC5\",\"#B0BEC5\",\"#B0BEC5\",\"#B0BEC5\",\"#B0BEC5\",\"#B0BEC5\",\"#B0BEC5\",\"#B0BEC5\",\"#B0BEC5\",\"#B0BEC5\",\"#B0BEC5\",\"#B0BEC5\",\"#B0BEC5\",\"#B0BEC5\",\"#B0BEC5\",\"#B0BEC5\",\"#B0BEC5\",\"#B0BEC5\",\"#B0BEC5\",\"#B0BEC5\",\"#B0BEC5\",\"#B0BEC5\",\"#B0BEC5\",\"#B0BEC5\",\"#B0BEC5\",\"red\",\"#B0BEC5\",\"#B0BEC5\",\"#B0BEC5\",\"#B0BEC5\",\"#B0BEC5\",\"#B0BEC5\"]]}],\"label\":\"Topic 31\",\"method\":\"update\"},{\"args\":[{\"marker.color\":[[\"#B0BEC5\",\"#B0BEC5\",\"#B0BEC5\",\"#B0BEC5\",\"#B0BEC5\",\"#B0BEC5\",\"#B0BEC5\",\"#B0BEC5\",\"#B0BEC5\",\"#B0BEC5\",\"#B0BEC5\",\"#B0BEC5\",\"#B0BEC5\",\"#B0BEC5\",\"#B0BEC5\",\"#B0BEC5\",\"#B0BEC5\",\"#B0BEC5\",\"#B0BEC5\",\"#B0BEC5\",\"#B0BEC5\",\"#B0BEC5\",\"#B0BEC5\",\"#B0BEC5\",\"#B0BEC5\",\"#B0BEC5\",\"#B0BEC5\",\"#B0BEC5\",\"#B0BEC5\",\"#B0BEC5\",\"#B0BEC5\",\"#B0BEC5\",\"red\",\"#B0BEC5\",\"#B0BEC5\",\"#B0BEC5\",\"#B0BEC5\",\"#B0BEC5\"]]}],\"label\":\"Topic 32\",\"method\":\"update\"},{\"args\":[{\"marker.color\":[[\"#B0BEC5\",\"#B0BEC5\",\"#B0BEC5\",\"#B0BEC5\",\"#B0BEC5\",\"#B0BEC5\",\"#B0BEC5\",\"#B0BEC5\",\"#B0BEC5\",\"#B0BEC5\",\"#B0BEC5\",\"#B0BEC5\",\"#B0BEC5\",\"#B0BEC5\",\"#B0BEC5\",\"#B0BEC5\",\"#B0BEC5\",\"#B0BEC5\",\"#B0BEC5\",\"#B0BEC5\",\"#B0BEC5\",\"#B0BEC5\",\"#B0BEC5\",\"#B0BEC5\",\"#B0BEC5\",\"#B0BEC5\",\"#B0BEC5\",\"#B0BEC5\",\"#B0BEC5\",\"#B0BEC5\",\"#B0BEC5\",\"#B0BEC5\",\"#B0BEC5\",\"red\",\"#B0BEC5\",\"#B0BEC5\",\"#B0BEC5\",\"#B0BEC5\"]]}],\"label\":\"Topic 33\",\"method\":\"update\"},{\"args\":[{\"marker.color\":[[\"#B0BEC5\",\"#B0BEC5\",\"#B0BEC5\",\"#B0BEC5\",\"#B0BEC5\",\"#B0BEC5\",\"#B0BEC5\",\"#B0BEC5\",\"#B0BEC5\",\"#B0BEC5\",\"#B0BEC5\",\"#B0BEC5\",\"#B0BEC5\",\"#B0BEC5\",\"#B0BEC5\",\"#B0BEC5\",\"#B0BEC5\",\"#B0BEC5\",\"#B0BEC5\",\"#B0BEC5\",\"#B0BEC5\",\"#B0BEC5\",\"#B0BEC5\",\"#B0BEC5\",\"#B0BEC5\",\"#B0BEC5\",\"#B0BEC5\",\"#B0BEC5\",\"#B0BEC5\",\"#B0BEC5\",\"#B0BEC5\",\"#B0BEC5\",\"#B0BEC5\",\"#B0BEC5\",\"red\",\"#B0BEC5\",\"#B0BEC5\",\"#B0BEC5\"]]}],\"label\":\"Topic 34\",\"method\":\"update\"},{\"args\":[{\"marker.color\":[[\"#B0BEC5\",\"#B0BEC5\",\"#B0BEC5\",\"#B0BEC5\",\"#B0BEC5\",\"#B0BEC5\",\"#B0BEC5\",\"#B0BEC5\",\"#B0BEC5\",\"#B0BEC5\",\"#B0BEC5\",\"#B0BEC5\",\"#B0BEC5\",\"#B0BEC5\",\"#B0BEC5\",\"#B0BEC5\",\"#B0BEC5\",\"#B0BEC5\",\"#B0BEC5\",\"#B0BEC5\",\"#B0BEC5\",\"#B0BEC5\",\"#B0BEC5\",\"#B0BEC5\",\"#B0BEC5\",\"#B0BEC5\",\"#B0BEC5\",\"#B0BEC5\",\"#B0BEC5\",\"#B0BEC5\",\"#B0BEC5\",\"#B0BEC5\",\"#B0BEC5\",\"#B0BEC5\",\"#B0BEC5\",\"red\",\"#B0BEC5\",\"#B0BEC5\"]]}],\"label\":\"Topic 35\",\"method\":\"update\"},{\"args\":[{\"marker.color\":[[\"#B0BEC5\",\"#B0BEC5\",\"#B0BEC5\",\"#B0BEC5\",\"#B0BEC5\",\"#B0BEC5\",\"#B0BEC5\",\"#B0BEC5\",\"#B0BEC5\",\"#B0BEC5\",\"#B0BEC5\",\"#B0BEC5\",\"#B0BEC5\",\"#B0BEC5\",\"#B0BEC5\",\"#B0BEC5\",\"#B0BEC5\",\"#B0BEC5\",\"#B0BEC5\",\"#B0BEC5\",\"#B0BEC5\",\"#B0BEC5\",\"#B0BEC5\",\"#B0BEC5\",\"#B0BEC5\",\"#B0BEC5\",\"#B0BEC5\",\"#B0BEC5\",\"#B0BEC5\",\"#B0BEC5\",\"#B0BEC5\",\"#B0BEC5\",\"#B0BEC5\",\"#B0BEC5\",\"#B0BEC5\",\"#B0BEC5\",\"red\",\"#B0BEC5\"]]}],\"label\":\"Topic 36\",\"method\":\"update\"},{\"args\":[{\"marker.color\":[[\"#B0BEC5\",\"#B0BEC5\",\"#B0BEC5\",\"#B0BEC5\",\"#B0BEC5\",\"#B0BEC5\",\"#B0BEC5\",\"#B0BEC5\",\"#B0BEC5\",\"#B0BEC5\",\"#B0BEC5\",\"#B0BEC5\",\"#B0BEC5\",\"#B0BEC5\",\"#B0BEC5\",\"#B0BEC5\",\"#B0BEC5\",\"#B0BEC5\",\"#B0BEC5\",\"#B0BEC5\",\"#B0BEC5\",\"#B0BEC5\",\"#B0BEC5\",\"#B0BEC5\",\"#B0BEC5\",\"#B0BEC5\",\"#B0BEC5\",\"#B0BEC5\",\"#B0BEC5\",\"#B0BEC5\",\"#B0BEC5\",\"#B0BEC5\",\"#B0BEC5\",\"#B0BEC5\",\"#B0BEC5\",\"#B0BEC5\",\"#B0BEC5\",\"red\"]]}],\"label\":\"Topic 37\",\"method\":\"update\"}]}],\"shapes\":[{\"line\":{\"color\":\"#CFD8DC\",\"width\":2},\"type\":\"line\",\"x0\":3.9259108543395995,\"x1\":3.9259108543395995,\"y0\":-5.40875825881958,\"y1\":25.999925804138183},{\"line\":{\"color\":\"#9E9E9E\",\"width\":2},\"type\":\"line\",\"x0\":-7.143815231323242,\"x1\":14.995636940002441,\"y0\":10.295583772659302,\"y1\":10.295583772659302}],\"annotations\":[{\"showarrow\":false,\"text\":\"D1\",\"x\":-7.143815231323242,\"y\":10.295583772659302,\"yshift\":10},{\"showarrow\":false,\"text\":\"D2\",\"x\":3.9259108543395995,\"xshift\":10,\"y\":25.999925804138183}]},                        {\"responsive\": true}                    ).then(function(){\n",
              "                            \n",
              "var gd = document.getElementById('bddf5ee5-758a-43af-86b7-0797746e2e03');\n",
              "var x = new MutationObserver(function (mutations, observer) {{\n",
              "        var display = window.getComputedStyle(gd).display;\n",
              "        if (!display || display === 'none') {{\n",
              "            console.log([gd, 'removed!']);\n",
              "            Plotly.purge(gd);\n",
              "            observer.disconnect();\n",
              "        }}\n",
              "}});\n",
              "\n",
              "// Listen for the removal of the full notebook cells\n",
              "var notebookContainer = gd.closest('#notebook-container');\n",
              "if (notebookContainer) {{\n",
              "    x.observe(notebookContainer, {childList: true});\n",
              "}}\n",
              "\n",
              "// Listen for the clearing of the current output cell\n",
              "var outputEl = gd.closest('.output');\n",
              "if (outputEl) {{\n",
              "    x.observe(outputEl, {childList: true});\n",
              "}}\n",
              "\n",
              "                        })                };                            </script>        </div>\n",
              "</body>\n",
              "</html>"
            ]
          },
          "metadata": {}
        }
      ],
      "source": [
        "bertopic_model.visualize_topics()"
      ]
    },
    {
      "cell_type": "code",
      "execution_count": 43,
      "metadata": {
        "colab": {
          "base_uri": "https://localhost:8080/",
          "height": 617
        },
        "id": "-09aC6JETLvo",
        "outputId": "63933da0-d735-4427-94a0-baa15639beee"
      },
      "outputs": [
        {
          "output_type": "display_data",
          "data": {
            "text/html": [
              "<html>\n",
              "<head><meta charset=\"utf-8\" /></head>\n",
              "<body>\n",
              "    <div>            <script src=\"https://cdnjs.cloudflare.com/ajax/libs/mathjax/2.7.5/MathJax.js?config=TeX-AMS-MML_SVG\"></script><script type=\"text/javascript\">if (window.MathJax && window.MathJax.Hub && window.MathJax.Hub.Config) {window.MathJax.Hub.Config({SVG: {font: \"STIX-Web\"}});}</script>                <script type=\"text/javascript\">window.PlotlyConfig = {MathJaxConfig: 'local'};</script>\n",
              "        <script src=\"https://cdn.plot.ly/plotly-2.18.2.min.js\"></script>                <div id=\"092f2934-5be0-4676-a687-14d77c4c8884\" class=\"plotly-graph-div\" style=\"height:600px; width:800px;\"></div>            <script type=\"text/javascript\">                                    window.PLOTLYENV=window.PLOTLYENV || {};                                    if (document.getElementById(\"092f2934-5be0-4676-a687-14d77c4c8884\")) {                    Plotly.newPlot(                        \"092f2934-5be0-4676-a687-14d77c4c8884\",                        [{\"marker\":{\"color\":\"#C8D2D7\",\"line\":{\"color\":\"#6E8484\",\"width\":1}},\"orientation\":\"h\",\"x\":[0.039480908668908105,0.022242067576400706,0.04987615147449166,0.02016706541736869,0.02224046776820241,0.03187978563582373],\"y\":[\"<b>Topic 10</b>: \\uac00\\uaca9_\\uac00\\uaca9\\uc740_\\uac00\\uaca9\\uc774_\\ubaa8\\uc2a4\\uce74\\ud1a0_\\uadf8\\ub0e5\",\"<b>Topic 12</b>: \\ucd94\\ucc9c_\\uacfc\\ucc9c_\\uac08\\ub9cc\\ud55c_\\uc5ec\\ud589\\uae30_\\uba87\\uacf3\",\"<b>Topic 13</b>: \\uc774\\uac70_\\uc774\\uc57c_\\uc788\\uc74c_\\uadf8\\uac83\\uc740_\\uc624\\ub298\",\"<b>Topic 15</b>: \\uad6c\\ub9ac\\uc120_\\uce7c\\ub0a0_\\ud53d\\uc5c5\\ud588\\ub294\\ub370_\\ubc1c\\ud6a8\\ud1b5_\\ubc00\\ub0a9\",\"<b>Topic 16</b>: \\ub098\\ud30c_\\uc544\\ub974\\ud5e8\\ud2f0\\ub178_\\ub123\\ub294\\uc9c0_\\ubc14\\ub098\\ub098\\ucf55\\uc740_\\uc815\\uae00\\ubc84\\ub4dc\",\"<b>Topic 17</b>: \\ub07c\\uc548\\ud2f0_\\ud53c\\uc624_\\ub108\\ub08c\\uc774_\\ub3c4\\uba54\\ub2c8\\ucf54_\\uccb4\\uc0ac\\ub808\"],\"type\":\"bar\"}],                        {\"template\":{\"data\":{\"barpolar\":[{\"marker\":{\"line\":{\"color\":\"white\",\"width\":0.5},\"pattern\":{\"fillmode\":\"overlay\",\"size\":10,\"solidity\":0.2}},\"type\":\"barpolar\"}],\"bar\":[{\"error_x\":{\"color\":\"rgb(36,36,36)\"},\"error_y\":{\"color\":\"rgb(36,36,36)\"},\"marker\":{\"line\":{\"color\":\"white\",\"width\":0.5},\"pattern\":{\"fillmode\":\"overlay\",\"size\":10,\"solidity\":0.2}},\"type\":\"bar\"}],\"carpet\":[{\"aaxis\":{\"endlinecolor\":\"rgb(36,36,36)\",\"gridcolor\":\"white\",\"linecolor\":\"white\",\"minorgridcolor\":\"white\",\"startlinecolor\":\"rgb(36,36,36)\"},\"baxis\":{\"endlinecolor\":\"rgb(36,36,36)\",\"gridcolor\":\"white\",\"linecolor\":\"white\",\"minorgridcolor\":\"white\",\"startlinecolor\":\"rgb(36,36,36)\"},\"type\":\"carpet\"}],\"choropleth\":[{\"colorbar\":{\"outlinewidth\":1,\"tickcolor\":\"rgb(36,36,36)\",\"ticks\":\"outside\"},\"type\":\"choropleth\"}],\"contourcarpet\":[{\"colorbar\":{\"outlinewidth\":1,\"tickcolor\":\"rgb(36,36,36)\",\"ticks\":\"outside\"},\"type\":\"contourcarpet\"}],\"contour\":[{\"colorbar\":{\"outlinewidth\":1,\"tickcolor\":\"rgb(36,36,36)\",\"ticks\":\"outside\"},\"colorscale\":[[0.0,\"#440154\"],[0.1111111111111111,\"#482878\"],[0.2222222222222222,\"#3e4989\"],[0.3333333333333333,\"#31688e\"],[0.4444444444444444,\"#26828e\"],[0.5555555555555556,\"#1f9e89\"],[0.6666666666666666,\"#35b779\"],[0.7777777777777778,\"#6ece58\"],[0.8888888888888888,\"#b5de2b\"],[1.0,\"#fde725\"]],\"type\":\"contour\"}],\"heatmapgl\":[{\"colorbar\":{\"outlinewidth\":1,\"tickcolor\":\"rgb(36,36,36)\",\"ticks\":\"outside\"},\"colorscale\":[[0.0,\"#440154\"],[0.1111111111111111,\"#482878\"],[0.2222222222222222,\"#3e4989\"],[0.3333333333333333,\"#31688e\"],[0.4444444444444444,\"#26828e\"],[0.5555555555555556,\"#1f9e89\"],[0.6666666666666666,\"#35b779\"],[0.7777777777777778,\"#6ece58\"],[0.8888888888888888,\"#b5de2b\"],[1.0,\"#fde725\"]],\"type\":\"heatmapgl\"}],\"heatmap\":[{\"colorbar\":{\"outlinewidth\":1,\"tickcolor\":\"rgb(36,36,36)\",\"ticks\":\"outside\"},\"colorscale\":[[0.0,\"#440154\"],[0.1111111111111111,\"#482878\"],[0.2222222222222222,\"#3e4989\"],[0.3333333333333333,\"#31688e\"],[0.4444444444444444,\"#26828e\"],[0.5555555555555556,\"#1f9e89\"],[0.6666666666666666,\"#35b779\"],[0.7777777777777778,\"#6ece58\"],[0.8888888888888888,\"#b5de2b\"],[1.0,\"#fde725\"]],\"type\":\"heatmap\"}],\"histogram2dcontour\":[{\"colorbar\":{\"outlinewidth\":1,\"tickcolor\":\"rgb(36,36,36)\",\"ticks\":\"outside\"},\"colorscale\":[[0.0,\"#440154\"],[0.1111111111111111,\"#482878\"],[0.2222222222222222,\"#3e4989\"],[0.3333333333333333,\"#31688e\"],[0.4444444444444444,\"#26828e\"],[0.5555555555555556,\"#1f9e89\"],[0.6666666666666666,\"#35b779\"],[0.7777777777777778,\"#6ece58\"],[0.8888888888888888,\"#b5de2b\"],[1.0,\"#fde725\"]],\"type\":\"histogram2dcontour\"}],\"histogram2d\":[{\"colorbar\":{\"outlinewidth\":1,\"tickcolor\":\"rgb(36,36,36)\",\"ticks\":\"outside\"},\"colorscale\":[[0.0,\"#440154\"],[0.1111111111111111,\"#482878\"],[0.2222222222222222,\"#3e4989\"],[0.3333333333333333,\"#31688e\"],[0.4444444444444444,\"#26828e\"],[0.5555555555555556,\"#1f9e89\"],[0.6666666666666666,\"#35b779\"],[0.7777777777777778,\"#6ece58\"],[0.8888888888888888,\"#b5de2b\"],[1.0,\"#fde725\"]],\"type\":\"histogram2d\"}],\"histogram\":[{\"marker\":{\"line\":{\"color\":\"white\",\"width\":0.6}},\"type\":\"histogram\"}],\"mesh3d\":[{\"colorbar\":{\"outlinewidth\":1,\"tickcolor\":\"rgb(36,36,36)\",\"ticks\":\"outside\"},\"type\":\"mesh3d\"}],\"parcoords\":[{\"line\":{\"colorbar\":{\"outlinewidth\":1,\"tickcolor\":\"rgb(36,36,36)\",\"ticks\":\"outside\"}},\"type\":\"parcoords\"}],\"pie\":[{\"automargin\":true,\"type\":\"pie\"}],\"scatter3d\":[{\"line\":{\"colorbar\":{\"outlinewidth\":1,\"tickcolor\":\"rgb(36,36,36)\",\"ticks\":\"outside\"}},\"marker\":{\"colorbar\":{\"outlinewidth\":1,\"tickcolor\":\"rgb(36,36,36)\",\"ticks\":\"outside\"}},\"type\":\"scatter3d\"}],\"scattercarpet\":[{\"marker\":{\"colorbar\":{\"outlinewidth\":1,\"tickcolor\":\"rgb(36,36,36)\",\"ticks\":\"outside\"}},\"type\":\"scattercarpet\"}],\"scattergeo\":[{\"marker\":{\"colorbar\":{\"outlinewidth\":1,\"tickcolor\":\"rgb(36,36,36)\",\"ticks\":\"outside\"}},\"type\":\"scattergeo\"}],\"scattergl\":[{\"marker\":{\"colorbar\":{\"outlinewidth\":1,\"tickcolor\":\"rgb(36,36,36)\",\"ticks\":\"outside\"}},\"type\":\"scattergl\"}],\"scattermapbox\":[{\"marker\":{\"colorbar\":{\"outlinewidth\":1,\"tickcolor\":\"rgb(36,36,36)\",\"ticks\":\"outside\"}},\"type\":\"scattermapbox\"}],\"scatterpolargl\":[{\"marker\":{\"colorbar\":{\"outlinewidth\":1,\"tickcolor\":\"rgb(36,36,36)\",\"ticks\":\"outside\"}},\"type\":\"scatterpolargl\"}],\"scatterpolar\":[{\"marker\":{\"colorbar\":{\"outlinewidth\":1,\"tickcolor\":\"rgb(36,36,36)\",\"ticks\":\"outside\"}},\"type\":\"scatterpolar\"}],\"scatter\":[{\"fillpattern\":{\"fillmode\":\"overlay\",\"size\":10,\"solidity\":0.2},\"type\":\"scatter\"}],\"scatterternary\":[{\"marker\":{\"colorbar\":{\"outlinewidth\":1,\"tickcolor\":\"rgb(36,36,36)\",\"ticks\":\"outside\"}},\"type\":\"scatterternary\"}],\"surface\":[{\"colorbar\":{\"outlinewidth\":1,\"tickcolor\":\"rgb(36,36,36)\",\"ticks\":\"outside\"},\"colorscale\":[[0.0,\"#440154\"],[0.1111111111111111,\"#482878\"],[0.2222222222222222,\"#3e4989\"],[0.3333333333333333,\"#31688e\"],[0.4444444444444444,\"#26828e\"],[0.5555555555555556,\"#1f9e89\"],[0.6666666666666666,\"#35b779\"],[0.7777777777777778,\"#6ece58\"],[0.8888888888888888,\"#b5de2b\"],[1.0,\"#fde725\"]],\"type\":\"surface\"}],\"table\":[{\"cells\":{\"fill\":{\"color\":\"rgb(237,237,237)\"},\"line\":{\"color\":\"white\"}},\"header\":{\"fill\":{\"color\":\"rgb(217,217,217)\"},\"line\":{\"color\":\"white\"}},\"type\":\"table\"}]},\"layout\":{\"annotationdefaults\":{\"arrowhead\":0,\"arrowwidth\":1},\"autotypenumbers\":\"strict\",\"coloraxis\":{\"colorbar\":{\"outlinewidth\":1,\"tickcolor\":\"rgb(36,36,36)\",\"ticks\":\"outside\"}},\"colorscale\":{\"diverging\":[[0.0,\"rgb(103,0,31)\"],[0.1,\"rgb(178,24,43)\"],[0.2,\"rgb(214,96,77)\"],[0.3,\"rgb(244,165,130)\"],[0.4,\"rgb(253,219,199)\"],[0.5,\"rgb(247,247,247)\"],[0.6,\"rgb(209,229,240)\"],[0.7,\"rgb(146,197,222)\"],[0.8,\"rgb(67,147,195)\"],[0.9,\"rgb(33,102,172)\"],[1.0,\"rgb(5,48,97)\"]],\"sequential\":[[0.0,\"#440154\"],[0.1111111111111111,\"#482878\"],[0.2222222222222222,\"#3e4989\"],[0.3333333333333333,\"#31688e\"],[0.4444444444444444,\"#26828e\"],[0.5555555555555556,\"#1f9e89\"],[0.6666666666666666,\"#35b779\"],[0.7777777777777778,\"#6ece58\"],[0.8888888888888888,\"#b5de2b\"],[1.0,\"#fde725\"]],\"sequentialminus\":[[0.0,\"#440154\"],[0.1111111111111111,\"#482878\"],[0.2222222222222222,\"#3e4989\"],[0.3333333333333333,\"#31688e\"],[0.4444444444444444,\"#26828e\"],[0.5555555555555556,\"#1f9e89\"],[0.6666666666666666,\"#35b779\"],[0.7777777777777778,\"#6ece58\"],[0.8888888888888888,\"#b5de2b\"],[1.0,\"#fde725\"]]},\"colorway\":[\"#1F77B4\",\"#FF7F0E\",\"#2CA02C\",\"#D62728\",\"#9467BD\",\"#8C564B\",\"#E377C2\",\"#7F7F7F\",\"#BCBD22\",\"#17BECF\"],\"font\":{\"color\":\"rgb(36,36,36)\"},\"geo\":{\"bgcolor\":\"white\",\"lakecolor\":\"white\",\"landcolor\":\"white\",\"showlakes\":true,\"showland\":true,\"subunitcolor\":\"white\"},\"hoverlabel\":{\"align\":\"left\"},\"hovermode\":\"closest\",\"mapbox\":{\"style\":\"light\"},\"paper_bgcolor\":\"white\",\"plot_bgcolor\":\"white\",\"polar\":{\"angularaxis\":{\"gridcolor\":\"rgb(232,232,232)\",\"linecolor\":\"rgb(36,36,36)\",\"showgrid\":false,\"showline\":true,\"ticks\":\"outside\"},\"bgcolor\":\"white\",\"radialaxis\":{\"gridcolor\":\"rgb(232,232,232)\",\"linecolor\":\"rgb(36,36,36)\",\"showgrid\":false,\"showline\":true,\"ticks\":\"outside\"}},\"scene\":{\"xaxis\":{\"backgroundcolor\":\"white\",\"gridcolor\":\"rgb(232,232,232)\",\"gridwidth\":2,\"linecolor\":\"rgb(36,36,36)\",\"showbackground\":true,\"showgrid\":false,\"showline\":true,\"ticks\":\"outside\",\"zeroline\":false,\"zerolinecolor\":\"rgb(36,36,36)\"},\"yaxis\":{\"backgroundcolor\":\"white\",\"gridcolor\":\"rgb(232,232,232)\",\"gridwidth\":2,\"linecolor\":\"rgb(36,36,36)\",\"showbackground\":true,\"showgrid\":false,\"showline\":true,\"ticks\":\"outside\",\"zeroline\":false,\"zerolinecolor\":\"rgb(36,36,36)\"},\"zaxis\":{\"backgroundcolor\":\"white\",\"gridcolor\":\"rgb(232,232,232)\",\"gridwidth\":2,\"linecolor\":\"rgb(36,36,36)\",\"showbackground\":true,\"showgrid\":false,\"showline\":true,\"ticks\":\"outside\",\"zeroline\":false,\"zerolinecolor\":\"rgb(36,36,36)\"}},\"shapedefaults\":{\"fillcolor\":\"black\",\"line\":{\"width\":0},\"opacity\":0.3},\"ternary\":{\"aaxis\":{\"gridcolor\":\"rgb(232,232,232)\",\"linecolor\":\"rgb(36,36,36)\",\"showgrid\":false,\"showline\":true,\"ticks\":\"outside\"},\"baxis\":{\"gridcolor\":\"rgb(232,232,232)\",\"linecolor\":\"rgb(36,36,36)\",\"showgrid\":false,\"showline\":true,\"ticks\":\"outside\"},\"bgcolor\":\"white\",\"caxis\":{\"gridcolor\":\"rgb(232,232,232)\",\"linecolor\":\"rgb(36,36,36)\",\"showgrid\":false,\"showline\":true,\"ticks\":\"outside\"}},\"title\":{\"x\":0.05},\"xaxis\":{\"automargin\":true,\"gridcolor\":\"rgb(232,232,232)\",\"linecolor\":\"rgb(36,36,36)\",\"showgrid\":false,\"showline\":true,\"ticks\":\"outside\",\"title\":{\"standoff\":15},\"zeroline\":false,\"zerolinecolor\":\"rgb(36,36,36)\"},\"yaxis\":{\"automargin\":true,\"gridcolor\":\"rgb(232,232,232)\",\"linecolor\":\"rgb(36,36,36)\",\"showgrid\":false,\"showline\":true,\"ticks\":\"outside\",\"title\":{\"standoff\":15},\"zeroline\":false,\"zerolinecolor\":\"rgb(36,36,36)\"}}},\"title\":{\"font\":{\"size\":22,\"color\":\"Black\"},\"text\":\"<b>Topic Probability Distribution</b>\",\"y\":0.95,\"x\":0.5,\"xanchor\":\"center\",\"yanchor\":\"top\"},\"hoverlabel\":{\"font\":{\"size\":16,\"family\":\"Rockwell\"},\"bgcolor\":\"white\"},\"xaxis\":{\"title\":{\"text\":\"Probability\"}},\"width\":800,\"height\":600},                        {\"responsive\": true}                    ).then(function(){\n",
              "                            \n",
              "var gd = document.getElementById('092f2934-5be0-4676-a687-14d77c4c8884');\n",
              "var x = new MutationObserver(function (mutations, observer) {{\n",
              "        var display = window.getComputedStyle(gd).display;\n",
              "        if (!display || display === 'none') {{\n",
              "            console.log([gd, 'removed!']);\n",
              "            Plotly.purge(gd);\n",
              "            observer.disconnect();\n",
              "        }}\n",
              "}});\n",
              "\n",
              "// Listen for the removal of the full notebook cells\n",
              "var notebookContainer = gd.closest('#notebook-container');\n",
              "if (notebookContainer) {{\n",
              "    x.observe(notebookContainer, {childList: true});\n",
              "}}\n",
              "\n",
              "// Listen for the clearing of the current output cell\n",
              "var outputEl = gd.closest('.output');\n",
              "if (outputEl) {{\n",
              "    x.observe(outputEl, {childList: true});\n",
              "}}\n",
              "\n",
              "                        })                };                            </script>        </div>\n",
              "</body>\n",
              "</html>"
            ]
          },
          "metadata": {}
        }
      ],
      "source": [
        "bertopic_model.visualize_distribution(probs[0])"
      ]
    },
    {
      "cell_type": "code",
      "execution_count": 44,
      "metadata": {
        "colab": {
          "base_uri": "https://localhost:8080/"
        },
        "id": "Bx-vTU-MTP-D",
        "outputId": "a2aeb200-88a4-4468-872f-7e8860245663"
      },
      "outputs": [
        {
          "output_type": "stream",
          "name": "stdout",
          "text": [
            "0 번째 토픽 : [('맨하탄', 0.3958302882799244), ('맨해튼', 0.3225822697398207), ('나눔릴', 0.3221961797239609), ('받고', 0.16110278679565737), ('맨하튼', 0.14225507985158928), ('브루클린', 0.14225507985158928), ('브롱스', 0.1288086859525723), ('라이', 0.0958213765202444), ('맨해튼받고', 0.07785392896267686), ('리몬치노소다', 0.07785392896267686)]\n",
            "1 번째 토픽 : [('이미지', 0.15662803538680145), ('순서', 0.15555446511692167), ('내릴내받', 0.04572722953203948), ('받고', 0.032875719891460015), ('사진', 0.023992108297347266), ('입고', 0.019852227499772685), ('데고르쥬망을', 0.019368313362211603), ('쿼캐', 0.01818639322823041), ('라프', 0.017737277576427044), ('동영상', 0.015155475559997427)]\n",
            "2 번째 토픽 : [('얼음', 0.13040558288384002), ('탄산이', 0.05524238372611256), ('얼음을', 0.04811185942076244), ('얼음에', 0.042030367443717555), ('더블스트레인', 0.042030367443717555), ('스트레이너', 0.04028530765115875), ('얼린', 0.02966047211480505), ('라이프해커스', 0.02966047211480505), ('코블러사용', 0.02966047211480505), ('벽면에', 0.02966047211480505)]\n",
            "3 번째 토픽 : [('얼음', 0.12097719801806006), ('크러쉬드', 0.07687250017098479), ('없나', 0.06828793110700658), ('인퓨징', 0.06613518786190294), ('캄파리', 0.05806946505738047), ('레시피', 0.05700374500799777), ('아이스박스용', 0.05647151185320928), ('아울렛', 0.05647151185320928), ('생제르맨', 0.05647151185320928), ('쌓여서', 0.05647151185320928)]\n",
            "4 번째 토픽 : [('시작이야', 1.0988096643064105), ('나부터', 1.0847963655718647), ('하자구', 1.0024801552910059), ('버번콬', 0.2824898165604962), ('스타트', 0.2824898165604962), ('벌번커흐스탛트', 0.163652136390933), ('뢔므커흐스타트', 0.163652136390933), ('퐁피노', 0.163652136390933), ('벌번커흐스타트', 0.163652136390933), ('메맠콬스타트', 0.163652136390933)]\n",
            "5 번째 토픽 : [('일본', 0.0386596675531401), ('서울', 0.014741046831215363), ('과실미', 0.01289841597731344), ('한국', 0.012435646472298606), ('수령', 0.01195967136780059), ('이야', 0.011682497948697192), ('에노테카', 0.011207284419178482), ('야마토', 0.010969939357264095), ('산도', 0.009695708853174157), ('스파이스', 0.009641885704712748)]\n",
            "6 번째 토픽 : [('크룩', 0.031520611226106464), ('냉장고', 0.023779938762821955), ('보관', 0.02124062753898742), ('놓고', 0.019944488099319736), ('냉장', 0.017952179580160352), ('냉장고에', 0.016911537478054232), ('정말', 0.01538529435493536), ('로제', 0.014327550557321118), ('보관하기', 0.012271277492432904), ('빡빡이아조씨', 0.012271277492432904)]\n",
            "7 번째 토픽 : [('에반데', 1.216878231062056), ('윌리엄스', 1.0604034186128146), ('내술내받내받내받내받내받내받', 0.31175049414284456), ('내술내받내받내받내받내받내받내받', 0.31175049414284456), ('내술내받내받내받내받내받내받내받내받내받내받내받내받내받', 0.1706160570884195), ('슈가쁘리럼콕', 0.1706160570884195), ('새잔', 0.1706160570884195), ('삼진에바', 0.1706160570884195), ('내술내받내받내받내받내받내받내받내받내받내받내받내받내받내받내받내받', 0.1706160570884195), ('내술내받내받내받내받내받내받내받내받내받내받내받내받내받내받내받', 0.1706160570884195)]\n",
            "8 번째 토픽 : [('커피', 0.17706739371542043), ('사고', 0.07336872403429856), ('vs할거면', 0.06264808346215404), ('장비병생기네', 0.06264808346215404), ('쌀거면', 0.06264808346215404), ('또사', 0.06264808346215404), ('똥글', 0.06264808346215404), ('심장이', 0.06264808346215404), ('뛴다', 0.06264808346215404), ('침전되거나', 0.06264808346215404)]\n",
            "9 번째 토픽 : [('와인', 0.012228896977769386), ('너무', 0.00863532458562986), ('같은', 0.007087268875597198), ('와인을', 0.006967103863820497), ('좋은', 0.006727761041810275), ('맛이', 0.006408119571881838), ('느낌이', 0.006259758446354921), ('그리고', 0.006129045399548203), ('많이', 0.006081787060512888), ('향이', 0.00597853780376717)]\n",
            "10 번째 토픽 : [('가격', 0.013030134880383348), ('가격은', 0.012013400186623575), ('가격이', 0.01088296375996078), ('모스카토', 0.009308393358071173), ('그냥', 0.00810613074098989), ('오구', 0.007965095604127155), ('그리고', 0.007336778591215779), ('있는', 0.007239681315199312), ('샀는데', 0.006725702174964893), ('입니다', 0.006166146600437482)]\n",
            "11 번째 토픽 : [('앙고아로마틱', 0.07475649604445762), ('와텈', 0.07475649604445762), ('레몬필', 0.06769027884242321), ('칠면조', 0.06541665877944017), ('맨하탄', 0.059432244450192726), ('버번콕', 0.057391282081715976), ('아마로', 0.05358460480097037), ('설탕', 0.0503551111305366), ('조금', 0.049331545658482204), ('근데', 0.040928500729232736)]\n",
            "12 번째 토픽 : [('추천', 0.14519859082871536), ('과천', 0.12417180698909912), ('갈만한', 0.11243470045012668), ('여행기', 0.06795724307759082), ('몇곳', 0.06795724307759082), ('천안', 0.06795724307759082), ('전주', 0.06795724307759082), ('추천해줘요', 0.06795724307759082), ('창원에도', 0.06795724307759082), ('바탐방할껀데', 0.06795724307759082)]\n",
            "13 번째 토픽 : [('이거', 0.015114464658443107), ('이야', 0.014491534643442518), ('있음', 0.01147489064369685), ('그것은', 0.010149758428457636), ('오늘', 0.010057411504590911), ('이게', 0.008786016680556662), ('님들', 0.008720003019134217), ('그냥', 0.008700773036813906), ('칵테일', 0.008237190806695483), ('실기', 0.008025406934022053)]\n",
            "14 번째 토픽 : [('vs', 0.8180015947769406), ('칵하하하', 0.09812498816916027), ('칵하핫', 0.07475649604445762), ('디스크', 0.07475649604445762), ('미도리', 0.054239818278593234), ('올드패션드', 0.04382337275144012), ('조선인', 0.04091303409773325), ('아메리카', 0.04091303409773325), ('야하네요', 0.04091303409773325), ('우드포드리저브', 0.04091303409773325)]\n",
            "15 번째 토픽 : [('구리선', 0.0708634864068139), ('칼날', 0.050007758446121826), ('픽업했는데', 0.050007758446121826), ('발효통', 0.050007758446121826), ('밀납', 0.050007758446121826), ('범벅', 0.04528086912325921), ('비스니즈', 0.04528086912325921), ('쓸만한', 0.04251767700115301), ('파코리', 0.04146769672304617), ('실기', 0.03584499160747506)]\n",
            "16 번째 토픽 : [('나파', 0.06414280653127707), ('아르헨티노', 0.05657248349310307), ('넣는지', 0.05657248349310307), ('바나나콕은', 0.05657248349310307), ('정글버드', 0.05344401934928307), ('흑구백구', 0.05344401934928307), ('캔달잭슨', 0.051225075880752695), ('바나나', 0.04974545015028338), ('스피아민트', 0.04950449853579257), ('자파타', 0.04950449853579257)]\n",
            "17 번째 토픽 : [('끼안티', 0.07394578549462054), ('피오', 0.06923096945784916), ('너낌이', 0.05915385047634324), ('도메니코', 0.05479344068705246), ('체사레', 0.05323794598862322), ('기본급', 0.04888314261531337), ('집중도가', 0.04664912403538394), ('좋길래', 0.041744368161577484), ('토스카나', 0.041744368161577484), ('나은듯', 0.03943590031756215)]\n",
            "18 번째 토픽 : [('누룽지사탕', 0.02844202555627834), ('맛있네', 0.02303014259859078), ('시럽', 0.022037389361040844), ('맛있음', 0.018638123409033175), ('이거', 0.01831391944725825), ('빨대', 0.01765833361106692), ('안동', 0.017065215333767002), ('너무', 0.015508338031335259), ('맛있다', 0.014149517811806931), ('단맛', 0.01397859255677488)]\n",
            "19 번째 토픽 : [('이마트', 0.22728753935234297), ('백화점', 0.17456966648835456), ('질렀다', 0.17456966648835456), ('안들어가서', 0.10551256162046996), ('개쉽상땃쥐네', 0.10551256162046996), ('튼실한', 0.10551256162046996), ('궁금한거있음', 0.10551256162046996), ('기다려봤는데', 0.10551256162046996), ('크리산디뭄', 0.10551256162046996), ('진피즈받고', 0.10551256162046996)]\n",
            "20 번째 토픽 : [('예쁘게', 0.06136381383763903), ('무화과', 0.06001832968145618), ('코르크', 0.04548886864469354), ('2시간차', 0.04049977112704908), ('자라서', 0.04049977112704908), ('맛이건', 0.04049977112704908), ('머겅', 0.04049977112704908), ('위해서입니다', 0.04049977112704908), ('오다쥬가', 0.04049977112704908), ('연습할까', 0.04049977112704908)]\n",
            "21 번째 토픽 : [('와인', 0.058378995768384054), ('추천해주삼', 0.036178452406700486), ('묻지마', 0.036178452406700486), ('안가게', 0.036178452406700486), ('홀짝', 0.036178452406700486), ('메인', 0.03417778027522053), ('네이버', 0.03165843239696364), ('추천좀', 0.031148274306644855), ('블루큐라소', 0.030000086765067966), ('너무', 0.026972063211905612)]\n",
            "22 번째 토픽 : [('섹스', 0.6968296261288193), ('섹스중', 0.3185276787981238), ('crison', 0.174325101807733), ('이안창', 0.174325101807733), ('스페셜배치', 0.174325101807733), ('알려주겠다', 0.174325101807733), ('섹스입갤', 0.174325101807733), ('섹스를', 0.174325101807733), ('pina', 0.174325101807733), ('섹스네', 0.174325101807733)]\n",
            "23 번째 토픽 : [('타면', 0.07630165881378455), ('끓인다', 0.06044541926403631), ('생크림', 0.06044541926403631), ('마르사네', 0.06044541926403631), ('맛있으면', 0.05793578451141899), ('디카이퍼', 0.05086777254252303), ('오늘도', 0.04766766386148402), ('사워', 0.04533619337748787), ('만들어', 0.04012920487337991), ('쓰는', 0.037305543757852035)]\n",
            "24 번째 토픽 : [('맥주', 0.16039456491037807), ('받고', 0.14731998179134773), ('코앵트로는', 0.1173050933174942), ('칵테일', 0.09135370369233464), ('감홍로', 0.07495646696675112), ('칵하하', 0.0724387859930524), ('나눔릴', 0.06249756405191709), ('위스키', 0.060319883749987833), ('만들어줄', 0.045304828718393884), ('서던컴포트', 0.045304828718393884)]\n",
            "25 번째 토픽 : [('와인비드', 0.1441875105360866), ('받고', 0.12346418928536244), ('나눔릴', 0.0864224127905416), ('1996', 0.08353077794953873), ('부나하벤', 0.08353077794953873), ('필라이트', 0.08353077794953873), ('파인드', 0.08353077794953873), ('제무스톤', 0.08353077794953873), ('플테oftd', 0.08353077794953873), ('육성으로', 0.08353077794953873)]\n",
            "26 번째 토픽 : [('엌ㅋㅋㅋㅋㅋㅋㅋㅋㅋㅋㅋㅋㅋㅋㅋㅋㅋㅋㅋㅋㅋㅋㅋㅋㅋ', 0.27076111536969283), ('스매을', 0.14951299208891525), ('엌ㅋㅋㅋㅋㅋㅋㅋㅋㅋㅋㅋㅋㅋㅋㅋㅋㅋㅋㅋㅋㅋ', 0.1412449082802481), ('40삼', 0.0818260681954665), ('불렛vs물마우스', 0.0818260681954665), ('좆밥빨리감기', 0.0818260681954665), ('유키와vs아메가', 0.0818260681954665), ('엌ㅋㅋㅋㅋㅋㅋㅋㅋㅋㅋㅋㅋㅋㅋㅋㅋㅋㅋㅋㅋㅋㅋㅋㅋㅋㅋㅋㅋㅋㅋㅋㅋ', 0.0818260681954665), ('조니블랙하이볼1', 0.0818260681954665), ('엌ㅋㅋㅋㅋㅋㅋㅋㅋㅋㅋㅋㅋㅋㅋㅋㅋㅋㅋㅋㅋㅋㅋㅋㅋㅋㅋ', 0.0818260681954665)]\n",
            "27 번째 토픽 : [('오느레', 0.24122353914754452), ('오노레입고', 0.1457991760573767), ('139에', 0.1457991760573767), ('삭제함', 0.1457991760573767), ('홈바2', 0.1457991760573767), ('부럽ㅠ', 0.1457991760573767), ('볶음참깨', 0.1457991760573767), ('이꼬', 0.1457991760573767), ('물밥', 0.1457991760573767), ('잇냐', 0.1457991760573767)]\n",
            "28 번째 토픽 : [('페이백', 0.026039832488940033), ('하는데', 0.019644796956659057), ('해줘', 0.018338095232587583), ('만투아노', 0.017565205231710103), ('어떻게', 0.017304613182629255), ('방금', 0.016838059919504406), ('쓰는', 0.016767359215992376), ('콜라', 0.016068540271265714), ('칵테일', 0.015868111436254398), ('좋을까요', 0.014528363760920277)]\n",
            "29 번째 토픽 : [('메즈칼', 0.02795692778937066), ('ㅋㅋ', 0.02658077902656122), ('진피즈', 0.02414139383201685), ('순서', 0.023631957552020254), ('이미지', 0.023561770342892956), ('코아페', 0.023443637159541914), ('안댐', 0.023443637159541914), ('믹서기', 0.023443637159541914), ('비터', 0.023078149206477255), ('깔바토닉', 0.022147201618342906)]\n",
            "30 번째 토픽 : [('받고', 0.5520371422293465), ('나눔릴', 0.18941898693817336), ('다이키리', 0.0985950513172264), ('진토닉', 0.0955213500678804), ('하이볼', 0.08150348739023505), ('소다', 0.06699556135640106), ('켈리', 0.0669053571904735), ('다크키리', 0.0669053571904735), ('콥스', 0.0669053571904735), ('리바이버', 0.0669053571904735)]\n",
            "31 번째 토픽 : [('내술내받', 0.22096933356212273), ('소다', 0.17261209337708036), ('베르뭇', 0.1589434586761645), ('내릴내받', 0.15793185998040526), ('받고', 0.11155352631900982), ('네그로니', 0.10463272055704412), ('나눔릴', 0.0976064897399058), ('히비키하모니', 0.09434064333124374), ('럼그로니', 0.09434064333124374), ('럼패', 0.09434064333124374)]\n",
            "32 번째 토픽 : [('내술내받', 0.8286350008579603), ('내술내받내받내받', 0.5496035012354926), ('베르뭇소다', 0.5046465605286762), ('내술내받내받', 0.3573539747015449), ('헹군', 0.23585160832810934), ('수이하이', 0.23585160832810934), ('내꺼받고', 0.23585160832810934), ('야동배우', 0.23585160832810934), ('어으', 0.23585160832810934), ('공구럼', 0.21547460624578965)]\n",
            "33 번째 토픽 : [('받고', 0.3703925678560873), ('나눔릴', 0.3629741337202747), ('홈텐더', 0.12438088737295264), ('베르뭇소다받고', 0.0915767076544606), ('내릴내받', 0.0839013006145903), ('진토닉', 0.07844690874324678), ('진피즈', 0.06286821310421055), ('소다', 0.061133449737715964), ('올패', 0.05629247494780826), ('만투아노', 0.05593420040972687)]\n",
            "34 번째 토픽 : [('꿨음', 0.039282233846417415), ('모르겠으면', 0.037109922282746156), ('맛잇음', 0.037109922282746156), ('다른지', 0.037109922282746156), ('한달', 0.03339860418589231), ('이상한', 0.03339860418589231), ('전에', 0.0331603111453674), ('브솝', 0.031859595916697916), ('왔다', 0.030157349297630916), ('인생', 0.02850135223218304)]\n",
            "35 번째 토픽 : [('못감', 0.09224219511345522), ('코엑스', 0.05270601879393416), ('평일에', 0.05270601879393416), ('카톡', 0.047724081486025), ('어떰', 0.034880885673363074), ('입고', 0.032610973231041465), ('근데', 0.028856065262336753), ('바디만', 0.028845160730775966), ('바람때문인지', 0.028845160730775966), ('산책', 0.028845160730775966)]\n",
            "36 번째 토픽 : [('해볼까', 0.062351355907496915), ('시바', 0.062351355907496915), ('사제락', 0.04576957811819793), ('나눔릴', 0.037371854179693666), ('존나', 0.03662733744450153), ('별의', 0.03612141749169242), ('압생트가있네', 0.03612141749169242), ('존나들쭉날쭉함', 0.03612141749169242), ('떡밥이', 0.03612141749169242), ('잡았는데', 0.03612141749169242)]\n",
            "37 번째 토픽 : [('살까', 0.059857322328363785), ('제발', 0.04629091065027297), ('올스파이스', 0.04374898922882418), ('하나', 0.03897336795452233), ('써야대는데', 0.032999813510928885), ('시럽만들어야징', 0.032999813510928885), ('박아볼까', 0.032999813510928885), ('바뀐거', 0.032999813510928885), ('뭐하는놈들이냐', 0.032999813510928885), ('무설치형도', 0.032999813510928885)]\n",
            "38 번째 토픽 : False\n",
            "39 번째 토픽 : False\n",
            "40 번째 토픽 : False\n",
            "41 번째 토픽 : False\n",
            "42 번째 토픽 : False\n",
            "43 번째 토픽 : False\n",
            "44 번째 토픽 : False\n",
            "45 번째 토픽 : False\n",
            "46 번째 토픽 : False\n",
            "47 번째 토픽 : False\n",
            "48 번째 토픽 : False\n",
            "49 번째 토픽 : False\n"
          ]
        }
      ],
      "source": [
        "for i in range(0, 50):\n",
        "  print(i,'번째 토픽 :', bertopic_model.get_topic(i))"
      ]
    },
    {
      "cell_type": "code",
      "execution_count": 45,
      "metadata": {
        "colab": {
          "base_uri": "https://localhost:8080/"
        },
        "id": "guByfJt72RTE",
        "outputId": "23db20ad-5b03-460b-f7d7-9de35140ae03"
      },
      "outputs": [
        {
          "output_type": "stream",
          "name": "stdout",
          "text": [
            "22\n",
            "120\n",
            "22\n",
            "15\n",
            "12\n",
            "83\n",
            "38\n",
            "16\n"
          ]
        }
      ],
      "source": [
        "for i in range(8):\n",
        "  print(topics.count(i))"
      ]
    },
    {
      "cell_type": "code",
      "source": [
        "print(topics)"
      ],
      "metadata": {
        "colab": {
          "base_uri": "https://localhost:8080/"
        },
        "id": "Ye5w14GClO43",
        "outputId": "30810143-5c86-43d5-8953-c5899c64a40d"
      },
      "execution_count": 46,
      "outputs": [
        {
          "output_type": "stream",
          "name": "stdout",
          "text": [
            "[-1, 36, 10, -1, -1, -1, 30, -1, 21, 13, -1, 37, -1, -1, 25, -1, -1, 18, 23, -1, -1, 10, 28, 9, 13, 24, -1, 9, 29, 9, 10, -1, 13, 13, -1, -1, -1, -1, 10, -1, 9, 18, 37, 13, -1, -1, -1, 10, 23, 9, 28, -1, 32, -1, 7, -1, 7, 10, 7, 9, 13, 30, -1, -1, 1, 9, -1, -1, -1, 31, 36, -1, 11, -1, 13, -1, 24, 9, 7, -1, -1, 20, 1, 9, 13, 23, 13, 35, -1, -1, -1, 9, 1, 9, -1, -1, 9, 13, 23, -1, -1, -1, 10, 9, 29, -1, -1, 2, -1, 18, -1, -1, 29, 28, -1, 9, 9, 9, 29, 9, 4, -1, -1, -1, 5, -1, -1, 35, 1, -1, 9, 10, 13, -1, -1, 1, -1, -1, 27, -1, 28, -1, 29, 1, -1, 37, -1, 18, 23, 13, 9, 1, -1, 29, 9, 25, -1, 9, -1, 9, 25, -1, -1, 9, -1, -1, 9, 9, -1, -1, 1, 36, -1, 5, -1, 37, -1, -1, 18, 9, 20, 29, -1, 13, -1, 29, -1, -1, 31, 13, 30, -1, -1, -1, 23, 1, 1, 9, 1, 1, -1, 20, 13, 13, 15, -1, 17, -1, -1, -1, 13, 1, -1, 36, -1, 28, 20, -1, 29, 13, -1, 9, 9, -1, -1, 0, 28, 9, 29, -1, 5, -1, 5, -1, 24, 1, 13, 9, -1, 9, -1, 34, 29, -1, 18, 10, 9, -1, 13, -1, 17, -1, -1, -1, -1, 27, 20, 9, 13, -1, 10, -1, 9, -1, 12, -1, -1, -1, -1, 33, 9, -1, 9, -1, -1, -1, 2, 1, 1, 28, -1, -1, 29, -1, 9, -1, 1, 31, 24, 13, -1, -1, -1, -1, -1, 9, 9, 9, 10, -1, 36, 13, 1, 34, -1, -1, 18, -1, 10, -1, -1, 3, 9, -1, 9, 9, 27, -1, -1, -1, -1, -1, -1, -1, -1, -1, -1, -1, -1, 36, 10, -1, 13, 10, 28, 9, 9, 13, -1, 28, -1, -1, 35, -1, 4, 34, -1, 37, 9, -1, -1, -1, 8, -1, -1, 18, -1, 9, 13, 6, 23, -1, 26, 3, 9, -1, 3, 9, 9, -1, 5, 9, -1, 9, -1, 14, 2, 26, 33, -1, 32, 9, 32, 13, 32, 31, -1, 33, 33, 33, 28, 13, 13, -1, -1, 22, 9, -1, 8, 1, 9, 1, 11, 9, 9, 9, 24, -1, 13, 9, 13, 9, 13, -1, 29, -1, 10, 10, -1, -1, -1, 33, 1, -1, -1, 18, -1, 8, -1, -1, 9, 9, 25, -1, 9, -1, -1, -1, -1, 13, -1, 28, 9, 2, 18, 6, 13, 13, -1, 9, -1, 9, -1, 28, -1, -1, 9, 10, 2, -1, 36, 13, 13, -1, -1, 22, 13, -1, 9, 9, 9, -1, -1, 29, 35, -1, -1, -1, -1, 18, 37, 9, -1, -1, -1, -1, 9, -1, -1, -1, 25, 1, 30, -1, -1, 1, 18, 35, 25, -1, -1, 13, -1, 24, -1, 18, -1, -1, 30, 6, -1, 0, -1, 29, 9, -1, -1, 9, 31, 9, 13, -1, -1, 9, -1, 10, -1, 5, -1, 37, -1, -1, 12, 28, 5, -1, 9, 18, -1, 10, -1, 9, -1, 37, -1, 10, -1, -1, -1, -1, 35, -1, 13, -1, -1, -1, 29, 27, 30, 10, -1, 13, 10, -1, 13, 19, -1, 10, 33, -1, -1, -1, 18, -1, -1, 13, -1, 18, 35, 35, -1, 13, 13, 35, 12, 9, -1, 18, -1, -1, 9, 9, 9, 13, 13, -1, 10, 13, 1, -1, 9, -1, -1, 9, 13, 10, -1, -1, 1, 1, -1, 13, 9, 16, -1, 5, 10, -1, -1, 31, 36, 35, -1, -1, -1, -1, -1, 6, 13, 34, 13, 34, -1, 19, 9, 9, 23, 9, -1, -1, -1, -1, -1, 28, -1, 28, -1, 9, 18, -1, 9, -1, 10, 9, 10, -1, 10, 13, 21, -1, 13, 13, -1, 13, 13, -1, 10, 9, 10, 9, 18, -1, 1, 13, 5, -1, -1, -1, -1, 23, -1, -1, -1, -1, 10, 9, -1, -1, 13, 9, -1, 10, 9, 19, 18, -1, -1, 9, 29, -1, 13, 9, -1, 35, 9, 9, -1, -1, -1, -1, 9, -1, 1, -1, -1, 9, -1, -1, -1, 13, 13, 9, 13, -1, 35, -1, -1, 21, 36, 4, 23, 16, -1, -1, -1, 13, 13, 9, 34, 8, 9, -1, 1, -1, 1, 16, -1, 1, 37, 9, -1, 13, 1, 16, 35, 5, 29, -1, 9, 2, 13, 9, 13, 9, 36, 29, 29, 13, 25, -1, -1, 28, -1, 9, 29, 9, -1, -1, 9, 34, 9, -1, -1, -1, 31, 32, 13, -1, 13, 7, -1, 36, 9, 9, 32, 13, 1, 7, 7, 2, 7, -1, -1, 7, 7, 27, 10, -1, 7, -1, 7, 7, 7, 13, 7, -1, 31, 24, -1, -1, 2, 34, 0, 33, 37, 9, 13, 28, -1, 4, -1, -1, 13, 14, -1, 10, -1, 1, 1, -1, -1, 9, 10, 9, -1, 10, 13, 28, -1, 5, -1, -1, 10, 18, 10, 23, -1, 13, -1, -1, -1, -1, 2, 18, 15, 34, 9, 10, 13, 9, -1, -1, -1, 26, -1, -1, -1, 1, 21, 10, 18, 23, -1, 1, 37, -1, 9, 22, -1, -1, 20, 1, 9, -1, -1, 22, -1, 9, -1, 1, -1, -1, 30, 13, -1, 30, 20, 9, 37, 29, -1, 1, -1, -1, -1, 9, 1, 9, 25, 30, -1, 9, 33, -1, -1, 9, -1, 29, -1, -1, 9, 3, 36, 9, -1, -1, -1, -1, 34, 13, 13, 9, -1, -1, -1, -1, 13, -1, 9, 2, 35, 29, 12, -1, 10, 24, -1, 9, 9, 23, -1, -1, -1, 9, -1, -1, 5, 13, 36, -1, 37, -1, -1, 9, 13, 36, -1, 9, 34, -1, 13, 9, -1, 10, 9, 0, -1, 30, 11, 35, 9, 33, 30, 15, 13, 10, -1, 18, 29, 13, 20, -1, 30, 18, 13, 9, -1, 10, 30, 28, -1, 9, -1, -1, 26, 13, -1, 24, -1, 9, -1, -1, 37, 14, 13, 9, 13, 34, -1, -1, 13, -1, -1, 9, -1, 21, -1, -1, -1, -1, 9, 36, -1, -1, -1, 13, -1, 10, 1, 9, 36, -1, -1, -1, 13, -1, 9, -1, -1, -1, 10, 9, 9, 9, 23, 26, -1, 13, 9, -1, -1, 9, -1, 29, 10, 3, -1, 0, 29, 9, 0, -1, 11, 36, 24, -1, 34, -1, -1, -1, 9, 9, 9, -1, 9, 33, 13, 28, -1, 14, -1, 33, 14, 14, 14, -1, 13, 14, 27, -1, 9, -1, 14, 18, -1, 14, 26, 14, 29, 14, 9, 26, 14, 37, 34, 0, 0, -1, -1, 13, 26, -1, 14, 14, 14, -1, -1, -1, -1, 28, 36, -1, 14, -1, 24, -1, 18, -1, 9, 10, 29, 29, 24, 9, 30, -1, 8, -1, -1, 14, -1, -1, 14, 5, 9, 10, 24, 14, 15, -1, 31, 23, 1, -1, -1, -1, 20, 9, -1, -1, 9, 30, 1, 30, 30, 13, 11, -1, -1, -1, 7, 36, 24, 34, 33, -1, 9, 30, 28, 37, -1, 36, 9, -1, 35, 9, -1, -1, -1, 28, 18, 13, 6, 13, -1, 13, 30, 9, -1, -1, 26, 9, -1, 9, -1, 33, 13, -1, -1, 9, 13, 18, 14, 18, -1, 13, -1, 13, 33, 13, 13, 14, 13, 34, 14, 14, 1, 11, -1, 5, -1, 14, 14, 34, 36, 13, -1, -1, 27, 4, -1, -1, -1, 9, -1, -1, 28, 36, -1, 32, 13, -1, -1, -1, 13, 30, 30, 9, 36, 14, 13, 24, 35, -1, 9, -1, -1, -1, -1, 13, 14, 14, 14, -1, -1, 14, -1, 37, -1, -1, -1, 5, -1, 14, 14, -1, -1, 8, 9, -1, 9, 14, 36, -1, -1, -1, 5, -1, -1, 33, -1, 18, 9, 10, 35, -1, 26, 14, 0, 14, 0, -1, 1, 9, 30, 14, -1, 13, 30, -1, 13, 13, 13, -1, 9, 1, -1, -1, 19, 29, 13, 23, 8, -1, 0, 29, 36, -1, 9, -1, -1, 1, -1, -1, -1, 9, -1, 9, 29, 9, 9, -1, -1, 1, -1, -1, -1, -1, -1, -1, -1, -1, 6, 33, 9, -1, -1, 29, 33, 33, 1, 13, -1, -1, -1, 35, -1, 36, -1, 9, -1, -1, 30, -1, -1, -1, 18, -1, 30, -1, -1, -1, 9, -1, 24, -1, -1, -1, -1, 13, -1, 9, -1, 9, -1, 9, -1, -1, 13, 1, -1, 13, 27, 13, -1, -1, 9, -1, 35, 18, -1, -1, 10, -1, 13, -1, 9, -1, 29, 0, -1, -1, 13, 33, 0, -1, -1, -1, 33, -1, 6, -1, 9, -1, 15, 3, -1, -1, 10, -1, 35, 33, -1, -1, 9, -1, 34, 9, 36, -1, 9, 9, 13, -1, 9, 9, 9, -1, -1, -1, 34, 9, -1, -1, -1, -1, -1, 9, 9, -1, -1, 24, -1, 13, 18, 1, 10, -1, 29, 9, -1, 9, -1, 13, 9, -1, 9, 1, -1, 13, 26, 37, -1, -1, -1, 22, -1, 22, 22, 9, -1, -1, 28, -1, 5, 36, -1, 29, 9, -1, -1, 29, 29, 34, 10, -1, 35, 9, -1, 13, -1, 24, 13, 9, -1, -1, 9, 4, -1, -1, 18, 9, -1, 1, -1, 9, 36, -1, 31, 13, 9, 34, -1, 34, -1, -1, 28, -1, -1, -1, 27, 19, 10, -1, -1, 13, 9, -1, -1, 16, 16, 9, 10, -1, -1, 9, 28, 9, 9, 18, -1, 8, 9, 9, -1, 12, 13, -1, -1, -1, -1, 5, -1, -1, -1, -1, 27, 9, 37, 35, 28, 16, 9, 13, 28, 9, 8, -1, 9, 13, 26, 10, 13, 9, -1, 29, -1, 31, -1, 36, -1, 22, -1, 10, -1, -1, 13, 1, 9, 32, 13, 35, -1, -1, -1, 2, 33, 10, 13, -1, 34, 5, 18, 33, -1, -1, 9, -1, 9, 1, 31, 9, 9, -1, 1, -1, -1, 18, 18, 9, 9, -1, -1, 9, 9, 1, -1, 9, -1, -1, -1, 3, -1, 9, 1, -1, 5, -1, -1, 24, 30, -1, 1, 28, 1, -1, -1, -1, -1, 1, 30, 18, -1, -1, 13, 2, 20, 9, -1, 9, -1, -1, -1, -1, -1, 9, -1, 20, -1, -1, 13, 9, 2, -1, 32, 13, 28, 36, 34, 13, 13, 34, 13, 9, -1, 22, 23, 1, -1, 10, 5, 36, -1, 1, 4, -1, 33, -1, -1, 13, -1, -1, -1, -1, 11, -1, -1, 9, 31, 10, 3, 28, -1, -1, 9, -1, -1, 13, 13, 9, 9, 18, -1, -1, 1, 9, -1, -1, 9, -1, -1, -1, 27, 37, 9, -1, 13, 9, -1, 9, 12, -1, 9, 28, -1, -1, 33, -1, -1, 13, -1, -1, 30, -1, -1, 9, -1, 33, 9, -1, -1, 9, -1, 9, -1, 29, 9, 11, 34, 16, 18, 13, 5, 22, 1, 10, 9, -1, -1, -1, 9, 5, -1, -1, -1, -1, 9, -1, 34, -1, -1, -1, 26, -1, -1, 31, -1, 29, 9, 9, 31, -1, 9, 13, 13, -1, 5, 10, -1, 9, 5, 9, 13, -1, -1, -1, -1, -1, -1, -1, -1, -1, 9, -1, 21, 13, 29, 29, 20, 34, 36, -1, -1, -1, -1, 28, -1, -1, -1, -1, -1, -1, -1, -1, 9, -1, 1, 29, -1, -1, 18, 6, 9, -1, -1, 13, 6, -1, 30, 9, 9, 6, 13, -1, 13, 30, -1, 9, 6, 9, 4, 24, -1, -1, 10, 18, 10, 13, 12, 6, 9, 6, 6, 15, 34, 29, 30, 6, -1, 5, 30, -1, -1, -1, -1, 36, -1, 6, 9, -1, 29, -1, -1, 26, 1, 10, 1, 13, -1, 9, 28, -1, -1, 6, 30, -1, 24, 30, -1, 20, -1, 13, -1, 9, 13, -1, 9, 13, 28, -1, 37, 28, 9, -1, 10, 15, 9, 13, -1, 23, 10, 5, 13, 30, 31, 5, 32, 32, -1, -1, 5, 18, 31, -1, -1, 17, 32, 13, -1, -1, 9, 13, 19, -1, 13, 35, 34, 35, 4, 30, 30, 15, 18, 9, 9, 13, 28, -1, 10, 9, 9, 9, 10, -1, -1, -1, -1, 29, 13, -1, 10, -1, 10, -1, -1, 13, 16, 10, -1, -1, 9, -1, -1, 13, 37, -1, -1, 26, 37, 9, 18, -1, -1, 9, 13, 29, -1, -1, 13, 1, -1, 35, -1, 33, 10, -1, -1, 13, 3, 1, 9, 13, -1, 30, -1, -1, 9, -1, 10, 37, 1, -1, -1, 1, 9, 29, 26, -1, 13, 0, 30, 28, -1, -1, 9, -1, 34, 29, 34, 9, -1, -1, 9, 24, 9, -1, 13, -1, 26, -1, 20, 13, 9, 14, 34, -1, 36, -1, -1, 37, -1, 10, 9, 10, 13, 33, -1, -1, 9, 33, 33, 33, 13, 13, 13, -1, 29, -1, 13, 2, -1, -1, 9, -1, 10, 9, -1, 35, 9, 10, -1, 9, -1, -1, 8, 34, -1, 18, 30, 9, -1, 1, 36, -1, -1, 13, -1, 18, -1, 18, 21, -1, -1, 13, 9, -1, 9, -1, -1, -1, -1, -1, 9, -1, 24, 9, 16, -1, 10, 9, 9, 9, -1, 18, 9, -1, -1, -1, 27, -1, -1, 9, -1, 9, 13, -1, -1, 9, -1, -1, 29, 33, -1, -1, -1, -1, 13, -1, 0, 10, 0, 33, -1, -1, -1, 9, -1, 10, 29, 0, 0, 35, 13, -1, -1, -1, -1, 20, -1, 13, 25, 30, 9, 30, 30, 18, -1, 18, 28, -1, -1, -1, 9, 29, -1, -1, 1, -1, 13, 9, -1, -1, 35, -1, -1, 10, 0, 0, -1, -1, -1, 10, 19, 28, -1, 23, -1, -1, -1, 6, -1, 2, 10, -1, 30, 13, 24, 13, -1, 33, 31, 18, 18, 8, -1, -1, -1, 9, -1, -1, 9, 16, 36, 25, 9, 1, -1, -1, 13, 33, 9, 26, 30, 37, 30, -1, -1, -1, -1, 9, -1, -1, 25, 13, -1, -1, 33, -1, -1, -1, 13, -1, -1, -1, -1, 13, 30, 33, -1, 30, 33, -1, -1, -1, 13, 34, 33, 9, -1, 29, 9, 29, -1, -1, 9, -1, -1, -1, 31, -1, 13, 13, -1, 13, 34, 9, -1, -1, 13, 27, -1, -1, 29, 13, -1, -1, 28, 24, -1, -1, -1, -1, -1, 1, 15, 12, 9, 20, 13, 28, 6, 5, 10, 29, -1, 1, 30, -1, 13, -1, -1, -1, 1, 1, 24, 13, 24, 6, -1, -1, 35, 1, 9, 25, 34, 25, 13, -1, 34, -1, 18, -1, 9, -1, -1, -1, -1, 1, 13, 29, 28, -1, -1, 13, 1, 18, 26, 10, 1, 5, 30, 13, -1, -1, -1, -1, 14, 28, -1, 9, 36, -1, -1, 27, 22, 29, 9, -1, 30, -1, 13, -1, -1, 11, 37, 10, -1, 13, 9, -1, 13, 16, -1, 17, 9, -1, -1, -1, 28, 10, 9, 10, -1, 31, 9, -1, -1, 28, -1, 28, -1, 18, 2, 37, 9, 10, 9, 9, 31, -1, -1, 0, 9, -1, -1, -1, 26, -1, 9, -1, 13, 23, 13, 20, 26, -1, 9, -1, 9, -1, 9, -1, -1, 1, -1, 1, 9, 13, -1, -1, 1, 23, 18, -1, 35, 1, -1, -1, 30, -1, 1, 30, -1, 9, -1, -1, 13, 13, -1, 36, -1, 29, 0, -1, 23, 18, 13, -1, -1, -1, 36, 9, -1, -1, -1, 35, -1, -1, -1, -1, 31, -1, -1, -1, 9, 13, -1, 9, 10, -1, -1, 32, 13, -1, 31, 37, -1, 34, 18, 9, -1, 3, 34, 2, -1, -1, -1, 37, 28, 9, 13, 13, -1, 26, 3, 2, -1, 9, -1, 25, 16, 29, 25, 30, 32, 32, 1, -1, -1, -1, 11, -1, -1, -1, -1, -1, 13, 13, 33, -1, -1, -1, 29, -1, -1, 13, -1, 28, -1, -1, -1, -1, 13, -1, -1, 26, 15, -1, -1, -1, -1, -1, -1, 33, 9, -1, 2, -1, 30, 28, -1, 10, 6, -1, 9, 10, 13, -1, -1, -1, 9, 23, 10, 13, -1, 4, 3, -1, 14, 10, 28, 12, -1, 27, -1, -1, 9, -1, 9, -1, 9, -1, 10, 13, -1, 9, 13, 19, 13, 26, -1, 5, 13, -1, -1, 24, -1, 3, -1, 26, 3, 13, 24, 13, -1, -1, -1, -1, -1, -1, -1, 28, -1, 18, -1, -1, -1, 5, 13, 9, 24, -1, 36, 29, -1, -1, -1, 14, 26, 13, -1, 33, 29, -1, 36, 14, -1, -1, 24, 10, 9, -1, -1, -1, -1, 1, 14, 14, -1, 14, 14, 25, 24, -1, 37, 9, -1, 13, -1, 10, -1, 37, -1, -1, -1, 2, 1, -1, -1, -1, 1, 9, -1, 23, 19, 9, -1, 4, 28, -1, 28, -1, -1, 25, 13, 9, 9, -1, 29, -1, 13, -1, -1, 26, -1, 26, -1, -1, -1, 1, -1, -1, -1, -1, -1, 13, 18, 18, -1, 21, -1, 29, 18, 34, -1, 15, 13, 9, 15, -1, -1, 37, 10, 13, 9, 18, 9, -1, 9, 10, 9, -1, 5, -1, 9, 5, 13, 9, 9, 10, -1, 5, 10, -1, -1, -1, 5, 10, 9, 10, -1, 9, 9, 13, 9, 13, 30, -1, 13, 37, -1, 10, 9, -1, 10, -1, -1, 9, 9, 23, 1, -1, -1, 10, -1, 5, -1, 10, 10, 9, -1, -1, 13, 10, 9, -1, -1, 10, 13, -1, 5, 9, 1, 9, 9, 10, 13, 13, -1, -1, -1, 9, -1, -1, 9, 13, 9, -1, 35, -1, 10, 10, 9, 9, -1, 5, 28, 28, -1, -1, -1, 9, -1, 5, -1, 9, 10, 10, 9, 10, 30, -1, 10, 9, 10, 13, -1, 28, 10, -1, -1, -1, 10, 13, 5, -1, -1, 1, 15, 21, -1, -1, 5, 5, 10, 5, -1, -1, 9, 10, 9, -1, -1, 5, 13, 9, 13, -1, -1, -1, 9, 9, 9, 13, 10, 10, -1, 1, 9, 10, 1, 10, -1, 10, 13, 5, -1, 20, 9, 13, -1, 10, -1, 10, -1, 9, -1, -1, 10, 13, 5, 9, -1, -1, 10, 13, 13, -1, 9, 9, -1, 9, 13, 5, 20, 13, 9, 13, 9, 13, 1, 13, 1, 16, 9, 9, 17, -1, -1, 10, 9, 10, 10, 18, 9, -1, -1, 13, 10, 13, 9, 9, 9, -1, -1, 13, 9, 13, 9, 29, -1, -1, 18, 13, 28, -1, 18, 6, 10, 21, 10, 9, -1, 13, 9, 9, 9, 9, 9, 9, -1, 13, 9, 9, 9, 9, 5, 9, 9, 9, 34, -1, 29, 13, -1, -1, -1, -1, 5, -1, 9, 5, 9, 29, 13, -1, 9, 18, -1, -1, 9, 9, 9, -1, 5, 10, -1, 9, 9, 36, -1, -1, 13, -1, 13, 36, 9, 9, 9, 9, -1, -1, 13, 9, -1, -1, 6, -1, -1, 10, -1, 13, 9, -1, 29, -1, -1, 9, 10, 10, -1, 9, -1, 10, -1, 9, 9, 10, -1, 13, 13, -1, 18, 18, 9, -1, -1, -1, -1, 9, 9, -1, -1, -1, 9, 6, -1, 6, 9, -1, 15, 9, -1, 9, 9, -1, 9, -1, -1, 9, 36, -1, -1, 13, 29, -1, -1, 9, -1, -1, 9, 9, 9, 34, 34, 5, 9, 9, 23, 10, 10, 10, 9, 9, 17, 9, 9, 9, 9, 15, 5, -1, -1, 29, 18, -1, -1, -1, -1, 9, -1, -1, 9, 9, 9, 9, 9, 16, 10, 9, 9, 29, 9, -1, -1, -1, -1, -1, 9, 9, 9, 9, 10, -1, 9, -1, 9, 13, 9, 9, 9, 27, 9, 9, 23, 9, -1, -1, 5, 28, 10, 9, 10, -1, 9, 10, 9, 9, 9, 10, 9, 9, -1, 9, 9, 9, 10, 4, 9, 10, 9, 9, -1, 10, -1, -1, -1, 13, 9, 9, 9, 9, -1, 9, 9, 9, 13, -1, -1, 9, 9, 23, 10, -1, -1, 9, 29, 13, 10, 21, 28, 13, -1, 9, 1, 10, 10, 9, 10, 18, 13, -1, 9, -1, 9, 29, -1, 9, 9, 29, 9, -1, 9, 13, 9, 9, -1, -1, 13, 10, 9, -1, 13, 9, 5, 9, 10, 9, 20, 9, 29, 21, 10, 12, -1, 9, 9, 10, 9, -1, 9, 10, 9, 10, 9, -1, 10, 9, -1, 13, -1, 13, 9, 9, 9, -1, 9, 10, 10, -1, 9, 9, -1, 9, 10, 9, -1, -1, -1, 9, 9, 28, 10, 9, -1, 9, 9, 10, 25, 6, 9, 9, 9, 9, 9, 9, 9, -1, -1, 10, 9, 13, 10, 13, 9, -1, 9, 16, 10, 9, 21, 1, 9, 13, 9, 10, 9, 9, 9, 1, -1, 9, 10, 19, 9, 10, 9, -1, 9, 10, 9, 10, 13, 9, -1, 13, 10, 9, 9, 9, 13, -1, 17, 1, -1, -1, 9, 1, 5, -1, 29, -1, 9, 6, 9, 13, 9, 21, 10, 9, 20, 5, 9, 9, 9, -1, 18, 13, 9, -1, 9, 9, 9, -1, 9, 9, 9, 10, 9, -1, 10, -1, 9, 10, 15, 13, 10, 9, 10, 5, 9, -1, 9, 13, 18, -1, -1, 9, 9, -1, 15, 37, 27, 23, -1, 10, 25, 9, -1, 10, 13, -1, 9, 1, 10, 9, 10, 9, -1, 10, 9, -1, -1, -1, -1, 9, 9, 9, 13, 13, 9, 9, 1, 9, 9, 9, 10, 9, 9, 9, 10, 13, 1, 6, 10, -1, 9, 9, -1, 9, 9, 9, -1, -1, 9, 17, 9, 9, -1, -1, 9, -1, 9, 10, 10, 9, 9, 10, 21, -1, 13, 10, 9, 9, 21, 9, -1, 9, 13, 9, 21, 9, 13, -1, 13, 13, 18, 9, 9, -1, 9, 10, 9, 9, 10, 9, 9, 9, -1, 5, 9, 9, 10, 6, 9, 10, 29, 5, 9, -1, 5, 9, 10, 9, 21, 9, 13, -1, -1, 9, 18, 9, 10, 13, -1, 9, 18, -1, 9, 9, 9, 9, 9, 9, 9, 9, 10, 9, -1, 5, 13, 13, 13, -1, -1, 9, 9, 9, 10, 9, 9, 9, 9, 25, 10, 10, 9, -1, 1, 9, 9, 18, 35, 10, 10, 17, 9, 13, 9, 13, -1, 5, 9, 9, 9, 9, 9, -1, 9, -1, 9, 9, 10, 9, -1, 9, -1, 9, -1, 9, 9, 10, 9, 9, -1, 9, 10, 9, 25, 5, -1, 9, 10, 13, 10, 13, 10, 9, -1, 9, 5, 9, -1, 5, 9, 9, 21, 6, -1, 13, 17, 9, 9, -1, 21, 9, -1, 10, 9, -1, 9, -1, 5, 9, 9, 18, 9, 9, 9, -1, 9, 10, 10, -1, 9, 13, 13, 9, 10, -1, 9, 10, 10, 10, 9, 9, 21, 10, 10, 9, 10, 6, 21, 6, -1, 6, 10, 9, -1, 9, 9, 9, 17, 10, 9, 5, -1, 34, 9, -1, 9, 5, 9, 21, 10, 21, -1, 9, 10, -1, -1, 9, -1, 29, 9, -1, -1, 9, 10, -1, 9, 18, 9, -1, 9, 5, -1, 9, 21, 9, -1, 9, 9, 9, 9, 9, 28, 9, 9, 13, 9, 9, 21, 29, -1, 9, -1, -1, -1, 9, 9, -1, 6, 13, 9, 10, 9, -1, 12, 9, 5, 9, 10, 10, 28, 5, 5, 9, 9, 9, 13, 9, 9, 9, 9, 13, 9, -1, 9, -1, -1, 26, 9, -1, -1, 21, 9, -1, 9, 9, -1, -1, 9, 9, 18, -1, 9, 9, -1, 25, -1, 9, 9, -1, 9, 9, 21, 9, 18, 13, 9, 9, 37, 9, 10, -1, 5, -1, -1, 13, -1, 9, 10, 9, 9, 9, 9, 13, -1, 37, 10, 9, 9, 9, 9, -1, 13, 9, 13, 5, 9, 9, -1, -1, 9, 9, 9, -1, 28, -1, -1, -1, -1, 9, 10, 10, 17, 35, 6, 9, 23, -1, 1, 9, 10, 9, 10, 9, 9, 10, -1, 9, 1, -1, 9, -1, 9, 9, -1, 5, 9, -1, 9, -1, -1, 10, 9, -1, 10, -1, -1, 9, 10, 10, 9, -1, 10, -1, 9, 9, 17, -1, 9, 9, 9, -1, 13, 9, 3, 9, 10, 10, -1, -1, -1, -1, 10, 10, 9, 9, 9, 9, 9, 11, 9, 9, 10, -1, 9, 5, -1, 9, 10, 5, 10, 10, 10, 9, -1, 34, -1, 6, 10, 9, -1, 9, 9, 9, 9, 16, 13, 13, 10, 6, -1, 9, 9, 18, 10, -1, 37, 9, -1, 13, 10, 9, 9, 9, 9, 10, 29, 9, 9, 9, 9, 9, 9, -1, -1, 10, -1, 1, -1, 10, 9, 17, -1, 13, 9, 9, 9, 9, 9, 18, 9, -1, 9, -1, 9, 9, 9, -1, 24, 9, 10, -1, -1, 10, -1, -1, 9, -1, 10, 5, 1, 10, 12, 13, 10, 10, 16, 10, 9, 9, 9, 9, 10, -1, -1, 9, 9, 9, 13, 9, 20, -1, 9, 13, 9, 9, 16, 9, 9, -1, 10, -1, 9, 9, 2, -1, 9, 2, 9, 9, 9, 9, 21, 9, 9, -1, 9, 13, 13, 9, 9, 9, 9, -1, 13, -1, 1, 9, -1, 9, 10, 19, 9, 9, 28, 10, 9, -1, 16, 10, -1, 9, 10, 9, 9, -1, 10, 9, 9, 9, -1, 9, 9, 9, -1, 9, 9, 9, 29, 10, 9, -1, -1, 9, 9, 28, 9, -1, 9, 9, 1, -1, 36, 21, 1, 9, 9, 28, 28, 9, 9, 9, 9, 9, 9, 1, 9, 9, 9, -1, 9, 9, 9, 10, 9, -1, 9, 10, 9, 19, -1, 9, -1, 10, -1, -1, -1, 1, -1, -1, -1, -1, -1, 13, 9, 9, 1, -1, 9, -1, 9, 10, -1, -1, 9, 9, 10, -1, 9, 5, 9, 9, -1, 9, 9, -1, 5, -1, 9, 13, 18, -1, -1, 9, 9, -1, 6, 13, 34, 9, 9, -1, 21, 9, 10, 13, 10, -1, 9, 9, 13, 9, 9, 10, 9, 9, 9, 10, 10, 9, 9, 9, 9, 9, -1, 10, 9, 9, 10, -1, 16, 9, 9, -1, 13, 10, 9, -1, 9, -1, 10, -1, 13, -1, 9, -1, 9, 10, 9, 9, 18, 9, 10, 9, 10, 21, 21]\n"
          ]
        }
      ]
    },
    {
      "cell_type": "code",
      "source": [
        "from sklearn.cluster import KMeans\n",
        "\n",
        "n_clusters = 4\n",
        "kmeans = KMeans(n_clusters=n_clusters, random_state=0)\n",
        "kmeans.fit(probs)\n",
        "labels = kmeans.labels_\n"
      ],
      "metadata": {
        "id": "z2mRJ7603NT8"
      },
      "execution_count": 47,
      "outputs": []
    },
    {
      "cell_type": "code",
      "source": [
        "real_labels = []\n",
        "for i in range(len(dataset)):\n",
        "  real_labels += [i] * len(dataset[i])\n",
        "\n",
        "from sklearn.metrics import confusion_matrix\n",
        "print(confusion_matrix(real_labels, labels))\n"
      ],
      "metadata": {
        "id": "Nrj09GIj5TTM",
        "outputId": "176a6ac2-44b8-4417-9c08-212fe63fc53d",
        "colab": {
          "base_uri": "https://localhost:8080/"
        }
      },
      "execution_count": 48,
      "outputs": [
        {
          "output_type": "stream",
          "name": "stdout",
          "text": [
            "[[  27  301 2455   60]\n",
            " [   3   37  165    5]\n",
            " [   2   59  132    2]\n",
            " [  14  393  628   88]]\n"
          ]
        }
      ]
    },
    {
      "cell_type": "code",
      "source": [
        "import numpy as np\n",
        "from scipy.optimize import linear_sum_assignment\n",
        "from sklearn.metrics import confusion_matrix\n",
        "\n",
        "def calc_purity(y_true, y_pred):\n",
        "    cm = confusion_matrix(y_true, y_pred)\n",
        "    _, col_ind = linear_sum_assignment(cm, maximize=True)\n",
        "    reordered_cm = cm[:, col_ind]\n",
        "    purity = np.sum(np.max(reordered_cm, axis=0)) / np.sum(reordered_cm)\n",
        "    return purity, reordered_cm\n",
        "\n",
        "purity, reordered_cm = calc_purity(real_labels, labels)\n",
        "\n",
        "print(\"Purity: \", purity)\n",
        "print(\"Reordered Confusion Matrix: \\n\", reordered_cm)"
      ],
      "metadata": {
        "colab": {
          "base_uri": "https://localhost:8080/"
        },
        "id": "i5-EKhG58m8h",
        "outputId": "8bb75515-76fd-4745-f72a-7a59d24cc38f"
      },
      "execution_count": 49,
      "outputs": [
        {
          "output_type": "stream",
          "name": "stdout",
          "text": [
            "Purity:  0.67787691603752\n",
            "Reordered Confusion Matrix: \n",
            " [[2455   60   27  301]\n",
            " [ 165    5    3   37]\n",
            " [ 132    2    2   59]\n",
            " [ 628   88   14  393]]\n"
          ]
        }
      ]
    }
  ],
  "metadata": {
    "colab": {
      "provenance": []
    },
    "kernelspec": {
      "display_name": "Python 3",
      "name": "python3"
    },
    "language_info": {
      "name": "python"
    },
    "widgets": {
      "application/vnd.jupyter.widget-state+json": {
        "7cd5fd100c314bc0954f33fa12fdb3c9": {
          "model_module": "@jupyter-widgets/controls",
          "model_name": "HBoxModel",
          "model_module_version": "1.5.0",
          "state": {
            "_dom_classes": [],
            "_model_module": "@jupyter-widgets/controls",
            "_model_module_version": "1.5.0",
            "_model_name": "HBoxModel",
            "_view_count": null,
            "_view_module": "@jupyter-widgets/controls",
            "_view_module_version": "1.5.0",
            "_view_name": "HBoxView",
            "box_style": "",
            "children": [
              "IPY_MODEL_70e7bd05e2f54e27aeba44a25146c3c1",
              "IPY_MODEL_95dd218b0a254f3ab64b7aaa6d149a96",
              "IPY_MODEL_d0879d7e226c4cd89d8c505227afeb18"
            ],
            "layout": "IPY_MODEL_0aee1e81629e434c98f68f1ae5b88674"
          }
        },
        "70e7bd05e2f54e27aeba44a25146c3c1": {
          "model_module": "@jupyter-widgets/controls",
          "model_name": "HTMLModel",
          "model_module_version": "1.5.0",
          "state": {
            "_dom_classes": [],
            "_model_module": "@jupyter-widgets/controls",
            "_model_module_version": "1.5.0",
            "_model_name": "HTMLModel",
            "_view_count": null,
            "_view_module": "@jupyter-widgets/controls",
            "_view_module_version": "1.5.0",
            "_view_name": "HTMLView",
            "description": "",
            "description_tooltip": null,
            "layout": "IPY_MODEL_d6de5c9b671e44bd91ba43ec02dbba74",
            "placeholder": "​",
            "style": "IPY_MODEL_b3fac8a56f1745cbacbcf8dfa99e9e31",
            "value": "Downloading (…)ve/main/spiece.model: 100%"
          }
        },
        "95dd218b0a254f3ab64b7aaa6d149a96": {
          "model_module": "@jupyter-widgets/controls",
          "model_name": "FloatProgressModel",
          "model_module_version": "1.5.0",
          "state": {
            "_dom_classes": [],
            "_model_module": "@jupyter-widgets/controls",
            "_model_module_version": "1.5.0",
            "_model_name": "FloatProgressModel",
            "_view_count": null,
            "_view_module": "@jupyter-widgets/controls",
            "_view_module_version": "1.5.0",
            "_view_name": "ProgressView",
            "bar_style": "success",
            "description": "",
            "description_tooltip": null,
            "layout": "IPY_MODEL_7d4f46ca48d54e00a03db43f49d29516",
            "max": 371427,
            "min": 0,
            "orientation": "horizontal",
            "style": "IPY_MODEL_4c877ad4af254a72b22211d87233f648",
            "value": 371427
          }
        },
        "d0879d7e226c4cd89d8c505227afeb18": {
          "model_module": "@jupyter-widgets/controls",
          "model_name": "HTMLModel",
          "model_module_version": "1.5.0",
          "state": {
            "_dom_classes": [],
            "_model_module": "@jupyter-widgets/controls",
            "_model_module_version": "1.5.0",
            "_model_name": "HTMLModel",
            "_view_count": null,
            "_view_module": "@jupyter-widgets/controls",
            "_view_module_version": "1.5.0",
            "_view_name": "HTMLView",
            "description": "",
            "description_tooltip": null,
            "layout": "IPY_MODEL_a59f3128de7b4de6b742827c9a896fed",
            "placeholder": "​",
            "style": "IPY_MODEL_d3697834ad49470e9cb7a1c8912a3299",
            "value": " 371k/371k [00:00&lt;00:00, 4.42MB/s]"
          }
        },
        "0aee1e81629e434c98f68f1ae5b88674": {
          "model_module": "@jupyter-widgets/base",
          "model_name": "LayoutModel",
          "model_module_version": "1.2.0",
          "state": {
            "_model_module": "@jupyter-widgets/base",
            "_model_module_version": "1.2.0",
            "_model_name": "LayoutModel",
            "_view_count": null,
            "_view_module": "@jupyter-widgets/base",
            "_view_module_version": "1.2.0",
            "_view_name": "LayoutView",
            "align_content": null,
            "align_items": null,
            "align_self": null,
            "border": null,
            "bottom": null,
            "display": null,
            "flex": null,
            "flex_flow": null,
            "grid_area": null,
            "grid_auto_columns": null,
            "grid_auto_flow": null,
            "grid_auto_rows": null,
            "grid_column": null,
            "grid_gap": null,
            "grid_row": null,
            "grid_template_areas": null,
            "grid_template_columns": null,
            "grid_template_rows": null,
            "height": null,
            "justify_content": null,
            "justify_items": null,
            "left": null,
            "margin": null,
            "max_height": null,
            "max_width": null,
            "min_height": null,
            "min_width": null,
            "object_fit": null,
            "object_position": null,
            "order": null,
            "overflow": null,
            "overflow_x": null,
            "overflow_y": null,
            "padding": null,
            "right": null,
            "top": null,
            "visibility": null,
            "width": null
          }
        },
        "d6de5c9b671e44bd91ba43ec02dbba74": {
          "model_module": "@jupyter-widgets/base",
          "model_name": "LayoutModel",
          "model_module_version": "1.2.0",
          "state": {
            "_model_module": "@jupyter-widgets/base",
            "_model_module_version": "1.2.0",
            "_model_name": "LayoutModel",
            "_view_count": null,
            "_view_module": "@jupyter-widgets/base",
            "_view_module_version": "1.2.0",
            "_view_name": "LayoutView",
            "align_content": null,
            "align_items": null,
            "align_self": null,
            "border": null,
            "bottom": null,
            "display": null,
            "flex": null,
            "flex_flow": null,
            "grid_area": null,
            "grid_auto_columns": null,
            "grid_auto_flow": null,
            "grid_auto_rows": null,
            "grid_column": null,
            "grid_gap": null,
            "grid_row": null,
            "grid_template_areas": null,
            "grid_template_columns": null,
            "grid_template_rows": null,
            "height": null,
            "justify_content": null,
            "justify_items": null,
            "left": null,
            "margin": null,
            "max_height": null,
            "max_width": null,
            "min_height": null,
            "min_width": null,
            "object_fit": null,
            "object_position": null,
            "order": null,
            "overflow": null,
            "overflow_x": null,
            "overflow_y": null,
            "padding": null,
            "right": null,
            "top": null,
            "visibility": null,
            "width": null
          }
        },
        "b3fac8a56f1745cbacbcf8dfa99e9e31": {
          "model_module": "@jupyter-widgets/controls",
          "model_name": "DescriptionStyleModel",
          "model_module_version": "1.5.0",
          "state": {
            "_model_module": "@jupyter-widgets/controls",
            "_model_module_version": "1.5.0",
            "_model_name": "DescriptionStyleModel",
            "_view_count": null,
            "_view_module": "@jupyter-widgets/base",
            "_view_module_version": "1.2.0",
            "_view_name": "StyleView",
            "description_width": ""
          }
        },
        "7d4f46ca48d54e00a03db43f49d29516": {
          "model_module": "@jupyter-widgets/base",
          "model_name": "LayoutModel",
          "model_module_version": "1.2.0",
          "state": {
            "_model_module": "@jupyter-widgets/base",
            "_model_module_version": "1.2.0",
            "_model_name": "LayoutModel",
            "_view_count": null,
            "_view_module": "@jupyter-widgets/base",
            "_view_module_version": "1.2.0",
            "_view_name": "LayoutView",
            "align_content": null,
            "align_items": null,
            "align_self": null,
            "border": null,
            "bottom": null,
            "display": null,
            "flex": null,
            "flex_flow": null,
            "grid_area": null,
            "grid_auto_columns": null,
            "grid_auto_flow": null,
            "grid_auto_rows": null,
            "grid_column": null,
            "grid_gap": null,
            "grid_row": null,
            "grid_template_areas": null,
            "grid_template_columns": null,
            "grid_template_rows": null,
            "height": null,
            "justify_content": null,
            "justify_items": null,
            "left": null,
            "margin": null,
            "max_height": null,
            "max_width": null,
            "min_height": null,
            "min_width": null,
            "object_fit": null,
            "object_position": null,
            "order": null,
            "overflow": null,
            "overflow_x": null,
            "overflow_y": null,
            "padding": null,
            "right": null,
            "top": null,
            "visibility": null,
            "width": null
          }
        },
        "4c877ad4af254a72b22211d87233f648": {
          "model_module": "@jupyter-widgets/controls",
          "model_name": "ProgressStyleModel",
          "model_module_version": "1.5.0",
          "state": {
            "_model_module": "@jupyter-widgets/controls",
            "_model_module_version": "1.5.0",
            "_model_name": "ProgressStyleModel",
            "_view_count": null,
            "_view_module": "@jupyter-widgets/base",
            "_view_module_version": "1.2.0",
            "_view_name": "StyleView",
            "bar_color": null,
            "description_width": ""
          }
        },
        "a59f3128de7b4de6b742827c9a896fed": {
          "model_module": "@jupyter-widgets/base",
          "model_name": "LayoutModel",
          "model_module_version": "1.2.0",
          "state": {
            "_model_module": "@jupyter-widgets/base",
            "_model_module_version": "1.2.0",
            "_model_name": "LayoutModel",
            "_view_count": null,
            "_view_module": "@jupyter-widgets/base",
            "_view_module_version": "1.2.0",
            "_view_name": "LayoutView",
            "align_content": null,
            "align_items": null,
            "align_self": null,
            "border": null,
            "bottom": null,
            "display": null,
            "flex": null,
            "flex_flow": null,
            "grid_area": null,
            "grid_auto_columns": null,
            "grid_auto_flow": null,
            "grid_auto_rows": null,
            "grid_column": null,
            "grid_gap": null,
            "grid_row": null,
            "grid_template_areas": null,
            "grid_template_columns": null,
            "grid_template_rows": null,
            "height": null,
            "justify_content": null,
            "justify_items": null,
            "left": null,
            "margin": null,
            "max_height": null,
            "max_width": null,
            "min_height": null,
            "min_width": null,
            "object_fit": null,
            "object_position": null,
            "order": null,
            "overflow": null,
            "overflow_x": null,
            "overflow_y": null,
            "padding": null,
            "right": null,
            "top": null,
            "visibility": null,
            "width": null
          }
        },
        "d3697834ad49470e9cb7a1c8912a3299": {
          "model_module": "@jupyter-widgets/controls",
          "model_name": "DescriptionStyleModel",
          "model_module_version": "1.5.0",
          "state": {
            "_model_module": "@jupyter-widgets/controls",
            "_model_module_version": "1.5.0",
            "_model_name": "DescriptionStyleModel",
            "_view_count": null,
            "_view_module": "@jupyter-widgets/base",
            "_view_module_version": "1.2.0",
            "_view_name": "StyleView",
            "description_width": ""
          }
        },
        "dd006daed5204f59bb5b30f826d55fc5": {
          "model_module": "@jupyter-widgets/controls",
          "model_name": "HBoxModel",
          "model_module_version": "1.5.0",
          "state": {
            "_dom_classes": [],
            "_model_module": "@jupyter-widgets/controls",
            "_model_module_version": "1.5.0",
            "_model_name": "HBoxModel",
            "_view_count": null,
            "_view_module": "@jupyter-widgets/controls",
            "_view_module_version": "1.5.0",
            "_view_name": "HBoxView",
            "box_style": "",
            "children": [
              "IPY_MODEL_18767f360385438cb60bbf82d59d52f8",
              "IPY_MODEL_2119753ebe3a40aaba3e4c80fdd3e989",
              "IPY_MODEL_2da7e620402848b282be5934fd045855"
            ],
            "layout": "IPY_MODEL_1800f78dd7714f9087ac461f081afda7"
          }
        },
        "18767f360385438cb60bbf82d59d52f8": {
          "model_module": "@jupyter-widgets/controls",
          "model_name": "HTMLModel",
          "model_module_version": "1.5.0",
          "state": {
            "_dom_classes": [],
            "_model_module": "@jupyter-widgets/controls",
            "_model_module_version": "1.5.0",
            "_model_name": "HTMLModel",
            "_view_count": null,
            "_view_module": "@jupyter-widgets/controls",
            "_view_module_version": "1.5.0",
            "_view_name": "HTMLView",
            "description": "",
            "description_tooltip": null,
            "layout": "IPY_MODEL_340d4215bc8e428cb0780e13ce9284d0",
            "placeholder": "​",
            "style": "IPY_MODEL_4cc7c0b4ecff4865bca0668dea271194",
            "value": "Downloading (…)cial_tokens_map.json: 100%"
          }
        },
        "2119753ebe3a40aaba3e4c80fdd3e989": {
          "model_module": "@jupyter-widgets/controls",
          "model_name": "FloatProgressModel",
          "model_module_version": "1.5.0",
          "state": {
            "_dom_classes": [],
            "_model_module": "@jupyter-widgets/controls",
            "_model_module_version": "1.5.0",
            "_model_name": "FloatProgressModel",
            "_view_count": null,
            "_view_module": "@jupyter-widgets/controls",
            "_view_module_version": "1.5.0",
            "_view_name": "ProgressView",
            "bar_style": "success",
            "description": "",
            "description_tooltip": null,
            "layout": "IPY_MODEL_57dec61aa1db4a02bb6bba69d0ae5a3b",
            "max": 244,
            "min": 0,
            "orientation": "horizontal",
            "style": "IPY_MODEL_7e97051681a64ab8b12a503105da7743",
            "value": 244
          }
        },
        "2da7e620402848b282be5934fd045855": {
          "model_module": "@jupyter-widgets/controls",
          "model_name": "HTMLModel",
          "model_module_version": "1.5.0",
          "state": {
            "_dom_classes": [],
            "_model_module": "@jupyter-widgets/controls",
            "_model_module_version": "1.5.0",
            "_model_name": "HTMLModel",
            "_view_count": null,
            "_view_module": "@jupyter-widgets/controls",
            "_view_module_version": "1.5.0",
            "_view_name": "HTMLView",
            "description": "",
            "description_tooltip": null,
            "layout": "IPY_MODEL_e61aa27c5f9c4ce0823fc859fb8f5179",
            "placeholder": "​",
            "style": "IPY_MODEL_3eab8b6ed52847cebb99bdef10d88cb7",
            "value": " 244/244 [00:00&lt;00:00, 4.34kB/s]"
          }
        },
        "1800f78dd7714f9087ac461f081afda7": {
          "model_module": "@jupyter-widgets/base",
          "model_name": "LayoutModel",
          "model_module_version": "1.2.0",
          "state": {
            "_model_module": "@jupyter-widgets/base",
            "_model_module_version": "1.2.0",
            "_model_name": "LayoutModel",
            "_view_count": null,
            "_view_module": "@jupyter-widgets/base",
            "_view_module_version": "1.2.0",
            "_view_name": "LayoutView",
            "align_content": null,
            "align_items": null,
            "align_self": null,
            "border": null,
            "bottom": null,
            "display": null,
            "flex": null,
            "flex_flow": null,
            "grid_area": null,
            "grid_auto_columns": null,
            "grid_auto_flow": null,
            "grid_auto_rows": null,
            "grid_column": null,
            "grid_gap": null,
            "grid_row": null,
            "grid_template_areas": null,
            "grid_template_columns": null,
            "grid_template_rows": null,
            "height": null,
            "justify_content": null,
            "justify_items": null,
            "left": null,
            "margin": null,
            "max_height": null,
            "max_width": null,
            "min_height": null,
            "min_width": null,
            "object_fit": null,
            "object_position": null,
            "order": null,
            "overflow": null,
            "overflow_x": null,
            "overflow_y": null,
            "padding": null,
            "right": null,
            "top": null,
            "visibility": null,
            "width": null
          }
        },
        "340d4215bc8e428cb0780e13ce9284d0": {
          "model_module": "@jupyter-widgets/base",
          "model_name": "LayoutModel",
          "model_module_version": "1.2.0",
          "state": {
            "_model_module": "@jupyter-widgets/base",
            "_model_module_version": "1.2.0",
            "_model_name": "LayoutModel",
            "_view_count": null,
            "_view_module": "@jupyter-widgets/base",
            "_view_module_version": "1.2.0",
            "_view_name": "LayoutView",
            "align_content": null,
            "align_items": null,
            "align_self": null,
            "border": null,
            "bottom": null,
            "display": null,
            "flex": null,
            "flex_flow": null,
            "grid_area": null,
            "grid_auto_columns": null,
            "grid_auto_flow": null,
            "grid_auto_rows": null,
            "grid_column": null,
            "grid_gap": null,
            "grid_row": null,
            "grid_template_areas": null,
            "grid_template_columns": null,
            "grid_template_rows": null,
            "height": null,
            "justify_content": null,
            "justify_items": null,
            "left": null,
            "margin": null,
            "max_height": null,
            "max_width": null,
            "min_height": null,
            "min_width": null,
            "object_fit": null,
            "object_position": null,
            "order": null,
            "overflow": null,
            "overflow_x": null,
            "overflow_y": null,
            "padding": null,
            "right": null,
            "top": null,
            "visibility": null,
            "width": null
          }
        },
        "4cc7c0b4ecff4865bca0668dea271194": {
          "model_module": "@jupyter-widgets/controls",
          "model_name": "DescriptionStyleModel",
          "model_module_version": "1.5.0",
          "state": {
            "_model_module": "@jupyter-widgets/controls",
            "_model_module_version": "1.5.0",
            "_model_name": "DescriptionStyleModel",
            "_view_count": null,
            "_view_module": "@jupyter-widgets/base",
            "_view_module_version": "1.2.0",
            "_view_name": "StyleView",
            "description_width": ""
          }
        },
        "57dec61aa1db4a02bb6bba69d0ae5a3b": {
          "model_module": "@jupyter-widgets/base",
          "model_name": "LayoutModel",
          "model_module_version": "1.2.0",
          "state": {
            "_model_module": "@jupyter-widgets/base",
            "_model_module_version": "1.2.0",
            "_model_name": "LayoutModel",
            "_view_count": null,
            "_view_module": "@jupyter-widgets/base",
            "_view_module_version": "1.2.0",
            "_view_name": "LayoutView",
            "align_content": null,
            "align_items": null,
            "align_self": null,
            "border": null,
            "bottom": null,
            "display": null,
            "flex": null,
            "flex_flow": null,
            "grid_area": null,
            "grid_auto_columns": null,
            "grid_auto_flow": null,
            "grid_auto_rows": null,
            "grid_column": null,
            "grid_gap": null,
            "grid_row": null,
            "grid_template_areas": null,
            "grid_template_columns": null,
            "grid_template_rows": null,
            "height": null,
            "justify_content": null,
            "justify_items": null,
            "left": null,
            "margin": null,
            "max_height": null,
            "max_width": null,
            "min_height": null,
            "min_width": null,
            "object_fit": null,
            "object_position": null,
            "order": null,
            "overflow": null,
            "overflow_x": null,
            "overflow_y": null,
            "padding": null,
            "right": null,
            "top": null,
            "visibility": null,
            "width": null
          }
        },
        "7e97051681a64ab8b12a503105da7743": {
          "model_module": "@jupyter-widgets/controls",
          "model_name": "ProgressStyleModel",
          "model_module_version": "1.5.0",
          "state": {
            "_model_module": "@jupyter-widgets/controls",
            "_model_module_version": "1.5.0",
            "_model_name": "ProgressStyleModel",
            "_view_count": null,
            "_view_module": "@jupyter-widgets/base",
            "_view_module_version": "1.2.0",
            "_view_name": "StyleView",
            "bar_color": null,
            "description_width": ""
          }
        },
        "e61aa27c5f9c4ce0823fc859fb8f5179": {
          "model_module": "@jupyter-widgets/base",
          "model_name": "LayoutModel",
          "model_module_version": "1.2.0",
          "state": {
            "_model_module": "@jupyter-widgets/base",
            "_model_module_version": "1.2.0",
            "_model_name": "LayoutModel",
            "_view_count": null,
            "_view_module": "@jupyter-widgets/base",
            "_view_module_version": "1.2.0",
            "_view_name": "LayoutView",
            "align_content": null,
            "align_items": null,
            "align_self": null,
            "border": null,
            "bottom": null,
            "display": null,
            "flex": null,
            "flex_flow": null,
            "grid_area": null,
            "grid_auto_columns": null,
            "grid_auto_flow": null,
            "grid_auto_rows": null,
            "grid_column": null,
            "grid_gap": null,
            "grid_row": null,
            "grid_template_areas": null,
            "grid_template_columns": null,
            "grid_template_rows": null,
            "height": null,
            "justify_content": null,
            "justify_items": null,
            "left": null,
            "margin": null,
            "max_height": null,
            "max_width": null,
            "min_height": null,
            "min_width": null,
            "object_fit": null,
            "object_position": null,
            "order": null,
            "overflow": null,
            "overflow_x": null,
            "overflow_y": null,
            "padding": null,
            "right": null,
            "top": null,
            "visibility": null,
            "width": null
          }
        },
        "3eab8b6ed52847cebb99bdef10d88cb7": {
          "model_module": "@jupyter-widgets/controls",
          "model_name": "DescriptionStyleModel",
          "model_module_version": "1.5.0",
          "state": {
            "_model_module": "@jupyter-widgets/controls",
            "_model_module_version": "1.5.0",
            "_model_name": "DescriptionStyleModel",
            "_view_count": null,
            "_view_module": "@jupyter-widgets/base",
            "_view_module_version": "1.2.0",
            "_view_name": "StyleView",
            "description_width": ""
          }
        },
        "636167b391a842b9a3237ab6994f364c": {
          "model_module": "@jupyter-widgets/controls",
          "model_name": "HBoxModel",
          "model_module_version": "1.5.0",
          "state": {
            "_dom_classes": [],
            "_model_module": "@jupyter-widgets/controls",
            "_model_module_version": "1.5.0",
            "_model_name": "HBoxModel",
            "_view_count": null,
            "_view_module": "@jupyter-widgets/controls",
            "_view_module_version": "1.5.0",
            "_view_name": "HBoxView",
            "box_style": "",
            "children": [
              "IPY_MODEL_a63b276f6eca4be7aad8a35f9e18a10d",
              "IPY_MODEL_f370e9cce61b4b1e9b5739d536c303c8",
              "IPY_MODEL_00c057db059c4544aa4c38d77961d623"
            ],
            "layout": "IPY_MODEL_f03af83b8907415d85ff30ec38364b8f"
          }
        },
        "a63b276f6eca4be7aad8a35f9e18a10d": {
          "model_module": "@jupyter-widgets/controls",
          "model_name": "HTMLModel",
          "model_module_version": "1.5.0",
          "state": {
            "_dom_classes": [],
            "_model_module": "@jupyter-widgets/controls",
            "_model_module_version": "1.5.0",
            "_model_name": "HTMLModel",
            "_view_count": null,
            "_view_module": "@jupyter-widgets/controls",
            "_view_module_version": "1.5.0",
            "_view_name": "HTMLView",
            "description": "",
            "description_tooltip": null,
            "layout": "IPY_MODEL_b624ea5d0b9e42709fc474a7613d890a",
            "placeholder": "​",
            "style": "IPY_MODEL_28be073ec3fa47ff83acd9229e11d4dd",
            "value": "Downloading (…)okenizer_config.json: 100%"
          }
        },
        "f370e9cce61b4b1e9b5739d536c303c8": {
          "model_module": "@jupyter-widgets/controls",
          "model_name": "FloatProgressModel",
          "model_module_version": "1.5.0",
          "state": {
            "_dom_classes": [],
            "_model_module": "@jupyter-widgets/controls",
            "_model_module_version": "1.5.0",
            "_model_name": "FloatProgressModel",
            "_view_count": null,
            "_view_module": "@jupyter-widgets/controls",
            "_view_module_version": "1.5.0",
            "_view_name": "ProgressView",
            "bar_style": "success",
            "description": "",
            "description_tooltip": null,
            "layout": "IPY_MODEL_8eb3434375184cc08786b89da13f3748",
            "max": 432,
            "min": 0,
            "orientation": "horizontal",
            "style": "IPY_MODEL_b27a67b170154957bbb7b97e6f1e28d2",
            "value": 432
          }
        },
        "00c057db059c4544aa4c38d77961d623": {
          "model_module": "@jupyter-widgets/controls",
          "model_name": "HTMLModel",
          "model_module_version": "1.5.0",
          "state": {
            "_dom_classes": [],
            "_model_module": "@jupyter-widgets/controls",
            "_model_module_version": "1.5.0",
            "_model_name": "HTMLModel",
            "_view_count": null,
            "_view_module": "@jupyter-widgets/controls",
            "_view_module_version": "1.5.0",
            "_view_name": "HTMLView",
            "description": "",
            "description_tooltip": null,
            "layout": "IPY_MODEL_42f01208d24b43fc99a9c5e290361134",
            "placeholder": "​",
            "style": "IPY_MODEL_1f17fb20d9044c7684688f10dd31c695",
            "value": " 432/432 [00:00&lt;00:00, 13.4kB/s]"
          }
        },
        "f03af83b8907415d85ff30ec38364b8f": {
          "model_module": "@jupyter-widgets/base",
          "model_name": "LayoutModel",
          "model_module_version": "1.2.0",
          "state": {
            "_model_module": "@jupyter-widgets/base",
            "_model_module_version": "1.2.0",
            "_model_name": "LayoutModel",
            "_view_count": null,
            "_view_module": "@jupyter-widgets/base",
            "_view_module_version": "1.2.0",
            "_view_name": "LayoutView",
            "align_content": null,
            "align_items": null,
            "align_self": null,
            "border": null,
            "bottom": null,
            "display": null,
            "flex": null,
            "flex_flow": null,
            "grid_area": null,
            "grid_auto_columns": null,
            "grid_auto_flow": null,
            "grid_auto_rows": null,
            "grid_column": null,
            "grid_gap": null,
            "grid_row": null,
            "grid_template_areas": null,
            "grid_template_columns": null,
            "grid_template_rows": null,
            "height": null,
            "justify_content": null,
            "justify_items": null,
            "left": null,
            "margin": null,
            "max_height": null,
            "max_width": null,
            "min_height": null,
            "min_width": null,
            "object_fit": null,
            "object_position": null,
            "order": null,
            "overflow": null,
            "overflow_x": null,
            "overflow_y": null,
            "padding": null,
            "right": null,
            "top": null,
            "visibility": null,
            "width": null
          }
        },
        "b624ea5d0b9e42709fc474a7613d890a": {
          "model_module": "@jupyter-widgets/base",
          "model_name": "LayoutModel",
          "model_module_version": "1.2.0",
          "state": {
            "_model_module": "@jupyter-widgets/base",
            "_model_module_version": "1.2.0",
            "_model_name": "LayoutModel",
            "_view_count": null,
            "_view_module": "@jupyter-widgets/base",
            "_view_module_version": "1.2.0",
            "_view_name": "LayoutView",
            "align_content": null,
            "align_items": null,
            "align_self": null,
            "border": null,
            "bottom": null,
            "display": null,
            "flex": null,
            "flex_flow": null,
            "grid_area": null,
            "grid_auto_columns": null,
            "grid_auto_flow": null,
            "grid_auto_rows": null,
            "grid_column": null,
            "grid_gap": null,
            "grid_row": null,
            "grid_template_areas": null,
            "grid_template_columns": null,
            "grid_template_rows": null,
            "height": null,
            "justify_content": null,
            "justify_items": null,
            "left": null,
            "margin": null,
            "max_height": null,
            "max_width": null,
            "min_height": null,
            "min_width": null,
            "object_fit": null,
            "object_position": null,
            "order": null,
            "overflow": null,
            "overflow_x": null,
            "overflow_y": null,
            "padding": null,
            "right": null,
            "top": null,
            "visibility": null,
            "width": null
          }
        },
        "28be073ec3fa47ff83acd9229e11d4dd": {
          "model_module": "@jupyter-widgets/controls",
          "model_name": "DescriptionStyleModel",
          "model_module_version": "1.5.0",
          "state": {
            "_model_module": "@jupyter-widgets/controls",
            "_model_module_version": "1.5.0",
            "_model_name": "DescriptionStyleModel",
            "_view_count": null,
            "_view_module": "@jupyter-widgets/base",
            "_view_module_version": "1.2.0",
            "_view_name": "StyleView",
            "description_width": ""
          }
        },
        "8eb3434375184cc08786b89da13f3748": {
          "model_module": "@jupyter-widgets/base",
          "model_name": "LayoutModel",
          "model_module_version": "1.2.0",
          "state": {
            "_model_module": "@jupyter-widgets/base",
            "_model_module_version": "1.2.0",
            "_model_name": "LayoutModel",
            "_view_count": null,
            "_view_module": "@jupyter-widgets/base",
            "_view_module_version": "1.2.0",
            "_view_name": "LayoutView",
            "align_content": null,
            "align_items": null,
            "align_self": null,
            "border": null,
            "bottom": null,
            "display": null,
            "flex": null,
            "flex_flow": null,
            "grid_area": null,
            "grid_auto_columns": null,
            "grid_auto_flow": null,
            "grid_auto_rows": null,
            "grid_column": null,
            "grid_gap": null,
            "grid_row": null,
            "grid_template_areas": null,
            "grid_template_columns": null,
            "grid_template_rows": null,
            "height": null,
            "justify_content": null,
            "justify_items": null,
            "left": null,
            "margin": null,
            "max_height": null,
            "max_width": null,
            "min_height": null,
            "min_width": null,
            "object_fit": null,
            "object_position": null,
            "order": null,
            "overflow": null,
            "overflow_x": null,
            "overflow_y": null,
            "padding": null,
            "right": null,
            "top": null,
            "visibility": null,
            "width": null
          }
        },
        "b27a67b170154957bbb7b97e6f1e28d2": {
          "model_module": "@jupyter-widgets/controls",
          "model_name": "ProgressStyleModel",
          "model_module_version": "1.5.0",
          "state": {
            "_model_module": "@jupyter-widgets/controls",
            "_model_module_version": "1.5.0",
            "_model_name": "ProgressStyleModel",
            "_view_count": null,
            "_view_module": "@jupyter-widgets/base",
            "_view_module_version": "1.2.0",
            "_view_name": "StyleView",
            "bar_color": null,
            "description_width": ""
          }
        },
        "42f01208d24b43fc99a9c5e290361134": {
          "model_module": "@jupyter-widgets/base",
          "model_name": "LayoutModel",
          "model_module_version": "1.2.0",
          "state": {
            "_model_module": "@jupyter-widgets/base",
            "_model_module_version": "1.2.0",
            "_model_name": "LayoutModel",
            "_view_count": null,
            "_view_module": "@jupyter-widgets/base",
            "_view_module_version": "1.2.0",
            "_view_name": "LayoutView",
            "align_content": null,
            "align_items": null,
            "align_self": null,
            "border": null,
            "bottom": null,
            "display": null,
            "flex": null,
            "flex_flow": null,
            "grid_area": null,
            "grid_auto_columns": null,
            "grid_auto_flow": null,
            "grid_auto_rows": null,
            "grid_column": null,
            "grid_gap": null,
            "grid_row": null,
            "grid_template_areas": null,
            "grid_template_columns": null,
            "grid_template_rows": null,
            "height": null,
            "justify_content": null,
            "justify_items": null,
            "left": null,
            "margin": null,
            "max_height": null,
            "max_width": null,
            "min_height": null,
            "min_width": null,
            "object_fit": null,
            "object_position": null,
            "order": null,
            "overflow": null,
            "overflow_x": null,
            "overflow_y": null,
            "padding": null,
            "right": null,
            "top": null,
            "visibility": null,
            "width": null
          }
        },
        "1f17fb20d9044c7684688f10dd31c695": {
          "model_module": "@jupyter-widgets/controls",
          "model_name": "DescriptionStyleModel",
          "model_module_version": "1.5.0",
          "state": {
            "_model_module": "@jupyter-widgets/controls",
            "_model_module_version": "1.5.0",
            "_model_name": "DescriptionStyleModel",
            "_view_count": null,
            "_view_module": "@jupyter-widgets/base",
            "_view_module_version": "1.2.0",
            "_view_name": "StyleView",
            "description_width": ""
          }
        },
        "796adfb69f5a49e3baef2d982c63fec0": {
          "model_module": "@jupyter-widgets/controls",
          "model_name": "HBoxModel",
          "model_module_version": "1.5.0",
          "state": {
            "_dom_classes": [],
            "_model_module": "@jupyter-widgets/controls",
            "_model_module_version": "1.5.0",
            "_model_name": "HBoxModel",
            "_view_count": null,
            "_view_module": "@jupyter-widgets/controls",
            "_view_module_version": "1.5.0",
            "_view_name": "HBoxView",
            "box_style": "",
            "children": [
              "IPY_MODEL_8783cba0a1dd45959eaae7d5bef22ae4",
              "IPY_MODEL_beb30e2ff4a040f9907310a1bca83898",
              "IPY_MODEL_cef0fac2a60c454bb854c080fc32373e"
            ],
            "layout": "IPY_MODEL_7884b8f29fa2464daacc867d4a39a14c"
          }
        },
        "8783cba0a1dd45959eaae7d5bef22ae4": {
          "model_module": "@jupyter-widgets/controls",
          "model_name": "HTMLModel",
          "model_module_version": "1.5.0",
          "state": {
            "_dom_classes": [],
            "_model_module": "@jupyter-widgets/controls",
            "_model_module_version": "1.5.0",
            "_model_name": "HTMLModel",
            "_view_count": null,
            "_view_module": "@jupyter-widgets/controls",
            "_view_module_version": "1.5.0",
            "_view_name": "HTMLView",
            "description": "",
            "description_tooltip": null,
            "layout": "IPY_MODEL_e49008f279144523be473c390488d2c4",
            "placeholder": "​",
            "style": "IPY_MODEL_ff67f5633e824b489570b414bf83985f",
            "value": "Downloading (…)lve/main/config.json: 100%"
          }
        },
        "beb30e2ff4a040f9907310a1bca83898": {
          "model_module": "@jupyter-widgets/controls",
          "model_name": "FloatProgressModel",
          "model_module_version": "1.5.0",
          "state": {
            "_dom_classes": [],
            "_model_module": "@jupyter-widgets/controls",
            "_model_module_version": "1.5.0",
            "_model_name": "FloatProgressModel",
            "_view_count": null,
            "_view_module": "@jupyter-widgets/controls",
            "_view_module_version": "1.5.0",
            "_view_name": "ProgressView",
            "bar_style": "success",
            "description": "",
            "description_tooltip": null,
            "layout": "IPY_MODEL_503e50a1f6ec4a23b2d1f66babdbc7b9",
            "max": 535,
            "min": 0,
            "orientation": "horizontal",
            "style": "IPY_MODEL_a0c327129af34a06a180e2d045eee587",
            "value": 535
          }
        },
        "cef0fac2a60c454bb854c080fc32373e": {
          "model_module": "@jupyter-widgets/controls",
          "model_name": "HTMLModel",
          "model_module_version": "1.5.0",
          "state": {
            "_dom_classes": [],
            "_model_module": "@jupyter-widgets/controls",
            "_model_module_version": "1.5.0",
            "_model_name": "HTMLModel",
            "_view_count": null,
            "_view_module": "@jupyter-widgets/controls",
            "_view_module_version": "1.5.0",
            "_view_name": "HTMLView",
            "description": "",
            "description_tooltip": null,
            "layout": "IPY_MODEL_8a5299c61f144f209f7dfe1a3c1e27fb",
            "placeholder": "​",
            "style": "IPY_MODEL_b98a97a413474557b4a5ed8c67c1fa88",
            "value": " 535/535 [00:00&lt;00:00, 10.9kB/s]"
          }
        },
        "7884b8f29fa2464daacc867d4a39a14c": {
          "model_module": "@jupyter-widgets/base",
          "model_name": "LayoutModel",
          "model_module_version": "1.2.0",
          "state": {
            "_model_module": "@jupyter-widgets/base",
            "_model_module_version": "1.2.0",
            "_model_name": "LayoutModel",
            "_view_count": null,
            "_view_module": "@jupyter-widgets/base",
            "_view_module_version": "1.2.0",
            "_view_name": "LayoutView",
            "align_content": null,
            "align_items": null,
            "align_self": null,
            "border": null,
            "bottom": null,
            "display": null,
            "flex": null,
            "flex_flow": null,
            "grid_area": null,
            "grid_auto_columns": null,
            "grid_auto_flow": null,
            "grid_auto_rows": null,
            "grid_column": null,
            "grid_gap": null,
            "grid_row": null,
            "grid_template_areas": null,
            "grid_template_columns": null,
            "grid_template_rows": null,
            "height": null,
            "justify_content": null,
            "justify_items": null,
            "left": null,
            "margin": null,
            "max_height": null,
            "max_width": null,
            "min_height": null,
            "min_width": null,
            "object_fit": null,
            "object_position": null,
            "order": null,
            "overflow": null,
            "overflow_x": null,
            "overflow_y": null,
            "padding": null,
            "right": null,
            "top": null,
            "visibility": null,
            "width": null
          }
        },
        "e49008f279144523be473c390488d2c4": {
          "model_module": "@jupyter-widgets/base",
          "model_name": "LayoutModel",
          "model_module_version": "1.2.0",
          "state": {
            "_model_module": "@jupyter-widgets/base",
            "_model_module_version": "1.2.0",
            "_model_name": "LayoutModel",
            "_view_count": null,
            "_view_module": "@jupyter-widgets/base",
            "_view_module_version": "1.2.0",
            "_view_name": "LayoutView",
            "align_content": null,
            "align_items": null,
            "align_self": null,
            "border": null,
            "bottom": null,
            "display": null,
            "flex": null,
            "flex_flow": null,
            "grid_area": null,
            "grid_auto_columns": null,
            "grid_auto_flow": null,
            "grid_auto_rows": null,
            "grid_column": null,
            "grid_gap": null,
            "grid_row": null,
            "grid_template_areas": null,
            "grid_template_columns": null,
            "grid_template_rows": null,
            "height": null,
            "justify_content": null,
            "justify_items": null,
            "left": null,
            "margin": null,
            "max_height": null,
            "max_width": null,
            "min_height": null,
            "min_width": null,
            "object_fit": null,
            "object_position": null,
            "order": null,
            "overflow": null,
            "overflow_x": null,
            "overflow_y": null,
            "padding": null,
            "right": null,
            "top": null,
            "visibility": null,
            "width": null
          }
        },
        "ff67f5633e824b489570b414bf83985f": {
          "model_module": "@jupyter-widgets/controls",
          "model_name": "DescriptionStyleModel",
          "model_module_version": "1.5.0",
          "state": {
            "_model_module": "@jupyter-widgets/controls",
            "_model_module_version": "1.5.0",
            "_model_name": "DescriptionStyleModel",
            "_view_count": null,
            "_view_module": "@jupyter-widgets/base",
            "_view_module_version": "1.2.0",
            "_view_name": "StyleView",
            "description_width": ""
          }
        },
        "503e50a1f6ec4a23b2d1f66babdbc7b9": {
          "model_module": "@jupyter-widgets/base",
          "model_name": "LayoutModel",
          "model_module_version": "1.2.0",
          "state": {
            "_model_module": "@jupyter-widgets/base",
            "_model_module_version": "1.2.0",
            "_model_name": "LayoutModel",
            "_view_count": null,
            "_view_module": "@jupyter-widgets/base",
            "_view_module_version": "1.2.0",
            "_view_name": "LayoutView",
            "align_content": null,
            "align_items": null,
            "align_self": null,
            "border": null,
            "bottom": null,
            "display": null,
            "flex": null,
            "flex_flow": null,
            "grid_area": null,
            "grid_auto_columns": null,
            "grid_auto_flow": null,
            "grid_auto_rows": null,
            "grid_column": null,
            "grid_gap": null,
            "grid_row": null,
            "grid_template_areas": null,
            "grid_template_columns": null,
            "grid_template_rows": null,
            "height": null,
            "justify_content": null,
            "justify_items": null,
            "left": null,
            "margin": null,
            "max_height": null,
            "max_width": null,
            "min_height": null,
            "min_width": null,
            "object_fit": null,
            "object_position": null,
            "order": null,
            "overflow": null,
            "overflow_x": null,
            "overflow_y": null,
            "padding": null,
            "right": null,
            "top": null,
            "visibility": null,
            "width": null
          }
        },
        "a0c327129af34a06a180e2d045eee587": {
          "model_module": "@jupyter-widgets/controls",
          "model_name": "ProgressStyleModel",
          "model_module_version": "1.5.0",
          "state": {
            "_model_module": "@jupyter-widgets/controls",
            "_model_module_version": "1.5.0",
            "_model_name": "ProgressStyleModel",
            "_view_count": null,
            "_view_module": "@jupyter-widgets/base",
            "_view_module_version": "1.2.0",
            "_view_name": "StyleView",
            "bar_color": null,
            "description_width": ""
          }
        },
        "8a5299c61f144f209f7dfe1a3c1e27fb": {
          "model_module": "@jupyter-widgets/base",
          "model_name": "LayoutModel",
          "model_module_version": "1.2.0",
          "state": {
            "_model_module": "@jupyter-widgets/base",
            "_model_module_version": "1.2.0",
            "_model_name": "LayoutModel",
            "_view_count": null,
            "_view_module": "@jupyter-widgets/base",
            "_view_module_version": "1.2.0",
            "_view_name": "LayoutView",
            "align_content": null,
            "align_items": null,
            "align_self": null,
            "border": null,
            "bottom": null,
            "display": null,
            "flex": null,
            "flex_flow": null,
            "grid_area": null,
            "grid_auto_columns": null,
            "grid_auto_flow": null,
            "grid_auto_rows": null,
            "grid_column": null,
            "grid_gap": null,
            "grid_row": null,
            "grid_template_areas": null,
            "grid_template_columns": null,
            "grid_template_rows": null,
            "height": null,
            "justify_content": null,
            "justify_items": null,
            "left": null,
            "margin": null,
            "max_height": null,
            "max_width": null,
            "min_height": null,
            "min_width": null,
            "object_fit": null,
            "object_position": null,
            "order": null,
            "overflow": null,
            "overflow_x": null,
            "overflow_y": null,
            "padding": null,
            "right": null,
            "top": null,
            "visibility": null,
            "width": null
          }
        },
        "b98a97a413474557b4a5ed8c67c1fa88": {
          "model_module": "@jupyter-widgets/controls",
          "model_name": "DescriptionStyleModel",
          "model_module_version": "1.5.0",
          "state": {
            "_model_module": "@jupyter-widgets/controls",
            "_model_module_version": "1.5.0",
            "_model_name": "DescriptionStyleModel",
            "_view_count": null,
            "_view_module": "@jupyter-widgets/base",
            "_view_module_version": "1.2.0",
            "_view_name": "StyleView",
            "description_width": ""
          }
        },
        "7c728657640042ceb185aecce30aed58": {
          "model_module": "@jupyter-widgets/controls",
          "model_name": "HBoxModel",
          "model_module_version": "1.5.0",
          "state": {
            "_dom_classes": [],
            "_model_module": "@jupyter-widgets/controls",
            "_model_module_version": "1.5.0",
            "_model_name": "HBoxModel",
            "_view_count": null,
            "_view_module": "@jupyter-widgets/controls",
            "_view_module_version": "1.5.0",
            "_view_name": "HBoxView",
            "box_style": "",
            "children": [
              "IPY_MODEL_f26a2bbf5c70428bb20211ac4741f064",
              "IPY_MODEL_2564c11e79224803a4a4eea4633ea7a1",
              "IPY_MODEL_1066c3a121e84eac98653e1b02ab547e"
            ],
            "layout": "IPY_MODEL_cba750a35b7f4021a382afd81412b125"
          }
        },
        "f26a2bbf5c70428bb20211ac4741f064": {
          "model_module": "@jupyter-widgets/controls",
          "model_name": "HTMLModel",
          "model_module_version": "1.5.0",
          "state": {
            "_dom_classes": [],
            "_model_module": "@jupyter-widgets/controls",
            "_model_module_version": "1.5.0",
            "_model_name": "HTMLModel",
            "_view_count": null,
            "_view_module": "@jupyter-widgets/controls",
            "_view_module_version": "1.5.0",
            "_view_name": "HTMLView",
            "description": "",
            "description_tooltip": null,
            "layout": "IPY_MODEL_0217b15b60784b9db6a2a252c36429e8",
            "placeholder": "​",
            "style": "IPY_MODEL_07b52959cad44d14a3d0c8d44739fecd",
            "value": "Downloading pytorch_model.bin: 100%"
          }
        },
        "2564c11e79224803a4a4eea4633ea7a1": {
          "model_module": "@jupyter-widgets/controls",
          "model_name": "FloatProgressModel",
          "model_module_version": "1.5.0",
          "state": {
            "_dom_classes": [],
            "_model_module": "@jupyter-widgets/controls",
            "_model_module_version": "1.5.0",
            "_model_name": "FloatProgressModel",
            "_view_count": null,
            "_view_module": "@jupyter-widgets/controls",
            "_view_module_version": "1.5.0",
            "_view_name": "ProgressView",
            "bar_style": "success",
            "description": "",
            "description_tooltip": null,
            "layout": "IPY_MODEL_4a646955ebf64551b28725e764010b15",
            "max": 368792544,
            "min": 0,
            "orientation": "horizontal",
            "style": "IPY_MODEL_20942ec777224bff809eb2a96496c4f5",
            "value": 368792544
          }
        },
        "1066c3a121e84eac98653e1b02ab547e": {
          "model_module": "@jupyter-widgets/controls",
          "model_name": "HTMLModel",
          "model_module_version": "1.5.0",
          "state": {
            "_dom_classes": [],
            "_model_module": "@jupyter-widgets/controls",
            "_model_module_version": "1.5.0",
            "_model_name": "HTMLModel",
            "_view_count": null,
            "_view_module": "@jupyter-widgets/controls",
            "_view_module_version": "1.5.0",
            "_view_name": "HTMLView",
            "description": "",
            "description_tooltip": null,
            "layout": "IPY_MODEL_4f6d47288f39410da6b4ef2f7fa2d091",
            "placeholder": "​",
            "style": "IPY_MODEL_00d435fd0c0b47da9d0aa451abc38833",
            "value": " 369M/369M [00:03&lt;00:00, 67.7MB/s]"
          }
        },
        "cba750a35b7f4021a382afd81412b125": {
          "model_module": "@jupyter-widgets/base",
          "model_name": "LayoutModel",
          "model_module_version": "1.2.0",
          "state": {
            "_model_module": "@jupyter-widgets/base",
            "_model_module_version": "1.2.0",
            "_model_name": "LayoutModel",
            "_view_count": null,
            "_view_module": "@jupyter-widgets/base",
            "_view_module_version": "1.2.0",
            "_view_name": "LayoutView",
            "align_content": null,
            "align_items": null,
            "align_self": null,
            "border": null,
            "bottom": null,
            "display": null,
            "flex": null,
            "flex_flow": null,
            "grid_area": null,
            "grid_auto_columns": null,
            "grid_auto_flow": null,
            "grid_auto_rows": null,
            "grid_column": null,
            "grid_gap": null,
            "grid_row": null,
            "grid_template_areas": null,
            "grid_template_columns": null,
            "grid_template_rows": null,
            "height": null,
            "justify_content": null,
            "justify_items": null,
            "left": null,
            "margin": null,
            "max_height": null,
            "max_width": null,
            "min_height": null,
            "min_width": null,
            "object_fit": null,
            "object_position": null,
            "order": null,
            "overflow": null,
            "overflow_x": null,
            "overflow_y": null,
            "padding": null,
            "right": null,
            "top": null,
            "visibility": null,
            "width": null
          }
        },
        "0217b15b60784b9db6a2a252c36429e8": {
          "model_module": "@jupyter-widgets/base",
          "model_name": "LayoutModel",
          "model_module_version": "1.2.0",
          "state": {
            "_model_module": "@jupyter-widgets/base",
            "_model_module_version": "1.2.0",
            "_model_name": "LayoutModel",
            "_view_count": null,
            "_view_module": "@jupyter-widgets/base",
            "_view_module_version": "1.2.0",
            "_view_name": "LayoutView",
            "align_content": null,
            "align_items": null,
            "align_self": null,
            "border": null,
            "bottom": null,
            "display": null,
            "flex": null,
            "flex_flow": null,
            "grid_area": null,
            "grid_auto_columns": null,
            "grid_auto_flow": null,
            "grid_auto_rows": null,
            "grid_column": null,
            "grid_gap": null,
            "grid_row": null,
            "grid_template_areas": null,
            "grid_template_columns": null,
            "grid_template_rows": null,
            "height": null,
            "justify_content": null,
            "justify_items": null,
            "left": null,
            "margin": null,
            "max_height": null,
            "max_width": null,
            "min_height": null,
            "min_width": null,
            "object_fit": null,
            "object_position": null,
            "order": null,
            "overflow": null,
            "overflow_x": null,
            "overflow_y": null,
            "padding": null,
            "right": null,
            "top": null,
            "visibility": null,
            "width": null
          }
        },
        "07b52959cad44d14a3d0c8d44739fecd": {
          "model_module": "@jupyter-widgets/controls",
          "model_name": "DescriptionStyleModel",
          "model_module_version": "1.5.0",
          "state": {
            "_model_module": "@jupyter-widgets/controls",
            "_model_module_version": "1.5.0",
            "_model_name": "DescriptionStyleModel",
            "_view_count": null,
            "_view_module": "@jupyter-widgets/base",
            "_view_module_version": "1.2.0",
            "_view_name": "StyleView",
            "description_width": ""
          }
        },
        "4a646955ebf64551b28725e764010b15": {
          "model_module": "@jupyter-widgets/base",
          "model_name": "LayoutModel",
          "model_module_version": "1.2.0",
          "state": {
            "_model_module": "@jupyter-widgets/base",
            "_model_module_version": "1.2.0",
            "_model_name": "LayoutModel",
            "_view_count": null,
            "_view_module": "@jupyter-widgets/base",
            "_view_module_version": "1.2.0",
            "_view_name": "LayoutView",
            "align_content": null,
            "align_items": null,
            "align_self": null,
            "border": null,
            "bottom": null,
            "display": null,
            "flex": null,
            "flex_flow": null,
            "grid_area": null,
            "grid_auto_columns": null,
            "grid_auto_flow": null,
            "grid_auto_rows": null,
            "grid_column": null,
            "grid_gap": null,
            "grid_row": null,
            "grid_template_areas": null,
            "grid_template_columns": null,
            "grid_template_rows": null,
            "height": null,
            "justify_content": null,
            "justify_items": null,
            "left": null,
            "margin": null,
            "max_height": null,
            "max_width": null,
            "min_height": null,
            "min_width": null,
            "object_fit": null,
            "object_position": null,
            "order": null,
            "overflow": null,
            "overflow_x": null,
            "overflow_y": null,
            "padding": null,
            "right": null,
            "top": null,
            "visibility": null,
            "width": null
          }
        },
        "20942ec777224bff809eb2a96496c4f5": {
          "model_module": "@jupyter-widgets/controls",
          "model_name": "ProgressStyleModel",
          "model_module_version": "1.5.0",
          "state": {
            "_model_module": "@jupyter-widgets/controls",
            "_model_module_version": "1.5.0",
            "_model_name": "ProgressStyleModel",
            "_view_count": null,
            "_view_module": "@jupyter-widgets/base",
            "_view_module_version": "1.2.0",
            "_view_name": "StyleView",
            "bar_color": null,
            "description_width": ""
          }
        },
        "4f6d47288f39410da6b4ef2f7fa2d091": {
          "model_module": "@jupyter-widgets/base",
          "model_name": "LayoutModel",
          "model_module_version": "1.2.0",
          "state": {
            "_model_module": "@jupyter-widgets/base",
            "_model_module_version": "1.2.0",
            "_model_name": "LayoutModel",
            "_view_count": null,
            "_view_module": "@jupyter-widgets/base",
            "_view_module_version": "1.2.0",
            "_view_name": "LayoutView",
            "align_content": null,
            "align_items": null,
            "align_self": null,
            "border": null,
            "bottom": null,
            "display": null,
            "flex": null,
            "flex_flow": null,
            "grid_area": null,
            "grid_auto_columns": null,
            "grid_auto_flow": null,
            "grid_auto_rows": null,
            "grid_column": null,
            "grid_gap": null,
            "grid_row": null,
            "grid_template_areas": null,
            "grid_template_columns": null,
            "grid_template_rows": null,
            "height": null,
            "justify_content": null,
            "justify_items": null,
            "left": null,
            "margin": null,
            "max_height": null,
            "max_width": null,
            "min_height": null,
            "min_width": null,
            "object_fit": null,
            "object_position": null,
            "order": null,
            "overflow": null,
            "overflow_x": null,
            "overflow_y": null,
            "padding": null,
            "right": null,
            "top": null,
            "visibility": null,
            "width": null
          }
        },
        "00d435fd0c0b47da9d0aa451abc38833": {
          "model_module": "@jupyter-widgets/controls",
          "model_name": "DescriptionStyleModel",
          "model_module_version": "1.5.0",
          "state": {
            "_model_module": "@jupyter-widgets/controls",
            "_model_module_version": "1.5.0",
            "_model_name": "DescriptionStyleModel",
            "_view_count": null,
            "_view_module": "@jupyter-widgets/base",
            "_view_module_version": "1.2.0",
            "_view_name": "StyleView",
            "description_width": ""
          }
        }
      }
    }
  },
  "nbformat": 4,
  "nbformat_minor": 0
}
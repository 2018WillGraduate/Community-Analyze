{
  "cells": [
    {
      "cell_type": "code",
      "execution_count": 1,
      "metadata": {
        "colab": {
          "base_uri": "https://localhost:8080/"
        },
        "id": "XoPZcBqGIJTl",
        "outputId": "c8bb86f3-5cc9-49b3-ed0a-9e6f5aca8b21"
      },
      "outputs": [
        {
          "name": "stdout",
          "output_type": "stream",
          "text": [
            "Mounted at /content/drive\n"
          ]
        }
      ],
      "source": [
        "from google.colab import drive\n",
        "drive.mount('/content/drive')"
      ]
    },
    {
      "cell_type": "code",
      "execution_count": 2,
      "metadata": {
        "colab": {
          "base_uri": "https://localhost:8080/"
        },
        "id": "3Ms8zpRlKNVj",
        "outputId": "098c37d7-46c0-46d1-c0f3-f2e9725fb2b7"
      },
      "outputs": [
        {
          "name": "stdout",
          "output_type": "stream",
          "text": [
            "/content/drive/MyDrive\n"
          ]
        }
      ],
      "source": [
        "cd drive/MyDrive"
      ]
    },
    {
      "cell_type": "code",
      "execution_count": null,
      "metadata": {
        "colab": {
          "base_uri": "https://localhost:8080/"
        },
        "id": "htsIje03F3Y8",
        "outputId": "d6105be6-cdfb-45c3-ad30-92b6009bdbbb"
      },
      "outputs": [],
      "source": [
        "# !pip install sentencepiece\n",
        "!pip install bertopic"
      ]
    },
    {
      "cell_type": "code",
      "execution_count": 4,
      "metadata": {
        "id": "356YR2SlGvPN"
      },
      "outputs": [],
      "source": [
        "from tqdm import tqdm\n",
        "from sklearn.feature_extraction.text import CountVectorizer\n",
        "from bertopic import BERTopic\n",
        "import os\n",
        "import json"
      ]
    },
    {
      "cell_type": "code",
      "execution_count": 5,
      "metadata": {
        "id": "7dpDEKYxbnxI"
      },
      "outputs": [],
      "source": [
        "import os\n",
        "import json\n",
        "import re\n",
        "from zipfile import ZipFile\n",
        "\n",
        "cond = re.compile('[가-힣]+')\n",
        "\n",
        "def get_data_from_zip(zip_name):\n",
        "    zip_file_path = '/content/drive/MyDrive/jolnon/' + zip_name + '.zip'\n",
        "    extract_path = '/content/' + zip_name\n",
        "\n",
        "    with ZipFile(zip_file_path, 'r') as zip_ref:\n",
        "        zip_ref.extractall(extract_path)\n",
        "\n",
        "    result = []\n",
        "    for name in os.listdir(path=extract_path):\n",
        "        file_path = os.path.join(extract_path, name)\n",
        "        if os.path.isdir(file_path):\n",
        "            for name in os.listdir(path=file_path):\n",
        "                with open(file_path + '/' + name, 'r', encoding='utf-8') as f:\n",
        "                    data = json.load(f)\n",
        "                    valid = []\n",
        "                    for d in data['content'].split('\\n'):\n",
        "                        res = []\n",
        "                        for word in d.split(' '):\n",
        "                            if cond.match(word) != None:\n",
        "                                res.append(word)\n",
        "                        d = ' '.join(res)\n",
        "                        if d and not d.replace(' ', '').isdecimal():\n",
        "                            valid.append(d)\n",
        "                    result.append('\\n'.join([data['title']] + valid))\n",
        "        else:\n",
        "            with open(extract_path + '/' + name, 'r', encoding='utf-8') as f:\n",
        "                data = json.load(f)\n",
        "                valid = []\n",
        "                for d in data['content'].split('\\n'):\n",
        "                    res = []\n",
        "                    for word in d.split(' '):\n",
        "                        if cond.match(word) != None:\n",
        "                            res.append(word)\n",
        "                    d = ' '.join(res)\n",
        "                    if d and not d.replace(' ', '').isdecimal():\n",
        "                        valid.append(d)\n",
        "                result.append('\\n'.join([data['title']] + valid))\n",
        "    return result\n"
      ]
    },
    {
      "cell_type": "code",
      "execution_count": 41,
      "metadata": {
        "id": "ATei8ItuKmZF"
      },
      "outputs": [],
      "source": [
        "import random\n",
        "random.seed(42)\n",
        "galleries = ['tree','drink']\n",
        "dataset = []\n",
        "for e in galleries:\n",
        "  dataset.append([get_data_from_zip(e)])\n",
        "cocktail = []\n",
        "for data in dataset:\n",
        "  for sen in data:\n",
        "    cocktail+=sen"
      ]
    },
    {
      "cell_type": "code",
      "execution_count": 42,
      "metadata": {
        "id": "5K6H00ybG72L"
      },
      "outputs": [],
      "source": [
        "def remove_words(sentence, word):\n",
        "    return ' '.join([w.replace(word, '') for w in sentence.split()])\n",
        "stopwords = ['-dc', 'official', 'App', '이미지' ,'순서','저장','.jpg','.png','.txt','.gif']\n",
        "for i in range(len(cocktail)):\n",
        "  for j in range(len(stopwords)):\n",
        "    cocktail[i] = remove_words(cocktail[i],stopwords[j])"
      ]
    },
    {
      "cell_type": "code",
      "execution_count": 43,
      "metadata": {
        "id": "RN4RVv0XVn9S"
      },
      "outputs": [],
      "source": [
        "import collections\n",
        "\n",
        "def remove_top_n_words(data, n):\n",
        "    words = [word for sentence in data for word in sentence.split(' ')]\n",
        "    word_count = collections.Counter(words)\n",
        "    top_n_words = [word for word, _ in word_count.most_common(n)]\n",
        "    for i in range(len(data)):\n",
        "        for word in top_n_words:\n",
        "            if word=='':\n",
        "                continue\n",
        "            data[i] = remove_words(data[i], word)\n",
        "    return data\n",
        "\n",
        "def remove_empty_sentences(cocktail, real_labels):\n",
        "  indices = [i for i, sentence in enumerate(cocktail) if sentence.strip() != '']\n",
        "  cocktail = [cocktail[i] for i in indices]\n",
        "  real_labels = [real_labels[i] for i in indices]\n",
        "  return cocktail, real_labels\n"
      ]
    },
    {
      "cell_type": "code",
      "execution_count": 44,
      "metadata": {
        "id": "7z1QOLSbkE8Q"
      },
      "outputs": [],
      "source": [
        "real_labels = []\n",
        "for i in range(len(dataset)):\n",
        "  real_labels += [i] * len(dataset[i][0])\n",
        "cocktail = remove_top_n_words(cocktail, 0)\n",
        "cocktail, real_labels = remove_empty_sentences(cocktail, real_labels)"
      ]
    },
    {
      "cell_type": "code",
      "execution_count": null,
      "metadata": {},
      "outputs": [],
      "source": [
        "# !pip install transformers\n",
        "# from transformers import AutoModel, AutoTokenizer\n",
        "# model = AutoModel.from_pretrained(\"klue/roberta-large\")\n",
        "# tokenizer = AutoTokenizer.from_pretrained(\"klue/roberta-large\")\n",
        "\n",
        "# model = AutoModel.from_pretrained(\"klue/bert-base\")\n",
        "# tokenizer = AutoTokenizer.from_pretrained(\"klue/bert-base\")\n",
        "# bertopic_model_embed_token = BERTopic(embedding_model=model,\n",
        "#                                       vectorizer_model=vectorizer,\n",
        "#                                       ctfidf_model=ctfidf_model,\n",
        "#                                       nr_topics=100,\n",
        "#                                       top_n_words=1,\n",
        "#                                       calculate_probabilities=False)"
      ]
    },
    {
      "cell_type": "code",
      "execution_count": 46,
      "metadata": {
        "id": "7Uruk1MXQjY-"
      },
      "outputs": [],
      "source": [
        "from bertopic.vectorizers import ClassTfidfTransformer\n",
        "ctfidf_model = ClassTfidfTransformer(reduce_frequent_words=True)\n",
        "bertopic_model_embed_token = BERTopic(language='multilingual',\n",
        "                          nr_topics=100,\n",
        "                          top_n_words=1)\n",
        "topics, _ = bertopic_model_embed_token.fit_transform(cocktail)"
      ]
    },
    {
      "cell_type": "code",
      "execution_count": 47,
      "metadata": {
        "colab": {
          "base_uri": "https://localhost:8080/"
        },
        "id": "I7QOVUY2QuUI",
        "outputId": "d7f516da-3598-4cfe-b872-5593926a714a"
      },
      "outputs": [
        {
          "name": "stdout",
          "output_type": "stream",
          "text": [
            "생성된 주제의 수: 99\n"
          ]
        }
      ],
      "source": [
        "topic_info = bertopic_model_embed_token.get_topic_info()\n",
        "number_of_topics = len(topic_info) - 1\n",
        "print(f\"생성된 주제의 수: {number_of_topics}\")\n",
        "lst = []\n",
        "for index, row in topic_info.iterrows():\n",
        "    topic_num = row['Topic']\n",
        "    if topic_num != -1:\n",
        "        topic_name = row['Name']\n",
        "        pure_topic_name = \"_\".join(topic_name.split(\"_\")[1:])\n",
        "        lst.append(pure_topic_name)"
      ]
    },
    {
      "cell_type": "code",
      "execution_count": 48,
      "metadata": {
        "id": "M6Y-gACy9cxu"
      },
      "outputs": [],
      "source": [
        "### Reducing outliers\n",
        "topics = bertopic_model_embed_token.reduce_outliers(cocktail, topics, strategy=\"c-tf-idf\", threshold=0.1)\n",
        "topics = bertopic_model_embed_token.reduce_outliers(cocktail, topics, strategy=\"distributions\")"
      ]
    },
    {
      "cell_type": "code",
      "execution_count": 49,
      "metadata": {
        "colab": {
          "base_uri": "https://localhost:8080/"
        },
        "id": "DpuHo57b6fVk",
        "outputId": "3161cd03-e010-4d65-d472-3859e0a1f97e"
      },
      "outputs": [
        {
          "name": "stderr",
          "output_type": "stream",
          "text": [
            "100%|██████████| 98/98 [00:01<00:00, 82.46it/s]\n"
          ]
        }
      ],
      "source": [
        "hierarchical_topics = bertopic_model_embed_token.hierarchical_topics(cocktail)"
      ]
    },
    {
      "cell_type": "code",
      "execution_count": 61,
      "metadata": {
        "id": "lLq2d3Hs6vyp"
      },
      "outputs": [],
      "source": [
        "# bertopic_model_embed_token.visualize_hierarchy(hierarchical_topics=hierarchical_topics)"
      ]
    },
    {
      "cell_type": "code",
      "execution_count": 52,
      "metadata": {
        "id": "Eq3K0Z8X3cPT"
      },
      "outputs": [],
      "source": [
        "verify = True\n",
        "table = [[0 for r in range(2)] for t in range(max([int(x) for x in hierarchical_topics['Parent_ID']]) + 1)]\n",
        "if verify:\n",
        "  for j in range(number_of_topics):\n",
        "    for i in range(len(topics)):\n",
        "      if topics[i]==j:\n",
        "        table[j][real_labels[i]]+=1\n",
        "  for j in range(number_of_topics, len(table)):\n",
        "    row = hierarchical_topics[hierarchical_topics['Parent_ID'] == str(j)].iloc[0]\n",
        "    left, right = int(row['Child_Left_ID']), int(row['Child_Right_ID'])\n",
        "    for i in range(len(table[0])):\n",
        "      table[j][i] += table[left][i] + table[right][i]"
      ]
    },
    {
      "cell_type": "code",
      "execution_count": 53,
      "metadata": {
        "id": "WmbUSR7eo8Af"
      },
      "outputs": [],
      "source": [
        "df = hierarchical_topics\n",
        "selected_topics_ids = set()\n",
        "for index, row in df[df['Distance'] >= 1].iterrows():\n",
        "    left_child = df[df['Parent_ID'] == row['Child_Left_ID']]\n",
        "    if not left_child.empty and left_child.iloc[0]['Distance'] < 1:\n",
        "        selected_topics_ids.add(row['Child_Left_ID'])\n",
        "\n",
        "    right_child = df[df['Parent_ID'] == row['Child_Right_ID']]\n",
        "    if not right_child.empty and right_child.iloc[0]['Distance'] < 1:\n",
        "        selected_topics_ids.add(row['Child_Right_ID'])\n",
        "selected_topics_ids = list(selected_topics_ids)"
      ]
    },
    {
      "cell_type": "code",
      "execution_count": 54,
      "metadata": {
        "id": "tJ4JW-oZpvND"
      },
      "outputs": [],
      "source": [
        "post_counts = [0 for i in range(number_of_topics)]\n",
        "for i in range(len(post_counts)):\n",
        "    post_counts[i] = topics.count(i)"
      ]
    },
    {
      "cell_type": "code",
      "execution_count": 55,
      "metadata": {
        "id": "IsqB5V3zsIZM"
      },
      "outputs": [],
      "source": [
        "selected_topic_names=[]\n",
        "for topic_id in selected_topics_ids:\n",
        "    topic_name = df[df['Parent_ID'] == topic_id]['Parent_Name'].iloc[0]\n",
        "    selected_topic_names.append(topic_name)"
      ]
    },
    {
      "cell_type": "code",
      "execution_count": 56,
      "metadata": {
        "colab": {
          "base_uri": "https://localhost:8080/"
        },
        "id": "eCXzSe7L3LQo",
        "outputId": "acbe77e4-f465-43ec-b66e-8698e7d92f30"
      },
      "outputs": [
        {
          "name": "stdout",
          "output_type": "stream",
          "text": [
            "받고 129\n",
            "추천 149\n",
            "얼음 108\n",
            "분갈이 167\n",
            "냄새가 135\n",
            "나무 127\n",
            "토마토 165\n",
            "위스키 116\n",
            "벌레 150\n",
            "신엽 160\n",
            "식물 142\n",
            "맛있음 155\n",
            "꽃이 138\n",
            "vs 121\n",
            "이름이 100\n",
            "잎이 115\n",
            "버섯 146\n",
            "자야지 152\n",
            "잭다니엘 164\n",
            "일본 159\n",
            "보관 166\n",
            "딸기 161\n",
            "사진 168\n",
            "커피 151\n",
            "내일 153\n",
            "와인 113\n"
          ]
        }
      ],
      "source": [
        "for i in range(len(selected_topic_names)):\n",
        "  print(selected_topic_names[i], selected_topics_ids[i])"
      ]
    },
    {
      "cell_type": "code",
      "execution_count": 62,
      "metadata": {
        "id": "oKHGEjiS_t5d"
      },
      "outputs": [],
      "source": [
        "ord = [2,2,2,0,2, 0,0,1,0,0, 0,1,0,2,2, 0,0,2,1,2, 2,0,2,1,2,1] #tree drink none"
      ]
    },
    {
      "cell_type": "code",
      "execution_count": 63,
      "metadata": {
        "id": "HTI2XOKN-Xci"
      },
      "outputs": [],
      "source": [
        "# hierarchical_topics"
      ]
    },
    {
      "cell_type": "code",
      "execution_count": 64,
      "metadata": {
        "id": "lpV1wMno5A4y"
      },
      "outputs": [],
      "source": [
        "import numpy as np\n",
        "import warnings\n",
        "import matplotlib\n",
        "import matplotlib.pyplot as plt\n",
        "import matplotlib.font_manager as fm\n",
        "warnings.filterwarnings(\"ignore\", category=UserWarning, module=\"matplotlib\")\n",
        "\n",
        "def clusterByHand(table, selected_topics_ids, selected_topic_names, galleries, post_counts, ord):\n",
        "  selected_topic_counts = [[0, 0] for _ in range(len(selected_topics_ids))]\n",
        "  for i in range(len(selected_topics_ids)):\n",
        "    selected_topic_counts[i][0] += table[int(selected_topics_ids[i])][0]\n",
        "    selected_topic_counts[i][1] += table[int(selected_topics_ids[i])][1]\n",
        "  dic = dict()\n",
        "  n_clusters = len(galleries) + 1\n",
        "  idx2name = dict(zip(selected_topics_ids,selected_topic_names))\n",
        "  name2idx = dict(zip(selected_topic_names,selected_topics_ids))\n",
        "  clustered_topics_name=[[],[],[]]\n",
        "  for i in range(len(ord)):\n",
        "    clustered_topics_name[ord[i]].append(selected_topic_names[i])\n",
        "\n",
        "  clustered_topics_count = [[] for _ in range(n_clusters)]\n",
        "  clustered_topics = [[] for _ in range(n_clusters)]\n",
        "  for i in range(len(clustered_topics_name)):\n",
        "    for ele in clustered_topics_name[i]:\n",
        "      clustered_topics[i].append(name2idx[ele])\n",
        "  for r in clustered_topics_name:\n",
        "    print(r)\n",
        "  cluster_sums = []\n",
        "  for idx, cluster in enumerate(clustered_topics):\n",
        "    total_sum = 0\n",
        "    for parent_id in cluster:\n",
        "      row = hierarchical_topics[hierarchical_topics['Parent_ID'] == parent_id].iloc[0]\n",
        "      topic_ids = row['Topics']\n",
        "      cluster_sum = sum(post_counts[topic_id] for topic_id in topic_ids)\n",
        "      clustered_topics_count[idx].append(cluster_sum)\n",
        "      total_sum += cluster_sum\n",
        "    cluster_sums.append(total_sum)\n",
        "  if verify:\n",
        "    clustered_count = [[0, 0] for _ in range(n_clusters)]\n",
        "    for i in range(n_clusters):\n",
        "      for j in clustered_topics[i]:\n",
        "        clustered_count[i][0] += table[int(j)][0]\n",
        "        clustered_count[i][1] += table[int(j)][1]\n",
        "\n",
        "    for i in range(n_clusters):\n",
        "      l, r = clustered_count[i][0], clustered_count[i][1]\n",
        "      for j in range(len(clustered_topics[i])):\n",
        "        k = clustered_topics[i][j]\n",
        "        l, r = table[int(k)][0], table[int(k)][1]\n",
        "    clusters = []\n",
        "\n",
        "    for i in range(n_clusters):\n",
        "      cluster_info = {}\n",
        "      l, r = clustered_count[i][0], clustered_count[i][1]\n",
        "      cluster_info['name'] = f'Cluster #{i+1}'\n",
        "      cluster_info['value'] = l + r\n",
        "      cluster_info['distribution'] = [100 * l / (l + r), 100 * r / (l + r)]\n",
        "\n",
        "      topics_list = []\n",
        "      for j in range(len(clustered_topics[i])):\n",
        "        topic_info = {}\n",
        "        k = clustered_topics[i][j]\n",
        "        l, r = table[int(k)][0], table[int(k)][1]\n",
        "        topic_info['name'] = clustered_topics_name[i][j]\n",
        "        topic_info['value'] = l + r\n",
        "        topic_info['distribution'] = [100 * l / (l + r), 100 * r / (l + r)]\n",
        "        topics_list.append(topic_info)\n",
        "\n",
        "      cluster_info['topics'] = topics_list\n",
        "      clusters.append(cluster_info)\n",
        "\n",
        "    font_path = '/content/drive/MyDrive/NanumSquareRoundR.ttf'\n",
        "    fontprop = fm.FontProperties(fname=font_path, size=10)\n",
        "    plt.rcParams[\"font.family\"] = fontprop.get_name()\n",
        "    plt.rcParams['axes.unicode_minus'] = False\n",
        "\n",
        "    def sort_topics_by_distribution(cluster):\n",
        "      cluster['topics'] = sorted(cluster['topics'], key=lambda x: x['distribution'][0], reverse=True)\n",
        "\n",
        "    for cluster in clusters:\n",
        "      print(cluster)\n",
        "      sort_topics_by_distribution(cluster)\n",
        "\n",
        "    fig, ax = plt.subplots(figsize=(10, 6))\n",
        "\n",
        "    y_positions = []\n",
        "    y_labels = []\n",
        "\n",
        "    current_y = 0\n",
        "    bar_width = 0.4\n",
        "\n",
        "    for cluster in clusters:\n",
        "      y_positions.append(current_y)\n",
        "      y_labels.append(cluster['name'])\n",
        "      for topic in cluster['topics']:\n",
        "        current_y -= 1\n",
        "        y_positions.append(current_y)\n",
        "        y_labels.append(topic['name'])\n",
        "        ax.barh(current_y, topic['distribution'][0], color='r', height=bar_width, label=topic['name'])\n",
        "        ax.barh(current_y, topic['distribution'][1], color='g', left=topic['distribution'][0], height=bar_width)\n",
        "      current_y -= 2\n",
        "\n",
        "    ax.set_yticks(y_positions)\n",
        "    ax.set_yticklabels(y_labels, fontproperties=fontprop)\n",
        "    ax.set_xlabel('커뮤니티 분포', fontproperties=fontprop)\n",
        "    plt.title(\"FastText 이용 클러스터링 결과\", fontproperties=fontprop)\n",
        "    plt.ylabel(\"토픽 이름\", fontproperties=fontprop)\n",
        "\n",
        "    plt.tight_layout()\n",
        "    plt.show()\n",
        "\n",
        "    return clustered_topics\n"
      ]
    },
    {
      "cell_type": "code",
      "execution_count": 65,
      "metadata": {
        "colab": {
          "base_uri": "https://localhost:8080/",
          "height": 1000
        },
        "id": "7KxcGmpSHSgp",
        "outputId": "5c070c79-b52a-4f40-b249-8bb768908c42"
      },
      "outputs": [
        {
          "name": "stderr",
          "output_type": "stream",
          "text": [
            "WARNING:matplotlib.font_manager:findfont: Font family 'NanumSquareRound' not found.\n",
            "WARNING:matplotlib.font_manager:findfont: Font family 'NanumSquareRound' not found.\n",
            "WARNING:matplotlib.font_manager:findfont: Font family 'NanumSquareRound' not found.\n"
          ]
        },
        {
          "name": "stdout",
          "output_type": "stream",
          "text": [
            "['분갈이', '나무', '토마토', '벌레', '신엽', '식물', '꽃이', '잎이', '버섯', '딸기']\n",
            "['위스키', '맛있음', '잭다니엘', '커피', '와인']\n",
            "['받고', '추천', '얼음', '냄새가', 'vs', '이름이', '자야지', '일본', '보관', '사진', '내일']\n",
            "{'name': 'Cluster #1', 'value': 8601, 'distribution': [85.39704685501685, 14.602953144983141], 'topics': [{'name': '분갈이', 'value': 819, 'distribution': [83.76068376068376, 16.23931623931624]}, {'name': '나무', 'value': 212, 'distribution': [86.79245283018868, 13.20754716981132]}, {'name': '토마토', 'value': 705, 'distribution': [81.70212765957447, 18.29787234042553]}, {'name': '벌레', 'value': 409, 'distribution': [91.44254278728606, 8.557457212713937]}, {'name': '신엽', 'value': 170, 'distribution': [75.88235294117646, 24.11764705882353]}, {'name': '식물', 'value': 883, 'distribution': [88.10872027180068, 11.89127972819932]}, {'name': '꽃이', 'value': 686, 'distribution': [94.75218658892128, 5.247813411078718]}, {'name': '잎이', 'value': 4400, 'distribution': [86.20454545454545, 13.795454545454545]}, {'name': '버섯', 'value': 125, 'distribution': [68.8, 31.2]}, {'name': '딸기', 'value': 192, 'distribution': [46.354166666666664, 53.645833333333336]}]}\n",
            "{'name': 'Cluster #2', 'value': 3036, 'distribution': [9.617918313570488, 90.38208168642952], 'topics': [{'name': '위스키', 'value': 1000, 'distribution': [3.3, 96.7]}, {'name': '맛있음', 'value': 454, 'distribution': [10.13215859030837, 89.86784140969164]}, {'name': '잭다니엘', 'value': 206, 'distribution': [22.815533980582526, 77.18446601941747]}, {'name': '커피', 'value': 147, 'distribution': [35.374149659863946, 64.62585034013605]}, {'name': '와인', 'value': 1229, 'distribution': [9.275834011391375, 90.72416598860862]}]}\n",
            "{'name': 'Cluster #3', 'value': 6331, 'distribution': [37.608592639393464, 62.391407360606536], 'topics': [{'name': '받고', 'value': 1099, 'distribution': [11.010009099181074, 88.98999090081892]}, {'name': '추천', 'value': 140, 'distribution': [27.857142857142858, 72.14285714285714]}, {'name': '얼음', 'value': 152, 'distribution': [21.710526315789473, 78.28947368421052]}, {'name': '냄새가', 'value': 142, 'distribution': [50.70422535211268, 49.29577464788732]}, {'name': 'vs', 'value': 203, 'distribution': [44.33497536945813, 55.66502463054187]}, {'name': '이름이', 'value': 648, 'distribution': [88.42592592592592, 11.574074074074074]}, {'name': '자야지', 'value': 160, 'distribution': [40.0, 60.0]}, {'name': '일본', 'value': 2627, 'distribution': [32.54663113818044, 67.45336886181957]}, {'name': '보관', 'value': 347, 'distribution': [40.345821325648416, 59.654178674351584]}, {'name': '사진', 'value': 442, 'distribution': [69.23076923076923, 30.76923076923077]}, {'name': '내일', 'value': 371, 'distribution': [23.71967654986523, 76.28032345013477]}]}\n"
          ]
        },
        {
          "name": "stderr",
          "output_type": "stream",
          "text": [
            "WARNING:matplotlib.font_manager:findfont: Font family 'NanumSquareRound' not found.\n",
            "WARNING:matplotlib.font_manager:findfont: Font family 'NanumSquareRound' not found.\n",
            "WARNING:matplotlib.font_manager:findfont: Font family 'NanumSquareRound' not found.\n",
            "WARNING:matplotlib.font_manager:findfont: Font family 'NanumSquareRound' not found.\n",
            "WARNING:matplotlib.font_manager:findfont: Font family 'NanumSquareRound' not found.\n",
            "WARNING:matplotlib.font_manager:findfont: Font family 'NanumSquareRound' not found.\n",
            "WARNING:matplotlib.font_manager:findfont: Font family 'NanumSquareRound' not found.\n",
            "WARNING:matplotlib.font_manager:findfont: Font family 'NanumSquareRound' not found.\n",
            "WARNING:matplotlib.font_manager:findfont: Font family 'NanumSquareRound' not found.\n",
            "WARNING:matplotlib.font_manager:findfont: Font family 'NanumSquareRound' not found.\n",
            "WARNING:matplotlib.font_manager:findfont: Font family 'NanumSquareRound' not found.\n",
            "WARNING:matplotlib.font_manager:findfont: Font family 'NanumSquareRound' not found.\n",
            "WARNING:matplotlib.font_manager:findfont: Font family 'NanumSquareRound' not found.\n",
            "WARNING:matplotlib.font_manager:findfont: Font family 'NanumSquareRound' not found.\n",
            "WARNING:matplotlib.font_manager:findfont: Font family 'NanumSquareRound' not found.\n",
            "WARNING:matplotlib.font_manager:findfont: Font family 'NanumSquareRound' not found.\n",
            "WARNING:matplotlib.font_manager:findfont: Font family 'NanumSquareRound' not found.\n"
          ]
        },
        {
          "data": {
            "image/png": "[encoded data removed]",
            "text/plain": [
              "<Figure size 1000x600 with 1 Axes>"
            ]
          },
          "metadata": {},
          "output_type": "display_data"
        }
      ],
      "source": [
        "clustered_topics_ids = clusterByHand(table, selected_topics_ids, selected_topic_names, galleries, post_counts, ord)\n",
        "ratios = [[] for i in range(3)]\n",
        "for i in range(3):\n",
        "  ratio = []\n",
        "\n",
        "  topics_list = []\n",
        "  for j in range(len(clustered_topics_ids[i])):\n",
        "    k = clustered_topics_ids[i][j]\n",
        "    l, r = table[int(k)][0], table[int(k)][1]\n",
        "    ratio.append(l / (l + r))\n",
        "  ratios[i] = ratio"
      ]
    },
    {
      "cell_type": "code",
      "execution_count": 70,
      "metadata": {
        "colab": {
          "base_uri": "https://localhost:8080/",
          "height": 1000
        },
        "id": "KIbrlTOQH25K",
        "outputId": "e170f0b2-e0dd-4f9d-c435-82d63fe77730"
      },
      "outputs": [
        {
          "name": "stderr",
          "output_type": "stream",
          "text": [
            "WARNING:matplotlib.font_manager:findfont: Font family 'NanumSquareRound' not found.\n",
            "WARNING:matplotlib.font_manager:findfont: Font family 'NanumSquareRound' not found.\n",
            "WARNING:matplotlib.font_manager:findfont: Font family 'NanumSquareRound' not found.\n",
            "WARNING:matplotlib.font_manager:findfont: Font family 'NanumSquareRound' not found.\n",
            "WARNING:matplotlib.font_manager:findfont: Font family 'NanumSquareRound' not found.\n",
            "WARNING:matplotlib.font_manager:findfont: Font family 'NanumSquareRound' not found.\n",
            "WARNING:matplotlib.font_manager:findfont: Font family 'NanumSquareRound' not found.\n",
            "WARNING:matplotlib.font_manager:findfont: Font family 'NanumSquareRound' not found.\n",
            "WARNING:matplotlib.font_manager:findfont: Font family 'NanumSquareRound' not found.\n",
            "WARNING:matplotlib.font_manager:findfont: Font family 'NanumSquareRound' not found.\n",
            "WARNING:matplotlib.font_manager:findfont: Font family 'NanumSquareRound' not found.\n",
            "WARNING:matplotlib.font_manager:findfont: Font family 'NanumSquareRound' not found.\n",
            "WARNING:matplotlib.font_manager:findfont: Font family 'NanumSquareRound' not found.\n",
            "WARNING:matplotlib.font_manager:findfont: Font family 'NanumSquareRound' not found.\n",
            "WARNING:matplotlib.font_manager:findfont: Font family 'NanumSquareRound' not found.\n",
            "WARNING:matplotlib.font_manager:findfont: Font family 'NanumSquareRound' not found.\n",
            "WARNING:matplotlib.font_manager:findfont: Font family 'NanumSquareRound' not found.\n",
            "WARNING:matplotlib.font_manager:findfont: Font family 'NanumSquareRound' not found.\n",
            "WARNING:matplotlib.font_manager:findfont: Font family 'NanumSquareRound' not found.\n",
            "WARNING:matplotlib.font_manager:findfont: Font family 'NanumSquareRound' not found.\n",
            "WARNING:matplotlib.font_manager:findfont: Font family 'NanumSquareRound' not found.\n"
          ]
        },
        {
          "name": "stdout",
          "output_type": "stream",
          "text": [
            "[0.8376068376068376, 0.8679245283018868, 0.8170212765957446, 0.9144254278728606, 0.7588235294117647, 0.8810872027180068, 0.9475218658892128, 0.8620454545454546, 0.688, 0.4635416666666667] [0.033, 0.1013215859030837, 0.22815533980582525, 0.35374149659863946, 0.09275834011391375] [0.11010009099181074, 0.2785714285714286, 0.21710526315789475, 0.5070422535211268, 0.4433497536945813, 0.8842592592592593, 0.4, 0.3254663113818043, 0.4034582132564842, 0.6923076923076923, 0.2371967654986523]\n"
          ]
        },
        {
          "name": "stderr",
          "output_type": "stream",
          "text": [
            "WARNING:matplotlib.font_manager:findfont: Font family 'NanumSquareRound' not found.\n",
            "WARNING:matplotlib.font_manager:findfont: Font family 'NanumSquareRound' not found.\n",
            "WARNING:matplotlib.font_manager:findfont: Font family 'NanumSquareRound' not found.\n",
            "WARNING:matplotlib.font_manager:findfont: Font family 'NanumSquareRound' not found.\n",
            "WARNING:matplotlib.font_manager:findfont: Font family 'NanumSquareRound' not found.\n",
            "WARNING:matplotlib.font_manager:findfont: Font family 'NanumSquareRound' not found.\n",
            "WARNING:matplotlib.font_manager:findfont: Font family 'NanumSquareRound' not found.\n",
            "WARNING:matplotlib.font_manager:findfont: Font family 'NanumSquareRound' not found.\n",
            "WARNING:matplotlib.font_manager:findfont: Font family 'NanumSquareRound' not found.\n",
            "WARNING:matplotlib.font_manager:findfont: Font family 'NanumSquareRound' not found.\n",
            "WARNING:matplotlib.font_manager:findfont: Font family 'NanumSquareRound' not found.\n",
            "WARNING:matplotlib.font_manager:findfont: Font family 'NanumSquareRound' not found.\n",
            "WARNING:matplotlib.font_manager:findfont: Font family 'NanumSquareRound' not found.\n",
            "WARNING:matplotlib.font_manager:findfont: Font family 'NanumSquareRound' not found.\n",
            "WARNING:matplotlib.font_manager:findfont: Font family 'NanumSquareRound' not found.\n",
            "WARNING:matplotlib.font_manager:findfont: Font family 'NanumSquareRound' not found.\n",
            "WARNING:matplotlib.font_manager:findfont: Font family 'NanumSquareRound' not found.\n",
            "WARNING:matplotlib.font_manager:findfont: Font family 'NanumSquareRound' not found.\n",
            "WARNING:matplotlib.font_manager:findfont: Font family 'NanumSquareRound' not found.\n",
            "WARNING:matplotlib.font_manager:findfont: Font family 'NanumSquareRound' not found.\n",
            "WARNING:matplotlib.font_manager:findfont: Font family 'NanumSquareRound' not found.\n",
            "WARNING:matplotlib.font_manager:findfont: Font family 'NanumSquareRound' not found.\n",
            "WARNING:matplotlib.font_manager:findfont: Font family 'NanumSquareRound' not found.\n",
            "WARNING:matplotlib.font_manager:findfont: Font family 'NanumSquareRound' not found.\n",
            "WARNING:matplotlib.font_manager:findfont: Font family 'NanumSquareRound' not found.\n",
            "WARNING:matplotlib.font_manager:findfont: Font family 'NanumSquareRound' not found.\n",
            "WARNING:matplotlib.font_manager:findfont: Font family 'NanumSquareRound' not found.\n",
            "WARNING:matplotlib.font_manager:findfont: Font family 'NanumSquareRound' not found.\n",
            "WARNING:matplotlib.font_manager:findfont: Font family 'NanumSquareRound' not found.\n",
            "WARNING:matplotlib.font_manager:findfont: Font family 'NanumSquareRound' not found.\n",
            "WARNING:matplotlib.font_manager:findfont: Font family 'NanumSquareRound' not found.\n",
            "WARNING:matplotlib.font_manager:findfont: Font family 'NanumSquareRound' not found.\n",
            "WARNING:matplotlib.font_manager:findfont: Font family 'NanumSquareRound' not found.\n",
            "WARNING:matplotlib.font_manager:findfont: Font family 'NanumSquareRound' not found.\n",
            "WARNING:matplotlib.font_manager:findfont: Font family 'NanumSquareRound' not found.\n",
            "WARNING:matplotlib.font_manager:findfont: Font family 'NanumSquareRound' not found.\n",
            "WARNING:matplotlib.font_manager:findfont: Font family 'NanumSquareRound' not found.\n",
            "WARNING:matplotlib.font_manager:findfont: Font family 'NanumSquareRound' not found.\n",
            "WARNING:matplotlib.font_manager:findfont: Font family 'NanumSquareRound' not found.\n",
            "WARNING:matplotlib.font_manager:findfont: Font family 'NanumSquareRound' not found.\n",
            "WARNING:matplotlib.font_manager:findfont: Font family 'NanumSquareRound' not found.\n",
            "WARNING:matplotlib.font_manager:findfont: Font family 'NanumSquareRound' not found.\n",
            "WARNING:matplotlib.font_manager:findfont: Font family 'NanumSquareRound' not found.\n",
            "WARNING:matplotlib.font_manager:findfont: Font family 'NanumSquareRound' not found.\n",
            "WARNING:matplotlib.font_manager:findfont: Font family 'NanumSquareRound' not found.\n",
            "WARNING:matplotlib.font_manager:findfont: Font family 'NanumSquareRound' not found.\n",
            "WARNING:matplotlib.font_manager:findfont: Font family 'NanumSquareRound' not found.\n",
            "WARNING:matplotlib.font_manager:findfont: Font family 'NanumSquareRound' not found.\n",
            "WARNING:matplotlib.font_manager:findfont: Font family 'NanumSquareRound' not found.\n",
            "WARNING:matplotlib.font_manager:findfont: Font family 'NanumSquareRound' not found.\n",
            "WARNING:matplotlib.font_manager:findfont: Font family 'NanumSquareRound' not found.\n",
            "WARNING:matplotlib.font_manager:findfont: Font family 'NanumSquareRound' not found.\n",
            "WARNING:matplotlib.font_manager:findfont: Font family 'NanumSquareRound' not found.\n",
            "WARNING:matplotlib.font_manager:findfont: Font family 'NanumSquareRound' not found.\n",
            "WARNING:matplotlib.font_manager:findfont: Font family 'NanumSquareRound' not found.\n",
            "WARNING:matplotlib.font_manager:findfont: Font family 'NanumSquareRound' not found.\n",
            "WARNING:matplotlib.font_manager:findfont: Font family 'NanumSquareRound' not found.\n",
            "WARNING:matplotlib.font_manager:findfont: Font family 'NanumSquareRound' not found.\n",
            "WARNING:matplotlib.font_manager:findfont: Font family 'NanumSquareRound' not found.\n",
            "WARNING:matplotlib.font_manager:findfont: Font family 'NanumSquareRound' not found.\n",
            "WARNING:matplotlib.font_manager:findfont: Font family 'NanumSquareRound' not found.\n",
            "WARNING:matplotlib.font_manager:findfont: Font family 'NanumSquareRound' not found.\n",
            "WARNING:matplotlib.font_manager:findfont: Font family 'NanumSquareRound' not found.\n",
            "WARNING:matplotlib.font_manager:findfont: Font family 'NanumSquareRound' not found.\n",
            "WARNING:matplotlib.font_manager:findfont: Font family 'NanumSquareRound' not found.\n",
            "WARNING:matplotlib.font_manager:findfont: Font family 'NanumSquareRound' not found.\n",
            "WARNING:matplotlib.font_manager:findfont: Font family 'NanumSquareRound' not found.\n",
            "WARNING:matplotlib.font_manager:findfont: Font family 'NanumSquareRound' not found.\n",
            "WARNING:matplotlib.font_manager:findfont: Font family 'NanumSquareRound' not found.\n",
            "WARNING:matplotlib.font_manager:findfont: Font family 'NanumSquareRound' not found.\n",
            "WARNING:matplotlib.font_manager:findfont: Font family 'NanumSquareRound' not found.\n",
            "WARNING:matplotlib.font_manager:findfont: Font family 'NanumSquareRound' not found.\n"
          ]
        },
        {
          "data": {
            "image/png": "[encoded data removed]",
            "text/plain": [
              "<Figure size 640x480 with 1 Axes>"
            ]
          },
          "metadata": {},
          "output_type": "display_data"
        }
      ],
      "source": [
        "from scipy.stats import norm\n",
        "\n",
        "def plot_gaussian(data1, data2, data3):\n",
        "    print(data1, data2, data3)\n",
        "    # 각 데이터셋에 대한 평균과 표준편차를 계산\n",
        "    mu1, std1 = np.mean(data1), np.std(data1)\n",
        "    mu2, std2 = np.mean(data2), np.std(data2)\n",
        "    mu3, std3 = np.mean(data3), np.std(data3)\n",
        "\n",
        "    # 모든 데이터의 범위를 기반으로 x 값들을 샘플링\n",
        "    xmin = min(min(data1), min(data2), min(data3))\n",
        "    xmax = max(max(data1), max(data2), max(data3))\n",
        "    x = np.linspace(0, 1, 1000)\n",
        "\n",
        "    # 확률 밀도 함수 값을 계산\n",
        "    p1 = norm.pdf(x, mu1, std1)\n",
        "    p2 = norm.pdf(x, mu2, std2)\n",
        "    p3 = norm.pdf(x, mu3, std3)\n",
        "\n",
        "    # 그래프 그리기\n",
        "    plt.plot(x, p1, 'r', linewidth=2, label=f\"Data1: µ={mu1:.2f}, σ={std1:.2f}\")\n",
        "    plt.plot(x, p2, 'g', linewidth=2, label=f\"Data2: µ={mu2:.2f}, σ={std2:.2f}\")\n",
        "    plt.plot(x, p3, 'b', linewidth=2, label=f\"Data3: µ={mu3:.2f}, σ={std3:.2f}\")\n",
        "\n",
        "\n",
        "    plt.title(\"Gaussian Distributions\")\n",
        "    plt.legend()\n",
        "    plt.show()\n",
        "\n",
        "plot_gaussian(*ratios)"
      ]
    },
    {
      "cell_type": "code",
      "execution_count": 78,
      "metadata": {
        "id": "N2lDOJGl139i"
      },
      "outputs": [],
      "source": []
    }
  ],
  "metadata": {
    "accelerator": "GPU",
    "colab": {
      "gpuType": "T4",
      "provenance": []
    },
    "kernelspec": {
      "display_name": "Python 3",
      "name": "python3"
    },
    "language_info": {
      "name": "python"
    }
  },
  "nbformat": 4,
  "nbformat_minor": 0
}

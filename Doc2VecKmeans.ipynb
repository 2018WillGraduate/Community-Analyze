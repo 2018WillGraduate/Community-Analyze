{
  "cells": [
    {
      "cell_type": "code",
      "execution_count": 1,
      "metadata": {
        "colab": {
          "base_uri": "https://localhost:8080/"
        },
        "id": "QRoiecu2BxxI",
        "outputId": "f5a4b0d8-f65a-4a87-be9a-d0776266cf64"
      },
      "outputs": [
        {
          "name": "stdout",
          "output_type": "stream",
          "text": [
            "Mounted at /content/drive\n"
          ]
        }
      ],
      "source": [
        "from google.colab import drive\n",
        "drive.mount('/content/drive')"
      ]
    },
    {
      "cell_type": "code",
      "execution_count": 6,
      "metadata": {
        "id": "pz0fddPJB6zD"
      },
      "outputs": [],
      "source": [
        "import os\n",
        "import json\n",
        "import re\n",
        "from zipfile import ZipFile\n",
        "\n",
        "cond = re.compile(\"[가-힣]+\")\n",
        "\n",
        "def get_data_from_zip(zip_name):\n",
        "    zip_file_path = \"/content/drive/MyDrive/jolnon/\" + zip_name + \".zip\"\n",
        "    extract_path = \"/content/\" + zip_name\n",
        "\n",
        "    # zip 파일 압축 해제\n",
        "    with ZipFile(zip_file_path, \"r\") as zip_ref:\n",
        "        zip_ref.extractall(extract_path)\n",
        "\n",
        "    result = []\n",
        "    for name in os.listdir(path=extract_path):\n",
        "        file_path = os.path.join(extract_path, name)\n",
        "        if os.path.isdir(file_path):\n",
        "            for name in os.listdir(path=file_path):\n",
        "                with open(file_path + \"/\" + name, \"r\", encoding=\"utf-8\") as f:\n",
        "                    data = json.load(f)\n",
        "                    valid = []\n",
        "                    for d in data[\"content\"].split(\"\\n\"):\n",
        "                        res = []\n",
        "                        for word in d.split(\" \"):\n",
        "                            if cond.match(word) != None:\n",
        "                                res.append(word)\n",
        "                        d = \" \".join(res)\n",
        "                        if d and not d.replace(\" \", \"\").isdecimal():\n",
        "                            valid.append(d)\n",
        "                    result.append(\"\\n\".join([data[\"title\"]] + valid))\n",
        "        else:\n",
        "            with open(extract_path + \"/\" + name, \"r\", encoding=\"utf-8\") as f:\n",
        "                data = json.load(f)\n",
        "                valid = []\n",
        "                for d in data[\"content\"].split(\"\\n\"):\n",
        "                    res = []\n",
        "                    for word in d.split(\" \"):\n",
        "                        if cond.match(word) != None:\n",
        "                            res.append(word)\n",
        "                    d = \" \".join(res)\n",
        "                    if d and not d.replace(\" \", \"\").isdecimal():\n",
        "                        valid.append(d)\n",
        "                result.append(\"\\n\".join([data[\"title\"]] + valid))\n",
        "    return result"
      ]
    },
    {
      "cell_type": "code",
      "execution_count": 115,
      "metadata": {
        "colab": {
          "base_uri": "https://localhost:8080/"
        },
        "id": "LZYrRoRoB8jn",
        "outputId": "5116ffe0-7442-48f6-d909-0bc39a85068d"
      },
      "outputs": [
        {
          "data": {
            "text/plain": [
              "['yskm포그다 좋아\\n멋졌어',\n",
              " '정글몹 인내심 삭제기원',\n",
              " '젠지가 징동 이길 방법이 없음\\n억까 거르고 차라리 더 가능성있음\\n사실 여기도 가능성이 있는거지 진다고 봄\\n징동 이랑 후반가면 못이김\\n티원처럼 주도권잡고 초반에 밀어부쳐서 징동이 당황할때 끝내는 방법밖에 없음\\n젠지는 탑 바텀이 라인전이 약한편이라 이게 안됨\\n젠지가 에서 통하는게 한타를 못하는데 젠지가 한타는 좀 치는편임 근데 이 한타가 징동 하위 호환임\\n징동같은팀한테 라인전 지는 순간 답없음 후반가서 이긴다는 생각버려야됨\\n징동 이길 방법은 롤러 카나비 협박 밖에 없음',\n",
              " '튜토리얼 챔프 보상 안받는법 있냐?\\n럭스 마이 다리 브랜드 미포\\n중에 하나 고르잖아\\n이거 안받는 방법있음?\\n튜토리얼 안해도 레벨2되면 주던데',\n",
              " '인뚜야 럴언제함\\n할깝']"
            ]
          },
          "execution_count": 115,
          "metadata": {},
          "output_type": "execute_result"
        }
      ],
      "source": [
        "import random\n",
        "\n",
        "random.seed(42)\n",
        "galleries = ['giants_new2','cock_tail']#,'ktwiz','kartriderdrift','skwyverns_new1','ncdinos','samsunglions_new','doosanbears_new1','giants_new2','sh_new','lgtwins_new','tigers_new']\n",
        "dataset = []\n",
        "for e in galleries:\n",
        "  dataset.append(get_data_from_zip(e))"
      ]
    },
    {
      "cell_type": "code",
      "execution_count": null,
      "metadata": {},
      "outputs": [],
      "source": [
        "def remove_words(sentence, word):\n",
        "    return ' '.join([w for w in sentence.split(' ') if word not in w.lower()])\n",
        "stopwords = ['ㅋㅋ', 'ex', '나는', 'on', '이미지', '순서', '오늘', '일단', 'and', '이야', '그리고', '내일', '그냥', '000', '조금', '살짝', 'ㅇㅇ', 'ㅈㄱㄴ', '있음', '이거', '내가', '칵하하하', '칵하핫', '근데', '지듣노', 'youtube ', '야스중', '우흥', '한다', 'ㅎㅎ', 'ㅠㅠ', '로오오오오오옹', '하고', '아침', '것도', '추천', '혹시', '새낀데', '같다']"
      ]
    },
    {
      "cell_type": "code",
      "execution_count": null,
      "metadata": {},
      "outputs": [],
      "source": [
        "import collections\n",
        "\n",
        "def remove_top_n_words(data, n):\n",
        "    words = [word for sentence in data for word in sentence.split(' ')]\n",
        "    word_count = collections.Counter(words)\n",
        "    top_n_words = [word for word, _ in word_count.most_common(n)]\n",
        "    for i in range(len(data)):\n",
        "        for word in top_n_words:\n",
        "            if word=='':\n",
        "                continue\n",
        "            data[i] = remove_words(data[i], word)\n",
        "    return data\n",
        "\n",
        "def remove_empty_sentences(cocktail):\n",
        "    indices = [i for i, sentence in enumerate(cocktail) if sentence.strip() != '']\n",
        "    cocktail = [cocktail[i] for i in indices]\n",
        "    return cocktail"
      ]
    },
    {
      "cell_type": "code",
      "execution_count": null,
      "metadata": {},
      "outputs": [],
      "source": [
        "for k in range(len(dataset)):\n",
        "    for i in range(len(dataset[k])):\n",
        "        for j in range(len(stopwords)):\n",
        "            dataset[k][i] = remove_words(dataset[k][i],stopwords[j])\n",
        "\n",
        "for k in range(len(dataset)):\n",
        "    dataset[k] = remove_top_n_words(dataset[k], 20)\n",
        "    dataset[k] = remove_empty_sentences(dataset[k])"
      ]
    },
    {
      "cell_type": "code",
      "execution_count": 116,
      "metadata": {
        "id": "rnT6-jVHAdkp"
      },
      "outputs": [],
      "source": [
        "import pickle\n",
        "import pandas as pd\n",
        "import numpy\n",
        "import re\n",
        "import os\n",
        "import numpy as np\n",
        "import gensim\n",
        "from sklearn.cluster import KMeans\n",
        "from sklearn.decomposition import PCA\n",
        "from gensim.models import Doc2Vec"
      ]
    },
    {
      "cell_type": "code",
      "execution_count": 117,
      "metadata": {
        "id": "7myQnQrwIKJo"
      },
      "outputs": [],
      "source": [
        "from gensim.models.doc2vec import TaggedDocument\n",
        "train = []\n",
        "label = galleries\n",
        "i = 0\n",
        "for category in dataset:\n",
        "    for j, document in enumerate(category):\n",
        "        train.append(TaggedDocument(words=document.split(), tags=[f\"{label[i]}_{str(j)}\"]))\n",
        "    i += 1"
      ]
    },
    {
      "cell_type": "code",
      "execution_count": 118,
      "metadata": {
        "colab": {
          "base_uri": "https://localhost:8080/"
        },
        "id": "5DYnWaTAAjUJ",
        "outputId": "82e84ad6-4fdd-4483-bc9c-3281164a9880"
      },
      "outputs": [
        {
          "name": "stdout",
          "output_type": "stream",
          "text": [
            "Number of texts processed:  11230\n"
          ]
        }
      ],
      "source": [
        "LabeledSentence1 = gensim.models.doc2vec.TaggedDocument\n",
        "all_content_train = []\n",
        "j=0\n",
        "for em in train:\n",
        "    all_content_train.append(LabeledSentence1(em,[j]))\n",
        "    j+=1\n",
        "print('Number of texts processed: ', j)"
      ]
    },
    {
      "cell_type": "code",
      "execution_count": 119,
      "metadata": {
        "colab": {
          "base_uri": "https://localhost:8080/"
        },
        "id": "RcjrBu-qO7qs",
        "outputId": "6a1da7a6-00af-4d87-be59-99681754638b"
      },
      "outputs": [
        {
          "name": "stderr",
          "output_type": "stream",
          "text": [
            "WARNING:gensim.models.word2vec:Effective 'alpha' higher than previous training cycles\n"
          ]
        }
      ],
      "source": [
        "d2v_model = Doc2Vec(train,vector_size = 100, window = 10, workers=7, dm = 1, alpha=0.025, min_alpha=0.001)\n",
        "d2v_model.train(train, total_examples=d2v_model.corpus_count, epochs=10)\n"
      ]
    },
    {
      "cell_type": "code",
      "execution_count": 125,
      "metadata": {
        "colab": {
          "base_uri": "https://localhost:8080/"
        },
        "id": "Zz3CQ2HEFyOQ",
        "outputId": "91458bf7-99d3-464a-f7b7-7dc31ac19626"
      },
      "outputs": [
        {
          "name": "stderr",
          "output_type": "stream",
          "text": [
            "/usr/local/lib/python3.10/dist-packages/sklearn/cluster/_kmeans.py:870: FutureWarning: The default value of `n_init` will change from 10 to 'auto' in 1.4. Set the value of `n_init` explicitly to suppress the warning\n",
            "  warnings.warn(\n",
            "/usr/local/lib/python3.10/dist-packages/sklearn/cluster/_kmeans.py:870: FutureWarning: The default value of `n_init` will change from 10 to 'auto' in 1.4. Set the value of `n_init` explicitly to suppress the warning\n",
            "  warnings.warn(\n"
          ]
        }
      ],
      "source": [
        "kmeans_model = KMeans(n_clusters=len(galleries), init='k-means++', max_iter=100, random_state=0)\n",
        "X = kmeans_model.fit(d2v_model.dv.vectors)\n",
        "labels=kmeans_model.labels_.tolist()\n",
        "l = kmeans_model.fit_predict(d2v_model.dv.vectors)\n",
        "pca = PCA(n_components=2).fit(d2v_model.dv.vectors)\n",
        "datapoint = pca.transform(d2v_model.dv.vectors)"
      ]
    },
    {
      "cell_type": "code",
      "execution_count": 126,
      "metadata": {
        "colab": {
          "base_uri": "https://localhost:8080/",
          "height": 430
        },
        "id": "op0SkUcnAmMw",
        "outputId": "8069e10f-e41f-4812-9153-faf7e2edc9b6"
      },
      "outputs": [
        {
          "data": {
            "image/png": "[encoded data removed]",
            "text/plain": [
              "<Figure size 640x480 with 1 Axes>"
            ]
          },
          "metadata": {},
          "output_type": "display_data"
        }
      ],
      "source": [
        "\n",
        "import matplotlib.pyplot as plt\n",
        "%matplotlib inline\n",
        "plt.figure\n",
        "label1 = [\"#FFFF00\", \"#008000\", \"#0000FF\", \"#800080\"]\n",
        "\n",
        "color = [label1[i] for i in labels]\n",
        "plt.scatter(datapoint[:, 0], datapoint[:, 1], c=color)\n",
        "centroids = kmeans_model.cluster_centers_\n",
        "centroidpoint = pca.transform(centroids)\n",
        "plt.scatter(centroidpoint[:, 0], centroidpoint[:, 1], marker='^', s=150, c='#000000')\n",
        "plt.show()"
      ]
    },
    {
      "cell_type": "code",
      "execution_count": 127,
      "metadata": {
        "colab": {
          "base_uri": "https://localhost:8080/"
        },
        "id": "HmMMBq2BGdVi",
        "outputId": "b11b2bdb-a02e-4f06-9b97-643060eea0b9"
      },
      "outputs": [
        {
          "name": "stdout",
          "output_type": "stream",
          "text": [
            "\n",
            "Number of samples in clusters:\n",
            "Cluster 0: 4390 samples\n",
            "Cluster 1: 3495 samples\n",
            "Cluster 2: 3345 samples\n"
          ]
        }
      ],
      "source": [
        "from collections import Counter\n",
        "labels_count = Counter(kmeans_model.labels_)\n",
        "print(\"\\nNumber of samples in clusters:\")\n",
        "for cluster_num, count in labels_count.items():\n",
        "    print(f\"Cluster {cluster_num}: {count} samples\")"
      ]
    },
    {
      "cell_type": "code",
      "execution_count": 128,
      "metadata": {
        "colab": {
          "base_uri": "https://localhost:8080/"
        },
        "id": "i4aZ13PzKavB",
        "outputId": "175b04b6-a7db-4862-8f55-8a82e7d347bc"
      },
      "outputs": [
        {
          "name": "stdout",
          "output_type": "stream",
          "text": [
            "[[1412 1144  877]\n",
            " [1511 1073 1324]\n",
            " [1467 1278 1144]]\n"
          ]
        }
      ],
      "source": [
        "real_labels = []\n",
        "for i in range(len(dataset[0])):\n",
        "  real_labels += [i] * len(dataset[0][i])\n",
        "from sklearn.metrics import confusion_matrix\n",
        "print(confusion_matrix(real_labels, labels))\n"
      ]
    },
    {
      "cell_type": "code",
      "execution_count": 129,
      "metadata": {
        "colab": {
          "base_uri": "https://localhost:8080/"
        },
        "id": "Lhrfjv5FKeDZ",
        "outputId": "15031663-4f1f-4e4d-ae7e-1aa90e03aa73"
      },
      "outputs": [
        {
          "name": "stdout",
          "output_type": "stream",
          "text": [
            "Purity:  0.3662511130899377\n",
            "Reordered Confusion Matrix: \n",
            " [[1412  877 1144]\n",
            " [1511 1324 1073]\n",
            " [1467 1144 1278]]\n"
          ]
        }
      ],
      "source": [
        "import numpy as np\n",
        "from scipy.optimize import linear_sum_assignment\n",
        "from sklearn.metrics import confusion_matrix\n",
        "\n",
        "def calc_purity(y_true, y_pred):\n",
        "    cm = confusion_matrix(y_true, y_pred)\n",
        "    _, col_ind = linear_sum_assignment(cm, maximize=True)\n",
        "    reordered_cm = cm[:, col_ind]\n",
        "    purity = np.sum(np.max(reordered_cm, axis=0)) / np.sum(reordered_cm)\n",
        "    return purity, reordered_cm\n",
        "\n",
        "purity, reordered_cm = calc_purity(real_labels, labels)\n",
        "\n",
        "print(\"Purity: \", purity)\n",
        "print(\"Reordered Confusion Matrix: \\n\", reordered_cm)"
      ]
    }
  ],
  "metadata": {
    "colab": {
      "provenance": []
    },
    "kernelspec": {
      "display_name": "Python 3",
      "name": "python3"
    },
    "language_info": {
      "name": "python"
    }
  },
  "nbformat": 4,
  "nbformat_minor": 0
}

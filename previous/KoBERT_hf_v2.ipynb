{
  "cells": [
    {
      "cell_type": "code",
      "execution_count": 1,
      "metadata": {
        "colab": {
          "base_uri": "https://localhost:8080/"
        },
        "id": "XoPZcBqGIJTl",
        "outputId": "d4f7c672-97d1-4a71-a337-1a521af8d180"
      },
      "outputs": [
        {
          "output_type": "stream",
          "name": "stdout",
          "text": [
            "Drive already mounted at /content/drive; to attempt to forcibly remount, call drive.mount(\"/content/drive\", force_remount=True).\n"
          ]
        }
      ],
      "source": [
        "from google.colab import drive\n",
        "drive.mount('/content/drive')"
      ]
    },
    {
      "cell_type": "code",
      "execution_count": 2,
      "metadata": {
        "colab": {
          "base_uri": "https://localhost:8080/"
        },
        "id": "3Ms8zpRlKNVj",
        "outputId": "e7cfa978-1e6c-4a74-ae8a-735d60d9dff2"
      },
      "outputs": [
        {
          "output_type": "stream",
          "name": "stdout",
          "text": [
            "/content/drive/MyDrive\n"
          ]
        }
      ],
      "source": [
        "cd drive/MyDrive"
      ]
    },
    {
      "cell_type": "code",
      "execution_count": 3,
      "metadata": {
        "colab": {
          "base_uri": "https://localhost:8080/"
        },
        "id": "htsIje03F3Y8",
        "outputId": "38e759c8-dfc9-429e-941f-c3f1fdc7c6f9"
      },
      "outputs": [
        {
          "output_type": "stream",
          "name": "stdout",
          "text": [
            "Requirement already satisfied: transformers in /usr/local/lib/python3.10/dist-packages (4.30.2)\n",
            "Requirement already satisfied: filelock in /usr/local/lib/python3.10/dist-packages (from transformers) (3.12.2)\n",
            "Requirement already satisfied: huggingface-hub<1.0,>=0.14.1 in /usr/local/lib/python3.10/dist-packages (from transformers) (0.15.1)\n",
            "Requirement already satisfied: numpy>=1.17 in /usr/local/lib/python3.10/dist-packages (from transformers) (1.22.4)\n",
            "Requirement already satisfied: packaging>=20.0 in /usr/local/lib/python3.10/dist-packages (from transformers) (23.1)\n",
            "Requirement already satisfied: pyyaml>=5.1 in /usr/local/lib/python3.10/dist-packages (from transformers) (6.0)\n",
            "Requirement already satisfied: regex!=2019.12.17 in /usr/local/lib/python3.10/dist-packages (from transformers) (2022.10.31)\n",
            "Requirement already satisfied: requests in /usr/local/lib/python3.10/dist-packages (from transformers) (2.27.1)\n",
            "Requirement already satisfied: tokenizers!=0.11.3,<0.14,>=0.11.1 in /usr/local/lib/python3.10/dist-packages (from transformers) (0.13.3)\n",
            "Requirement already satisfied: safetensors>=0.3.1 in /usr/local/lib/python3.10/dist-packages (from transformers) (0.3.1)\n",
            "Requirement already satisfied: tqdm>=4.27 in /usr/local/lib/python3.10/dist-packages (from transformers) (4.65.0)\n",
            "Requirement already satisfied: fsspec in /usr/local/lib/python3.10/dist-packages (from huggingface-hub<1.0,>=0.14.1->transformers) (2023.6.0)\n",
            "Requirement already satisfied: typing-extensions>=3.7.4.3 in /usr/local/lib/python3.10/dist-packages (from huggingface-hub<1.0,>=0.14.1->transformers) (4.6.3)\n",
            "Requirement already satisfied: urllib3<1.27,>=1.21.1 in /usr/local/lib/python3.10/dist-packages (from requests->transformers) (1.26.16)\n",
            "Requirement already satisfied: certifi>=2017.4.17 in /usr/local/lib/python3.10/dist-packages (from requests->transformers) (2023.5.7)\n",
            "Requirement already satisfied: charset-normalizer~=2.0.0 in /usr/local/lib/python3.10/dist-packages (from requests->transformers) (2.0.12)\n",
            "Requirement already satisfied: idna<4,>=2.5 in /usr/local/lib/python3.10/dist-packages (from requests->transformers) (3.4)\n",
            "Requirement already satisfied: sentencepiece in /usr/local/lib/python3.10/dist-packages (0.1.99)\n",
            "Requirement already satisfied: bertopic in /usr/local/lib/python3.10/dist-packages (0.15.0)\n",
            "Requirement already satisfied: numpy>=1.20.0 in /usr/local/lib/python3.10/dist-packages (from bertopic) (1.22.4)\n",
            "Requirement already satisfied: hdbscan>=0.8.29 in /usr/local/lib/python3.10/dist-packages (from bertopic) (0.8.29)\n",
            "Requirement already satisfied: umap-learn>=0.5.0 in /usr/local/lib/python3.10/dist-packages (from bertopic) (0.5.3)\n",
            "Requirement already satisfied: pandas>=1.1.5 in /usr/local/lib/python3.10/dist-packages (from bertopic) (1.5.3)\n",
            "Requirement already satisfied: scikit-learn>=0.22.2.post1 in /usr/local/lib/python3.10/dist-packages (from bertopic) (1.2.2)\n",
            "Requirement already satisfied: tqdm>=4.41.1 in /usr/local/lib/python3.10/dist-packages (from bertopic) (4.65.0)\n",
            "Requirement already satisfied: sentence-transformers>=0.4.1 in /usr/local/lib/python3.10/dist-packages (from bertopic) (2.2.2)\n",
            "Requirement already satisfied: plotly>=4.7.0 in /usr/local/lib/python3.10/dist-packages (from bertopic) (5.13.1)\n",
            "Requirement already satisfied: cython>=0.27 in /usr/local/lib/python3.10/dist-packages (from hdbscan>=0.8.29->bertopic) (0.29.35)\n",
            "Requirement already satisfied: scipy>=1.0 in /usr/local/lib/python3.10/dist-packages (from hdbscan>=0.8.29->bertopic) (1.10.1)\n",
            "Requirement already satisfied: joblib>=1.0 in /usr/local/lib/python3.10/dist-packages (from hdbscan>=0.8.29->bertopic) (1.2.0)\n",
            "Requirement already satisfied: python-dateutil>=2.8.1 in /usr/local/lib/python3.10/dist-packages (from pandas>=1.1.5->bertopic) (2.8.2)\n",
            "Requirement already satisfied: pytz>=2020.1 in /usr/local/lib/python3.10/dist-packages (from pandas>=1.1.5->bertopic) (2022.7.1)\n",
            "Requirement already satisfied: tenacity>=6.2.0 in /usr/local/lib/python3.10/dist-packages (from plotly>=4.7.0->bertopic) (8.2.2)\n",
            "Requirement already satisfied: threadpoolctl>=2.0.0 in /usr/local/lib/python3.10/dist-packages (from scikit-learn>=0.22.2.post1->bertopic) (3.1.0)\n",
            "Requirement already satisfied: transformers<5.0.0,>=4.6.0 in /usr/local/lib/python3.10/dist-packages (from sentence-transformers>=0.4.1->bertopic) (4.30.2)\n",
            "Requirement already satisfied: torch>=1.6.0 in /usr/local/lib/python3.10/dist-packages (from sentence-transformers>=0.4.1->bertopic) (2.0.1+cu118)\n",
            "Requirement already satisfied: torchvision in /usr/local/lib/python3.10/dist-packages (from sentence-transformers>=0.4.1->bertopic) (0.15.2+cu118)\n",
            "Requirement already satisfied: nltk in /usr/local/lib/python3.10/dist-packages (from sentence-transformers>=0.4.1->bertopic) (3.8.1)\n",
            "Requirement already satisfied: sentencepiece in /usr/local/lib/python3.10/dist-packages (from sentence-transformers>=0.4.1->bertopic) (0.1.99)\n",
            "Requirement already satisfied: huggingface-hub>=0.4.0 in /usr/local/lib/python3.10/dist-packages (from sentence-transformers>=0.4.1->bertopic) (0.15.1)\n",
            "Requirement already satisfied: numba>=0.49 in /usr/local/lib/python3.10/dist-packages (from umap-learn>=0.5.0->bertopic) (0.56.4)\n",
            "Requirement already satisfied: pynndescent>=0.5 in /usr/local/lib/python3.10/dist-packages (from umap-learn>=0.5.0->bertopic) (0.5.10)\n",
            "Requirement already satisfied: filelock in /usr/local/lib/python3.10/dist-packages (from huggingface-hub>=0.4.0->sentence-transformers>=0.4.1->bertopic) (3.12.2)\n",
            "Requirement already satisfied: fsspec in /usr/local/lib/python3.10/dist-packages (from huggingface-hub>=0.4.0->sentence-transformers>=0.4.1->bertopic) (2023.6.0)\n",
            "Requirement already satisfied: requests in /usr/local/lib/python3.10/dist-packages (from huggingface-hub>=0.4.0->sentence-transformers>=0.4.1->bertopic) (2.27.1)\n",
            "Requirement already satisfied: pyyaml>=5.1 in /usr/local/lib/python3.10/dist-packages (from huggingface-hub>=0.4.0->sentence-transformers>=0.4.1->bertopic) (6.0)\n",
            "Requirement already satisfied: typing-extensions>=3.7.4.3 in /usr/local/lib/python3.10/dist-packages (from huggingface-hub>=0.4.0->sentence-transformers>=0.4.1->bertopic) (4.6.3)\n",
            "Requirement already satisfied: packaging>=20.9 in /usr/local/lib/python3.10/dist-packages (from huggingface-hub>=0.4.0->sentence-transformers>=0.4.1->bertopic) (23.1)\n",
            "Requirement already satisfied: llvmlite<0.40,>=0.39.0dev0 in /usr/local/lib/python3.10/dist-packages (from numba>=0.49->umap-learn>=0.5.0->bertopic) (0.39.1)\n",
            "Requirement already satisfied: setuptools in /usr/local/lib/python3.10/dist-packages (from numba>=0.49->umap-learn>=0.5.0->bertopic) (67.7.2)\n",
            "Requirement already satisfied: six>=1.5 in /usr/local/lib/python3.10/dist-packages (from python-dateutil>=2.8.1->pandas>=1.1.5->bertopic) (1.16.0)\n",
            "Requirement already satisfied: sympy in /usr/local/lib/python3.10/dist-packages (from torch>=1.6.0->sentence-transformers>=0.4.1->bertopic) (1.11.1)\n",
            "Requirement already satisfied: networkx in /usr/local/lib/python3.10/dist-packages (from torch>=1.6.0->sentence-transformers>=0.4.1->bertopic) (3.1)\n",
            "Requirement already satisfied: jinja2 in /usr/local/lib/python3.10/dist-packages (from torch>=1.6.0->sentence-transformers>=0.4.1->bertopic) (3.1.2)\n",
            "Requirement already satisfied: triton==2.0.0 in /usr/local/lib/python3.10/dist-packages (from torch>=1.6.0->sentence-transformers>=0.4.1->bertopic) (2.0.0)\n",
            "Requirement already satisfied: cmake in /usr/local/lib/python3.10/dist-packages (from triton==2.0.0->torch>=1.6.0->sentence-transformers>=0.4.1->bertopic) (3.25.2)\n",
            "Requirement already satisfied: lit in /usr/local/lib/python3.10/dist-packages (from triton==2.0.0->torch>=1.6.0->sentence-transformers>=0.4.1->bertopic) (16.0.6)\n",
            "Requirement already satisfied: regex!=2019.12.17 in /usr/local/lib/python3.10/dist-packages (from transformers<5.0.0,>=4.6.0->sentence-transformers>=0.4.1->bertopic) (2022.10.31)\n",
            "Requirement already satisfied: tokenizers!=0.11.3,<0.14,>=0.11.1 in /usr/local/lib/python3.10/dist-packages (from transformers<5.0.0,>=4.6.0->sentence-transformers>=0.4.1->bertopic) (0.13.3)\n",
            "Requirement already satisfied: safetensors>=0.3.1 in /usr/local/lib/python3.10/dist-packages (from transformers<5.0.0,>=4.6.0->sentence-transformers>=0.4.1->bertopic) (0.3.1)\n",
            "Requirement already satisfied: click in /usr/local/lib/python3.10/dist-packages (from nltk->sentence-transformers>=0.4.1->bertopic) (8.1.3)\n",
            "Requirement already satisfied: pillow!=8.3.*,>=5.3.0 in /usr/local/lib/python3.10/dist-packages (from torchvision->sentence-transformers>=0.4.1->bertopic) (8.4.0)\n",
            "Requirement already satisfied: MarkupSafe>=2.0 in /usr/local/lib/python3.10/dist-packages (from jinja2->torch>=1.6.0->sentence-transformers>=0.4.1->bertopic) (2.1.3)\n",
            "Requirement already satisfied: urllib3<1.27,>=1.21.1 in /usr/local/lib/python3.10/dist-packages (from requests->huggingface-hub>=0.4.0->sentence-transformers>=0.4.1->bertopic) (1.26.16)\n",
            "Requirement already satisfied: certifi>=2017.4.17 in /usr/local/lib/python3.10/dist-packages (from requests->huggingface-hub>=0.4.0->sentence-transformers>=0.4.1->bertopic) (2023.5.7)\n",
            "Requirement already satisfied: charset-normalizer~=2.0.0 in /usr/local/lib/python3.10/dist-packages (from requests->huggingface-hub>=0.4.0->sentence-transformers>=0.4.1->bertopic) (2.0.12)\n",
            "Requirement already satisfied: idna<4,>=2.5 in /usr/local/lib/python3.10/dist-packages (from requests->huggingface-hub>=0.4.0->sentence-transformers>=0.4.1->bertopic) (3.4)\n",
            "Requirement already satisfied: mpmath>=0.19 in /usr/local/lib/python3.10/dist-packages (from sympy->torch>=1.6.0->sentence-transformers>=0.4.1->bertopic) (1.3.0)\n"
          ]
        }
      ],
      "source": [
        "!pip install transformers\n",
        "!pip install sentencepiece\n",
        "!pip install bertopic"
      ]
    },
    {
      "cell_type": "code",
      "execution_count": 4,
      "metadata": {
        "colab": {
          "base_uri": "https://localhost:8080/"
        },
        "id": "eDyd0f9HGhrA",
        "outputId": "744ff36a-89cc-4b26-bb79-10e4c30ae2ce"
      },
      "outputs": [
        {
          "output_type": "stream",
          "name": "stdout",
          "text": [
            "Requirement already satisfied: bertopic[visualization] in /usr/local/lib/python3.10/dist-packages (0.15.0)\n",
            "\u001b[33mWARNING: bertopic 0.15.0 does not provide the extra 'visualization'\u001b[0m\u001b[33m\n",
            "\u001b[0mRequirement already satisfied: numpy>=1.20.0 in /usr/local/lib/python3.10/dist-packages (from bertopic[visualization]) (1.22.4)\n",
            "Requirement already satisfied: hdbscan>=0.8.29 in /usr/local/lib/python3.10/dist-packages (from bertopic[visualization]) (0.8.29)\n",
            "Requirement already satisfied: umap-learn>=0.5.0 in /usr/local/lib/python3.10/dist-packages (from bertopic[visualization]) (0.5.3)\n",
            "Requirement already satisfied: pandas>=1.1.5 in /usr/local/lib/python3.10/dist-packages (from bertopic[visualization]) (1.5.3)\n",
            "Requirement already satisfied: scikit-learn>=0.22.2.post1 in /usr/local/lib/python3.10/dist-packages (from bertopic[visualization]) (1.2.2)\n",
            "Requirement already satisfied: tqdm>=4.41.1 in /usr/local/lib/python3.10/dist-packages (from bertopic[visualization]) (4.65.0)\n",
            "Requirement already satisfied: sentence-transformers>=0.4.1 in /usr/local/lib/python3.10/dist-packages (from bertopic[visualization]) (2.2.2)\n",
            "Requirement already satisfied: plotly>=4.7.0 in /usr/local/lib/python3.10/dist-packages (from bertopic[visualization]) (5.13.1)\n",
            "Requirement already satisfied: cython>=0.27 in /usr/local/lib/python3.10/dist-packages (from hdbscan>=0.8.29->bertopic[visualization]) (0.29.35)\n",
            "Requirement already satisfied: scipy>=1.0 in /usr/local/lib/python3.10/dist-packages (from hdbscan>=0.8.29->bertopic[visualization]) (1.10.1)\n",
            "Requirement already satisfied: joblib>=1.0 in /usr/local/lib/python3.10/dist-packages (from hdbscan>=0.8.29->bertopic[visualization]) (1.2.0)\n",
            "Requirement already satisfied: python-dateutil>=2.8.1 in /usr/local/lib/python3.10/dist-packages (from pandas>=1.1.5->bertopic[visualization]) (2.8.2)\n",
            "Requirement already satisfied: pytz>=2020.1 in /usr/local/lib/python3.10/dist-packages (from pandas>=1.1.5->bertopic[visualization]) (2022.7.1)\n",
            "Requirement already satisfied: tenacity>=6.2.0 in /usr/local/lib/python3.10/dist-packages (from plotly>=4.7.0->bertopic[visualization]) (8.2.2)\n",
            "Requirement already satisfied: threadpoolctl>=2.0.0 in /usr/local/lib/python3.10/dist-packages (from scikit-learn>=0.22.2.post1->bertopic[visualization]) (3.1.0)\n",
            "Requirement already satisfied: transformers<5.0.0,>=4.6.0 in /usr/local/lib/python3.10/dist-packages (from sentence-transformers>=0.4.1->bertopic[visualization]) (4.30.2)\n",
            "Requirement already satisfied: torch>=1.6.0 in /usr/local/lib/python3.10/dist-packages (from sentence-transformers>=0.4.1->bertopic[visualization]) (2.0.1+cu118)\n",
            "Requirement already satisfied: torchvision in /usr/local/lib/python3.10/dist-packages (from sentence-transformers>=0.4.1->bertopic[visualization]) (0.15.2+cu118)\n",
            "Requirement already satisfied: nltk in /usr/local/lib/python3.10/dist-packages (from sentence-transformers>=0.4.1->bertopic[visualization]) (3.8.1)\n",
            "Requirement already satisfied: sentencepiece in /usr/local/lib/python3.10/dist-packages (from sentence-transformers>=0.4.1->bertopic[visualization]) (0.1.99)\n",
            "Requirement already satisfied: huggingface-hub>=0.4.0 in /usr/local/lib/python3.10/dist-packages (from sentence-transformers>=0.4.1->bertopic[visualization]) (0.15.1)\n",
            "Requirement already satisfied: numba>=0.49 in /usr/local/lib/python3.10/dist-packages (from umap-learn>=0.5.0->bertopic[visualization]) (0.56.4)\n",
            "Requirement already satisfied: pynndescent>=0.5 in /usr/local/lib/python3.10/dist-packages (from umap-learn>=0.5.0->bertopic[visualization]) (0.5.10)\n",
            "Requirement already satisfied: filelock in /usr/local/lib/python3.10/dist-packages (from huggingface-hub>=0.4.0->sentence-transformers>=0.4.1->bertopic[visualization]) (3.12.2)\n",
            "Requirement already satisfied: fsspec in /usr/local/lib/python3.10/dist-packages (from huggingface-hub>=0.4.0->sentence-transformers>=0.4.1->bertopic[visualization]) (2023.6.0)\n",
            "Requirement already satisfied: requests in /usr/local/lib/python3.10/dist-packages (from huggingface-hub>=0.4.0->sentence-transformers>=0.4.1->bertopic[visualization]) (2.27.1)\n",
            "Requirement already satisfied: pyyaml>=5.1 in /usr/local/lib/python3.10/dist-packages (from huggingface-hub>=0.4.0->sentence-transformers>=0.4.1->bertopic[visualization]) (6.0)\n",
            "Requirement already satisfied: typing-extensions>=3.7.4.3 in /usr/local/lib/python3.10/dist-packages (from huggingface-hub>=0.4.0->sentence-transformers>=0.4.1->bertopic[visualization]) (4.6.3)\n",
            "Requirement already satisfied: packaging>=20.9 in /usr/local/lib/python3.10/dist-packages (from huggingface-hub>=0.4.0->sentence-transformers>=0.4.1->bertopic[visualization]) (23.1)\n",
            "Requirement already satisfied: llvmlite<0.40,>=0.39.0dev0 in /usr/local/lib/python3.10/dist-packages (from numba>=0.49->umap-learn>=0.5.0->bertopic[visualization]) (0.39.1)\n",
            "Requirement already satisfied: setuptools in /usr/local/lib/python3.10/dist-packages (from numba>=0.49->umap-learn>=0.5.0->bertopic[visualization]) (67.7.2)\n",
            "Requirement already satisfied: six>=1.5 in /usr/local/lib/python3.10/dist-packages (from python-dateutil>=2.8.1->pandas>=1.1.5->bertopic[visualization]) (1.16.0)\n",
            "Requirement already satisfied: sympy in /usr/local/lib/python3.10/dist-packages (from torch>=1.6.0->sentence-transformers>=0.4.1->bertopic[visualization]) (1.11.1)\n",
            "Requirement already satisfied: networkx in /usr/local/lib/python3.10/dist-packages (from torch>=1.6.0->sentence-transformers>=0.4.1->bertopic[visualization]) (3.1)\n",
            "Requirement already satisfied: jinja2 in /usr/local/lib/python3.10/dist-packages (from torch>=1.6.0->sentence-transformers>=0.4.1->bertopic[visualization]) (3.1.2)\n",
            "Requirement already satisfied: triton==2.0.0 in /usr/local/lib/python3.10/dist-packages (from torch>=1.6.0->sentence-transformers>=0.4.1->bertopic[visualization]) (2.0.0)\n",
            "Requirement already satisfied: cmake in /usr/local/lib/python3.10/dist-packages (from triton==2.0.0->torch>=1.6.0->sentence-transformers>=0.4.1->bertopic[visualization]) (3.25.2)\n",
            "Requirement already satisfied: lit in /usr/local/lib/python3.10/dist-packages (from triton==2.0.0->torch>=1.6.0->sentence-transformers>=0.4.1->bertopic[visualization]) (16.0.6)\n",
            "Requirement already satisfied: regex!=2019.12.17 in /usr/local/lib/python3.10/dist-packages (from transformers<5.0.0,>=4.6.0->sentence-transformers>=0.4.1->bertopic[visualization]) (2022.10.31)\n",
            "Requirement already satisfied: tokenizers!=0.11.3,<0.14,>=0.11.1 in /usr/local/lib/python3.10/dist-packages (from transformers<5.0.0,>=4.6.0->sentence-transformers>=0.4.1->bertopic[visualization]) (0.13.3)\n",
            "Requirement already satisfied: safetensors>=0.3.1 in /usr/local/lib/python3.10/dist-packages (from transformers<5.0.0,>=4.6.0->sentence-transformers>=0.4.1->bertopic[visualization]) (0.3.1)\n",
            "Requirement already satisfied: click in /usr/local/lib/python3.10/dist-packages (from nltk->sentence-transformers>=0.4.1->bertopic[visualization]) (8.1.3)\n",
            "Requirement already satisfied: pillow!=8.3.*,>=5.3.0 in /usr/local/lib/python3.10/dist-packages (from torchvision->sentence-transformers>=0.4.1->bertopic[visualization]) (8.4.0)\n",
            "Requirement already satisfied: MarkupSafe>=2.0 in /usr/local/lib/python3.10/dist-packages (from jinja2->torch>=1.6.0->sentence-transformers>=0.4.1->bertopic[visualization]) (2.1.3)\n",
            "Requirement already satisfied: urllib3<1.27,>=1.21.1 in /usr/local/lib/python3.10/dist-packages (from requests->huggingface-hub>=0.4.0->sentence-transformers>=0.4.1->bertopic[visualization]) (1.26.16)\n",
            "Requirement already satisfied: certifi>=2017.4.17 in /usr/local/lib/python3.10/dist-packages (from requests->huggingface-hub>=0.4.0->sentence-transformers>=0.4.1->bertopic[visualization]) (2023.5.7)\n",
            "Requirement already satisfied: charset-normalizer~=2.0.0 in /usr/local/lib/python3.10/dist-packages (from requests->huggingface-hub>=0.4.0->sentence-transformers>=0.4.1->bertopic[visualization]) (2.0.12)\n",
            "Requirement already satisfied: idna<4,>=2.5 in /usr/local/lib/python3.10/dist-packages (from requests->huggingface-hub>=0.4.0->sentence-transformers>=0.4.1->bertopic[visualization]) (3.4)\n",
            "Requirement already satisfied: mpmath>=0.19 in /usr/local/lib/python3.10/dist-packages (from sympy->torch>=1.6.0->sentence-transformers>=0.4.1->bertopic[visualization]) (1.3.0)\n"
          ]
        }
      ],
      "source": [
        "!pip install bertopic[visualization]"
      ]
    },
    {
      "cell_type": "code",
      "execution_count": 5,
      "metadata": {
        "colab": {
          "base_uri": "https://localhost:8080/"
        },
        "id": "X5-_SutcF8ar",
        "outputId": "e07dd747-0e10-4569-ad25-5712df4e120c"
      },
      "outputs": [
        {
          "output_type": "stream",
          "name": "stdout",
          "text": [
            "Collecting kobert_tokenizer\n",
            "  Cloning https://github.com/SKTBrain/KoBERT.git to /tmp/pip-install-7lzdw4ms/kobert-tokenizer_9bb1193f64bb4866b10aeaebf707553b\n",
            "  Running command git clone --filter=blob:none --quiet https://github.com/SKTBrain/KoBERT.git /tmp/pip-install-7lzdw4ms/kobert-tokenizer_9bb1193f64bb4866b10aeaebf707553b\n",
            "  Resolved https://github.com/SKTBrain/KoBERT.git to commit 47a69af87928fc24e20f571fe10c3cc9dd9af9a3\n",
            "  Preparing metadata (setup.py) ... \u001b[?25l\u001b[?25hdone\n"
          ]
        }
      ],
      "source": [
        "!pip install 'git+https://github.com/SKTBrain/KoBERT.git#egg=kobert_tokenizer&subdirectory=kobert_hf'"
      ]
    },
    {
      "cell_type": "code",
      "execution_count": 6,
      "metadata": {
        "colab": {
          "base_uri": "https://localhost:8080/"
        },
        "id": "p5Ij9zrsHQmS",
        "outputId": "d7f53346-4bd6-42d7-ccc1-e526c36f1df7"
      },
      "outputs": [
        {
          "output_type": "stream",
          "name": "stderr",
          "text": [
            "The tokenizer class you load from this checkpoint is not the same type as the class this function is called from. It may result in unexpected tokenization. \n",
            "The tokenizer class you load from this checkpoint is 'XLNetTokenizer'. \n",
            "The class this function is called from is 'KoBERTTokenizer'.\n"
          ]
        },
        {
          "output_type": "execute_result",
          "data": {
            "text/plain": [
              "[2, 4958, 6855, 2046, 7088, 1050, 7843, 54, 3]"
            ]
          },
          "metadata": {},
          "execution_count": 6
        }
      ],
      "source": [
        "from kobert_tokenizer import KoBERTTokenizer\n",
        "tokenizer = KoBERTTokenizer.from_pretrained('skt/kobert-base-v1')\n",
        "tokenizer.encode(\"한국어 모델을 공유합니다.\")"
      ]
    },
    {
      "cell_type": "code",
      "execution_count": 7,
      "metadata": {
        "colab": {
          "base_uri": "https://localhost:8080/"
        },
        "id": "e3v0LedcHZOY",
        "outputId": "2cdd34bb-a8f8-4dbb-e12a-6dde5378dd80"
      },
      "outputs": [
        {
          "output_type": "execute_result",
          "data": {
            "text/plain": [
              "torch.Size([1, 768])"
            ]
          },
          "metadata": {},
          "execution_count": 7
        }
      ],
      "source": [
        "import torch\n",
        "from transformers import BertModel\n",
        "model = BertModel.from_pretrained('skt/kobert-base-v1')\n",
        "text = \"한국어 모델을 공유합니다.\"\n",
        "inputs = tokenizer.batch_encode_plus([text])\n",
        "out = model(input_ids = torch.tensor(inputs['input_ids']), attention_mask = torch.tensor(inputs['attention_mask']))\n",
        "out.pooler_output.shape"
      ]
    },
    {
      "cell_type": "code",
      "execution_count": 8,
      "metadata": {
        "id": "4P0XbXtzd5Bg"
      },
      "outputs": [],
      "source": [
        "def mean_pooling(model_output, attention_mask):\n",
        "    token_embeddings = model_output[0] #First element of model_output contains all token embeddings\n",
        "    input_mask_expanded = attention_mask.unsqueeze(-1).expand(token_embeddings.size()).float()\n",
        "    sum_embeddings = torch.sum(token_embeddings * input_mask_expanded, 1)\n",
        "    sum_mask = torch.clamp(input_mask_expanded.sum(1), min=1e-9)\n",
        "    return sum_embeddings / sum_mask"
      ]
    },
    {
      "cell_type": "code",
      "execution_count": 9,
      "metadata": {
        "colab": {
          "base_uri": "https://localhost:8080/"
        },
        "id": "Y3rszVQ5eHxb",
        "outputId": "a7384458-daf3-475f-faf0-cc4bf2a55786"
      },
      "outputs": [
        {
          "output_type": "execute_result",
          "data": {
            "text/plain": [
              "tensor([[ 3.6122e-02, -1.2337e-01, -7.5299e-03, -5.0620e+00,  1.6959e-01,\n",
              "          9.2553e-02, -2.8838e-01,  2.1198e-01, -6.3860e-01, -3.6451e-01,\n",
              "         -1.6556e-02,  1.8412e-01, -2.9757e-01,  5.1234e-02,  4.4390e-02,\n",
              "          2.3413e-01,  3.8918e-01, -2.7811e-02,  2.5196e-01, -1.6740e-01,\n",
              "         -5.0612e-02, -1.1393e-01, -5.8496e-02, -9.2304e-02, -3.3941e-01,\n",
              "          2.9963e-02, -6.9979e-02, -1.2118e-01, -1.7573e-01,  2.4531e-01,\n",
              "          1.6764e-01,  6.0146e-02, -1.3626e-01,  1.6598e-01,  1.2201e-01,\n",
              "          5.2110e-02, -3.8716e-02, -3.4096e-02,  2.7250e-01, -6.6029e-02,\n",
              "          2.2798e-01,  2.6542e-02,  3.8524e-01, -5.3627e-02,  9.2007e-02,\n",
              "          1.2872e-01, -9.4732e-02,  1.4018e-01,  4.4361e-02,  3.0786e-02,\n",
              "         -2.7000e-01,  2.5637e-02,  5.1933e-02,  1.9702e-01, -1.4610e-01,\n",
              "         -2.9428e-01,  1.8972e-01, -1.1122e-01, -2.5106e-01,  1.7953e-01,\n",
              "          1.1555e-01, -1.8627e-01,  1.9639e-02, -1.5012e-01,  6.5611e-02,\n",
              "          6.9550e-02,  1.3693e-01,  3.7249e-02,  1.2707e-01,  1.7489e-01,\n",
              "          2.8381e-02,  4.9623e-02,  5.2785e-02, -1.3274e-01, -2.2872e-02,\n",
              "         -8.6979e-02, -6.3248e-02,  1.1254e-01,  1.6109e-02,  2.9087e-01,\n",
              "         -7.3239e-02, -4.4025e-01,  9.3097e-02, -2.2340e-01, -8.6162e-02,\n",
              "         -2.2335e-01, -1.6449e-01,  1.5575e-01, -7.8003e-02, -7.2771e-03,\n",
              "         -1.6915e-01,  1.9745e-01, -1.1612e-02, -1.1961e-01, -3.2867e-01,\n",
              "         -1.9068e-02, -2.4621e-01, -1.1936e-01,  1.6411e-02,  1.4402e-01,\n",
              "         -1.1922e-01, -1.7634e-01, -1.2547e-01,  1.8491e-01,  1.6208e-01,\n",
              "          4.7314e-02, -8.1383e-02, -1.8510e-01,  4.0764e-01, -1.6657e-02,\n",
              "          4.4884e-02, -2.5980e-02, -8.8671e-02, -8.0369e-02,  2.1597e-01,\n",
              "         -4.9293e-02,  2.8827e-02,  1.0548e-01, -4.7310e-02, -3.8685e-01,\n",
              "          1.7745e-01,  3.3778e-01, -1.7458e-01, -1.0250e-01, -3.1610e-01,\n",
              "          7.8324e-01, -6.8798e-02, -5.5611e-02, -1.9606e-02,  1.2762e-01,\n",
              "          7.7113e-02, -1.3255e-01, -2.9018e-01, -3.6957e-01, -6.1915e-02,\n",
              "          1.3749e-01, -3.0074e-02,  6.3217e-02, -1.0883e-01,  1.4121e-01,\n",
              "         -2.8997e-01,  8.8951e-03, -7.7560e-02, -6.9581e-02, -1.3416e-01,\n",
              "          1.9145e-01, -7.1786e-02,  3.6176e-02,  2.3668e-02,  2.4855e-01,\n",
              "          1.1349e-01,  2.1670e-01, -4.9828e-03, -1.1835e-01, -1.7417e-01,\n",
              "         -6.3797e-03, -3.1115e-01,  6.0196e-02,  4.1974e-01,  3.7852e-01,\n",
              "         -1.4873e-02,  4.9262e-02, -1.5924e-01,  1.9790e-01,  4.3764e-04,\n",
              "         -8.9335e-02,  4.8388e-02,  1.5096e-01,  1.0230e-01,  1.0177e-01,\n",
              "         -2.8767e-02,  6.8951e-02, -3.9099e-02, -1.5925e-01,  8.8367e-03,\n",
              "          1.9727e-01,  1.4624e-01, -2.1771e-01,  8.3113e-02, -1.0773e-01,\n",
              "         -2.5941e-02, -6.9627e-02, -7.6886e-02, -2.5493e-01,  1.1402e-01,\n",
              "          2.1534e-01,  8.0322e-02, -1.6556e-01,  1.8601e-01, -3.7827e-01,\n",
              "         -2.8944e-02,  7.9397e-02,  5.8068e-01, -1.2991e-01, -6.2646e-02,\n",
              "         -4.6964e-01, -7.1887e-02,  3.3897e-01,  3.1871e-03,  2.4827e-01,\n",
              "          1.7981e-01,  9.3012e-02,  9.4858e-02,  1.2560e-01,  1.0659e-01,\n",
              "         -6.8331e-02,  7.8772e-02, -8.9867e-02, -9.8992e-02,  2.5889e-01,\n",
              "          3.0501e-02,  1.0360e-01,  3.3778e-02,  1.3618e-01, -8.8281e-02,\n",
              "          4.6892e-02, -2.3841e-03,  1.1054e-01,  4.9766e-04,  1.0308e-02,\n",
              "          9.2422e-02,  2.0410e-01,  1.6040e-01,  1.2850e-01,  3.3591e-01,\n",
              "          1.4984e-01, -8.7834e-02,  5.5424e-02, -2.1453e-01,  2.2814e-01,\n",
              "          7.0132e-02,  2.5283e-01, -2.0048e-01, -2.2065e-01, -4.5655e-02,\n",
              "          3.9346e-04, -1.2537e-01, -5.1443e-02, -6.2650e-02,  2.6932e-01,\n",
              "          1.1745e-01, -2.4594e-01, -3.5445e-02,  1.2503e-01, -2.6159e-02,\n",
              "          5.9731e-02,  1.0161e-01, -3.1395e-01,  4.3354e-02, -3.6410e-02,\n",
              "         -6.9868e-02,  4.2835e-01,  2.4747e-02, -1.6901e-01,  5.0470e-02,\n",
              "          1.0573e-01,  2.4999e-01,  4.4047e-02, -1.6779e-01, -4.5183e-01,\n",
              "         -1.1630e-02,  2.1769e-01,  3.6106e-02, -6.4885e-02,  1.3718e-01,\n",
              "          3.4609e-01, -6.8483e-02,  4.3865e-02,  2.5929e-02, -1.4002e-01,\n",
              "         -2.5098e-02,  4.5497e-02,  9.8795e-02, -1.2947e-01,  2.0625e-01,\n",
              "         -9.7411e-02,  2.6459e-01,  3.1212e-01, -4.4591e-02,  1.5240e-01,\n",
              "          9.9573e-03, -1.0041e-01,  1.2049e-03,  3.3939e-02,  1.6757e-02,\n",
              "         -3.0506e-01, -2.3984e-03, -1.9111e-01, -1.2798e-01,  1.1042e-01,\n",
              "          1.2100e-01, -5.3494e-02, -2.9628e-02, -1.7761e-01, -2.6085e-02,\n",
              "         -1.7864e-01, -3.4499e-02, -1.8143e-02,  2.5921e-01,  3.2724e-01,\n",
              "          1.1641e-02,  1.8828e-01,  1.9365e-01, -2.1117e-01, -2.3099e-01,\n",
              "          7.6287e-02,  1.6544e-01,  1.9790e-01,  1.2458e-01, -7.0036e-02,\n",
              "         -1.9039e-01, -2.3561e-01, -1.4182e-01, -1.2449e-01, -4.2487e-02,\n",
              "         -1.9737e-01, -1.0724e-01, -7.1708e-02, -2.7506e-01, -1.6035e-01,\n",
              "         -4.9418e-01,  1.0942e-01,  2.1066e-02,  1.7468e-01, -7.0547e-02,\n",
              "          1.0370e-01, -5.5671e-02,  8.8639e-02, -6.7913e-02,  2.3015e-02,\n",
              "          2.8542e-01, -2.3859e-01,  2.9688e-01, -2.2760e-01,  1.7945e-01,\n",
              "          1.5773e-01,  3.8548e-01,  2.5171e-01, -1.6348e-01, -9.9725e-02,\n",
              "         -6.0501e-02, -1.4254e-02, -7.4258e-02,  6.1506e-02,  1.7044e-02,\n",
              "          8.6794e-02,  1.7128e-01, -1.7371e-01, -3.2450e-01, -2.8540e-01,\n",
              "          4.8228e-02,  9.8390e-02,  2.6311e-01,  2.9140e-02, -8.4733e-02,\n",
              "         -1.4793e-01,  6.0129e-02,  1.0024e-01, -6.2842e-02, -2.4032e-01,\n",
              "         -6.3394e-02,  1.8848e-01,  1.5125e-01,  2.8660e-02,  5.7355e-02,\n",
              "         -5.7012e-02,  1.8499e-02, -1.3370e-01, -1.8834e-01, -3.7886e-01,\n",
              "          5.2965e-02,  1.7854e-02, -3.5073e-01,  2.6210e-01,  8.6249e-02,\n",
              "         -1.6694e-01, -5.2610e-02, -1.7227e-02,  1.9370e-01,  5.3525e-03,\n",
              "         -2.8279e-01, -1.6457e-01,  3.0180e-01, -3.5043e-02, -1.4666e-02,\n",
              "          2.8278e-01, -3.4426e-02,  6.4819e-02, -9.7580e-02, -1.2238e-01,\n",
              "         -2.8234e-01,  2.9573e-02,  1.4900e-01, -2.1553e-01, -2.2598e-03,\n",
              "          4.5968e-02,  4.2548e-02, -1.1805e-01,  1.5744e-02, -8.6636e-02,\n",
              "          5.8135e-02,  1.2771e-02, -1.4574e-01,  1.0882e-01,  6.2320e-02,\n",
              "          2.6045e-01, -1.0529e-01, -3.9610e-02,  1.5391e-01,  2.2514e-01,\n",
              "         -1.2094e-01, -5.1827e-02,  1.5046e-01, -2.4775e-01, -1.5142e-01,\n",
              "          2.4757e-01, -9.6028e-02,  1.4547e-02,  3.7898e-03, -6.5405e-02,\n",
              "          5.8735e-02,  1.1111e-01,  1.3618e-01, -1.0010e-01,  1.1419e-01,\n",
              "          5.4088e-03,  1.4545e-02,  3.5882e-02, -5.9805e-02,  1.2021e-01,\n",
              "          2.5201e-01, -4.8418e-02, -1.4604e-01,  1.0313e-02, -1.9442e-01,\n",
              "         -7.2151e-03,  2.7329e-02, -1.0492e-01,  1.3035e-01, -1.4119e-01,\n",
              "          6.8107e-02,  2.6116e-01, -2.2111e-01,  2.5502e-01, -2.4987e-01,\n",
              "          1.7844e-01, -3.4732e-01,  1.2432e-01, -2.1832e-01,  1.5049e-01,\n",
              "         -2.6194e-02,  2.4187e-01,  1.7238e-01,  2.7056e-02,  2.3148e-01,\n",
              "         -4.4711e-01,  2.0809e-01,  1.1168e-02,  3.2852e-01, -4.6632e-02,\n",
              "         -7.3646e-02,  1.2721e-01, -3.5584e-02, -3.5839e-01,  2.3869e-01,\n",
              "         -1.3661e-02,  8.2031e-02, -1.2950e-03, -4.6572e-02,  8.4488e-02,\n",
              "          1.4070e-01,  4.9535e-02,  7.6287e-02, -6.7027e-02, -6.5489e-02,\n",
              "          8.0506e-02, -1.7275e-01, -6.8819e-02, -3.9468e-02,  2.5823e-02,\n",
              "          1.6979e-01,  1.1550e-01, -1.2625e-01,  2.3934e-01,  2.0229e-01,\n",
              "          1.3146e-01,  6.7967e-02, -3.8641e-02, -7.0949e-02, -8.4820e-02,\n",
              "          6.8471e-02, -2.0705e-01, -2.4433e-01, -9.3227e-02, -6.5081e-03,\n",
              "         -9.9517e-02,  8.8715e-02, -1.2940e-01, -4.1876e-02,  2.6422e-02,\n",
              "         -4.2061e-03, -5.4598e-02, -3.5998e-02,  2.0038e-01, -5.9247e-03,\n",
              "         -2.0606e-01,  1.0721e-01, -2.3751e-01,  7.2642e-02,  1.6201e-01,\n",
              "         -1.7609e-01,  4.5347e-01, -2.3808e-01, -2.1376e-01, -1.6817e-02,\n",
              "          7.8965e-02, -5.8707e-02, -5.6051e-02, -9.0542e-03,  4.1672e-01,\n",
              "         -3.0663e-01,  1.1169e-01,  7.8631e-03,  2.5911e-02, -6.0243e-02,\n",
              "         -3.7758e-01, -1.2415e-01,  2.9910e-01, -3.6203e-01,  1.5233e-01,\n",
              "         -3.4082e-02, -1.5815e-02,  1.2568e-01, -2.9685e-01,  2.9434e-03,\n",
              "         -2.2068e-01, -1.0834e-01,  2.2085e-01, -1.4131e-01,  1.5279e-02,\n",
              "          1.7784e-01,  1.0158e-02, -6.8634e-02, -1.7554e-01,  1.4702e-02,\n",
              "         -3.2875e-02,  2.0635e-02, -1.9386e-01,  1.8251e-01, -9.7781e-05,\n",
              "         -1.2387e-01, -1.3265e-01, -5.3183e-02, -3.9520e-03, -9.7771e-02,\n",
              "          6.3776e-02, -6.5938e-02,  3.2776e-02,  1.0426e-01,  6.1983e-02,\n",
              "         -5.5618e-02,  1.9572e-01,  2.8020e-01, -2.6969e-01, -2.1055e-01,\n",
              "         -1.9108e-01,  1.0780e-01, -1.0789e-01,  7.6594e-02, -4.4588e-02,\n",
              "         -5.2811e-01,  3.1013e-01, -1.7297e-01, -1.7161e-01,  2.3785e-02,\n",
              "         -4.4921e-02,  1.0128e-02,  2.0603e-01,  2.6481e-02,  9.3951e-02,\n",
              "         -8.9565e-02, -1.2403e-01,  1.5120e-01,  7.2899e-02, -1.6289e-01,\n",
              "          1.7006e-01, -4.8682e-03,  1.9355e-02,  2.6234e-01,  3.2661e-01,\n",
              "         -3.9209e-01, -2.8678e-01,  9.6145e-02,  2.0400e-01, -2.9542e-02,\n",
              "         -2.1930e-01,  9.1980e-02,  1.1273e-01,  1.9696e-01, -6.8153e-02,\n",
              "         -1.1683e-01,  6.8286e-03, -2.2153e-01, -3.2971e-01, -9.4593e-03,\n",
              "         -3.6218e-02,  6.3498e-02,  3.3954e-01,  2.3626e-01,  4.7123e-02,\n",
              "         -2.4160e-02, -1.9611e-02,  4.5460e-01,  1.6043e-02, -1.8027e-01,\n",
              "         -2.0603e-02,  2.1235e-01,  3.6559e-02,  1.5677e-01, -2.6535e-01,\n",
              "         -1.6368e-01, -2.2503e-02,  5.3647e-02, -3.6292e-02, -1.5458e-01,\n",
              "          2.9230e-01, -3.1585e-02, -1.9662e-01, -1.4508e-02, -7.0456e-02,\n",
              "          5.0277e-02,  7.2753e-02,  2.0090e-01, -4.7274e-01,  1.5462e-01,\n",
              "         -2.0783e-01,  1.8561e-02,  9.9054e-02,  1.4205e-01,  6.1501e-03,\n",
              "          1.2908e-01,  1.0660e-01, -2.0401e-01,  3.7947e-02, -4.6194e-02,\n",
              "         -2.6118e-01,  2.9310e-01,  1.5142e-01, -8.4974e-02, -1.0163e-01,\n",
              "         -9.3290e-02,  4.6017e-01,  1.8446e-01,  3.9810e-02,  1.4994e-01,\n",
              "          1.0562e-01,  7.2310e-02,  1.0359e-02, -3.4432e-02,  1.7700e-01,\n",
              "          3.5395e-02,  8.0990e-02, -1.3211e-01, -1.7730e-01,  8.0429e-02,\n",
              "         -2.6407e-01,  2.8530e-01, -5.4384e-02, -2.1381e-01, -5.8085e-02,\n",
              "         -2.1719e-02, -8.2363e-02, -5.4849e-01, -1.7540e-02, -2.9576e-02,\n",
              "          2.8042e-02, -2.3853e-01,  1.8337e-01,  9.8607e-02, -8.6877e-02,\n",
              "         -1.7279e-01, -2.4424e-01, -3.0763e-01, -2.8374e-02, -2.7247e-01,\n",
              "         -1.1853e-01, -6.9702e-02,  1.1663e-02, -1.6529e-01, -8.3703e-03,\n",
              "          2.3536e-01,  7.5863e-02,  6.5566e-02,  2.0765e-01,  1.6499e-01,\n",
              "          1.2204e-01, -2.3268e-01, -1.6855e-01, -7.3955e-02,  2.0994e-02,\n",
              "         -6.3172e-02, -1.9418e-01, -6.6704e-02, -1.0465e-01, -3.5962e-01,\n",
              "         -1.2440e-01,  9.2793e-02, -1.1682e-01,  5.4823e-02, -4.3668e-02,\n",
              "         -1.1275e-01, -2.2965e-01,  3.1582e-01, -2.4291e-01, -2.1742e-01,\n",
              "         -1.6477e-01,  1.9057e-01,  1.4455e-01,  2.8789e-01,  1.0191e-01,\n",
              "         -1.8283e-01,  4.5508e-03,  1.1724e-01, -1.0976e-01,  1.8051e-01,\n",
              "         -4.6018e-02,  1.4767e-01, -6.1516e-02,  2.5052e-01, -1.1390e-01,\n",
              "         -1.9271e-01, -8.7972e-02,  1.2404e-01, -2.6065e-01, -9.2531e-02,\n",
              "         -7.3957e-02,  3.3453e-01, -5.0733e-02, -5.9959e-02,  9.5903e-02,\n",
              "         -1.4582e-01, -3.0808e-01, -2.3822e-01, -3.1125e-01,  2.8316e-01,\n",
              "         -1.1009e-01, -8.8721e-02,  1.4104e-01, -1.4001e-01, -1.9089e-01,\n",
              "          1.4181e-01, -6.2715e-02,  9.6712e-02,  2.4479e-01,  2.3049e-01,\n",
              "          1.0722e-01, -2.2742e-01,  1.2346e-02, -9.2299e-02, -1.0758e-01,\n",
              "         -3.4898e-02, -7.9986e-02, -3.7840e-01, -3.9246e-03,  4.0875e-02,\n",
              "         -1.1683e-01,  2.3108e-01,  8.0559e-02]], grad_fn=<DivBackward0>)"
            ]
          },
          "metadata": {},
          "execution_count": 9
        }
      ],
      "source": [
        "inputs = tokenizer.batch_encode_plus([text], return_tensors='pt')\n",
        "model_output = model(**inputs)\n",
        "mean_pooling(model_output, inputs['attention_mask'])"
      ]
    },
    {
      "cell_type": "code",
      "execution_count": 10,
      "metadata": {
        "id": "356YR2SlGvPN"
      },
      "outputs": [],
      "source": [
        "from tqdm import tqdm\n",
        "from sklearn.feature_extraction.text import CountVectorizer\n",
        "from bertopic import BERTopic\n",
        "import os\n",
        "import json"
      ]
    },
    {
      "cell_type": "code",
      "execution_count": 15,
      "metadata": {
        "id": "Zc1rxm9pGxjo"
      },
      "outputs": [],
      "source": [
        "def get_data(gallery):\n",
        "  result = []\n",
        "  for name in os.listdir(path='/content/drive/MyDrive/joinon/' + gallery):\n",
        "    with open('/content/drive/MyDrive/joinon/' + gallery + '/' + name, 'r', encoding='utf-8') as f:\n",
        "      data = json.load(f)\n",
        "      valid = []\n",
        "      for d in data['content'].split('\\n'):\n",
        "        d = d.replace('- dc official App', '').strip()\n",
        "        if d and not d.replace(' ', '').isdecimal():\n",
        "          valid.append(d)\n",
        "      result.append('\\n'.join([data['title']] + valid))\n",
        "  return result"
      ]
    },
    {
      "cell_type": "code",
      "execution_count": 33,
      "metadata": {
        "colab": {
          "base_uri": "https://localhost:8080/"
        },
        "id": "ATei8ItuKmZF",
        "outputId": "e74a2c3a-67ce-4069-fb3b-b5636dee3da2"
      },
      "outputs": [
        {
          "output_type": "execute_result",
          "data": {
            "text/plain": [
              "['오늘의 입고~!\\n컵크기가 예상보다 크네~\\n오늘은 마이타이다~!',\n",
              " '운동하면 술 못마신대\\n간이 씹창난다는거같음?\\n근데 그냥 마실라고 ㅇㅇ...\\n운동하고 시원한 맥주 참으면 스트레스받아서 암걸릴듯 ㅇㅈ??\\n평생을 멸치랑 배불뚝 아조씨로 살다가 오늘부터 운동 시작햇는데 진짜 노무노무 힘들다 ㅠ',\n",
              " '드디어 샀다 노일리프랏\\n달리러 샀는데 주변에 수령 가능한곳이 없어서 서울까지 와서 수령함...\\n비싸고 귀한거니 아껴뒀다 담에 따야지 ㅋㅋㅋ',\n",
              " '칵테일 해먹고 나온 자몽씨앗\\n\"생매장\"\\n4개중에 1개만 올라와도 좋겠다',\n",
              " '인퓨징 해보려고 하는데 추천좀\\n호불호 없게 기주랑 재료 기간 추천점']"
            ]
          },
          "metadata": {},
          "execution_count": 33
        }
      ],
      "source": [
        "import random\n",
        "cocktail = random.sample(get_data('cock_tail'),195) + random.sample(get_data('brandy'),195) + random.sample(get_data('ulisul'),195) + random.sample(get_data('wine'),195)\n",
        "cocktail[:5]"
      ]
    },
    {
      "cell_type": "code",
      "execution_count": 34,
      "metadata": {
        "id": "M0dPRDdfZqYP"
      },
      "outputs": [],
      "source": [
        "class CustomTokenizer:\n",
        "  def __init__(self, tokenizer):\n",
        "    self.tokenizer = tokenizer\n",
        "  def __call__(self, target):\n",
        "    return self.tokenizer.tokenize(target)"
      ]
    },
    {
      "cell_type": "code",
      "execution_count": 35,
      "metadata": {
        "id": "a1JsDzPcLRc4"
      },
      "outputs": [],
      "source": [
        "custom_tokenizer = CustomTokenizer(tokenizer)\n",
        "vectorizer = CountVectorizer(tokenizer=custom_tokenizer, max_features=3000)"
      ]
    },
    {
      "cell_type": "code",
      "execution_count": 36,
      "metadata": {
        "id": "syQeD8HxLW0G"
      },
      "outputs": [],
      "source": [
        "# bertopic_model = BERTopic(embedding_model=model,\n",
        "#                  vectorizer_model=vectorizer,\n",
        "#                  nr_topics=50,\n",
        "#                  top_n_words=10,\n",
        "#                  calculate_probabilities=True)\n",
        "bertopic_model = BERTopic(language='multilingual',\n",
        "                          nr_topics=50,\n",
        "                          top_n_words=10,\n",
        "                          calculate_probabilities=True)"
      ]
    },
    {
      "cell_type": "code",
      "execution_count": 37,
      "metadata": {
        "id": "7gCLvC4pLn0Z"
      },
      "outputs": [],
      "source": [
        "topics, probs = bertopic_model.fit_transform(cocktail)"
      ]
    },
    {
      "cell_type": "code",
      "execution_count": 38,
      "metadata": {
        "colab": {
          "base_uri": "https://localhost:8080/",
          "height": 667
        },
        "id": "Vy6m2m8PLs3a",
        "outputId": "d8be6aa7-209a-43d6-ddc7-5564905ff82f"
      },
      "outputs": [
        {
          "output_type": "display_data",
          "data": {
            "text/html": [
              "<html>\n",
              "<head><meta charset=\"utf-8\" /></head>\n",
              "<body>\n",
              "    <div>            <script src=\"https://cdnjs.cloudflare.com/ajax/libs/mathjax/2.7.5/MathJax.js?config=TeX-AMS-MML_SVG\"></script><script type=\"text/javascript\">if (window.MathJax && window.MathJax.Hub && window.MathJax.Hub.Config) {window.MathJax.Hub.Config({SVG: {font: \"STIX-Web\"}});}</script>                <script type=\"text/javascript\">window.PlotlyConfig = {MathJaxConfig: 'local'};</script>\n",
              "        <script src=\"https://cdn.plot.ly/plotly-2.18.2.min.js\"></script>                <div id=\"44d5dfb5-6431-4064-b842-d84bf528ba78\" class=\"plotly-graph-div\" style=\"height:650px; width:650px;\"></div>            <script type=\"text/javascript\">                                    window.PLOTLYENV=window.PLOTLYENV || {};                                    if (document.getElementById(\"44d5dfb5-6431-4064-b842-d84bf528ba78\")) {                    Plotly.newPlot(                        \"44d5dfb5-6431-4064-b842-d84bf528ba78\",                        [{\"customdata\":[[0,\"the | \\uc300\\uc804\\ubd84 | https | \\uac19\\ub2e4 | of\",13],[1,\"\\uc774\\uc57c | \\ubd80\\ub791\\ub514 | \\ucd94\\ucc9c\\uc880\\uc694 | \\ucd94\\ucc9c | \\uc788\\ub294\\ub370\",88],[2,\"\\uc21c\\uc11c | \\uc774\\ubbf8\\uc9c0 | on | \\uad6c\\ud615\\ubcf4\\ud2c0 | \\ub4e4\\uc740\",13],[3,\"\\u314b\\u314b\\u314b | \\uac00\\uc131\\ube44 | \\uac19\\uc774 | \\ub108\\ubb34 | \\uce90\\ub9ac\\uc5b4\\ub85c\",17],[4,\"\\ubc1b\\uace0 | \\ub098\\ub214\\ub9b4 | \\u3139\\u3147 | \\u314b\\u314b | \\uc18c\\ub2e4\",167],[5,\"\\uc774\\uc57c | \\uc774\\ubbf8\\uc9c0 | \\uc21c\\uc11c | on | \\ube5a\\uc5b4\\ubcf4\\uace0\",75],[6,\"\\uc640\\uc778 | \\uc640\\uc778\\uc744 | \\uac19\\uc2b5\\ub2c8\\ub2e4 | \\uc774\\ub7f0 | \\uc88b\\uc740\",49],[7,\"\\ub9db\\uc774 | \\ud5a5\\uc774 | \\uc0b4\\uc9dd | \\ub290\\ub08c\\uc774 | \\uc870\\uae08\",55]],\"hovertemplate\":\"<b>Topic %{customdata[0]}</b><br>%{customdata[1]}<br>Size: %{customdata[2]}\",\"legendgroup\":\"\",\"marker\":{\"color\":\"#B0BEC5\",\"size\":[13,88,13,17,167,75,49,55],\"sizemode\":\"area\",\"sizeref\":0.104375,\"symbol\":\"circle\",\"line\":{\"color\":\"DarkSlateGrey\",\"width\":2}},\"mode\":\"markers\",\"name\":\"\",\"orientation\":\"v\",\"showlegend\":false,\"x\":[7.136862754821777,-17.444780349731445,-16.78115463256836,-16.326648712158203,-16.831127166748047,-17.6680908203125,6.40108060836792,6.738494873046875],\"xaxis\":\"x\",\"y\":[16.246295928955078,-13.741304397583008,-12.881933212280273,-13.749733924865723,-13.344535827636719,-14.30086612701416,16.982152938842773,16.644813537597656],\"yaxis\":\"y\",\"type\":\"scatter\"}],                        {\"template\":{\"data\":{\"barpolar\":[{\"marker\":{\"line\":{\"color\":\"white\",\"width\":0.5},\"pattern\":{\"fillmode\":\"overlay\",\"size\":10,\"solidity\":0.2}},\"type\":\"barpolar\"}],\"bar\":[{\"error_x\":{\"color\":\"rgb(36,36,36)\"},\"error_y\":{\"color\":\"rgb(36,36,36)\"},\"marker\":{\"line\":{\"color\":\"white\",\"width\":0.5},\"pattern\":{\"fillmode\":\"overlay\",\"size\":10,\"solidity\":0.2}},\"type\":\"bar\"}],\"carpet\":[{\"aaxis\":{\"endlinecolor\":\"rgb(36,36,36)\",\"gridcolor\":\"white\",\"linecolor\":\"white\",\"minorgridcolor\":\"white\",\"startlinecolor\":\"rgb(36,36,36)\"},\"baxis\":{\"endlinecolor\":\"rgb(36,36,36)\",\"gridcolor\":\"white\",\"linecolor\":\"white\",\"minorgridcolor\":\"white\",\"startlinecolor\":\"rgb(36,36,36)\"},\"type\":\"carpet\"}],\"choropleth\":[{\"colorbar\":{\"outlinewidth\":1,\"tickcolor\":\"rgb(36,36,36)\",\"ticks\":\"outside\"},\"type\":\"choropleth\"}],\"contourcarpet\":[{\"colorbar\":{\"outlinewidth\":1,\"tickcolor\":\"rgb(36,36,36)\",\"ticks\":\"outside\"},\"type\":\"contourcarpet\"}],\"contour\":[{\"colorbar\":{\"outlinewidth\":1,\"tickcolor\":\"rgb(36,36,36)\",\"ticks\":\"outside\"},\"colorscale\":[[0.0,\"#440154\"],[0.1111111111111111,\"#482878\"],[0.2222222222222222,\"#3e4989\"],[0.3333333333333333,\"#31688e\"],[0.4444444444444444,\"#26828e\"],[0.5555555555555556,\"#1f9e89\"],[0.6666666666666666,\"#35b779\"],[0.7777777777777778,\"#6ece58\"],[0.8888888888888888,\"#b5de2b\"],[1.0,\"#fde725\"]],\"type\":\"contour\"}],\"heatmapgl\":[{\"colorbar\":{\"outlinewidth\":1,\"tickcolor\":\"rgb(36,36,36)\",\"ticks\":\"outside\"},\"colorscale\":[[0.0,\"#440154\"],[0.1111111111111111,\"#482878\"],[0.2222222222222222,\"#3e4989\"],[0.3333333333333333,\"#31688e\"],[0.4444444444444444,\"#26828e\"],[0.5555555555555556,\"#1f9e89\"],[0.6666666666666666,\"#35b779\"],[0.7777777777777778,\"#6ece58\"],[0.8888888888888888,\"#b5de2b\"],[1.0,\"#fde725\"]],\"type\":\"heatmapgl\"}],\"heatmap\":[{\"colorbar\":{\"outlinewidth\":1,\"tickcolor\":\"rgb(36,36,36)\",\"ticks\":\"outside\"},\"colorscale\":[[0.0,\"#440154\"],[0.1111111111111111,\"#482878\"],[0.2222222222222222,\"#3e4989\"],[0.3333333333333333,\"#31688e\"],[0.4444444444444444,\"#26828e\"],[0.5555555555555556,\"#1f9e89\"],[0.6666666666666666,\"#35b779\"],[0.7777777777777778,\"#6ece58\"],[0.8888888888888888,\"#b5de2b\"],[1.0,\"#fde725\"]],\"type\":\"heatmap\"}],\"histogram2dcontour\":[{\"colorbar\":{\"outlinewidth\":1,\"tickcolor\":\"rgb(36,36,36)\",\"ticks\":\"outside\"},\"colorscale\":[[0.0,\"#440154\"],[0.1111111111111111,\"#482878\"],[0.2222222222222222,\"#3e4989\"],[0.3333333333333333,\"#31688e\"],[0.4444444444444444,\"#26828e\"],[0.5555555555555556,\"#1f9e89\"],[0.6666666666666666,\"#35b779\"],[0.7777777777777778,\"#6ece58\"],[0.8888888888888888,\"#b5de2b\"],[1.0,\"#fde725\"]],\"type\":\"histogram2dcontour\"}],\"histogram2d\":[{\"colorbar\":{\"outlinewidth\":1,\"tickcolor\":\"rgb(36,36,36)\",\"ticks\":\"outside\"},\"colorscale\":[[0.0,\"#440154\"],[0.1111111111111111,\"#482878\"],[0.2222222222222222,\"#3e4989\"],[0.3333333333333333,\"#31688e\"],[0.4444444444444444,\"#26828e\"],[0.5555555555555556,\"#1f9e89\"],[0.6666666666666666,\"#35b779\"],[0.7777777777777778,\"#6ece58\"],[0.8888888888888888,\"#b5de2b\"],[1.0,\"#fde725\"]],\"type\":\"histogram2d\"}],\"histogram\":[{\"marker\":{\"line\":{\"color\":\"white\",\"width\":0.6}},\"type\":\"histogram\"}],\"mesh3d\":[{\"colorbar\":{\"outlinewidth\":1,\"tickcolor\":\"rgb(36,36,36)\",\"ticks\":\"outside\"},\"type\":\"mesh3d\"}],\"parcoords\":[{\"line\":{\"colorbar\":{\"outlinewidth\":1,\"tickcolor\":\"rgb(36,36,36)\",\"ticks\":\"outside\"}},\"type\":\"parcoords\"}],\"pie\":[{\"automargin\":true,\"type\":\"pie\"}],\"scatter3d\":[{\"line\":{\"colorbar\":{\"outlinewidth\":1,\"tickcolor\":\"rgb(36,36,36)\",\"ticks\":\"outside\"}},\"marker\":{\"colorbar\":{\"outlinewidth\":1,\"tickcolor\":\"rgb(36,36,36)\",\"ticks\":\"outside\"}},\"type\":\"scatter3d\"}],\"scattercarpet\":[{\"marker\":{\"colorbar\":{\"outlinewidth\":1,\"tickcolor\":\"rgb(36,36,36)\",\"ticks\":\"outside\"}},\"type\":\"scattercarpet\"}],\"scattergeo\":[{\"marker\":{\"colorbar\":{\"outlinewidth\":1,\"tickcolor\":\"rgb(36,36,36)\",\"ticks\":\"outside\"}},\"type\":\"scattergeo\"}],\"scattergl\":[{\"marker\":{\"colorbar\":{\"outlinewidth\":1,\"tickcolor\":\"rgb(36,36,36)\",\"ticks\":\"outside\"}},\"type\":\"scattergl\"}],\"scattermapbox\":[{\"marker\":{\"colorbar\":{\"outlinewidth\":1,\"tickcolor\":\"rgb(36,36,36)\",\"ticks\":\"outside\"}},\"type\":\"scattermapbox\"}],\"scatterpolargl\":[{\"marker\":{\"colorbar\":{\"outlinewidth\":1,\"tickcolor\":\"rgb(36,36,36)\",\"ticks\":\"outside\"}},\"type\":\"scatterpolargl\"}],\"scatterpolar\":[{\"marker\":{\"colorbar\":{\"outlinewidth\":1,\"tickcolor\":\"rgb(36,36,36)\",\"ticks\":\"outside\"}},\"type\":\"scatterpolar\"}],\"scatter\":[{\"fillpattern\":{\"fillmode\":\"overlay\",\"size\":10,\"solidity\":0.2},\"type\":\"scatter\"}],\"scatterternary\":[{\"marker\":{\"colorbar\":{\"outlinewidth\":1,\"tickcolor\":\"rgb(36,36,36)\",\"ticks\":\"outside\"}},\"type\":\"scatterternary\"}],\"surface\":[{\"colorbar\":{\"outlinewidth\":1,\"tickcolor\":\"rgb(36,36,36)\",\"ticks\":\"outside\"},\"colorscale\":[[0.0,\"#440154\"],[0.1111111111111111,\"#482878\"],[0.2222222222222222,\"#3e4989\"],[0.3333333333333333,\"#31688e\"],[0.4444444444444444,\"#26828e\"],[0.5555555555555556,\"#1f9e89\"],[0.6666666666666666,\"#35b779\"],[0.7777777777777778,\"#6ece58\"],[0.8888888888888888,\"#b5de2b\"],[1.0,\"#fde725\"]],\"type\":\"surface\"}],\"table\":[{\"cells\":{\"fill\":{\"color\":\"rgb(237,237,237)\"},\"line\":{\"color\":\"white\"}},\"header\":{\"fill\":{\"color\":\"rgb(217,217,217)\"},\"line\":{\"color\":\"white\"}},\"type\":\"table\"}]},\"layout\":{\"annotationdefaults\":{\"arrowhead\":0,\"arrowwidth\":1},\"autotypenumbers\":\"strict\",\"coloraxis\":{\"colorbar\":{\"outlinewidth\":1,\"tickcolor\":\"rgb(36,36,36)\",\"ticks\":\"outside\"}},\"colorscale\":{\"diverging\":[[0.0,\"rgb(103,0,31)\"],[0.1,\"rgb(178,24,43)\"],[0.2,\"rgb(214,96,77)\"],[0.3,\"rgb(244,165,130)\"],[0.4,\"rgb(253,219,199)\"],[0.5,\"rgb(247,247,247)\"],[0.6,\"rgb(209,229,240)\"],[0.7,\"rgb(146,197,222)\"],[0.8,\"rgb(67,147,195)\"],[0.9,\"rgb(33,102,172)\"],[1.0,\"rgb(5,48,97)\"]],\"sequential\":[[0.0,\"#440154\"],[0.1111111111111111,\"#482878\"],[0.2222222222222222,\"#3e4989\"],[0.3333333333333333,\"#31688e\"],[0.4444444444444444,\"#26828e\"],[0.5555555555555556,\"#1f9e89\"],[0.6666666666666666,\"#35b779\"],[0.7777777777777778,\"#6ece58\"],[0.8888888888888888,\"#b5de2b\"],[1.0,\"#fde725\"]],\"sequentialminus\":[[0.0,\"#440154\"],[0.1111111111111111,\"#482878\"],[0.2222222222222222,\"#3e4989\"],[0.3333333333333333,\"#31688e\"],[0.4444444444444444,\"#26828e\"],[0.5555555555555556,\"#1f9e89\"],[0.6666666666666666,\"#35b779\"],[0.7777777777777778,\"#6ece58\"],[0.8888888888888888,\"#b5de2b\"],[1.0,\"#fde725\"]]},\"colorway\":[\"#1F77B4\",\"#FF7F0E\",\"#2CA02C\",\"#D62728\",\"#9467BD\",\"#8C564B\",\"#E377C2\",\"#7F7F7F\",\"#BCBD22\",\"#17BECF\"],\"font\":{\"color\":\"rgb(36,36,36)\"},\"geo\":{\"bgcolor\":\"white\",\"lakecolor\":\"white\",\"landcolor\":\"white\",\"showlakes\":true,\"showland\":true,\"subunitcolor\":\"white\"},\"hoverlabel\":{\"align\":\"left\"},\"hovermode\":\"closest\",\"mapbox\":{\"style\":\"light\"},\"paper_bgcolor\":\"white\",\"plot_bgcolor\":\"white\",\"polar\":{\"angularaxis\":{\"gridcolor\":\"rgb(232,232,232)\",\"linecolor\":\"rgb(36,36,36)\",\"showgrid\":false,\"showline\":true,\"ticks\":\"outside\"},\"bgcolor\":\"white\",\"radialaxis\":{\"gridcolor\":\"rgb(232,232,232)\",\"linecolor\":\"rgb(36,36,36)\",\"showgrid\":false,\"showline\":true,\"ticks\":\"outside\"}},\"scene\":{\"xaxis\":{\"backgroundcolor\":\"white\",\"gridcolor\":\"rgb(232,232,232)\",\"gridwidth\":2,\"linecolor\":\"rgb(36,36,36)\",\"showbackground\":true,\"showgrid\":false,\"showline\":true,\"ticks\":\"outside\",\"zeroline\":false,\"zerolinecolor\":\"rgb(36,36,36)\"},\"yaxis\":{\"backgroundcolor\":\"white\",\"gridcolor\":\"rgb(232,232,232)\",\"gridwidth\":2,\"linecolor\":\"rgb(36,36,36)\",\"showbackground\":true,\"showgrid\":false,\"showline\":true,\"ticks\":\"outside\",\"zeroline\":false,\"zerolinecolor\":\"rgb(36,36,36)\"},\"zaxis\":{\"backgroundcolor\":\"white\",\"gridcolor\":\"rgb(232,232,232)\",\"gridwidth\":2,\"linecolor\":\"rgb(36,36,36)\",\"showbackground\":true,\"showgrid\":false,\"showline\":true,\"ticks\":\"outside\",\"zeroline\":false,\"zerolinecolor\":\"rgb(36,36,36)\"}},\"shapedefaults\":{\"fillcolor\":\"black\",\"line\":{\"width\":0},\"opacity\":0.3},\"ternary\":{\"aaxis\":{\"gridcolor\":\"rgb(232,232,232)\",\"linecolor\":\"rgb(36,36,36)\",\"showgrid\":false,\"showline\":true,\"ticks\":\"outside\"},\"baxis\":{\"gridcolor\":\"rgb(232,232,232)\",\"linecolor\":\"rgb(36,36,36)\",\"showgrid\":false,\"showline\":true,\"ticks\":\"outside\"},\"bgcolor\":\"white\",\"caxis\":{\"gridcolor\":\"rgb(232,232,232)\",\"linecolor\":\"rgb(36,36,36)\",\"showgrid\":false,\"showline\":true,\"ticks\":\"outside\"}},\"title\":{\"x\":0.05},\"xaxis\":{\"automargin\":true,\"gridcolor\":\"rgb(232,232,232)\",\"linecolor\":\"rgb(36,36,36)\",\"showgrid\":false,\"showline\":true,\"ticks\":\"outside\",\"title\":{\"standoff\":15},\"zeroline\":false,\"zerolinecolor\":\"rgb(36,36,36)\"},\"yaxis\":{\"automargin\":true,\"gridcolor\":\"rgb(232,232,232)\",\"linecolor\":\"rgb(36,36,36)\",\"showgrid\":false,\"showline\":true,\"ticks\":\"outside\",\"title\":{\"standoff\":15},\"zeroline\":false,\"zerolinecolor\":\"rgb(36,36,36)\"}}},\"xaxis\":{\"anchor\":\"y\",\"domain\":[0.0,1.0],\"title\":{\"text\":\"\"},\"visible\":false,\"range\":[-20.318304443359374,8.207392168045043]},\"yaxis\":{\"anchor\":\"x\",\"domain\":[0.0,1.0],\"title\":{\"text\":\"\"},\"visible\":false,\"range\":[-16.445996046066284,19.52947587966919]},\"legend\":{\"tracegroupgap\":0,\"itemsizing\":\"constant\"},\"margin\":{\"t\":60},\"title\":{\"font\":{\"size\":22,\"color\":\"Black\"},\"text\":\"<b>Intertopic Distance Map</b>\",\"y\":0.95,\"x\":0.5,\"xanchor\":\"center\",\"yanchor\":\"top\"},\"hoverlabel\":{\"font\":{\"size\":16,\"family\":\"Rockwell\"},\"bgcolor\":\"white\"},\"width\":650,\"height\":650,\"sliders\":[{\"active\":0,\"pad\":{\"t\":50},\"steps\":[{\"args\":[{\"marker.color\":[[\"red\",\"#B0BEC5\",\"#B0BEC5\",\"#B0BEC5\",\"#B0BEC5\",\"#B0BEC5\",\"#B0BEC5\",\"#B0BEC5\"]]}],\"label\":\"Topic 0\",\"method\":\"update\"},{\"args\":[{\"marker.color\":[[\"#B0BEC5\",\"red\",\"#B0BEC5\",\"#B0BEC5\",\"#B0BEC5\",\"#B0BEC5\",\"#B0BEC5\",\"#B0BEC5\"]]}],\"label\":\"Topic 1\",\"method\":\"update\"},{\"args\":[{\"marker.color\":[[\"#B0BEC5\",\"#B0BEC5\",\"red\",\"#B0BEC5\",\"#B0BEC5\",\"#B0BEC5\",\"#B0BEC5\",\"#B0BEC5\"]]}],\"label\":\"Topic 2\",\"method\":\"update\"},{\"args\":[{\"marker.color\":[[\"#B0BEC5\",\"#B0BEC5\",\"#B0BEC5\",\"red\",\"#B0BEC5\",\"#B0BEC5\",\"#B0BEC5\",\"#B0BEC5\"]]}],\"label\":\"Topic 3\",\"method\":\"update\"},{\"args\":[{\"marker.color\":[[\"#B0BEC5\",\"#B0BEC5\",\"#B0BEC5\",\"#B0BEC5\",\"red\",\"#B0BEC5\",\"#B0BEC5\",\"#B0BEC5\"]]}],\"label\":\"Topic 4\",\"method\":\"update\"},{\"args\":[{\"marker.color\":[[\"#B0BEC5\",\"#B0BEC5\",\"#B0BEC5\",\"#B0BEC5\",\"#B0BEC5\",\"red\",\"#B0BEC5\",\"#B0BEC5\"]]}],\"label\":\"Topic 5\",\"method\":\"update\"},{\"args\":[{\"marker.color\":[[\"#B0BEC5\",\"#B0BEC5\",\"#B0BEC5\",\"#B0BEC5\",\"#B0BEC5\",\"#B0BEC5\",\"red\",\"#B0BEC5\"]]}],\"label\":\"Topic 6\",\"method\":\"update\"},{\"args\":[{\"marker.color\":[[\"#B0BEC5\",\"#B0BEC5\",\"#B0BEC5\",\"#B0BEC5\",\"#B0BEC5\",\"#B0BEC5\",\"#B0BEC5\",\"red\"]]}],\"label\":\"Topic 7\",\"method\":\"update\"}]}],\"shapes\":[{\"line\":{\"color\":\"#CFD8DC\",\"width\":2},\"type\":\"line\",\"x0\":-6.055456137657165,\"x1\":-6.055456137657165,\"y0\":-16.445996046066284,\"y1\":19.52947587966919},{\"line\":{\"color\":\"#9E9E9E\",\"width\":2},\"type\":\"line\",\"x0\":-20.318304443359374,\"x1\":8.207392168045043,\"y0\":1.5417399168014523,\"y1\":1.5417399168014523}],\"annotations\":[{\"showarrow\":false,\"text\":\"D1\",\"x\":-20.318304443359374,\"y\":1.5417399168014523,\"yshift\":10},{\"showarrow\":false,\"text\":\"D2\",\"x\":-6.055456137657165,\"xshift\":10,\"y\":19.52947587966919}]},                        {\"responsive\": true}                    ).then(function(){\n",
              "                            \n",
              "var gd = document.getElementById('44d5dfb5-6431-4064-b842-d84bf528ba78');\n",
              "var x = new MutationObserver(function (mutations, observer) {{\n",
              "        var display = window.getComputedStyle(gd).display;\n",
              "        if (!display || display === 'none') {{\n",
              "            console.log([gd, 'removed!']);\n",
              "            Plotly.purge(gd);\n",
              "            observer.disconnect();\n",
              "        }}\n",
              "}});\n",
              "\n",
              "// Listen for the removal of the full notebook cells\n",
              "var notebookContainer = gd.closest('#notebook-container');\n",
              "if (notebookContainer) {{\n",
              "    x.observe(notebookContainer, {childList: true});\n",
              "}}\n",
              "\n",
              "// Listen for the clearing of the current output cell\n",
              "var outputEl = gd.closest('.output');\n",
              "if (outputEl) {{\n",
              "    x.observe(outputEl, {childList: true});\n",
              "}}\n",
              "\n",
              "                        })                };                            </script>        </div>\n",
              "</body>\n",
              "</html>"
            ]
          },
          "metadata": {}
        }
      ],
      "source": [
        "bertopic_model.visualize_topics()"
      ]
    },
    {
      "cell_type": "code",
      "execution_count": 39,
      "metadata": {
        "colab": {
          "base_uri": "https://localhost:8080/",
          "height": 617
        },
        "id": "-09aC6JETLvo",
        "outputId": "4801bd30-0632-4c52-c5a6-606f70b8ba86"
      },
      "outputs": [
        {
          "output_type": "display_data",
          "data": {
            "text/html": [
              "<html>\n",
              "<head><meta charset=\"utf-8\" /></head>\n",
              "<body>\n",
              "    <div>            <script src=\"https://cdnjs.cloudflare.com/ajax/libs/mathjax/2.7.5/MathJax.js?config=TeX-AMS-MML_SVG\"></script><script type=\"text/javascript\">if (window.MathJax && window.MathJax.Hub && window.MathJax.Hub.Config) {window.MathJax.Hub.Config({SVG: {font: \"STIX-Web\"}});}</script>                <script type=\"text/javascript\">window.PlotlyConfig = {MathJaxConfig: 'local'};</script>\n",
              "        <script src=\"https://cdn.plot.ly/plotly-2.18.2.min.js\"></script>                <div id=\"d6ec42fc-d9ea-419c-9796-598318d4604b\" class=\"plotly-graph-div\" style=\"height:600px; width:800px;\"></div>            <script type=\"text/javascript\">                                    window.PLOTLYENV=window.PLOTLYENV || {};                                    if (document.getElementById(\"d6ec42fc-d9ea-419c-9796-598318d4604b\")) {                    Plotly.newPlot(                        \"d6ec42fc-d9ea-419c-9796-598318d4604b\",                        [{\"marker\":{\"color\":\"#C8D2D7\",\"line\":{\"color\":\"#6E8484\",\"width\":1}},\"orientation\":\"h\",\"x\":[0.09758174837375114,0.2180720247284199,0.05303982597124797,0.06180561284744966,0.05829395557452713,0.08126872559275049,0.07589607833350975,0.08731893388857481],\"y\":[\"<b>Topic 0</b>: the_\\uc300\\uc804\\ubd84_https_\\uac19\\ub2e4_of\",\"<b>Topic 1</b>: \\uc774\\uc57c_\\ubd80\\ub791\\ub514_\\ucd94\\ucc9c\\uc880\\uc694_\\ucd94\\ucc9c_\\uc788\\ub294\\ub370\",\"<b>Topic 2</b>: \\uc21c\\uc11c_\\uc774\\ubbf8\\uc9c0_on_\\uad6c\\ud615\\ubcf4\\ud2c0_\\ub4e4\\uc740\",\"<b>Topic 3</b>: \\u314b\\u314b\\u314b_\\uac00\\uc131\\ube44_\\uac19\\uc774_\\ub108\\ubb34_\\uce90\\ub9ac\\uc5b4\\ub85c\",\"<b>Topic 4</b>: \\ubc1b\\uace0_\\ub098\\ub214\\ub9b4_\\u3139\\u3147_\\u314b\\u314b_\\uc18c\\ub2e4\",\"<b>Topic 5</b>: \\uc774\\uc57c_\\uc774\\ubbf8\\uc9c0_\\uc21c\\uc11c_on_\\ube5a\\uc5b4\\ubcf4\\uace0\",\"<b>Topic 6</b>: \\uc640\\uc778_\\uc640\\uc778\\uc744_\\uac19\\uc2b5\\ub2c8\\ub2e4_\\uc774\\ub7f0_\\uc88b\\uc740\",\"<b>Topic 7</b>: \\ub9db\\uc774_\\ud5a5\\uc774_\\uc0b4\\uc9dd_\\ub290\\ub08c\\uc774_\\uc870\\uae08\"],\"type\":\"bar\"}],                        {\"template\":{\"data\":{\"barpolar\":[{\"marker\":{\"line\":{\"color\":\"white\",\"width\":0.5},\"pattern\":{\"fillmode\":\"overlay\",\"size\":10,\"solidity\":0.2}},\"type\":\"barpolar\"}],\"bar\":[{\"error_x\":{\"color\":\"rgb(36,36,36)\"},\"error_y\":{\"color\":\"rgb(36,36,36)\"},\"marker\":{\"line\":{\"color\":\"white\",\"width\":0.5},\"pattern\":{\"fillmode\":\"overlay\",\"size\":10,\"solidity\":0.2}},\"type\":\"bar\"}],\"carpet\":[{\"aaxis\":{\"endlinecolor\":\"rgb(36,36,36)\",\"gridcolor\":\"white\",\"linecolor\":\"white\",\"minorgridcolor\":\"white\",\"startlinecolor\":\"rgb(36,36,36)\"},\"baxis\":{\"endlinecolor\":\"rgb(36,36,36)\",\"gridcolor\":\"white\",\"linecolor\":\"white\",\"minorgridcolor\":\"white\",\"startlinecolor\":\"rgb(36,36,36)\"},\"type\":\"carpet\"}],\"choropleth\":[{\"colorbar\":{\"outlinewidth\":1,\"tickcolor\":\"rgb(36,36,36)\",\"ticks\":\"outside\"},\"type\":\"choropleth\"}],\"contourcarpet\":[{\"colorbar\":{\"outlinewidth\":1,\"tickcolor\":\"rgb(36,36,36)\",\"ticks\":\"outside\"},\"type\":\"contourcarpet\"}],\"contour\":[{\"colorbar\":{\"outlinewidth\":1,\"tickcolor\":\"rgb(36,36,36)\",\"ticks\":\"outside\"},\"colorscale\":[[0.0,\"#440154\"],[0.1111111111111111,\"#482878\"],[0.2222222222222222,\"#3e4989\"],[0.3333333333333333,\"#31688e\"],[0.4444444444444444,\"#26828e\"],[0.5555555555555556,\"#1f9e89\"],[0.6666666666666666,\"#35b779\"],[0.7777777777777778,\"#6ece58\"],[0.8888888888888888,\"#b5de2b\"],[1.0,\"#fde725\"]],\"type\":\"contour\"}],\"heatmapgl\":[{\"colorbar\":{\"outlinewidth\":1,\"tickcolor\":\"rgb(36,36,36)\",\"ticks\":\"outside\"},\"colorscale\":[[0.0,\"#440154\"],[0.1111111111111111,\"#482878\"],[0.2222222222222222,\"#3e4989\"],[0.3333333333333333,\"#31688e\"],[0.4444444444444444,\"#26828e\"],[0.5555555555555556,\"#1f9e89\"],[0.6666666666666666,\"#35b779\"],[0.7777777777777778,\"#6ece58\"],[0.8888888888888888,\"#b5de2b\"],[1.0,\"#fde725\"]],\"type\":\"heatmapgl\"}],\"heatmap\":[{\"colorbar\":{\"outlinewidth\":1,\"tickcolor\":\"rgb(36,36,36)\",\"ticks\":\"outside\"},\"colorscale\":[[0.0,\"#440154\"],[0.1111111111111111,\"#482878\"],[0.2222222222222222,\"#3e4989\"],[0.3333333333333333,\"#31688e\"],[0.4444444444444444,\"#26828e\"],[0.5555555555555556,\"#1f9e89\"],[0.6666666666666666,\"#35b779\"],[0.7777777777777778,\"#6ece58\"],[0.8888888888888888,\"#b5de2b\"],[1.0,\"#fde725\"]],\"type\":\"heatmap\"}],\"histogram2dcontour\":[{\"colorbar\":{\"outlinewidth\":1,\"tickcolor\":\"rgb(36,36,36)\",\"ticks\":\"outside\"},\"colorscale\":[[0.0,\"#440154\"],[0.1111111111111111,\"#482878\"],[0.2222222222222222,\"#3e4989\"],[0.3333333333333333,\"#31688e\"],[0.4444444444444444,\"#26828e\"],[0.5555555555555556,\"#1f9e89\"],[0.6666666666666666,\"#35b779\"],[0.7777777777777778,\"#6ece58\"],[0.8888888888888888,\"#b5de2b\"],[1.0,\"#fde725\"]],\"type\":\"histogram2dcontour\"}],\"histogram2d\":[{\"colorbar\":{\"outlinewidth\":1,\"tickcolor\":\"rgb(36,36,36)\",\"ticks\":\"outside\"},\"colorscale\":[[0.0,\"#440154\"],[0.1111111111111111,\"#482878\"],[0.2222222222222222,\"#3e4989\"],[0.3333333333333333,\"#31688e\"],[0.4444444444444444,\"#26828e\"],[0.5555555555555556,\"#1f9e89\"],[0.6666666666666666,\"#35b779\"],[0.7777777777777778,\"#6ece58\"],[0.8888888888888888,\"#b5de2b\"],[1.0,\"#fde725\"]],\"type\":\"histogram2d\"}],\"histogram\":[{\"marker\":{\"line\":{\"color\":\"white\",\"width\":0.6}},\"type\":\"histogram\"}],\"mesh3d\":[{\"colorbar\":{\"outlinewidth\":1,\"tickcolor\":\"rgb(36,36,36)\",\"ticks\":\"outside\"},\"type\":\"mesh3d\"}],\"parcoords\":[{\"line\":{\"colorbar\":{\"outlinewidth\":1,\"tickcolor\":\"rgb(36,36,36)\",\"ticks\":\"outside\"}},\"type\":\"parcoords\"}],\"pie\":[{\"automargin\":true,\"type\":\"pie\"}],\"scatter3d\":[{\"line\":{\"colorbar\":{\"outlinewidth\":1,\"tickcolor\":\"rgb(36,36,36)\",\"ticks\":\"outside\"}},\"marker\":{\"colorbar\":{\"outlinewidth\":1,\"tickcolor\":\"rgb(36,36,36)\",\"ticks\":\"outside\"}},\"type\":\"scatter3d\"}],\"scattercarpet\":[{\"marker\":{\"colorbar\":{\"outlinewidth\":1,\"tickcolor\":\"rgb(36,36,36)\",\"ticks\":\"outside\"}},\"type\":\"scattercarpet\"}],\"scattergeo\":[{\"marker\":{\"colorbar\":{\"outlinewidth\":1,\"tickcolor\":\"rgb(36,36,36)\",\"ticks\":\"outside\"}},\"type\":\"scattergeo\"}],\"scattergl\":[{\"marker\":{\"colorbar\":{\"outlinewidth\":1,\"tickcolor\":\"rgb(36,36,36)\",\"ticks\":\"outside\"}},\"type\":\"scattergl\"}],\"scattermapbox\":[{\"marker\":{\"colorbar\":{\"outlinewidth\":1,\"tickcolor\":\"rgb(36,36,36)\",\"ticks\":\"outside\"}},\"type\":\"scattermapbox\"}],\"scatterpolargl\":[{\"marker\":{\"colorbar\":{\"outlinewidth\":1,\"tickcolor\":\"rgb(36,36,36)\",\"ticks\":\"outside\"}},\"type\":\"scatterpolargl\"}],\"scatterpolar\":[{\"marker\":{\"colorbar\":{\"outlinewidth\":1,\"tickcolor\":\"rgb(36,36,36)\",\"ticks\":\"outside\"}},\"type\":\"scatterpolar\"}],\"scatter\":[{\"fillpattern\":{\"fillmode\":\"overlay\",\"size\":10,\"solidity\":0.2},\"type\":\"scatter\"}],\"scatterternary\":[{\"marker\":{\"colorbar\":{\"outlinewidth\":1,\"tickcolor\":\"rgb(36,36,36)\",\"ticks\":\"outside\"}},\"type\":\"scatterternary\"}],\"surface\":[{\"colorbar\":{\"outlinewidth\":1,\"tickcolor\":\"rgb(36,36,36)\",\"ticks\":\"outside\"},\"colorscale\":[[0.0,\"#440154\"],[0.1111111111111111,\"#482878\"],[0.2222222222222222,\"#3e4989\"],[0.3333333333333333,\"#31688e\"],[0.4444444444444444,\"#26828e\"],[0.5555555555555556,\"#1f9e89\"],[0.6666666666666666,\"#35b779\"],[0.7777777777777778,\"#6ece58\"],[0.8888888888888888,\"#b5de2b\"],[1.0,\"#fde725\"]],\"type\":\"surface\"}],\"table\":[{\"cells\":{\"fill\":{\"color\":\"rgb(237,237,237)\"},\"line\":{\"color\":\"white\"}},\"header\":{\"fill\":{\"color\":\"rgb(217,217,217)\"},\"line\":{\"color\":\"white\"}},\"type\":\"table\"}]},\"layout\":{\"annotationdefaults\":{\"arrowhead\":0,\"arrowwidth\":1},\"autotypenumbers\":\"strict\",\"coloraxis\":{\"colorbar\":{\"outlinewidth\":1,\"tickcolor\":\"rgb(36,36,36)\",\"ticks\":\"outside\"}},\"colorscale\":{\"diverging\":[[0.0,\"rgb(103,0,31)\"],[0.1,\"rgb(178,24,43)\"],[0.2,\"rgb(214,96,77)\"],[0.3,\"rgb(244,165,130)\"],[0.4,\"rgb(253,219,199)\"],[0.5,\"rgb(247,247,247)\"],[0.6,\"rgb(209,229,240)\"],[0.7,\"rgb(146,197,222)\"],[0.8,\"rgb(67,147,195)\"],[0.9,\"rgb(33,102,172)\"],[1.0,\"rgb(5,48,97)\"]],\"sequential\":[[0.0,\"#440154\"],[0.1111111111111111,\"#482878\"],[0.2222222222222222,\"#3e4989\"],[0.3333333333333333,\"#31688e\"],[0.4444444444444444,\"#26828e\"],[0.5555555555555556,\"#1f9e89\"],[0.6666666666666666,\"#35b779\"],[0.7777777777777778,\"#6ece58\"],[0.8888888888888888,\"#b5de2b\"],[1.0,\"#fde725\"]],\"sequentialminus\":[[0.0,\"#440154\"],[0.1111111111111111,\"#482878\"],[0.2222222222222222,\"#3e4989\"],[0.3333333333333333,\"#31688e\"],[0.4444444444444444,\"#26828e\"],[0.5555555555555556,\"#1f9e89\"],[0.6666666666666666,\"#35b779\"],[0.7777777777777778,\"#6ece58\"],[0.8888888888888888,\"#b5de2b\"],[1.0,\"#fde725\"]]},\"colorway\":[\"#1F77B4\",\"#FF7F0E\",\"#2CA02C\",\"#D62728\",\"#9467BD\",\"#8C564B\",\"#E377C2\",\"#7F7F7F\",\"#BCBD22\",\"#17BECF\"],\"font\":{\"color\":\"rgb(36,36,36)\"},\"geo\":{\"bgcolor\":\"white\",\"lakecolor\":\"white\",\"landcolor\":\"white\",\"showlakes\":true,\"showland\":true,\"subunitcolor\":\"white\"},\"hoverlabel\":{\"align\":\"left\"},\"hovermode\":\"closest\",\"mapbox\":{\"style\":\"light\"},\"paper_bgcolor\":\"white\",\"plot_bgcolor\":\"white\",\"polar\":{\"angularaxis\":{\"gridcolor\":\"rgb(232,232,232)\",\"linecolor\":\"rgb(36,36,36)\",\"showgrid\":false,\"showline\":true,\"ticks\":\"outside\"},\"bgcolor\":\"white\",\"radialaxis\":{\"gridcolor\":\"rgb(232,232,232)\",\"linecolor\":\"rgb(36,36,36)\",\"showgrid\":false,\"showline\":true,\"ticks\":\"outside\"}},\"scene\":{\"xaxis\":{\"backgroundcolor\":\"white\",\"gridcolor\":\"rgb(232,232,232)\",\"gridwidth\":2,\"linecolor\":\"rgb(36,36,36)\",\"showbackground\":true,\"showgrid\":false,\"showline\":true,\"ticks\":\"outside\",\"zeroline\":false,\"zerolinecolor\":\"rgb(36,36,36)\"},\"yaxis\":{\"backgroundcolor\":\"white\",\"gridcolor\":\"rgb(232,232,232)\",\"gridwidth\":2,\"linecolor\":\"rgb(36,36,36)\",\"showbackground\":true,\"showgrid\":false,\"showline\":true,\"ticks\":\"outside\",\"zeroline\":false,\"zerolinecolor\":\"rgb(36,36,36)\"},\"zaxis\":{\"backgroundcolor\":\"white\",\"gridcolor\":\"rgb(232,232,232)\",\"gridwidth\":2,\"linecolor\":\"rgb(36,36,36)\",\"showbackground\":true,\"showgrid\":false,\"showline\":true,\"ticks\":\"outside\",\"zeroline\":false,\"zerolinecolor\":\"rgb(36,36,36)\"}},\"shapedefaults\":{\"fillcolor\":\"black\",\"line\":{\"width\":0},\"opacity\":0.3},\"ternary\":{\"aaxis\":{\"gridcolor\":\"rgb(232,232,232)\",\"linecolor\":\"rgb(36,36,36)\",\"showgrid\":false,\"showline\":true,\"ticks\":\"outside\"},\"baxis\":{\"gridcolor\":\"rgb(232,232,232)\",\"linecolor\":\"rgb(36,36,36)\",\"showgrid\":false,\"showline\":true,\"ticks\":\"outside\"},\"bgcolor\":\"white\",\"caxis\":{\"gridcolor\":\"rgb(232,232,232)\",\"linecolor\":\"rgb(36,36,36)\",\"showgrid\":false,\"showline\":true,\"ticks\":\"outside\"}},\"title\":{\"x\":0.05},\"xaxis\":{\"automargin\":true,\"gridcolor\":\"rgb(232,232,232)\",\"linecolor\":\"rgb(36,36,36)\",\"showgrid\":false,\"showline\":true,\"ticks\":\"outside\",\"title\":{\"standoff\":15},\"zeroline\":false,\"zerolinecolor\":\"rgb(36,36,36)\"},\"yaxis\":{\"automargin\":true,\"gridcolor\":\"rgb(232,232,232)\",\"linecolor\":\"rgb(36,36,36)\",\"showgrid\":false,\"showline\":true,\"ticks\":\"outside\",\"title\":{\"standoff\":15},\"zeroline\":false,\"zerolinecolor\":\"rgb(36,36,36)\"}}},\"title\":{\"font\":{\"size\":22,\"color\":\"Black\"},\"text\":\"<b>Topic Probability Distribution</b>\",\"y\":0.95,\"x\":0.5,\"xanchor\":\"center\",\"yanchor\":\"top\"},\"hoverlabel\":{\"font\":{\"size\":16,\"family\":\"Rockwell\"},\"bgcolor\":\"white\"},\"xaxis\":{\"title\":{\"text\":\"Probability\"}},\"width\":800,\"height\":600},                        {\"responsive\": true}                    ).then(function(){\n",
              "                            \n",
              "var gd = document.getElementById('d6ec42fc-d9ea-419c-9796-598318d4604b');\n",
              "var x = new MutationObserver(function (mutations, observer) {{\n",
              "        var display = window.getComputedStyle(gd).display;\n",
              "        if (!display || display === 'none') {{\n",
              "            console.log([gd, 'removed!']);\n",
              "            Plotly.purge(gd);\n",
              "            observer.disconnect();\n",
              "        }}\n",
              "}});\n",
              "\n",
              "// Listen for the removal of the full notebook cells\n",
              "var notebookContainer = gd.closest('#notebook-container');\n",
              "if (notebookContainer) {{\n",
              "    x.observe(notebookContainer, {childList: true});\n",
              "}}\n",
              "\n",
              "// Listen for the clearing of the current output cell\n",
              "var outputEl = gd.closest('.output');\n",
              "if (outputEl) {{\n",
              "    x.observe(outputEl, {childList: true});\n",
              "}}\n",
              "\n",
              "                        })                };                            </script>        </div>\n",
              "</body>\n",
              "</html>"
            ]
          },
          "metadata": {}
        }
      ],
      "source": [
        "bertopic_model.visualize_distribution(probs[0])"
      ]
    },
    {
      "cell_type": "code",
      "execution_count": 40,
      "metadata": {
        "colab": {
          "base_uri": "https://localhost:8080/"
        },
        "id": "Bx-vTU-MTP-D",
        "outputId": "30684eff-35db-4c99-afc8-2f5bb8c81a0a"
      },
      "outputs": [
        {
          "output_type": "stream",
          "name": "stdout",
          "text": [
            "0 번째 토픽 : [('the', 0.0669593205534655), ('쌀전분', 0.04141376381523039), ('https', 0.038040539743446934), ('같다', 0.035042415535964176), ('of', 0.032834824620297014), ('starter', 0.03060948026185986), ('culture', 0.027760768175902957), ('ec', 0.027760768175902957), ('kr', 0.025860239450763278), ('and', 0.02429067215391509)]\n",
            "1 번째 토픽 : [('이야', 0.03441690814645146), ('부랑디', 0.027686472372701623), ('추천좀요', 0.019922699274168513), ('추천', 0.01875801709218136), ('있는데', 0.018618028514919643), ('기합', 0.01823511521944584), ('가는', 0.01783272910393162), ('쓰고', 0.01783272910393162), ('없음', 0.01783272910393162), ('이거', 0.016782792049179384)]\n",
            "2 번째 토픽 : [('순서', 0.4182948359398283), ('이미지', 0.4168152014014966), ('on', 0.4153556526657402), ('구형보틀', 0.1267282854217513), ('들은', 0.1196826691555328), ('받고', 0.1188498827075946), ('사제락', 0.11468545147390918), ('나눔릴', 0.08767627282178221), ('여자는', 0.06938853306424123), ('트위스트', 0.06938853306424123)]\n",
            "3 번째 토픽 : [('ㅋㅋㅋ', 0.038608997536997224), ('가성비', 0.03213995427495286), ('같이', 0.028306181104653657), ('너무', 0.027708764308063946), ('캐리어로', 0.02698843115463222), ('묘한', 0.02698843115463222), ('ex', 0.02698843115463222), ('나파', 0.02698843115463222), ('로마', 0.02698843115463222), ('참가업체', 0.02698843115463222)]\n",
            "4 번째 토픽 : [('받고', 0.07135336210583858), ('나눔릴', 0.05132185899317322), ('ㄹㅇ', 0.022240299956997132), ('ㅋㅋ', 0.020172006997425232), ('소다', 0.019958063734477234), ('오늘', 0.01899643904582742), ('내가', 0.01867262439787583), ('ㅋㅋㅋㅋ', 0.018121195832393154), ('on', 0.01726374316844532), ('진짜', 0.016663862085138512)]\n",
            "5 번째 토픽 : [('이야', 0.031619340275705), ('이미지', 0.020468263107924406), ('순서', 0.019073713772038165), ('on', 0.01893969074407618), ('빚어보고', 0.018723658472327886), ('그리고', 0.01596762454181592), ('상당히', 0.015676391755211964), ('가격이', 0.014835627439973706), ('많이', 0.014241076603776897), ('그것은', 0.01414186684847883)]\n",
            "6 번째 토픽 : [('와인', 0.046006463675458145), ('와인을', 0.02237600682036539), ('같습니다', 0.015311344443047837), ('이런', 0.01510847694915453), ('좋은', 0.01510847694915453), ('와인이', 0.014284703976067646), ('가볍게', 0.013230600905376533), ('같은', 0.012891647000649755), ('2018', 0.012661743622204291), ('차이가', 0.01234703982147627)]\n",
            "7 번째 토픽 : [('맛이', 0.02692563182239696), ('향이', 0.024549913423581583), ('살짝', 0.02210175712116418), ('느낌이', 0.020998618268505426), ('조금', 0.017036001488880112), ('너무', 0.016203454375693337), ('근데', 0.015715683534207932), ('느낌', 0.012901521454194617), ('저가형', 0.012784168729520286), ('그냥', 0.012238923555634983)]\n",
            "8 번째 토픽 : False\n",
            "9 번째 토픽 : False\n",
            "10 번째 토픽 : False\n",
            "11 번째 토픽 : False\n",
            "12 번째 토픽 : False\n",
            "13 번째 토픽 : False\n",
            "14 번째 토픽 : False\n",
            "15 번째 토픽 : False\n",
            "16 번째 토픽 : False\n",
            "17 번째 토픽 : False\n",
            "18 번째 토픽 : False\n",
            "19 번째 토픽 : False\n",
            "20 번째 토픽 : False\n",
            "21 번째 토픽 : False\n",
            "22 번째 토픽 : False\n",
            "23 번째 토픽 : False\n",
            "24 번째 토픽 : False\n",
            "25 번째 토픽 : False\n",
            "26 번째 토픽 : False\n",
            "27 번째 토픽 : False\n",
            "28 번째 토픽 : False\n",
            "29 번째 토픽 : False\n",
            "30 번째 토픽 : False\n",
            "31 번째 토픽 : False\n",
            "32 번째 토픽 : False\n",
            "33 번째 토픽 : False\n",
            "34 번째 토픽 : False\n",
            "35 번째 토픽 : False\n",
            "36 번째 토픽 : False\n",
            "37 번째 토픽 : False\n",
            "38 번째 토픽 : False\n",
            "39 번째 토픽 : False\n",
            "40 번째 토픽 : False\n",
            "41 번째 토픽 : False\n",
            "42 번째 토픽 : False\n",
            "43 번째 토픽 : False\n",
            "44 번째 토픽 : False\n",
            "45 번째 토픽 : False\n",
            "46 번째 토픽 : False\n",
            "47 번째 토픽 : False\n",
            "48 번째 토픽 : False\n",
            "49 번째 토픽 : False\n"
          ]
        }
      ],
      "source": [
        "for i in range(0, 50):\n",
        "  print(i,'번째 토픽 :', bertopic_model.get_topic(i))"
      ]
    },
    {
      "cell_type": "code",
      "execution_count": 43,
      "metadata": {
        "colab": {
          "base_uri": "https://localhost:8080/"
        },
        "id": "guByfJt72RTE",
        "outputId": "35759626-293c-42be-b6f8-ebf9a9425784"
      },
      "outputs": [
        {
          "output_type": "stream",
          "name": "stdout",
          "text": [
            "13\n",
            "88\n",
            "13\n",
            "17\n",
            "167\n",
            "75\n",
            "49\n",
            "55\n"
          ]
        }
      ],
      "source": [
        "for i in range(8):\n",
        "  print(topics.count(i))"
      ]
    },
    {
      "cell_type": "code",
      "source": [
        "print(topics)"
      ],
      "metadata": {
        "colab": {
          "base_uri": "https://localhost:8080/"
        },
        "id": "Ye5w14GClO43",
        "outputId": "b8e2d4c7-5930-4667-dc0f-b324ccf816f1"
      },
      "execution_count": 44,
      "outputs": [
        {
          "output_type": "stream",
          "name": "stdout",
          "text": [
            "[1, -1, 3, 1, 4, 4, 2, 4, -1, -1, -1, 4, -1, 4, -1, 1, 3, -1, 1, -1, 5, 2, 4, -1, 7, -1, -1, 5, 4, 1, 4, 4, 4, -1, 4, 4, 4, 1, 4, 4, -1, 4, 4, 4, -1, -1, -1, 1, 4, 4, 4, 4, 7, 1, 4, -1, 4, 7, -1, 5, 4, 4, 4, 4, 3, -1, 4, 1, 4, 1, 1, 5, 4, 4, 1, -1, 4, -1, 4, 1, 4, 1, 4, -1, 4, 3, 4, -1, 4, 4, -1, 4, -1, 4, 4, -1, 4, -1, 4, -1, 4, 4, 4, 7, 4, 7, -1, -1, 2, 4, 4, 4, -1, 4, -1, 4, 3, -1, 4, 4, 4, 4, 1, 4, 4, 4, -1, 4, 1, 4, 5, 4, 4, 4, -1, 4, 1, 4, 4, 2, -1, -1, 4, 1, 4, 4, -1, 4, 4, 5, 6, 5, 4, 4, 1, 4, 4, -1, -1, 4, 5, 4, -1, -1, 4, 5, 4, 1, 4, -1, 1, 1, 5, 4, 2, -1, 2, 4, 4, 4, 2, 4, 4, 4, 4, 4, 4, -1, -1, 5, 4, -1, 1, 4, -1, 5, 3, -1, 1, 7, 7, -1, -1, 7, -1, 4, 1, -1, -1, 1, 1, 5, -1, -1, 1, -1, 1, 4, 1, 3, 4, 4, -1, 3, -1, 5, 4, -1, 1, 1, 7, 6, -1, 7, 1, 7, 7, -1, 2, -1, -1, 7, -1, -1, 4, 1, 5, 3, -1, 2, 1, 2, -1, 1, -1, -1, -1, 1, -1, 7, 7, -1, 1, -1, -1, 4, 5, -1, 5, -1, 5, 4, 2, 4, -1, -1, 4, 4, -1, -1, 5, 5, 5, -1, -1, -1, -1, 1, 5, 4, 5, 4, 5, -1, -1, 0, -1, -1, 5, -1, 4, -1, 7, 3, -1, 5, -1, 5, -1, -1, 4, -1, 5, 1, -1, 1, -1, 7, 4, 6, 4, 7, 7, -1, -1, -1, 4, 1, 1, 5, 5, 1, 5, 3, 4, -1, -1, 4, 7, 5, 4, 2, 5, 7, 1, -1, -1, -1, -1, 1, 7, -1, 5, -1, 1, -1, -1, 5, -1, 1, -1, -1, -1, -1, 5, -1, 5, 5, -1, 3, 4, 1, 5, 1, -1, 5, -1, 5, 5, 1, -1, -1, -1, -1, 4, 5, 4, -1, 1, 6, 0, 1, 5, -1, -1, 4, -1, 4, -1, -1, 6, -1, 6, -1, 0, 0, 4, 7, -1, -1, -1, -1, -1, -1, -1, 4, 4, 7, -1, -1, -1, 4, -1, -1, 4, -1, 4, -1, 4, -1, 1, -1, 1, -1, 4, 4, -1, 0, 7, 1, -1, 0, 6, -1, 4, 0, -1, 6, 4, -1, 1, -1, -1, 5, 1, -1, 4, 4, -1, 1, -1, 6, 4, 6, 4, 7, 1, -1, -1, -1, -1, 4, 7, 7, -1, -1, 4, 4, 5, -1, 1, -1, 4, 7, 1, 4, -1, 4, -1, -1, 0, 4, -1, -1, 7, 6, 1, 7, 4, 1, 3, 3, -1, -1, 5, 4, -1, -1, -1, -1, 5, -1, -1, -1, 1, 0, -1, -1, 7, -1, -1, -1, -1, 1, -1, 6, -1, -1, 4, -1, -1, 7, -1, -1, -1, -1, -1, 1, -1, 0, -1, -1, 7, 1, 4, -1, -1, 4, 5, 7, 7, 5, 4, -1, 6, -1, 4, 1, -1, -1, 7, -1, 0, -1, 0, -1, 0, 7, -1, -1, -1, 4, -1, 4, 1, -1, -1, -1, -1, -1, 1, -1, 4, -1, 3, 7, -1, 6, 7, 1, 5, 1, 6, 2, -1, -1, -1, -1, 6, -1, 6, 4, 4, 6, -1, 3, 1, 5, -1, -1, -1, -1, -1, 7, 6, -1, 1, -1, -1, -1, -1, -1, -1, -1, -1, -1, -1, 4, -1, -1, 5, -1, 5, -1, -1, 4, -1, 6, 1, 6, 1, 1, 5, 7, 1, 6, 1, -1, -1, -1, 5, 6, -1, -1, -1, 1, 5, 3, -1, -1, -1, 5, -1, 7, 4, -1, 1, -1, -1, 7, 7, 7, -1, 5, 5, -1, 7, -1, 4, 4, 5, -1, 5, 5, -1, 6, 5, 4, 4, -1, 4, 6, 5, -1, 4, -1, -1, -1, -1, 1, 6, -1, -1, -1, 6, -1, 7, 5, -1, -1, -1, 7, 7, -1, -1, 4, 7, 5, 7, 6, 6, -1, -1, -1, 1, -1, 4, -1, 1, 5, -1, 6, 6, 6, -1, 6, 5, -1, 6, 1, -1, 5, 5, 6, -1, 6, 4, -1, -1, -1, 5, 1, 6, 6, 7, -1, -1, -1, -1, 5, 6, 6, 5, 6, 6, 6, 6, -1, 6, -1, 7, 6, 7, 6, -1, 6, 1, -1, 6, 5]\n"
          ]
        }
      ]
    }
  ],
  "metadata": {
    "colab": {
      "provenance": []
    },
    "kernelspec": {
      "display_name": "Python 3",
      "name": "python3"
    },
    "language_info": {
      "name": "python"
    }
  },
  "nbformat": 4,
  "nbformat_minor": 0
}